{
 "cells": [
  {
   "cell_type": "markdown",
   "metadata": {},
   "source": [
    "# QF627 Pre-Course Workshop | Introduction to Programming\n",
    "## Lesson 3 | An Introduction to `matplotlib` (featuring `SciPy`) | `In Progress`"
   ]
  },
  {
   "cell_type": "markdown",
   "metadata": {},
   "source": [
    "> Here we go again :) Let's begin our second half of the pre-course workshop.\n",
    "\n",
    "> Data visualization is a critical process within a workflow of your analysis of financial data.\n",
    "\n",
    "> Visualization of your data is important when you share your analysis and findings with your internal and external stakeholders.\n",
    "\n",
    "> `matplotlib` is the most popular and widely used package in Python for data visualization.\n"
   ]
  },
  {
   "cell_type": "markdown",
   "metadata": {},
   "source": [
    "![](matplotlib.png)"
   ]
  },
  {
   "cell_type": "code",
   "execution_count": 1,
   "metadata": {},
   "outputs": [
    {
     "name": "stdout",
     "output_type": "stream",
     "text": [
      "Requirement already satisfied: matplotlib in /Users/sroh/opt/anaconda3/lib/python3.9/site-packages (3.5.1)\n",
      "Requirement already satisfied: cycler>=0.10 in /Users/sroh/opt/anaconda3/lib/python3.9/site-packages (from matplotlib) (0.11.0)\n",
      "Requirement already satisfied: fonttools>=4.22.0 in /Users/sroh/opt/anaconda3/lib/python3.9/site-packages (from matplotlib) (4.25.0)\n",
      "Requirement already satisfied: kiwisolver>=1.0.1 in /Users/sroh/opt/anaconda3/lib/python3.9/site-packages (from matplotlib) (1.3.2)\n",
      "Requirement already satisfied: numpy>=1.17 in /Users/sroh/opt/anaconda3/lib/python3.9/site-packages (from matplotlib) (1.21.4)\n",
      "Requirement already satisfied: packaging>=20.0 in /Users/sroh/opt/anaconda3/lib/python3.9/site-packages (from matplotlib) (21.3)\n",
      "Requirement already satisfied: pillow>=6.2.0 in /Users/sroh/opt/anaconda3/lib/python3.9/site-packages (from matplotlib) (9.0.1)\n",
      "Requirement already satisfied: pyparsing>=2.2.1 in /Users/sroh/opt/anaconda3/lib/python3.9/site-packages (from matplotlib) (3.0.4)\n",
      "Requirement already satisfied: python-dateutil>=2.7 in /Users/sroh/opt/anaconda3/lib/python3.9/site-packages (from matplotlib) (2.8.2)\n",
      "Requirement already satisfied: six>=1.5 in /Users/sroh/opt/anaconda3/lib/python3.9/site-packages (from python-dateutil>=2.7->matplotlib) (1.16.0)\n",
      "\n",
      "\u001b[1m[\u001b[0m\u001b[34;49mnotice\u001b[0m\u001b[1;39;49m]\u001b[0m\u001b[39;49m A new release of pip is available: \u001b[0m\u001b[31;49m23.1.2\u001b[0m\u001b[39;49m -> \u001b[0m\u001b[32;49m23.2.1\u001b[0m\n",
      "\u001b[1m[\u001b[0m\u001b[34;49mnotice\u001b[0m\u001b[1;39;49m]\u001b[0m\u001b[39;49m To update, run: \u001b[0m\u001b[32;49mpip install --upgrade pip\u001b[0m\n"
     ]
    }
   ],
   "source": [
    "!pip install matplotlib"
   ]
  },
  {
   "cell_type": "code",
   "execution_count": 2,
   "metadata": {},
   "outputs": [],
   "source": [
    "import numpy as np\n",
    "import matplotlib.pyplot as plt"
   ]
  },
  {
   "cell_type": "markdown",
   "metadata": {},
   "source": [
    "### Importing matplotlib and pyplot\n",
    "\n",
    "> `Pyplot` is a collection of functions in the popular visualization package Matplotlib. \n",
    "\n",
    "> Its functions manipulate elements of a figure as follows:\n",
    "\n",
    "- creating a figure, \n",
    "- creating a plotting area, plotting lines, plotting observations (data points)\n",
    "- adding plot labels\n",
    "\n",
    "> Let's use function `plot()` from `pyplot` to create a dashed line graph showing the pattern of a company's stock price.\n",
    "\n",
    "> You can change the color of the line by adding the `argument color` and the linestlye by adding the `argument linestyle`."
   ]
  },
  {
   "cell_type": "markdown",
   "metadata": {},
   "source": [
    "##### Let's create two arrays: one array contains the first 100 days since IPO; another contains the stock price on each day since IPO."
   ]
  },
  {
   "cell_type": "markdown",
   "metadata": {},
   "source": [
    "##### How would you create the two arrays?"
   ]
  },
  {
   "cell_type": "code",
   "execution_count": 3,
   "metadata": {},
   "outputs": [],
   "source": [
    "x = np.arange(1, 101, 1)\n",
    "\n",
    "y =\\\n",
    "    np \\\n",
    "    .arange(1, 3001, 30) / 5"
   ]
  },
  {
   "cell_type": "code",
   "execution_count": 4,
   "metadata": {},
   "outputs": [
    {
     "data": {
      "text/plain": [
       "array([  1,   2,   3,   4,   5,   6,   7,   8,   9,  10,  11,  12,  13,\n",
       "        14,  15,  16,  17,  18,  19,  20,  21,  22,  23,  24,  25,  26,\n",
       "        27,  28,  29,  30,  31,  32,  33,  34,  35,  36,  37,  38,  39,\n",
       "        40,  41,  42,  43,  44,  45,  46,  47,  48,  49,  50,  51,  52,\n",
       "        53,  54,  55,  56,  57,  58,  59,  60,  61,  62,  63,  64,  65,\n",
       "        66,  67,  68,  69,  70,  71,  72,  73,  74,  75,  76,  77,  78,\n",
       "        79,  80,  81,  82,  83,  84,  85,  86,  87,  88,  89,  90,  91,\n",
       "        92,  93,  94,  95,  96,  97,  98,  99, 100])"
      ]
     },
     "execution_count": 4,
     "metadata": {},
     "output_type": "execute_result"
    }
   ],
   "source": [
    "x"
   ]
  },
  {
   "cell_type": "code",
   "execution_count": 5,
   "metadata": {},
   "outputs": [
    {
     "data": {
      "text/plain": [
       "array([2.000e-01, 6.200e+00, 1.220e+01, 1.820e+01, 2.420e+01, 3.020e+01,\n",
       "       3.620e+01, 4.220e+01, 4.820e+01, 5.420e+01, 6.020e+01, 6.620e+01,\n",
       "       7.220e+01, 7.820e+01, 8.420e+01, 9.020e+01, 9.620e+01, 1.022e+02,\n",
       "       1.082e+02, 1.142e+02, 1.202e+02, 1.262e+02, 1.322e+02, 1.382e+02,\n",
       "       1.442e+02, 1.502e+02, 1.562e+02, 1.622e+02, 1.682e+02, 1.742e+02,\n",
       "       1.802e+02, 1.862e+02, 1.922e+02, 1.982e+02, 2.042e+02, 2.102e+02,\n",
       "       2.162e+02, 2.222e+02, 2.282e+02, 2.342e+02, 2.402e+02, 2.462e+02,\n",
       "       2.522e+02, 2.582e+02, 2.642e+02, 2.702e+02, 2.762e+02, 2.822e+02,\n",
       "       2.882e+02, 2.942e+02, 3.002e+02, 3.062e+02, 3.122e+02, 3.182e+02,\n",
       "       3.242e+02, 3.302e+02, 3.362e+02, 3.422e+02, 3.482e+02, 3.542e+02,\n",
       "       3.602e+02, 3.662e+02, 3.722e+02, 3.782e+02, 3.842e+02, 3.902e+02,\n",
       "       3.962e+02, 4.022e+02, 4.082e+02, 4.142e+02, 4.202e+02, 4.262e+02,\n",
       "       4.322e+02, 4.382e+02, 4.442e+02, 4.502e+02, 4.562e+02, 4.622e+02,\n",
       "       4.682e+02, 4.742e+02, 4.802e+02, 4.862e+02, 4.922e+02, 4.982e+02,\n",
       "       5.042e+02, 5.102e+02, 5.162e+02, 5.222e+02, 5.282e+02, 5.342e+02,\n",
       "       5.402e+02, 5.462e+02, 5.522e+02, 5.582e+02, 5.642e+02, 5.702e+02,\n",
       "       5.762e+02, 5.822e+02, 5.882e+02, 5.942e+02])"
      ]
     },
     "execution_count": 5,
     "metadata": {},
     "output_type": "execute_result"
    }
   ],
   "source": [
    "y"
   ]
  },
  {
   "cell_type": "code",
   "execution_count": 6,
   "metadata": {},
   "outputs": [
    {
     "data": {
      "image/png": "[encoded data removed]",
      "text/plain": [
       "<Figure size 432x288 with 1 Axes>"
      ]
     },
     "metadata": {
      "needs_background": "light"
     },
     "output_type": "display_data"
    }
   ],
   "source": [
    "plt \\\n",
    "    .plot(x, \n",
    "          y)\n",
    "\n",
    "plt.show()"
   ]
  },
  {
   "cell_type": "code",
   "execution_count": 7,
   "metadata": {},
   "outputs": [
    {
     "data": {
      "text/plain": [
       "[<matplotlib.lines.Line2D at 0x7fc6a0540430>]"
      ]
     },
     "execution_count": 7,
     "metadata": {},
     "output_type": "execute_result"
    },
    {
     "data": {
      "image/png": "[encoded data removed]",
      "text/plain": [
       "<Figure size 432x288 with 1 Axes>"
      ]
     },
     "metadata": {
      "needs_background": "light"
     },
     "output_type": "display_data"
    }
   ],
   "source": [
    "plt.plot(x, y,\n",
    "         color = \"red\")"
   ]
  },
  {
   "cell_type": "code",
   "execution_count": 8,
   "metadata": {},
   "outputs": [
    {
     "data": {
      "text/plain": [
       "[<matplotlib.lines.Line2D at 0x7fc6d00c5f70>]"
      ]
     },
     "execution_count": 8,
     "metadata": {},
     "output_type": "execute_result"
    },
    {
     "data": {
      "image/png": "[encoded data removed]",
      "text/plain": [
       "<Figure size 432x288 with 1 Axes>"
      ]
     },
     "metadata": {
      "needs_background": "light"
     },
     "output_type": "display_data"
    }
   ],
   "source": [
    "plt.plot(x, y,\n",
    "         color = \"green\")"
   ]
  },
  {
   "cell_type": "code",
   "execution_count": 10,
   "metadata": {},
   "outputs": [
    {
     "data": {
      "text/plain": [
       "[<matplotlib.lines.Line2D at 0x7fc6902f3be0>]"
      ]
     },
     "execution_count": 10,
     "metadata": {},
     "output_type": "execute_result"
    },
    {
     "data": {
      "image/png": "[encoded data removed]",
      "text/plain": [
       "<Figure size 432x288 with 1 Axes>"
      ]
     },
     "metadata": {
      "needs_background": "light"
     },
     "output_type": "display_data"
    }
   ],
   "source": [
    "plt.plot(x, y,\n",
    "         color = \"purple\",\n",
    "         linestyle = \"-.\")"
   ]
  },
  {
   "cell_type": "markdown",
   "metadata": {},
   "source": [
    "#### Adding axis labels and titles\n",
    "\n",
    "> You might want to add labels to your plot so it's clear to other people what information it is trying to convey. \n",
    "\n",
    "> Let's add labels to the plot you created in the last one."
   ]
  },
  {
   "cell_type": "code",
   "execution_count": 11,
   "metadata": {},
   "outputs": [
    {
     "data": {
      "image/png": "[encoded data removed]",
      "text/plain": [
       "<Figure size 432x288 with 1 Axes>"
      ]
     },
     "metadata": {
      "needs_background": "light"
     },
     "output_type": "display_data"
    }
   ],
   "source": [
    "plt.plot(x, y,\n",
    "         color = \"green\",\n",
    "         linestyle = \"-.\")\n",
    "\n",
    "plt.xlabel(\"Days since IPO\")\n",
    "plt.ylabel(\"Stock Prices\")\n",
    "\n",
    "plt.show()"
   ]
  },
  {
   "cell_type": "code",
   "execution_count": 12,
   "metadata": {},
   "outputs": [
    {
     "data": {
      "image/png": "[encoded data removed]",
      "text/plain": [
       "<Figure size 432x288 with 1 Axes>"
      ]
     },
     "metadata": {
      "needs_background": "light"
     },
     "output_type": "display_data"
    }
   ],
   "source": [
    "plt.plot(x, y,\n",
    "         color = \"green\",\n",
    "         linestyle = \"-.\")\n",
    "\n",
    "plt.xlabel(\"Days since IPO\")\n",
    "plt.ylabel(\"Stock Prices\")\n",
    "\n",
    "plt.title(\"Stock Prices During the First 100 Days Since IPO\")\n",
    "\n",
    "plt.show()"
   ]
  },
  {
   "cell_type": "markdown",
   "metadata": {},
   "source": [
    "#### Overlyaing lines on the same plot\n",
    "\n",
    "> Often you are in need to plot multiple groups as different lines. \n",
    "\n",
    "> To do so, execute the function plot() multiple times. \n",
    "\n",
    "> Let's plot the stocks of two companies over time."
   ]
  },
  {
   "cell_type": "markdown",
   "metadata": {},
   "source": [
    "##### Is there a way that we can generate 100 random integers that represent a company's fictitious stock prices?"
   ]
  },
  {
   "cell_type": "code",
   "execution_count": 13,
   "metadata": {},
   "outputs": [
    {
     "data": {
      "text/plain": [
       "array([106, 122, 453, 430,  16,  90, 365, 205,  30, 333, 388, 124, 181,\n",
       "        63, 182,  21, 270, 418,  44, 442, 249,  88, 499, 214,  42, 351,\n",
       "        40, 119,  85, 164,  13, 398, 400, 104, 336,  83, 489, 143, 453,\n",
       "       483, 238, 375, 400, 341, 384, 330, 341, 441, 108, 130,  31, 396,\n",
       "       136, 145,   5, 371, 341, 271, 372, 366, 192, 277, 311, 173, 420,\n",
       "       284, 174, 120,  62,  62, 445, 148, 166, 275, 311, 170,  37, 159,\n",
       "       115,  85, 390, 170, 303, 106, 469,  84, 436, 368, 384,  46,  88,\n",
       "       316,  53, 192, 310, 432, 254, 498,  37, 333])"
      ]
     },
     "execution_count": 13,
     "metadata": {},
     "output_type": "execute_result"
    }
   ],
   "source": [
    "z =\\\n",
    "    np \\\n",
    "    .random \\\n",
    "    .randint(1, 500, 100)\n",
    "\n",
    "z"
   ]
  },
  {
   "cell_type": "markdown",
   "metadata": {},
   "source": [
    "> Random decimal numbers?"
   ]
  },
  {
   "cell_type": "code",
   "execution_count": 14,
   "metadata": {},
   "outputs": [
    {
     "data": {
      "text/plain": [
       "array([0.53072241, 0.79263753, 0.93818063, 0.97032455, 0.44839313,\n",
       "       0.72382614, 0.48649924, 0.11024405, 0.78917293, 0.64680793,\n",
       "       0.96094081, 0.71275314, 0.70959381, 0.13588495, 0.088642  ,\n",
       "       0.17172658, 0.2058406 , 0.2739195 , 0.25509994, 0.41087239,\n",
       "       0.92651636, 0.20756337, 0.47227045, 0.76880566, 0.69555797,\n",
       "       0.76026494, 0.14946776, 0.78090976, 0.78055945, 0.38902031,\n",
       "       0.72144212, 0.61645231, 0.58263953, 0.91660542, 0.01936758,\n",
       "       0.76610146, 0.82065662, 0.44340837, 0.27053726, 0.45096283,\n",
       "       0.84059868, 0.02689713, 0.93778107, 0.85024584, 0.73676457,\n",
       "       0.02500687, 0.61955354, 0.12943465, 0.0451297 , 0.58121863,\n",
       "       0.69547719, 0.62938825, 0.18216556, 0.85400361, 0.41317476,\n",
       "       0.23208184, 0.60685923, 0.377994  , 0.76169409, 0.18023063,\n",
       "       0.8477512 , 0.85240857, 0.3446994 , 0.64954049, 0.75933549,\n",
       "       0.17460863, 0.00430728, 0.5770229 , 0.6249146 , 0.75946678,\n",
       "       0.21760589, 0.95108   , 0.79375442, 0.49153213, 0.93736673,\n",
       "       0.71022435, 0.958424  , 0.68538141, 0.17127471, 0.27388424,\n",
       "       0.56517428, 0.76846616, 0.91384831, 0.92373277, 0.61285386,\n",
       "       0.87663752, 0.49026232, 0.8050694 , 0.71366834, 0.51246785,\n",
       "       0.67737633, 0.35655124, 0.83927749, 0.1799115 , 0.17760011,\n",
       "       0.9582653 , 0.74840844, 0.42168975, 0.5413031 , 0.69396542])"
      ]
     },
     "execution_count": 14,
     "metadata": {},
     "output_type": "execute_result"
    }
   ],
   "source": [
    "np \\\n",
    "    .random \\\n",
    "    .rand(100)"
   ]
  },
  {
   "cell_type": "markdown",
   "metadata": {},
   "source": [
    "> Let's create a plot with two lines."
   ]
  },
  {
   "cell_type": "code",
   "execution_count": 15,
   "metadata": {},
   "outputs": [
    {
     "name": "stdout",
     "output_type": "stream",
     "text": [
      "Variable   Type       Data/Info\n",
      "-------------------------------\n",
      "np         module     <module 'numpy' from '/Us<...>kages/numpy/__init__.py'>\n",
      "plt        module     <module 'matplotlib.pyplo<...>es/matplotlib/pyplot.py'>\n",
      "x          ndarray    100: 100 elems, type `int64`, 800 bytes\n",
      "y          ndarray    100: 100 elems, type `float64`, 800 bytes\n",
      "z          ndarray    100: 100 elems, type `int64`, 800 bytes\n"
     ]
    }
   ],
   "source": [
    "%whos"
   ]
  },
  {
   "cell_type": "code",
   "execution_count": 16,
   "metadata": {},
   "outputs": [
    {
     "data": {
      "image/png": "[encoded data removed]",
      "text/plain": [
       "<Figure size 432x288 with 1 Axes>"
      ]
     },
     "metadata": {
      "needs_background": "light"
     },
     "output_type": "display_data"
    }
   ],
   "source": [
    "plt.plot(x, y, \n",
    "         color = \"red\")\n",
    "\n",
    "plt.plot(x, z,\n",
    "         color = \"blue\")\n",
    "\n",
    "plt.xlabel(\"The Number of Days Since IPO\")\n",
    "plt.ylabel(\"Stock Prices Over Time\")\n",
    "\n",
    "plt.title(\"Two Companies' Stock Prices During the First 100 Days Since IPO\")\n",
    "\n",
    "plt.legend([\"Company Y\", \n",
    "            \"Company Z\"]\n",
    "          )\n",
    "\n",
    "plt.show()"
   ]
  },
  {
   "cell_type": "markdown",
   "metadata": {},
   "source": [
    "#### Scatter Plots\n",
    "\n",
    "> The pyplot module can also be used to make other types of plots, like scatter plots. \n",
    "\n",
    "> Now, let's create a scatterplot of the companies stock prices over time."
   ]
  },
  {
   "cell_type": "code",
   "execution_count": 17,
   "metadata": {
    "scrolled": true
   },
   "outputs": [
    {
     "data": {
      "text/plain": [
       "['Annotation',\n",
       " 'Arrow',\n",
       " 'Artist',\n",
       " 'AutoLocator',\n",
       " 'Axes',\n",
       " 'Button',\n",
       " 'Circle',\n",
       " 'Figure',\n",
       " 'FigureCanvasBase',\n",
       " 'FixedFormatter',\n",
       " 'FixedLocator',\n",
       " 'FormatStrFormatter',\n",
       " 'Formatter',\n",
       " 'FuncFormatter',\n",
       " 'GridSpec',\n",
       " 'IndexLocator',\n",
       " 'Line2D',\n",
       " 'LinearLocator',\n",
       " 'Locator',\n",
       " 'LogFormatter',\n",
       " 'LogFormatterExponent',\n",
       " 'LogFormatterMathtext',\n",
       " 'LogLocator',\n",
       " 'MaxNLocator',\n",
       " 'MouseButton',\n",
       " 'MultipleLocator',\n",
       " 'Normalize',\n",
       " 'NullFormatter',\n",
       " 'NullLocator',\n",
       " 'Number',\n",
       " 'PolarAxes',\n",
       " 'Polygon',\n",
       " 'Rectangle',\n",
       " 'ScalarFormatter',\n",
       " 'Slider',\n",
       " 'Subplot',\n",
       " 'SubplotSpec',\n",
       " 'Text',\n",
       " 'TickHelper',\n",
       " 'Widget',\n",
       " '_INSTALL_FIG_OBSERVER',\n",
       " '_IP_REGISTERED',\n",
       " '_IoffContext',\n",
       " '_IonContext',\n",
       " '__builtins__',\n",
       " '__cached__',\n",
       " '__doc__',\n",
       " '__file__',\n",
       " '__loader__',\n",
       " '__name__',\n",
       " '__package__',\n",
       " '__spec__',\n",
       " '_api',\n",
       " '_auto_draw_if_interactive',\n",
       " '_backend_mod',\n",
       " '_copy_docstring_and_deprecators',\n",
       " '_get_required_interactive_framework',\n",
       " '_interactive_bk',\n",
       " '_log',\n",
       " '_pylab_helpers',\n",
       " '_setup_pyplot_info_docstrings',\n",
       " '_warn_if_gui_out_of_main_thread',\n",
       " '_xkcd',\n",
       " 'acorr',\n",
       " 'angle_spectrum',\n",
       " 'annotate',\n",
       " 'arrow',\n",
       " 'autoscale',\n",
       " 'autumn',\n",
       " 'axes',\n",
       " 'axhline',\n",
       " 'axhspan',\n",
       " 'axis',\n",
       " 'axline',\n",
       " 'axvline',\n",
       " 'axvspan',\n",
       " 'bar',\n",
       " 'bar_label',\n",
       " 'barbs',\n",
       " 'barh',\n",
       " 'bone',\n",
       " 'box',\n",
       " 'boxplot',\n",
       " 'broken_barh',\n",
       " 'cbook',\n",
       " 'cla',\n",
       " 'clabel',\n",
       " 'clf',\n",
       " 'clim',\n",
       " 'close',\n",
       " 'cm',\n",
       " 'cohere',\n",
       " 'colorbar',\n",
       " 'colormaps',\n",
       " 'connect',\n",
       " 'contour',\n",
       " 'contourf',\n",
       " 'cool',\n",
       " 'copper',\n",
       " 'csd',\n",
       " 'cycler',\n",
       " 'delaxes',\n",
       " 'disconnect',\n",
       " 'docstring',\n",
       " 'draw',\n",
       " 'draw_all',\n",
       " 'draw_if_interactive',\n",
       " 'errorbar',\n",
       " 'eventplot',\n",
       " 'figaspect',\n",
       " 'figimage',\n",
       " 'figlegend',\n",
       " 'fignum_exists',\n",
       " 'figtext',\n",
       " 'figure',\n",
       " 'fill',\n",
       " 'fill_between',\n",
       " 'fill_betweenx',\n",
       " 'findobj',\n",
       " 'flag',\n",
       " 'functools',\n",
       " 'gca',\n",
       " 'gcf',\n",
       " 'gci',\n",
       " 'get',\n",
       " 'get_backend',\n",
       " 'get_cmap',\n",
       " 'get_current_fig_manager',\n",
       " 'get_figlabels',\n",
       " 'get_fignums',\n",
       " 'get_plot_commands',\n",
       " 'get_scale_names',\n",
       " 'getp',\n",
       " 'ginput',\n",
       " 'gray',\n",
       " 'grid',\n",
       " 'hexbin',\n",
       " 'hist',\n",
       " 'hist2d',\n",
       " 'hlines',\n",
       " 'hot',\n",
       " 'hsv',\n",
       " 'importlib',\n",
       " 'imread',\n",
       " 'imsave',\n",
       " 'imshow',\n",
       " 'inferno',\n",
       " 'inspect',\n",
       " 'install_repl_displayhook',\n",
       " 'interactive',\n",
       " 'ioff',\n",
       " 'ion',\n",
       " 'isinteractive',\n",
       " 'jet',\n",
       " 'legend',\n",
       " 'locator_params',\n",
       " 'logging',\n",
       " 'loglog',\n",
       " 'magma',\n",
       " 'magnitude_spectrum',\n",
       " 'margins',\n",
       " 'matplotlib',\n",
       " 'matshow',\n",
       " 'minorticks_off',\n",
       " 'minorticks_on',\n",
       " 'mlab',\n",
       " 'new_figure_manager',\n",
       " 'nipy_spectral',\n",
       " 'np',\n",
       " 'pause',\n",
       " 'pcolor',\n",
       " 'pcolormesh',\n",
       " 'phase_spectrum',\n",
       " 'pie',\n",
       " 'pink',\n",
       " 'plasma',\n",
       " 'plot',\n",
       " 'plot_date',\n",
       " 'plotting',\n",
       " 'polar',\n",
       " 'prism',\n",
       " 'psd',\n",
       " 'quiver',\n",
       " 'quiverkey',\n",
       " 'rc',\n",
       " 'rcParams',\n",
       " 'rcParamsDefault',\n",
       " 'rcParamsOrig',\n",
       " 'rc_context',\n",
       " 'rcdefaults',\n",
       " 'rcsetup',\n",
       " 're',\n",
       " 'register_cmap',\n",
       " 'rgrids',\n",
       " 'savefig',\n",
       " 'sca',\n",
       " 'scatter',\n",
       " 'sci',\n",
       " 'semilogx',\n",
       " 'semilogy',\n",
       " 'set_cmap',\n",
       " 'set_loglevel',\n",
       " 'setp',\n",
       " 'show',\n",
       " 'specgram',\n",
       " 'spring',\n",
       " 'spy',\n",
       " 'stackplot',\n",
       " 'stairs',\n",
       " 'stem',\n",
       " 'step',\n",
       " 'streamplot',\n",
       " 'style',\n",
       " 'subplot',\n",
       " 'subplot2grid',\n",
       " 'subplot_mosaic',\n",
       " 'subplot_tool',\n",
       " 'subplots',\n",
       " 'subplots_adjust',\n",
       " 'summer',\n",
       " 'suptitle',\n",
       " 'switch_backend',\n",
       " 'sys',\n",
       " 'table',\n",
       " 'text',\n",
       " 'thetagrids',\n",
       " 'threading',\n",
       " 'tick_params',\n",
       " 'ticklabel_format',\n",
       " 'tight_layout',\n",
       " 'time',\n",
       " 'title',\n",
       " 'tricontour',\n",
       " 'tricontourf',\n",
       " 'tripcolor',\n",
       " 'triplot',\n",
       " 'twinx',\n",
       " 'twiny',\n",
       " 'uninstall_repl_displayhook',\n",
       " 'violinplot',\n",
       " 'viridis',\n",
       " 'vlines',\n",
       " 'waitforbuttonpress',\n",
       " 'winter',\n",
       " 'xcorr',\n",
       " 'xkcd',\n",
       " 'xlabel',\n",
       " 'xlim',\n",
       " 'xscale',\n",
       " 'xticks',\n",
       " 'ylabel',\n",
       " 'ylim',\n",
       " 'yscale',\n",
       " 'yticks']"
      ]
     },
     "execution_count": 17,
     "metadata": {},
     "output_type": "execute_result"
    }
   ],
   "source": [
    "dir(plt)"
   ]
  },
  {
   "cell_type": "code",
   "execution_count": 18,
   "metadata": {},
   "outputs": [
    {
     "data": {
      "image/png": "[encoded data removed]",
      "text/plain": [
       "<Figure size 432x288 with 1 Axes>"
      ]
     },
     "metadata": {
      "needs_background": "light"
     },
     "output_type": "display_data"
    }
   ],
   "source": [
    "plt.scatter(x, y,\n",
    "            color = \"orange\",\n",
    "            label = \"Company Y\") # for our dearest Howard :)\n",
    "\n",
    "plt.scatter(x, z,\n",
    "            color = \"purple\",\n",
    "            label = \"Company Z\")\n",
    "\n",
    "plt.xlabel(\"Days Since IPO\")\n",
    "plt.ylabel(\"Stock Prices\")\n",
    "\n",
    "plt.title(\"Two Companies' Stock Prices\\nDuring the 100 Days since IPO\")\n",
    "\n",
    "plt.legend()\n",
    "\n",
    "plt.show()"
   ]
  },
  {
   "cell_type": "markdown",
   "metadata": {},
   "source": [
    "> If you still wish to use function plot() for the scatter plots, there's a way :)"
   ]
  },
  {
   "cell_type": "code",
   "execution_count": 19,
   "metadata": {},
   "outputs": [
    {
     "data": {
      "image/png": "[encoded data removed]",
      "text/plain": [
       "<Figure size 432x288 with 1 Axes>"
      ]
     },
     "metadata": {
      "needs_background": "light"
     },
     "output_type": "display_data"
    }
   ],
   "source": [
    "plt.plot(x, y, \"o\")\n",
    "plt.plot(x, z, \"o\")\n",
    "\n",
    "plt.xlabel(\"Days Since IPO\")\n",
    "plt.ylabel(\"Stock Prices\")\n",
    "\n",
    "plt.title(\"Two Companies' Stock Prices\\nDuring the 100 Days since IPO\")\n",
    "\n",
    "plt.legend([\"Company Y\", \n",
    "            \"Company Z\"],\n",
    "           loc = \"upper right\")\n",
    "\n",
    "plt.show()"
   ]
  },
  {
   "cell_type": "markdown",
   "metadata": {},
   "source": [
    "### The Curious Case of Anscombe's Quartet \n",
    "### ***or Why Data Visualization Matters in Statistical Modeling of Financial Data***\n",
    "\n",
    "> Let’s consider here that you have received four datasets from four industries. \n",
    "\n",
    "> Each dataset contains companies within their respective industry. \n",
    "\n",
    "> You intend to analyze the relationship within each dataset regarding companies’ growth indicator and prices-to-earnings ratio to detect the relationships between the two variables.\n"
   ]
  },
  {
   "cell_type": "code",
   "execution_count": null,
   "metadata": {},
   "outputs": [],
   "source": []
  },
  {
   "cell_type": "markdown",
   "metadata": {},
   "source": [
    "> Suppose that you have the following datasets."
   ]
  },
  {
   "cell_type": "code",
   "execution_count": null,
   "metadata": {},
   "outputs": [],
   "source": [
    "company_growth_1 = [10.0, 8.0,  13.0,  9.0,  11.0, 14.0, 6.0,  4.0,  12.0,  7.0,  5.0]\n",
    "pe_ratio_1 = [8.04, 6.95, 7.58,  8.81, 8.33, 9.96, 7.24, 4.26, 10.84, 4.82, 5.68]\n",
    "\n",
    "company_growth_2 = [10.0, 8.0,  13.0,  9.0,  11.0, 14.0, 6.0,  4.0,  12.0,  7.0,  5.0]\n",
    "pe_ratio_2 = [9.14, 8.14, 8.74,  8.77, 9.26, 8.10, 6.13, 3.10, 9.13,  7.26, 4.74]\n",
    "\n",
    "company_growth_3 = [10.0, 8.0,  13.0,  9.0,  11.0, 14.0, 6.0,  4.0,  12.0,  7.0,  5.0]\n",
    "pe_ratio_3 = [7.46, 6.77, 12.74, 7.11, 7.81, 8.84, 6.08, 5.39, 8.15,  6.42, 5.73]\n",
    "\n",
    "company_growth_4 = [8.0,  8.0,  8.0,   8.0,  8.0,  8.0,  8.0,  19.0,  8.0,  8.0,  8.0]\n",
    "pe_ratio_4 = [6.58, 5.76, 7.71,  8.84, 8.47, 7.04, 5.25, 12.50, 5.56, 7.91, 6.89]"
   ]
  },
  {
   "cell_type": "markdown",
   "metadata": {},
   "source": [
    "> Let's perform a quick regression analysis."
   ]
  },
  {
   "cell_type": "code",
   "execution_count": null,
   "metadata": {},
   "outputs": [],
   "source": []
  },
  {
   "cell_type": "markdown",
   "metadata": {},
   "source": [
    "> The regression line in each case is the interesting thing about these four datasets as all four have the same summary statistics. \n",
    "\n",
    "> That is, they have the same mean of X, the same variance of X, the same mean of Y, the same variance of Y, the same correlation, the same slope of the line, and the same intercept of the line, so the summary statistics for all four datasets are the same.\n",
    "\n",
    "> Now, let's visualize your data."
   ]
  },
  {
   "cell_type": "code",
   "execution_count": null,
   "metadata": {},
   "outputs": [],
   "source": [
    "xmax = 20\n",
    "ymax = 20\n",
    "\n",
    "ax1 = subplot(2, 2, 1)\n",
    "scatter(company_growth_1, pe_ratio_1)\n",
    "slope, intercept, r_value, p_value, std_err = linregress(company_growth_1, pe_ratio_1)\n",
    "plot([0, xmax], [intercept, slope * xmax + intercept])\n",
    "print(\"{0:.3f} {1:.2f} {2:.3f} {3:.3f} {4:.3f}\".format(slope, intercept, r_value, p_value, std_err))\n",
    "\n",
    "subplot(2, 2, 2, sharex=ax1, sharey=ax1)\n",
    "scatter(company_growth_2, pe_ratio_2)\n",
    "slope, intercept, r_value, p_value, std_err = linregress(company_growth_2, pe_ratio_2)\n",
    "plot([0, xmax], [intercept, slope * xmax + intercept])\n",
    "print(\"{0:.3f} {1:.2f} {2:.3f} {3:.3f} {4:.3f}\".format(slope, intercept, r_value, p_value, std_err))\n",
    "\n",
    "subplot(2, 2, 3, sharex=ax1, sharey=ax1)\n",
    "scatter(company_growth_3, pe_ratio_3)\n",
    "slope, intercept, r_value, p_value, std_err = linregress(company_growth_3, pe_ratio_3)\n",
    "plot([0, xmax], [intercept, slope * xmax + intercept])\n",
    "print(\"{0:.3f} {1:.2f} {2:.3f} {3:.3f} {4:.3f}\".format(slope, intercept, r_value, p_value, std_err))\n",
    "\n",
    "subplot(2, 2, 4, sharex=ax1, sharey=ax1)\n",
    "scatter(company_growth_4, pe_ratio_4)\n",
    "slope, intercept, r_value, p_value, std_err = linregress(company_growth_4, pe_ratio_4)\n",
    "plot([0, xmax], [intercept, slope * xmax + intercept])\n",
    "print(\"{0:.3f} {1:.2f} {2:.3f} {3:.3f} {4:.3f}\".format(slope, intercept, r_value, p_value, std_err))\n",
    "\n",
    "axis([0, xmax, 0, ymax])"
   ]
  },
  {
   "cell_type": "markdown",
   "metadata": {},
   "source": [
    "> The lesson here is simply that summary statistics don’t tell the whole story. \n",
    "\n",
    "> Imagine if we were to look only at the output of these four datasets for a simple linear regression. \n",
    "\n",
    "> Everything would look exactly the same, but the reality of the situation is that things are very different."
   ]
  },
  {
   "cell_type": "markdown",
   "metadata": {},
   "source": [
    "> **Visualizing your data will give you a deeper understanding about quantitative information that you might think you know but you were not aware of: namely, `data visualization helps transform data into insights`.**"
   ]
  },
  {
   "cell_type": "markdown",
   "metadata": {},
   "source": [
    "### Histogram"
   ]
  },
  {
   "cell_type": "markdown",
   "metadata": {},
   "source": [
    "> A `histogram` is an efficient visualization toolkit `to examine whether your data is normally distributed`, or centered around the mean.\n",
    "\n",
    "> Let's create one."
   ]
  },
  {
   "cell_type": "code",
   "execution_count": null,
   "metadata": {},
   "outputs": [],
   "source": []
  },
  {
   "cell_type": "markdown",
   "metadata": {},
   "source": [
    "> Histograms can also be used to compare the distributions of multiple datasets. \n",
    "\n",
    "> Let's compare the performance of two different stocks to find out which stock has more fluctuation."
   ]
  },
  {
   "cell_type": "markdown",
   "metadata": {},
   "source": [
    "##### How would you create two arrays that contain 365 random integers?"
   ]
  },
  {
   "cell_type": "code",
   "execution_count": null,
   "metadata": {},
   "outputs": [],
   "source": []
  },
  {
   "cell_type": "code",
   "execution_count": null,
   "metadata": {},
   "outputs": [],
   "source": []
  },
  {
   "cell_type": "markdown",
   "metadata": {},
   "source": [
    "> Again, you can add a legend here.\n",
    "\n",
    "> Legend will be useful when plotting multiple datasets to identify which plot is associated with a specific dataset.\n",
    "\n",
    "> To add a legend, you can use the label argument. \n",
    "\n",
    "> To display the legend on the plot, you can use the function `plt.legend()`."
   ]
  },
  {
   "cell_type": "code",
   "execution_count": null,
   "metadata": {},
   "outputs": [],
   "source": []
  },
  {
   "cell_type": "markdown",
   "metadata": {},
   "source": [
    "### Bar Chart"
   ]
  },
  {
   "cell_type": "code",
   "execution_count": null,
   "metadata": {},
   "outputs": [],
   "source": []
  },
  {
   "cell_type": "code",
   "execution_count": null,
   "metadata": {},
   "outputs": [],
   "source": []
  },
  {
   "cell_type": "markdown",
   "metadata": {},
   "source": [
    "> `Thank you for working with the script :)`"
   ]
  },
  {
   "cell_type": "code",
   "execution_count": null,
   "metadata": {},
   "outputs": [],
   "source": [
    "exit()"
   ]
  }
 ],
 "metadata": {
  "kernelspec": {
   "display_name": "Python 3 (ipykernel)",
   "language": "python",
   "name": "python3"
  },
  "language_info": {
   "codemirror_mode": {
    "name": "ipython",
    "version": 3
   },
   "file_extension": ".py",
   "mimetype": "text/x-python",
   "name": "python",
   "nbconvert_exporter": "python",
   "pygments_lexer": "ipython3",
   "version": "3.9.12"
  }
 },
 "nbformat": 4,
 "nbformat_minor": 4
}
