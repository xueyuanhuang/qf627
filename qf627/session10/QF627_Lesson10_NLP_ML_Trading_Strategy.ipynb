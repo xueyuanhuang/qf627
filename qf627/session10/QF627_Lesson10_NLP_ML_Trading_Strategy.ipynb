{
 "cells": [
  {
   "cell_type": "markdown",
   "metadata": {},
   "source": [
    "# QF 627 Programming and Computational Finance\n",
    "### Lesson 10 | Natural Language Processing (NLP) and Trading Strategies"
   ]
  },
  {
   "cell_type": "markdown",
   "metadata": {},
   "source": [
    "> \"Hi Team! 👋\n",
    "\n",
    "> In our final class, we will learn how to capitalize on `natural language processing` (`NLP`) and `machine learning` to create `trading strategies`. As you will see, this will be informative, helpful knowledge and expertise for creating your trading strategy down the line. \n",
    "\n",
    "> First, we will define our real-world questions so that we have them in hand, and then we will prepare stock and news data. Next, we will learn how to go over sentiment analysis, along with supervised and unsupervised learning. Finally, we will go through an assessment of our model and trading strategy on individual stocks and multiple stocks over varying time periods."
   ]
  },
  {
   "cell_type": "markdown",
   "metadata": {},
   "source": [
    "### Learning Pointers "
   ]
  },
  {
   "cell_type": "markdown",
   "metadata": {},
   "source": [
    "### [Data Import and Transformation](#wrangle)\n",
    "<br>\n",
    "\n",
    "### [Natural Language Processing, Sentiment Analysis, and Machine Learning](#nlp)\n",
    "<br>\n",
    "\n",
    "### [Predictive Model Assessment, Strategy Building, and Backtesting](#test)"
   ]
  },
  {
   "cell_type": "markdown",
   "metadata": {},
   "source": [
    "### Activation of necessary modules"
   ]
  },
  {
   "cell_type": "code",
   "execution_count": 1,
   "metadata": {},
   "outputs": [],
   "source": [
    "import numpy as np\n",
    "import pandas as pd\n",
    "\n",
    "import matplotlib.pyplot as plt\n",
    "import matplotlib as mpl\n",
    "\n",
    "from pandas_datareader import data as pdr\n",
    "\n",
    "import datetime as dt\n",
    "import yfinance as yf"
   ]
  },
  {
   "cell_type": "markdown",
   "metadata": {},
   "source": [
    "#### Setting plotting and display options"
   ]
  },
  {
   "cell_type": "code",
   "execution_count": 2,
   "metadata": {},
   "outputs": [],
   "source": [
    "np.set_printoptions(precision = 3)\n",
    "\n",
    "pd.set_option(\"display.float_format\", lambda x: \"%.3f\" % x)\n",
    "\n",
    "plt.style.use(\"ggplot\")\n",
    "\n",
    "mpl.rcParams[\"axes.grid\"] = True\n",
    "mpl.rcParams[\"grid.color\"] = \"grey\"\n",
    "mpl.rcParams[\"grid.alpha\"] = 0.25\n",
    "\n",
    "mpl.rcParams[\"axes.facecolor\"] = \"white\"\n",
    "\n",
    "mpl.rcParams[\"legend.fontsize\"] = 14"
   ]
  },
  {
   "cell_type": "code",
   "execution_count": 3,
   "metadata": {},
   "outputs": [],
   "source": [
    "%matplotlib inline"
   ]
  },
  {
   "cell_type": "markdown",
   "metadata": {},
   "source": [
    "    PROBLEM STATEMENT\n",
    "    \n",
    "> `The real-world question` in our hand is to create a trading strategy that capitalizes on natural language processing to extract information from news headlines, assign a sentiment to that information, and use the sentiment and the information inside the news headlines to create a trading strategy."
   ]
  },
  {
   "cell_type": "markdown",
   "metadata": {},
   "source": [
    "We will employ data from three different sources:\n",
    "\n",
    "* `Yahoo Finance` website for the stock return: The return data can be obtained from another website that is similar to Yahoo finance.\n",
    "<br>\n",
    "\n",
    "* `News headlines` data compiled from the RSS feeds of several news websites: This news headlines data is compiled by various news websites and contains the most financially relevant news filtered by human editors. For this study, we will only look at the headline, not the details in the text of the story. Another important characteristic of this dataset is that the relevant tickers in the story are extracted. Our dataset contains 82,643 headlines from May 2011 through December 2018.\n",
    "<br>\n",
    "\n",
    "* `Kaggle`: Labeled data of news sentiments obtained for a classification-based sentiment analysis model. This data may not be authentic and is used only for demonstration purposes in our real-world problem solving.\n",
    "<br>\n",
    "\n",
    "* A `stock market lexicon` created based on stock market conversations in microblogging services."
   ]
  },
  {
   "cell_type": "markdown",
   "metadata": {},
   "source": [
    "### Load additional nececessary packages for our work"
   ]
  },
  {
   "cell_type": "code",
   "execution_count": 4,
   "metadata": {},
   "outputs": [
    {
     "name": "stdout",
     "output_type": "stream",
     "text": [
      "Requirement already satisfied: spacy in e:\\software\\anaconda3\\lib\\site-packages (3.7.2)\n",
      "Requirement already satisfied: spacy-legacy<3.1.0,>=3.0.11 in e:\\software\\anaconda3\\lib\\site-packages (from spacy) (3.0.12)\n",
      "Requirement already satisfied: spacy-loggers<2.0.0,>=1.0.0 in e:\\software\\anaconda3\\lib\\site-packages (from spacy) (1.0.5)\n",
      "Requirement already satisfied: murmurhash<1.1.0,>=0.28.0 in e:\\software\\anaconda3\\lib\\site-packages (from spacy) (1.0.10)\n",
      "Requirement already satisfied: cymem<2.1.0,>=2.0.2 in e:\\software\\anaconda3\\lib\\site-packages (from spacy) (2.0.8)\n",
      "Requirement already satisfied: preshed<3.1.0,>=3.0.2 in e:\\software\\anaconda3\\lib\\site-packages (from spacy) (3.0.9)\n",
      "Requirement already satisfied: thinc<8.3.0,>=8.1.8 in e:\\software\\anaconda3\\lib\\site-packages (from spacy) (8.2.1)\n",
      "Requirement already satisfied: wasabi<1.2.0,>=0.9.1 in e:\\software\\anaconda3\\lib\\site-packages (from spacy) (1.1.2)\n",
      "Requirement already satisfied: srsly<3.0.0,>=2.4.3 in e:\\software\\anaconda3\\lib\\site-packages (from spacy) (2.4.8)\n",
      "Requirement already satisfied: catalogue<2.1.0,>=2.0.6 in e:\\software\\anaconda3\\lib\\site-packages (from spacy) (2.0.10)\n",
      "Requirement already satisfied: weasel<0.4.0,>=0.1.0 in e:\\software\\anaconda3\\lib\\site-packages (from spacy) (0.3.4)\n",
      "Requirement already satisfied: typer<0.10.0,>=0.3.0 in e:\\software\\anaconda3\\lib\\site-packages (from spacy) (0.9.0)\n",
      "Requirement already satisfied: smart-open<7.0.0,>=5.2.1 in e:\\software\\anaconda3\\lib\\site-packages (from spacy) (5.2.1)\n",
      "Requirement already satisfied: tqdm<5.0.0,>=4.38.0 in e:\\software\\anaconda3\\lib\\site-packages (from spacy) (4.65.0)\n",
      "Requirement already satisfied: requests<3.0.0,>=2.13.0 in e:\\software\\anaconda3\\lib\\site-packages (from spacy) (2.31.0)\n",
      "Requirement already satisfied: pydantic!=1.8,!=1.8.1,<3.0.0,>=1.7.4 in e:\\software\\anaconda3\\lib\\site-packages (from spacy) (2.5.0)\n",
      "Requirement already satisfied: jinja2 in e:\\software\\anaconda3\\lib\\site-packages (from spacy) (3.1.2)\n",
      "Requirement already satisfied: setuptools in e:\\software\\anaconda3\\lib\\site-packages (from spacy) (67.8.0)\n",
      "Requirement already satisfied: packaging>=20.0 in e:\\software\\anaconda3\\lib\\site-packages (from spacy) (23.0)\n",
      "Requirement already satisfied: langcodes<4.0.0,>=3.2.0 in e:\\software\\anaconda3\\lib\\site-packages (from spacy) (3.3.0)\n",
      "Requirement already satisfied: numpy>=1.19.0 in e:\\software\\anaconda3\\lib\\site-packages (from spacy) (1.24.3)\n",
      "Requirement already satisfied: annotated-types>=0.4.0 in e:\\software\\anaconda3\\lib\\site-packages (from pydantic!=1.8,!=1.8.1,<3.0.0,>=1.7.4->spacy) (0.6.0)\n",
      "Requirement already satisfied: pydantic-core==2.14.1 in e:\\software\\anaconda3\\lib\\site-packages (from pydantic!=1.8,!=1.8.1,<3.0.0,>=1.7.4->spacy) (2.14.1)\n",
      "Requirement already satisfied: typing-extensions>=4.6.1 in e:\\software\\anaconda3\\lib\\site-packages (from pydantic!=1.8,!=1.8.1,<3.0.0,>=1.7.4->spacy) (4.6.3)\n",
      "Requirement already satisfied: charset-normalizer<4,>=2 in e:\\software\\anaconda3\\lib\\site-packages (from requests<3.0.0,>=2.13.0->spacy) (2.0.4)\n",
      "Requirement already satisfied: idna<4,>=2.5 in e:\\software\\anaconda3\\lib\\site-packages (from requests<3.0.0,>=2.13.0->spacy) (3.4)\n",
      "Requirement already satisfied: urllib3<3,>=1.21.1 in e:\\software\\anaconda3\\lib\\site-packages (from requests<3.0.0,>=2.13.0->spacy) (1.26.16)\n",
      "Requirement already satisfied: certifi>=2017.4.17 in e:\\software\\anaconda3\\lib\\site-packages (from requests<3.0.0,>=2.13.0->spacy) (2023.5.7)\n",
      "Requirement already satisfied: blis<0.8.0,>=0.7.8 in e:\\software\\anaconda3\\lib\\site-packages (from thinc<8.3.0,>=8.1.8->spacy) (0.7.11)\n",
      "Requirement already satisfied: confection<1.0.0,>=0.0.1 in e:\\software\\anaconda3\\lib\\site-packages (from thinc<8.3.0,>=8.1.8->spacy) (0.1.3)\n",
      "Requirement already satisfied: colorama in e:\\software\\anaconda3\\lib\\site-packages (from tqdm<5.0.0,>=4.38.0->spacy) (0.4.6)\n",
      "Requirement already satisfied: click<9.0.0,>=7.1.1 in e:\\software\\anaconda3\\lib\\site-packages (from typer<0.10.0,>=0.3.0->spacy) (8.0.4)\n",
      "Requirement already satisfied: cloudpathlib<0.17.0,>=0.7.0 in e:\\software\\anaconda3\\lib\\site-packages (from weasel<0.4.0,>=0.1.0->spacy) (0.16.0)\n",
      "Requirement already satisfied: MarkupSafe>=2.0 in e:\\software\\anaconda3\\lib\\site-packages (from jinja2->spacy) (2.1.1)\n",
      "Requirement already satisfied: nltk in e:\\software\\anaconda3\\lib\\site-packages (3.7)\n",
      "Requirement already satisfied: click in e:\\software\\anaconda3\\lib\\site-packages (from nltk) (8.0.4)\n",
      "Requirement already satisfied: joblib in e:\\software\\anaconda3\\lib\\site-packages (from nltk) (1.2.0)\n",
      "Requirement already satisfied: regex>=2021.8.3 in e:\\software\\anaconda3\\lib\\site-packages (from nltk) (2022.7.9)\n",
      "Requirement already satisfied: tqdm in e:\\software\\anaconda3\\lib\\site-packages (from nltk) (4.65.0)\n",
      "Requirement already satisfied: colorama in e:\\software\\anaconda3\\lib\\site-packages (from click->nltk) (0.4.6)\n",
      "Requirement already satisfied: textblob in e:\\software\\anaconda3\\lib\\site-packages (0.17.1)\n",
      "Requirement already satisfied: nltk>=3.1 in e:\\software\\anaconda3\\lib\\site-packages (from textblob) (3.7)\n",
      "Requirement already satisfied: click in e:\\software\\anaconda3\\lib\\site-packages (from nltk>=3.1->textblob) (8.0.4)\n",
      "Requirement already satisfied: joblib in e:\\software\\anaconda3\\lib\\site-packages (from nltk>=3.1->textblob) (1.2.0)\n",
      "Requirement already satisfied: regex>=2021.8.3 in e:\\software\\anaconda3\\lib\\site-packages (from nltk>=3.1->textblob) (2022.7.9)\n",
      "Requirement already satisfied: tqdm in e:\\software\\anaconda3\\lib\\site-packages (from nltk>=3.1->textblob) (4.65.0)\n",
      "Requirement already satisfied: colorama in e:\\software\\anaconda3\\lib\\site-packages (from click->nltk>=3.1->textblob) (0.4.6)\n",
      "Requirement already satisfied: backtrader in e:\\software\\anaconda3\\lib\\site-packages (1.9.78.123)\n"
     ]
    }
   ],
   "source": [
    "!pip install spacy\n",
    "!pip install nltk\n",
    "!pip install textblob\n",
    "\n",
    "!pip install backtrader"
   ]
  },
  {
   "cell_type": "markdown",
   "metadata": {
    "_cell_guid": "5d8fee34-f454-2642-8b06-ed719f0317e1"
   },
   "source": [
    "#### NLP libraries"
   ]
  },
  {
   "cell_type": "code",
   "execution_count": 4,
   "metadata": {
    "_cell_guid": "5d8fee34-f454-2642-8b06-ed719f0317e1"
   },
   "outputs": [
    {
     "name": "stderr",
     "output_type": "stream",
     "text": [
      "[nltk_data] Downloading package vader_lexicon to\n",
      "[nltk_data]     C:\\Users\\eke\\AppData\\Roaming\\nltk_data...\n",
      "[nltk_data]   Package vader_lexicon is already up-to-date!\n"
     ]
    }
   ],
   "source": [
    "from textblob import TextBlob\n",
    "\n",
    "import spacy\n",
    "\n",
    "import nltk\n",
    "from nltk.sentiment.vader import SentimentIntensityAnalyzer\n",
    "nltk.download(\"vader_lexicon\")\n",
    "\n",
    "import warnings\n",
    "\n",
    "import csv\n",
    "\n",
    "# https://spacy.io/usage/models"
   ]
  },
  {
   "cell_type": "code",
   "execution_count": 6,
   "metadata": {},
   "outputs": [
    {
     "name": "stderr",
     "output_type": "stream",
     "text": [
      "ERROR: To modify pip, please run the following command:\n",
      "E:\\software\\anaconda3\\python.exe -m pip install -U pip setuptools wheel\n"
     ]
    },
    {
     "name": "stdout",
     "output_type": "stream",
     "text": [
      "Requirement already satisfied: pip in e:\\software\\anaconda3\\lib\\site-packages (23.1.2)\n",
      "Collecting pip\n",
      "  Using cached pip-23.3.1-py3-none-any.whl (2.1 MB)\n",
      "Requirement already satisfied: setuptools in e:\\software\\anaconda3\\lib\\site-packages (67.8.0)\n",
      "Collecting setuptools\n",
      "  Using cached setuptools-68.2.2-py3-none-any.whl (807 kB)\n",
      "Requirement already satisfied: wheel in e:\\software\\anaconda3\\lib\\site-packages (0.38.4)\n",
      "Collecting wheel\n",
      "  Using cached wheel-0.41.3-py3-none-any.whl (65 kB)\n",
      "Requirement already satisfied: spacy in e:\\software\\anaconda3\\lib\\site-packages (3.7.2)\n",
      "Requirement already satisfied: spacy-legacy<3.1.0,>=3.0.11 in e:\\software\\anaconda3\\lib\\site-packages (from spacy) (3.0.12)\n",
      "Requirement already satisfied: spacy-loggers<2.0.0,>=1.0.0 in e:\\software\\anaconda3\\lib\\site-packages (from spacy) (1.0.5)\n",
      "Requirement already satisfied: murmurhash<1.1.0,>=0.28.0 in e:\\software\\anaconda3\\lib\\site-packages (from spacy) (1.0.10)\n",
      "Requirement already satisfied: cymem<2.1.0,>=2.0.2 in e:\\software\\anaconda3\\lib\\site-packages (from spacy) (2.0.8)\n",
      "Requirement already satisfied: preshed<3.1.0,>=3.0.2 in e:\\software\\anaconda3\\lib\\site-packages (from spacy) (3.0.9)\n",
      "Requirement already satisfied: thinc<8.3.0,>=8.1.8 in e:\\software\\anaconda3\\lib\\site-packages (from spacy) (8.2.1)\n",
      "Requirement already satisfied: wasabi<1.2.0,>=0.9.1 in e:\\software\\anaconda3\\lib\\site-packages (from spacy) (1.1.2)\n",
      "Requirement already satisfied: srsly<3.0.0,>=2.4.3 in e:\\software\\anaconda3\\lib\\site-packages (from spacy) (2.4.8)\n",
      "Requirement already satisfied: catalogue<2.1.0,>=2.0.6 in e:\\software\\anaconda3\\lib\\site-packages (from spacy) (2.0.10)\n",
      "Requirement already satisfied: weasel<0.4.0,>=0.1.0 in e:\\software\\anaconda3\\lib\\site-packages (from spacy) (0.3.4)\n",
      "Requirement already satisfied: typer<0.10.0,>=0.3.0 in e:\\software\\anaconda3\\lib\\site-packages (from spacy) (0.9.0)\n",
      "Requirement already satisfied: smart-open<7.0.0,>=5.2.1 in e:\\software\\anaconda3\\lib\\site-packages (from spacy) (5.2.1)\n",
      "Requirement already satisfied: tqdm<5.0.0,>=4.38.0 in e:\\software\\anaconda3\\lib\\site-packages (from spacy) (4.65.0)\n",
      "Requirement already satisfied: requests<3.0.0,>=2.13.0 in e:\\software\\anaconda3\\lib\\site-packages (from spacy) (2.31.0)\n",
      "Requirement already satisfied: pydantic!=1.8,!=1.8.1,<3.0.0,>=1.7.4 in e:\\software\\anaconda3\\lib\\site-packages (from spacy) (2.5.0)\n",
      "Requirement already satisfied: jinja2 in e:\\software\\anaconda3\\lib\\site-packages (from spacy) (3.1.2)\n",
      "Requirement already satisfied: setuptools in e:\\software\\anaconda3\\lib\\site-packages (from spacy) (67.8.0)\n",
      "Requirement already satisfied: packaging>=20.0 in e:\\software\\anaconda3\\lib\\site-packages (from spacy) (23.0)\n",
      "Requirement already satisfied: langcodes<4.0.0,>=3.2.0 in e:\\software\\anaconda3\\lib\\site-packages (from spacy) (3.3.0)\n",
      "Requirement already satisfied: numpy>=1.19.0 in e:\\software\\anaconda3\\lib\\site-packages (from spacy) (1.24.3)\n",
      "Requirement already satisfied: annotated-types>=0.4.0 in e:\\software\\anaconda3\\lib\\site-packages (from pydantic!=1.8,!=1.8.1,<3.0.0,>=1.7.4->spacy) (0.6.0)\n",
      "Requirement already satisfied: pydantic-core==2.14.1 in e:\\software\\anaconda3\\lib\\site-packages (from pydantic!=1.8,!=1.8.1,<3.0.0,>=1.7.4->spacy) (2.14.1)\n",
      "Requirement already satisfied: typing-extensions>=4.6.1 in e:\\software\\anaconda3\\lib\\site-packages (from pydantic!=1.8,!=1.8.1,<3.0.0,>=1.7.4->spacy) (4.6.3)\n",
      "Requirement already satisfied: charset-normalizer<4,>=2 in e:\\software\\anaconda3\\lib\\site-packages (from requests<3.0.0,>=2.13.0->spacy) (2.0.4)\n",
      "Requirement already satisfied: idna<4,>=2.5 in e:\\software\\anaconda3\\lib\\site-packages (from requests<3.0.0,>=2.13.0->spacy) (3.4)\n",
      "Requirement already satisfied: urllib3<3,>=1.21.1 in e:\\software\\anaconda3\\lib\\site-packages (from requests<3.0.0,>=2.13.0->spacy) (1.26.16)\n",
      "Requirement already satisfied: certifi>=2017.4.17 in e:\\software\\anaconda3\\lib\\site-packages (from requests<3.0.0,>=2.13.0->spacy) (2023.5.7)\n",
      "Requirement already satisfied: blis<0.8.0,>=0.7.8 in e:\\software\\anaconda3\\lib\\site-packages (from thinc<8.3.0,>=8.1.8->spacy) (0.7.11)\n",
      "Requirement already satisfied: confection<1.0.0,>=0.0.1 in e:\\software\\anaconda3\\lib\\site-packages (from thinc<8.3.0,>=8.1.8->spacy) (0.1.3)\n",
      "Requirement already satisfied: colorama in e:\\software\\anaconda3\\lib\\site-packages (from tqdm<5.0.0,>=4.38.0->spacy) (0.4.6)\n",
      "Requirement already satisfied: click<9.0.0,>=7.1.1 in e:\\software\\anaconda3\\lib\\site-packages (from typer<0.10.0,>=0.3.0->spacy) (8.0.4)\n",
      "Requirement already satisfied: cloudpathlib<0.17.0,>=0.7.0 in e:\\software\\anaconda3\\lib\\site-packages (from weasel<0.4.0,>=0.1.0->spacy) (0.16.0)\n",
      "Requirement already satisfied: MarkupSafe>=2.0 in e:\\software\\anaconda3\\lib\\site-packages (from jinja2->spacy) (2.1.1)\n",
      "^C\n"
     ]
    }
   ],
   "source": [
    "!pip install -U pip setuptools wheel\n",
    "!pip install -U spacy\n",
    "!python -m spacy download en_core_web_sm"
   ]
  },
  {
   "cell_type": "code",
   "execution_count": 5,
   "metadata": {
    "_cell_guid": "5d8fee34-f454-2642-8b06-ed719f0317e1"
   },
   "outputs": [],
   "source": [
    "import en_core_web_sm\n",
    "nlp = en_core_web_sm.load()"
   ]
  },
  {
   "cell_type": "markdown",
   "metadata": {
    "_cell_guid": "5d8fee34-f454-2642-8b06-ed719f0317e1"
   },
   "source": [
    "#### Libraries for processing news headlines"
   ]
  },
  {
   "cell_type": "code",
   "execution_count": 6,
   "metadata": {
    "_cell_guid": "5d8fee34-f454-2642-8b06-ed719f0317e1"
   },
   "outputs": [],
   "source": [
    "from lxml import etree\n",
    "\n",
    "import json\n",
    "\n",
    "from io import StringIO\n",
    "from os import listdir\n",
    "from os.path import isfile, join\n",
    "from copy import copy\n",
    "\n",
    "from pandas.tseries.offsets import BDay\n",
    "from scipy.stats.mstats import winsorize"
   ]
  },
  {
   "cell_type": "markdown",
   "metadata": {
    "_cell_guid": "5d8fee34-f454-2642-8b06-ed719f0317e1"
   },
   "source": [
    "#### Libraries for Classification for modeling the sentiments"
   ]
  },
  {
   "cell_type": "code",
   "execution_count": 7,
   "metadata": {
    "_cell_guid": "5d8fee34-f454-2642-8b06-ed719f0317e1"
   },
   "outputs": [],
   "source": [
    "from sklearn.neural_network import MLPClassifier\n",
    "from sklearn.ensemble import RandomForestClassifier\n",
    "from sklearn.linear_model import LogisticRegression\n",
    "from sklearn.tree import DecisionTreeClassifier\n",
    "from sklearn.neighbors import KNeighborsClassifier\n",
    "from sklearn.svm import SVC\n",
    "from sklearn.metrics import classification_report, confusion_matrix, accuracy_score"
   ]
  },
  {
   "cell_type": "markdown",
   "metadata": {},
   "source": [
    "### [NOTE: How to Install TensorFlow GPU for Mac M1/M2 with Conda--A Tutorial YouTube Video](https://www.youtube.com/watch?v=5DgWvU0p2bk)"
   ]
  },
  {
   "cell_type": "markdown",
   "metadata": {
    "_cell_guid": "5d8fee34-f454-2642-8b06-ed719f0317e1"
   },
   "source": [
    "#### Keras package for the deep learning model for the sentiment prediction. "
   ]
  },
  {
   "cell_type": "code",
   "execution_count": 10,
   "metadata": {},
   "outputs": [
    {
     "name": "stdout",
     "output_type": "stream",
     "text": [
      "Requirement already satisfied: keras in e:\\software\\anaconda3\\lib\\site-packages (2.15.0)\n"
     ]
    }
   ],
   "source": [
    "!pip install keras"
   ]
  },
  {
   "cell_type": "code",
   "execution_count": 8,
   "metadata": {
    "_cell_guid": "5d8fee34-f454-2642-8b06-ed719f0317e1",
    "scrolled": true
   },
   "outputs": [
    {
     "name": "stdout",
     "output_type": "stream",
     "text": [
      "WARNING:tensorflow:From E:\\software\\anaconda3\\Lib\\site-packages\\keras\\src\\losses.py:2976: The name tf.losses.sparse_softmax_cross_entropy is deprecated. Please use tf.compat.v1.losses.sparse_softmax_cross_entropy instead.\n",
      "\n"
     ]
    }
   ],
   "source": [
    "from keras.preprocessing.text import Tokenizer\n",
    "from keras.utils import pad_sequences\n",
    "\n",
    "from keras.models import Sequential\n",
    "from keras.layers import Dense, Flatten, LSTM, Dropout, Activation\n",
    "from keras.layers import Embedding"
   ]
  },
  {
   "cell_type": "markdown",
   "metadata": {
    "_cell_guid": "5d8fee34-f454-2642-8b06-ed719f0317e1"
   },
   "source": [
    "#### Some additional libraries"
   ]
  },
  {
   "cell_type": "code",
   "execution_count": 10,
   "metadata": {
    "_cell_guid": "5d8fee34-f454-2642-8b06-ed719f0317e1"
   },
   "outputs": [],
   "source": [
    "import statsmodels.api as sm\n",
    "import seaborn as sns\n",
    "import datetime\n",
    "from datetime import date\n",
    "\n",
    "import json  \n",
    "import zipfile\n",
    "import os.path\n",
    "import sys"
   ]
  },
  {
   "cell_type": "code",
   "execution_count": 11,
   "metadata": {},
   "outputs": [],
   "source": [
    "# Diable the warnings\n",
    "import warnings\n",
    "warnings.filterwarnings(\"ignore\")"
   ]
  },
  {
   "cell_type": "markdown",
   "metadata": {},
   "source": [
    "<a id=\"wrangle\"></a>\n",
    "\n",
    "### Data Import and Transformation"
   ]
  },
  {
   "cell_type": "markdown",
   "metadata": {},
   "source": [
    "#### Stock Data"
   ]
  },
  {
   "cell_type": "code",
   "execution_count": 12,
   "metadata": {},
   "outputs": [],
   "source": [
    "tickers = [\"AAPL\",\n",
    "           \"MSFT\",\n",
    "           \"AMZN\",\n",
    "           \"GOOG\",\n",
    "           \"META\",\n",
    "           \"WMT\",\n",
    "           \"JPM\",\n",
    "           \"TSLA\",\n",
    "           \"NFLX\",\n",
    "           \"ADBE\"]\n",
    "\n",
    "start = \"2010-01-01\"\n",
    "end = \"2018-12-31\""
   ]
  },
  {
   "cell_type": "code",
   "execution_count": 83,
   "metadata": {},
   "outputs": [
    {
     "data": {
      "text/html": [
       "<div>\n",
       "<style scoped>\n",
       "    .dataframe tbody tr th:only-of-type {\n",
       "        vertical-align: middle;\n",
       "    }\n",
       "\n",
       "    .dataframe tbody tr th {\n",
       "        vertical-align: top;\n",
       "    }\n",
       "\n",
       "    .dataframe thead th {\n",
       "        text-align: right;\n",
       "    }\n",
       "</style>\n",
       "<table border=\"1\" class=\"dataframe\">\n",
       "  <thead>\n",
       "    <tr style=\"text-align: right;\">\n",
       "      <th></th>\n",
       "      <th>Open</th>\n",
       "      <th>High</th>\n",
       "      <th>Low</th>\n",
       "      <th>Close</th>\n",
       "      <th>Volume</th>\n",
       "      <th>Dividends</th>\n",
       "      <th>Stock Splits</th>\n",
       "      <th>ticker</th>\n",
       "    </tr>\n",
       "    <tr>\n",
       "      <th>Date</th>\n",
       "      <th></th>\n",
       "      <th></th>\n",
       "      <th></th>\n",
       "      <th></th>\n",
       "      <th></th>\n",
       "      <th></th>\n",
       "      <th></th>\n",
       "      <th></th>\n",
       "    </tr>\n",
       "  </thead>\n",
       "  <tbody>\n",
       "    <tr>\n",
       "      <th>2010-01-04 00:00:00-05:00</th>\n",
       "      <td>6.461</td>\n",
       "      <td>6.494</td>\n",
       "      <td>6.430</td>\n",
       "      <td>6.479</td>\n",
       "      <td>493729600</td>\n",
       "      <td>0.000</td>\n",
       "      <td>0.000</td>\n",
       "      <td>AAPL</td>\n",
       "    </tr>\n",
       "    <tr>\n",
       "      <th>2010-01-05 00:00:00-05:00</th>\n",
       "      <td>6.497</td>\n",
       "      <td>6.527</td>\n",
       "      <td>6.456</td>\n",
       "      <td>6.490</td>\n",
       "      <td>601904800</td>\n",
       "      <td>0.000</td>\n",
       "      <td>0.000</td>\n",
       "      <td>AAPL</td>\n",
       "    </tr>\n",
       "    <tr>\n",
       "      <th>2010-01-06 00:00:00-05:00</th>\n",
       "      <td>6.490</td>\n",
       "      <td>6.516</td>\n",
       "      <td>6.380</td>\n",
       "      <td>6.387</td>\n",
       "      <td>552160000</td>\n",
       "      <td>0.000</td>\n",
       "      <td>0.000</td>\n",
       "      <td>AAPL</td>\n",
       "    </tr>\n",
       "    <tr>\n",
       "      <th>2010-01-07 00:00:00-05:00</th>\n",
       "      <td>6.411</td>\n",
       "      <td>6.418</td>\n",
       "      <td>6.329</td>\n",
       "      <td>6.375</td>\n",
       "      <td>477131200</td>\n",
       "      <td>0.000</td>\n",
       "      <td>0.000</td>\n",
       "      <td>AAPL</td>\n",
       "    </tr>\n",
       "    <tr>\n",
       "      <th>2010-01-08 00:00:00-05:00</th>\n",
       "      <td>6.367</td>\n",
       "      <td>6.418</td>\n",
       "      <td>6.329</td>\n",
       "      <td>6.418</td>\n",
       "      <td>447610800</td>\n",
       "      <td>0.000</td>\n",
       "      <td>0.000</td>\n",
       "      <td>AAPL</td>\n",
       "    </tr>\n",
       "    <tr>\n",
       "      <th>...</th>\n",
       "      <td>...</td>\n",
       "      <td>...</td>\n",
       "      <td>...</td>\n",
       "      <td>...</td>\n",
       "      <td>...</td>\n",
       "      <td>...</td>\n",
       "      <td>...</td>\n",
       "      <td>...</td>\n",
       "    </tr>\n",
       "    <tr>\n",
       "      <th>2018-12-21 00:00:00-05:00</th>\n",
       "      <td>219.550</td>\n",
       "      <td>222.260</td>\n",
       "      <td>207.370</td>\n",
       "      <td>208.800</td>\n",
       "      <td>8828100</td>\n",
       "      <td>0.000</td>\n",
       "      <td>0.000</td>\n",
       "      <td>ADBE</td>\n",
       "    </tr>\n",
       "    <tr>\n",
       "      <th>2018-12-24 00:00:00-05:00</th>\n",
       "      <td>206.900</td>\n",
       "      <td>212.580</td>\n",
       "      <td>204.950</td>\n",
       "      <td>205.160</td>\n",
       "      <td>2940500</td>\n",
       "      <td>0.000</td>\n",
       "      <td>0.000</td>\n",
       "      <td>ADBE</td>\n",
       "    </tr>\n",
       "    <tr>\n",
       "      <th>2018-12-26 00:00:00-05:00</th>\n",
       "      <td>206.530</td>\n",
       "      <td>222.960</td>\n",
       "      <td>206.250</td>\n",
       "      <td>222.950</td>\n",
       "      <td>5897900</td>\n",
       "      <td>0.000</td>\n",
       "      <td>0.000</td>\n",
       "      <td>ADBE</td>\n",
       "    </tr>\n",
       "    <tr>\n",
       "      <th>2018-12-27 00:00:00-05:00</th>\n",
       "      <td>219.990</td>\n",
       "      <td>225.170</td>\n",
       "      <td>214.160</td>\n",
       "      <td>225.140</td>\n",
       "      <td>3931100</td>\n",
       "      <td>0.000</td>\n",
       "      <td>0.000</td>\n",
       "      <td>ADBE</td>\n",
       "    </tr>\n",
       "    <tr>\n",
       "      <th>2018-12-28 00:00:00-05:00</th>\n",
       "      <td>227.580</td>\n",
       "      <td>228.110</td>\n",
       "      <td>220.870</td>\n",
       "      <td>223.130</td>\n",
       "      <td>3160200</td>\n",
       "      <td>0.000</td>\n",
       "      <td>0.000</td>\n",
       "      <td>ADBE</td>\n",
       "    </tr>\n",
       "  </tbody>\n",
       "</table>\n",
       "<p>21909 rows × 8 columns</p>\n",
       "</div>"
      ],
      "text/plain": [
       "                             Open    High     Low   Close     Volume  \\\n",
       "Date                                                                   \n",
       "2010-01-04 00:00:00-05:00   6.461   6.494   6.430   6.479  493729600   \n",
       "2010-01-05 00:00:00-05:00   6.497   6.527   6.456   6.490  601904800   \n",
       "2010-01-06 00:00:00-05:00   6.490   6.516   6.380   6.387  552160000   \n",
       "2010-01-07 00:00:00-05:00   6.411   6.418   6.329   6.375  477131200   \n",
       "2010-01-08 00:00:00-05:00   6.367   6.418   6.329   6.418  447610800   \n",
       "...                           ...     ...     ...     ...        ...   \n",
       "2018-12-21 00:00:00-05:00 219.550 222.260 207.370 208.800    8828100   \n",
       "2018-12-24 00:00:00-05:00 206.900 212.580 204.950 205.160    2940500   \n",
       "2018-12-26 00:00:00-05:00 206.530 222.960 206.250 222.950    5897900   \n",
       "2018-12-27 00:00:00-05:00 219.990 225.170 214.160 225.140    3931100   \n",
       "2018-12-28 00:00:00-05:00 227.580 228.110 220.870 223.130    3160200   \n",
       "\n",
       "                           Dividends  Stock Splits ticker  \n",
       "Date                                                       \n",
       "2010-01-04 00:00:00-05:00      0.000         0.000   AAPL  \n",
       "2010-01-05 00:00:00-05:00      0.000         0.000   AAPL  \n",
       "2010-01-06 00:00:00-05:00      0.000         0.000   AAPL  \n",
       "2010-01-07 00:00:00-05:00      0.000         0.000   AAPL  \n",
       "2010-01-08 00:00:00-05:00      0.000         0.000   AAPL  \n",
       "...                              ...           ...    ...  \n",
       "2018-12-21 00:00:00-05:00      0.000         0.000   ADBE  \n",
       "2018-12-24 00:00:00-05:00      0.000         0.000   ADBE  \n",
       "2018-12-26 00:00:00-05:00      0.000         0.000   ADBE  \n",
       "2018-12-27 00:00:00-05:00      0.000         0.000   ADBE  \n",
       "2018-12-28 00:00:00-05:00      0.000         0.000   ADBE  \n",
       "\n",
       "[21909 rows x 8 columns]"
      ]
     },
     "execution_count": 83,
     "metadata": {},
     "output_type": "execute_result"
    }
   ],
   "source": [
    "DF_stock_return = pd.DataFrame()\n",
    "\n",
    "for ticker in tickers:\n",
    "    ticker_YF = yf.Ticker(ticker)\n",
    "    \n",
    "    if DF_stock_return.empty:\n",
    "        DF_stock_return = ticker_YF.history(start = start,\n",
    "                                            end = end)\n",
    "        DF_stock_return[\"ticker\"] = ticker\n",
    "\n",
    "    else:\n",
    "        temporary_data = ticker_YF.history(start = start,\n",
    "                                           end = end)\n",
    "        temporary_data[\"ticker\"] = ticker\n",
    "        DF_stock_return = pd.concat([DF_stock_return, \n",
    "                                     temporary_data]\n",
    "                                   )\n",
    "\n",
    "DF_stock_return"
   ]
  },
  {
   "cell_type": "code",
   "execution_count": 15,
   "metadata": {},
   "outputs": [],
   "source": [
    "DF_stock_return.to_csv(\"stocks.csv\")"
   ]
  },
  {
   "cell_type": "markdown",
   "metadata": {},
   "source": [
    "> The next step of data preparation is comprised of the following two overarching steps:\n",
    "\n",
    "* Loading and pre-processing the news data\n",
    "\n",
    "* Preparing the combined data\n"
   ]
  },
  {
   "cell_type": "markdown",
   "metadata": {},
   "source": [
    "#### Processing News Data"
   ]
  },
  {
   "cell_type": "markdown",
   "metadata": {},
   "source": [
    "> The news data is downloaded from the news RSS feed, the file is downloaded in JSON format, and the JSON files for different dates are kept in a zipped folder. Let us look at the contents of the JSON file."
   ]
  },
  {
   "cell_type": "code",
   "execution_count": 27,
   "metadata": {},
   "outputs": [
    {
     "data": {
      "text/plain": [
       "'<li class=\"n-box-item date-title\" data-end=\"1305172799\" data-start=\"1305086400\" data-txt=\"Tuesday, December 17, 2019\">Wednesday, May 11, 2011</li><li class=\"n-box-item sa-box-item\" data-id=\"76179\" data-ts=\"1305149244\"><div class=\"media media-overflow-fix\"><div class=\"media-left\"><a class=\"box-ticker\" href=\"/symbol/CSCO\" target=\"_blank\">CSCO</a></div><div class=\"media-body\"><h4 class=\"media-heading\"><a href=\"/news/76179\" sasource=\"on_the_move_news_fidelity\" target=\"_blank\">Cisco (NASDAQ:CSCO): Previous annual sales growth guidance of 12-17% is &quot;off the table.&quot;</a></h4><p>Cisco (NASDAQ:<a href=\"https://seekingalpha.com/symbol/CSCO\" title=\"Cisco Systems, Inc.\">CSCO</a>): Previous annual sales growth guidance of 12-17% is \"off the table.\" </p><div class=\"tiny-share-widget\" data-id=\"76179\" data-linked=\"Cisco (NASDAQ:CSCO): Previous annual sales growth guidance of 12-17% is &quot;off the table.&quot; \" data-tweet=\"$CSCO - Cisco (NASDAQ:CSCO): Previous annual sales growth guidance of 12-17% is &quot;off the table.&quot; https://seekingalpha.com/news/76179?source=tweet\" data-url=\"https://seekingalpha.com/news/76179\"><div class=\"icon share-btn c-email\" title=\"Email a friend\">&nbsp;</div><div class=\"icon share-btn c-twitter\" title=\"Share on Twitter\">&nbsp;</div><div class=\"icon share-btn c-facebook\" title=\"Share on Facebook\">&nbsp;</div><div class=\"icon share-btn c-linkedin\" title=\"Share on Linkedin\">&nbsp;</div></div><span class=\"mc_gray_separator\">|</span>  5:27 PM <span class=\\'mc_gray_separator\\'>|</span> <span class=\\'comments-n\\'><span class=\\'comments-container \\'>4&nbsp;<span class=\\'comments-number\\'>Comments</span></span></span></div></div></li><li class=\"n-box-item sa-box-item\" data-id=\"76177\" data-ts=\"1305148359\"><div class=\"media media-overflow-fix\"><div class=\"media-left\"><a class=\"box-ticker\" href=\"/symbol/CSCO\" target=\"_blank\">CSCO</a></div><div class=\"media-body\"><h4 class=\"media-heading\"><a href=\"/news/76177\" sasource=\"on_the_move_news_fidelity\" target=\"_blank\">Cisco Systems (NASDAQ:CSCO) falls further into the red on FQ4 guidance of $0.37-0.39 vs. $0.42...</a></h4> Cisco Systems (NASDAQ:<a href=\\'https://seekingalpha.com/symbol/CSCO\\' title=\\'Cisco Systems, Inc.\\'>CSCO</a>) falls further into the red on FQ4 guidance of $0.37-0.39 vs. $0.42 Street consensus. Sales seen flat to +2% vs. 8% Street view. CSCO recently <font color=\"red\">-2.1%</font>. <div class=\"tiny-share-widget\" data-id=\"76177\" data-linked=\"Cisco Systems (NASDAQ:CSCO) falls further into the red on FQ4 guidance of $0.37-0.39 vs. $0.42...\" data-tweet=\"$CSCO - Cisco Systems (NASDAQ:CSCO) falls further into the red on FQ4 guidance of $0.37-0.39 vs. $0.42 Street consensus. Sales seen flat to +2% vs. 8% Street view. CSCO recently -2.1%. https://seekingalpha.com/news/76177?source=tweet\" data-url=\"https://seekingalpha.com/news/76177\"><div class=\"icon share-btn c-email\" title=\"Email a friend\">&nbsp;</div><div class=\"icon share-btn c-twitter\" title=\"Share on Twitter\">&nbsp;</div><div class=\"icon share-btn c-facebook\" title=\"Share on Facebook\">&nbsp;</div><div class=\"icon share-btn c-linkedin\" title=\"Share on Linkedin\">&nbsp;</div></div><span class=\"mc_gray_separator\">|</span>  5:12 PM <span class=\\'mc_gray_separator\\'>|</span> <span class=\\'comments-n\\'><span class=\\'comments-container \\'>1&nbsp;<span class=\\'comments-number\\'>Comment</span></span></span></div></div></li><li class=\"n-box-item sa-box-item\" data-id=\"76161\" data-ts=\"1305142075\"><div class=\"media media-overflow-fix\"><div class=\"media-left\"><a class=\"box-ticker\" href=\"/symbol/JNJ\" target=\"_blank\">JNJ</a></div><div class=\"media-body\"><h4 class=\"media-heading\"><a href=\"/news/76161\" sasource=\"on_the_move_news_fidelity\" target=\"_blank\">Despite the latest reminder of Johnson &amp;amp;&amp;nbsp;Johnson&#39;s (JNJ +1%) recall troubles, shares...</a></h4><p>Despite the <a target=\"_blank\" href=\"http://www.reuters.com/article/2011/05/11/us-jj-fungicide-idUSTRE74A5U120110511\">latest reminder</a> of Johnson &amp;\\xa0Johnson\\'s (<a href=\"https://seekingalpha.com/symbol/JNJ\" title=\"Johnson &amp; Johnson\">JNJ</a> <font color=\"green\">+1%</font>) recall troubles, shares hold gains sparked by Goldman\\xa0Sachs\\' <a target=\"_blank\" href=\"http://blogs.barrons.com/stockstowatchtoday/2011/05/11/more-love-for-jjs-exciting-drug-pipeline-goldman-upgrades-shares/\">upgrade</a>. JNJ “may be on the cusp of an accelerating earnings trajectory, driven by an emerging new product cycle in Pharma, signs of stabilization in Medical devices and diagnostics, and a bottoming out in Consumer,\"\\xa0Goldman says. </p><div class=\"tiny-share-widget\" data-id=\"76161\" data-linked=\"Despite the latest reminder of Johnson &amp;amp;\\xa0Johnson&#39;s (JNJ +1%) recall troubles, shares hold...\" data-tweet=\"$JNJ - Despite the latest reminder of Johnson &amp;\\xa0Johnson&#39;s (JNJ +1%) recall troubles, shares hold gains sparked by Goldman\\xa0Sachs&#39; upgrade. JNJ “may be on the cusp of an accelerating earnings trajectory, driven by an emerging new product cycle in Pharma, ... https://seekingalpha.com/news/76161?source=tweet\" data-url=\"https://seekingalpha.com/news/76161\"><div class=\"icon share-btn c-email\" title=\"Email a friend\">&nbsp;</div><div class=\"icon share-btn c-twitter\" title=\"Share on Twitter\">&nbsp;</div><div class=\"icon share-btn c-facebook\" title=\"Share on Facebook\">&nbsp;</div><div class=\"icon share-btn c-linkedin\" title=\"Share on Linkedin\">&nbsp;</div></div><span class=\"mc_gray_separator\">|</span>  3:27 PM <span class=\\'mc_gray_separator\\'>|</span> <span class=\\'comments-n\\'><span class=\\'comments-container \\'>2&nbsp;<span class=\\'comments-number\\'>Comments</span></span></span></div></div></li><li class=\"n-box-item sa-box-item\" data-id=\"76146\" data-ts=\"1305136449\"><div class=\"media media-overflow-fix\"><div class=\"media-left\"><a class=\"box-ticker\" href=\"/symbol/GCOM\" target=\"_blank\">GCOM</a></div><div class=\"media-body\"><h4 class=\"media-heading\"><a href=\"/news/76146\" sasource=\"on_the_move_news_fidelity\" target=\"_blank\">Shares of Globecomm Systems (GCOM +10.3%) surge after news that the satellite-based...</a></h4> Shares of Globecomm Systems (<a href=\\'https://seekingalpha.com/symbol/GCOM\\' title=\\'Globecomm Systems Inc.\\'>GCOM</a> <font color=\"green\">+10.3%</font>) surge after news that the satellite-based communications company has hired JPMorgan as a financial advisor, a move that <a target=\"_blank\" href=\"http://noir.bloomberg.com/apps/news?pid=newsarchive&amp;sid=agGvZNuq7znQ\">could lead to a sale of the company.</a> A potential deal could value the company at $22/share, according to Deal Reporter. <div class=\"tiny-share-widget\" data-id=\"76146\" data-linked=\"Shares of Globecomm Systems (GCOM +10.3%) surge after news that the satellite-based...\" data-tweet=\"$GCOM - Shares of Globecomm Systems (GCOM +10.3%) surge after news that the satellite-based communications company has hired JPMorgan as a financial advisor, a move that could lead to a sale of the company. A potential deal could value the company at $2... https://seekingalpha.com/news/76146?source=tweet\" data-url=\"https://seekingalpha.com/news/76146\"><div class=\"icon share-btn c-email\" title=\"Email a friend\">&nbsp;</div><div class=\"icon share-btn c-twitter\" title=\"Share on Twitter\">&nbsp;</div><div class=\"icon share-btn c-facebook\" title=\"Share on Facebook\">&nbsp;</div><div class=\"icon share-btn c-linkedin\" title=\"Share on Linkedin\">&nbsp;</div></div><span class=\"mc_gray_separator\">|</span>  1:54 PM </div></div></li><li class=\"n-box-item sa-box-item\" data-id=\"76141\" data-ts=\"1305134493\"><div class=\"media media-overflow-fix\"><div class=\"media-left\"><a class=\"box-ticker\" href=\"/symbol/AABA\" target=\"_blank\">AABA</a></div><div class=\"media-body\"><h4 class=\"media-heading\"><a href=\"/news/76141\" sasource=\"on_the_move_news_fidelity\" target=\"_blank\">Gene Munster, a 5-star Yahoo (YHOO -7.2%) analyst, says to buy the dip. Munster thinks Yahoo...</a></h4><p>Gene Munster, a <a target=\"_blank\" href=\"http://finance.yahoo.com/q/sa?s=yhoo\">5-star</a> Yahoo (YHOO <font color=\"red\">-7.2%</font>) analyst, <a target=\"_blank\" href=\"http://goo.gl/k3JMv\">says to buy the dip</a>. Munster thinks Yahoo should receive appropriate compensation for its Alipay stake if the unit <a target=\"_blank\" href=\"https://seekingalpha.com/currents/post/76130\">is spun-off from Alibaba</a>. </p><div class=\"tiny-share-widget\" data-id=\"76141\" data-linked=\"Gene Munster, a 5-star Yahoo (YHOO -7.2%) analyst, says to buy the dip. Munster thinks Yahoo...\" data-tweet=\"$AABA - Gene Munster, a 5-star Yahoo (YHOO -7.2%) analyst, says to buy the dip. Munster thinks Yahoo should receive appropriate compensation for its Alipay stake if the unit is spun-off from Alibaba. https://seekingalpha.com/news/76141?source=tweet\" data-url=\"https://seekingalpha.com/news/76141\"><div class=\"icon share-btn c-email\" title=\"Email a friend\">&nbsp;</div><div class=\"icon share-btn c-twitter\" title=\"Share on Twitter\">&nbsp;</div><div class=\"icon share-btn c-facebook\" title=\"Share on Facebook\">&nbsp;</div><div class=\"icon share-btn c-linkedin\" title=\"Share on Linkedin\">&nbsp;</div></div><span class=\"mc_gray_separator\">|</span>  1:21 PM <span class=\\'mc_gray_separator\\'>|</span> <span class=\\'comments-n\\'><span class=\\'comments-container \\'>1&nbsp;<span class=\\'comments-number\\'>Comment</span></span></span></div></div></li><li class=\"n-box-item sa-box-item\" data-id=\"76134\" data-ts=\"1305132086\"><div class=\"media media-overflow-fix\"><div class=\"media-left\"><a class=\"box-ticker\" href=\"/symbol/\" target=\"_blank\"></a></div><div class=\"media-body\"><h4 class=\"media-heading\"><a href=\"/news/76134\" sasource=\"on_the_move_news_fidelity\" target=\"_blank\">Silver now -8% to $35.40, taking it right back into last week&#39;s selloff territory after Monday...</a></h4> Silver now <font color=\"red\">-8%</font> to $35.40, taking it right back into last week\\'s selloff territory after Monday and Tuesday\\'s bounce. Key support, <a target=\"_blank\" href=\"https://seekingalpha.com/article/269280-trying-to-spot-the-trend-in-silver\">in the $23.50-26.50 range</a>, is still a ways off. <div class=\"tiny-share-widget\" data-id=\"76134\" data-linked=\"Silver now -8% to $35.40, taking it right back into last week&#39;s selloff territory after Monday...\" data-tweet=\"$SLV $SIVR $DBS - Silver now -8% to $35.40, taking it right back into last week&#39;s selloff territory after Monday and Tuesday&#39;s bounce. Key support, in the $23.50-26.50 range, is still a ways off. https://seekingalpha.com/news/76134?source=tweet\" data-url=\"https://seekingalpha.com/news/76134\"><div class=\"icon share-btn c-email\" title=\"Email a friend\">&nbsp;</div><div class=\"icon share-btn c-twitter\" title=\"Share on Twitter\">&nbsp;</div><div class=\"icon share-btn c-facebook\" title=\"Share on Facebook\">&nbsp;</div><div class=\"icon share-btn c-linkedin\" title=\"Share on Linkedin\">&nbsp;</div></div><span class=\"mc_gray_separator\">|</span> 12:41 PM <span class=\\'mc_gray_separator\\'>|</span> <span class=\\'comments-n\\'><span class=\\'comments-container \\'>1&nbsp;<span class=\\'comments-number\\'>Comment</span></span></span></div></div></li><li class=\"n-box-item sa-box-item\" data-id=\"76132\" data-ts=\"1305131228\"><div class=\"media media-overflow-fix\"><div class=\"media-left\"><a class=\"box-ticker\" href=\"/symbol/XOM\" target=\"_blank\">XOM</a></div><div class=\"media-body\"><h4 class=\"media-heading\"><a href=\"/news/76132\" sasource=\"on_the_move_news_fidelity\" target=\"_blank\">Energy&#39;s swan dive is leading indexes lower (S&amp;amp;P 500 -1.2% to 1,340; Dow -1.2%; Nasdaq...</a></h4> Energy\\'s swan dive is leading indexes lower (S&amp;P 500 <font color=\"red\">-1.2%</font> to 1,340; Dow <font color=\"red\">-1.2%</font>; Nasdaq <font color=\"red\">-1.1%</font>). In dollar volume, it\\'s about big oil: <a href=\\'https://seekingalpha.com/symbol/XOM\\' title=\\'Exxon Mobil Corporation\\'>XOM</a> <font color=\"red\">-2.4%</font>, <a href=\\'https://seekingalpha.com/symbol/CVX\\' title=\\'Chevron Corporation\\'>CVX</a> <font color=\"red\">-2.8%</font>, <a href=\\'https://seekingalpha.com/symbol/COP\\' title=\\'ConocoPhillips\\'>COP</a> <font color=\"red\">-3.2%</font>, <a href=\\'https://seekingalpha.com/symbol/PBR\\' title=\\'Petrobras - Petroleo Brasileiro S.A.\\'>PBR</a> <font color=\"red\">-2.6%</font>. <div class=\"tiny-share-widget\" data-id=\"76132\" data-linked=\"Energy&#39;s swan dive is leading indexes lower (S&amp;amp;P 500 -1.2% to 1,340; Dow -1.2%; Nasdaq...\" data-tweet=\"$XOM $XOM $CVX - Energy&#39;s swan dive is leading indexes lower (S&amp;P 500 -1.2% to 1,340; Dow -1.2%; Nasdaq -1.1%). In dollar volume, it&#39;s about big oil: XOM -2.4%, CVX -2.8%, COP -3.2%, PBR -2.6%. https://seekingalpha.com/news/76132?source=tweet\" data-url=\"https://seekingalpha.com/news/76132\"><div class=\"icon share-btn c-email\" title=\"Email a friend\">&nbsp;</div><div class=\"icon share-btn c-twitter\" title=\"Share on Twitter\">&nbsp;</div><div class=\"icon share-btn c-facebook\" title=\"Share on Facebook\">&nbsp;</div><div class=\"icon share-btn c-linkedin\" title=\"Share on Linkedin\">&nbsp;</div></div><span class=\"mc_gray_separator\">|</span> 12:27 PM </div></div></li><li class=\"n-box-item sa-box-item\" data-id=\"76130\" data-ts=\"1305130408\"><div class=\"media media-overflow-fix\"><div class=\"media-left\"><a class=\"box-ticker\" href=\"/symbol/AABA\" target=\"_blank\">AABA</a></div><div class=\"media-body\"><h4 class=\"media-heading\"><a href=\"/news/76130\" sasource=\"on_the_move_news_fidelity\" target=\"_blank\">Yahoo (YHOO -5.7%) is the S&amp;amp;P 500&#39;s laggard after disclosing that it&#39;s transferred control...</a></h4> Yahoo (YHOO <font color=\"red\">-5.7%</font>) is the S&amp;P 500\\'s laggard after disclosing that it\\'s <a target=\"_blank\" href=\"http://blogs.forbes.com/ericsavitz/2011/05/11/yahoo-discloses-jack-ma-takes-control-of-alipay-from-alibaba/\" target=\"_blank\">transferred control of payments firm Alipay</a> to Alibaba (<a href=\\'https://seekingalpha.com/symbol/ALBCF\\' title=\\'Alibaba.Com Limited\\'>OTC:ALBCF</a>) chief Jack Ma - though terms of the company\\'s restructuring still seem to be under negotiation. Yahoo has a 43% stake in Alipay. (<a target=\"_blank\" href=\"http://sec.gov/Archives/edgar/data/1011006/000119312511134295/d10q.htm\" target=\"_blank\">10-Q</a>) <div class=\"tiny-share-widget\" data-id=\"76130\" data-linked=\"Yahoo (YHOO -5.7%) is the S&amp;amp;P 500&#39;s laggard after disclosing that it&#39;s transferred control...\" data-tweet=\"$AABA $AABA $ALBCF - Yahoo (YHOO -5.7%) is the S&amp;P 500&#39;s laggard after disclosing that it&#39;s transferred control of payments firm Alipay to Alibaba (OTC:ALBCF) chief Jack Ma - though terms of the company&#39;s restructuring still seem to be under negotiation... https://seekingalpha.com/news/76130?source=tweet\" data-url=\"https://seekingalpha.com/news/76130\"><div class=\"icon share-btn c-email\" title=\"Email a friend\">&nbsp;</div><div class=\"icon share-btn c-twitter\" title=\"Share on Twitter\">&nbsp;</div><div class=\"icon share-btn c-facebook\" title=\"Share on Facebook\">&nbsp;</div><div class=\"icon share-btn c-linkedin\" title=\"Share on Linkedin\">&nbsp;</div></div><span class=\"mc_gray_separator\">|</span> 12:13 PM </div></div></li><li class=\"n-box-item sa-box-item\" data-id=\"76123\" data-ts=\"1305126643\"><div class=\"media media-overflow-fix\"><div class=\"media-left\"><a class=\"box-ticker\" href=\"/symbol/ROVI\" target=\"_blank\">ROVI</a></div><div class=\"media-body\"><h4 class=\"media-heading\"><a href=\"/news/76123\" sasource=\"on_the_move_news_fidelity\" target=\"_blank\">Rovi (NASDAQ:ROVI) - provider of data for interactive TV guides and entertainment services - up...</a></h4><p>Rovi (NASDAQ:<a href=\"https://seekingalpha.com/symbol/ROVI\" title=\"Rovi Corporation\">ROVI</a>) - provider of data for interactive TV guides and entertainment services - <font color=\"green\">up 20.5%</font> after its $0.61 EPS <a target=\"_blank\" href=\"http://www.reuters.com/article/2011/05/10/rovi-idUSL3E7GA3QB20110510\">beat expectations</a>, and it raised full-year per-share guidance to $2.25-$2.55. </p><div class=\"tiny-share-widget\" data-id=\"76123\" data-linked=\"Rovi (NASDAQ:ROVI) - provider of data for interactive TV guides and entertainment services - up...\" data-tweet=\"$ROVI - Rovi (NASDAQ:ROVI) - provider of data for interactive TV guides and entertainment services - up 20.5% after its $0.61 EPS beat expectations, and it raised full-year per-share guidance to $2.25-$2.55. https://seekingalpha.com/news/76123?source=tweet\" data-url=\"https://seekingalpha.com/news/76123\"><div class=\"icon share-btn c-email\" title=\"Email a friend\">&nbsp;</div><div class=\"icon share-btn c-twitter\" title=\"Share on Twitter\">&nbsp;</div><div class=\"icon share-btn c-facebook\" title=\"Share on Facebook\">&nbsp;</div><div class=\"icon share-btn c-linkedin\" title=\"Share on Linkedin\">&nbsp;</div></div><span class=\"mc_gray_separator\">|</span> 11:10 AM </div></div></li><li class=\"n-box-item sa-box-item\" data-id=\"76120\" data-ts=\"1305125605\"><div class=\"media media-overflow-fix\"><div class=\"media-left\"><a class=\"box-ticker\" href=\"/symbol/MOS\" target=\"_blank\">MOS</a></div><div class=\"media-body\"><h4 class=\"media-heading\"><a href=\"/news/76120\" sasource=\"on_the_move_news_fidelity\" target=\"_blank\">At a special meeting, Mosaic (MOS -2.3%) shareholders approve its split from privately held...</a></h4><p>At a special meeting, Mosaic (<a href=\"https://seekingalpha.com/symbol/MOS\" title=\"The Mosaic Company\">MOS</a> <font color=\"red\">-2.3%</font>) shareholders approve its split from privately held giant Cargill, which has a 64% interest in Mosaic it will distribute in <a target=\"_blank\" href=\"https://seekingalpha.com/currents/post/66104\">deals totaling $24B-plus</a>. The transactions will close by the end of May. </p><div class=\"tiny-share-widget\" data-id=\"76120\" data-linked=\"At a special meeting, Mosaic (MOS -2.3%) shareholders approve its split from privately held...\" data-tweet=\"$MOS - At a special meeting, Mosaic (MOS -2.3%) shareholders approve its split from privately held giant Cargill, which has a 64% interest in Mosaic it will distribute in deals totaling $24B-plus. The transactions will close by the end of May. https://seekingalpha.com/news/76120?source=tweet\" data-url=\"https://seekingalpha.com/news/76120\"><div class=\"icon share-btn c-email\" title=\"Email a friend\">&nbsp;</div><div class=\"icon share-btn c-twitter\" title=\"Share on Twitter\">&nbsp;</div><div class=\"icon share-btn c-facebook\" title=\"Share on Facebook\">&nbsp;</div><div class=\"icon share-btn c-linkedin\" title=\"Share on Linkedin\">&nbsp;</div></div><span class=\"mc_gray_separator\">|</span> 10:53 AM <span class=\\'mc_gray_separator\\'>|</span> <span class=\\'comments-n\\'><span class=\\'comments-container \\'>3&nbsp;<span class=\\'comments-number\\'>Comments</span></span></span></div></div></li><li class=\"n-box-item sa-box-item\" data-id=\"76100\" data-ts=\"1305118816\"><div class=\"media media-overflow-fix\"><div class=\"media-left\"><a class=\"box-ticker\" href=\"/symbol/ROVI\" target=\"_blank\">ROVI</a></div><div class=\"media-body\"><h4 class=\"media-heading\"><a href=\"/news/76100\" sasource=\"on_the_move_news_fidelity\" target=\"_blank\">Premarket gainers: ROVI +14%. M +8%. ZAGG +5%. LVLT +4%. MKND +3%. AU +3%.Losers: HEV -18%. STEC...</a></h4><p>Premarket gainers: <a href=\"https://seekingalpha.com/symbol/ROVI\" title=\"Rovi Corporation\">ROVI</a> <font color=\"green\">+14%</font>. <a href=\"https://seekingalpha.com/symbol/M\" title=\"Macy\\'s Inc.\">M</a> <font color=\"green\">+8%</font>. <a href=\"https://seekingalpha.com/symbol/ZAGG\" title=\"ZAGG Inc\">ZAGG</a> <font color=\"green\">+5%</font>. <a href=\"https://seekingalpha.com/symbol/LVLT\" title=\"Level 3 Communications, Inc.\">LVLT</a> <font color=\"green\">+4%</font>. MKND <font color=\"green\">+3%</font>. <a href=\"https://seekingalpha.com/symbol/AU\" title=\"AngloGold Ashanti Limited\">AU</a> <font color=\"green\">+3%</font>.<br>Losers: <a href=\"https://seekingalpha.com/symbol/HEV\" title=\"Ener1 Inc\">HEV</a> <font color=\"red\">-18%</font>. <a href=\"https://seekingalpha.com/symbol/STEC\" title=\"STEC, Inc.\">STEC</a> <font color=\"red\">-13%</font>. OPWV <font color=\"red\">-8%</font>. <a href=\"https://seekingalpha.com/symbol/AYR\" title=\"Aircastle Limited\">AYR</a> <font color=\"red\">-7%</font>. <a href=\"https://seekingalpha.com/symbol/STWD\" title=\"Starwood Property Trust, Inc.\">STWD</a> <font color=\"red\">-4%</font>. <a href=\"https://seekingalpha.com/symbol/DIS\" title=\"The Walt Disney Company\">DIS</a> <font color=\"red\">-4%</font>. MCP <font color=\"red\">-4%</font>. <a href=\"https://seekingalpha.com/symbol/MT\" title=\"ArcelorMittal\">MT</a> <font color=\"red\">-3%</font>. <a href=\"https://seekingalpha.com/symbol/ASML\" title=\"ASML Holding N.V.\">ASML</a> <font color=\"red\">-3%</font>. CIGX <font color=\"red\">-3%</font>. </p><div class=\"tiny-share-widget\" data-id=\"76100\" data-linked=\"Premarket gainers: ROVI +14%. M +8%. ZAGG +5%. LVLT +4%. MKND +3%. AU +3%.Losers: HEV -18%. STEC...\" data-tweet=\"$ROVI $ROVI $M - Premarket gainers: ROVI +14%. M +8%. ZAGG +5%. LVLT +4%. MKND +3%. AU +3%.Losers: HEV -18%. STEC -13%. OPWV -8%. AYR -7%. STWD -4%. DIS -4%. MCP -4%. MT -3%. ASML -3%. CIGX -3%. https://seekingalpha.com/news/76100?source=tweet\" data-url=\"https://seekingalpha.com/news/76100\"><div class=\"icon share-btn c-email\" title=\"Email a friend\">&nbsp;</div><div class=\"icon share-btn c-twitter\" title=\"Share on Twitter\">&nbsp;</div><div class=\"icon share-btn c-facebook\" title=\"Share on Facebook\">&nbsp;</div><div class=\"icon share-btn c-linkedin\" title=\"Share on Linkedin\">&nbsp;</div></div><span class=\"mc_gray_separator\">|</span>  9:00 AM </div></div></li><li class=\"n-box-item sa-box-item\" data-id=\"76099\" data-ts=\"1305118237\"><div class=\"media media-overflow-fix\"><div class=\"media-left\"><a class=\"box-ticker\" href=\"/symbol/HALO\" target=\"_blank\">HALO</a></div><div class=\"media-body\"><h4 class=\"media-heading\"><a href=\"/news/76099\" sasource=\"on_the_move_news_fidelity\" target=\"_blank\">Halozyme Therapeutics (NASDAQ:HALO) +5% premarket after announcing an $83M global licensing...</a></h4><p>Halozyme Therapeutics (NASDAQ:<a href=\"https://seekingalpha.com/symbol/HALO\" title=\"Halozyme Therapeutics, Inc.\">HALO</a>) <font color=\"green\">+5%</font> premarket after announcing an $83M global licensing agreement with ViroPharma (<a href=\"https://seekingalpha.com/symbol/VPHM\" title=\"\">VPHM</a>) to develop subcutaneous cinryze. (PR) </p><div class=\"tiny-share-widget\" data-id=\"76099\" data-linked=\"Halozyme Therapeutics (NASDAQ:HALO) +5% premarket after announcing an $83M global licensing...\" data-tweet=\"$HALO $HALO $SHPG - Halozyme Therapeutics (NASDAQ:HALO) +5% premarket after announcing an $83M global licensing agreement with ViroPharma (VPHM) to develop subcutaneous cinryze. (PR) https://seekingalpha.com/news/76099?source=tweet\" data-url=\"https://seekingalpha.com/news/76099\"><div class=\"icon share-btn c-email\" title=\"Email a friend\">&nbsp;</div><div class=\"icon share-btn c-twitter\" title=\"Share on Twitter\">&nbsp;</div><div class=\"icon share-btn c-facebook\" title=\"Share on Facebook\">&nbsp;</div><div class=\"icon share-btn c-linkedin\" title=\"Share on Linkedin\">&nbsp;</div></div><span class=\"mc_gray_separator\">|</span>  8:50 AM </div></div></li><li class=\"n-box-item sa-box-item\" data-id=\"76095\" data-ts=\"1305116570\"><div class=\"media media-overflow-fix\"><div class=\"media-left\"><a class=\"box-ticker\" href=\"/symbol/M\" target=\"_blank\">M</a></div><div class=\"media-body\"><h4 class=\"media-heading\"><a href=\"/news/76095\" sasource=\"on_the_move_news_fidelity\" target=\"_blank\">More on Macy&#39;s (NYSE:M) earnings beat: The company expects 2011 same-store sales growth of 4.3%,...</a></h4><p>More on Macy\\'s (NYSE:<a href=\"https://seekingalpha.com/symbol/M\" title=\"Macy\\'s Inc.\">M</a>) <a target=\"_blank\" href=\"https://seekingalpha.com/currents/post/76093\">earnings beat</a>: The company expects 2011 same-store sales growth of 4.3%, up from prior guidance of +3%, and sees 2011 EPS of $2.40-2.45, up from prior guidance of $2.25-2.30. Quarterly dividend doubles to 10 cents/share. Shares <font color=\"green\">+4.9%</font>. (PR) </p><div class=\"tiny-share-widget\" data-id=\"76095\" data-linked=\"More on Macy&#39;s (NYSE:M) earnings beat: The company expects 2011 same-store sales growth of 4.3%,...\" data-tweet=\"$M - More on Macy&#39;s (NYSE:M) earnings beat: The company expects 2011 same-store sales growth of 4.3%, up from prior guidance of +3%, and sees 2011 EPS of $2.40-2.45, up from prior guidance of $2.25-2.30. Quarterly dividend doubles to 10 cents/share. Sha... https://seekingalpha.com/news/76095?source=tweet\" data-url=\"https://seekingalpha.com/news/76095\"><div class=\"icon share-btn c-email\" title=\"Email a friend\">&nbsp;</div><div class=\"icon share-btn c-twitter\" title=\"Share on Twitter\">&nbsp;</div><div class=\"icon share-btn c-facebook\" title=\"Share on Facebook\">&nbsp;</div><div class=\"icon share-btn c-linkedin\" title=\"Share on Linkedin\">&nbsp;</div></div><span class=\"mc_gray_separator\">|</span>  8:22 AM </div></div></li><li class=\"n-box-item sa-box-item\" data-id=\"76085\" data-ts=\"1305113787\"><div class=\"media media-overflow-fix\"><div class=\"media-left\"><a class=\"box-ticker\" href=\"/symbol/\" target=\"_blank\"></a></div><div class=\"media-body\"><h4 class=\"media-heading\"><a href=\"/news/76085\" sasource=\"on_the_move_news_fidelity\" target=\"_blank\">AIG and the Treasury commence offering of AIG common stock. AIG will not receive any of the...</a></h4><p>AIG and the Treasury commence offering of AIG common stock. AIG will not receive any of the proceeds. Shares <font color=\"red\">-2.6%</font>. (PR) </p><div class=\"tiny-share-widget\" data-id=\"76085\" data-linked=\"AIG and the Treasury commence offering of AIG common stock. AIG will not receive any of the...\" data-tweet=\"AIG and the Treasury commence offering of AIG common stock. AIG will not receive any of the proceeds. Shares -2.6%. (PR) https://seekingalpha.com/news/76085?source=tweet\" data-url=\"https://seekingalpha.com/news/76085\"><div class=\"icon share-btn c-email\" title=\"Email a friend\">&nbsp;</div><div class=\"icon share-btn c-twitter\" title=\"Share on Twitter\">&nbsp;</div><div class=\"icon share-btn c-facebook\" title=\"Share on Facebook\">&nbsp;</div><div class=\"icon share-btn c-linkedin\" title=\"Share on Linkedin\">&nbsp;</div></div><span class=\"mc_gray_separator\">|</span>  7:36 AM </div></div></li>'"
      ]
     },
     "execution_count": 27,
     "metadata": {},
     "output_type": "execute_result"
    }
   ],
   "source": [
    "headlines = zipfile.ZipFile(\"headlines.zip\", \"r\")\n",
    "\n",
    "Test = headlines.namelist()[10]\n",
    "\n",
    "DataFile = headlines.open(Test).read()\n",
    "\n",
    "#DataFile_Sample = json.loads(DataFile)[\"content\"][1:500]\n",
    "DataFile_Sample = json.loads(DataFile)[\"content\"]\n",
    "DataFile_Sample"
   ]
  },
  {
   "cell_type": "markdown",
   "metadata": {},
   "source": [
    "> As we can see, the JSON format is not suitable for the algorithm. We need to get the news out of the JSONs, using the following function. Regex is the vital part of this step. Regex can find a pattern in the raw, messy text and perform actions accordingly."
   ]
  },
  {
   "cell_type": "code",
   "execution_count": 56,
   "metadata": {},
   "outputs": [],
   "source": [
    "def ParseJSON(json_data):\n",
    "    XML = json_data[\"content\"]\n",
    "    \n",
    "    TREE = etree.parse(StringIO(XML),\n",
    "                       parser = etree.HTMLParser()\n",
    "                      )\n",
    "    \n",
    "    HEADLINES = TREE.xpath(\"//h4[contains(@class, 'media-heading')]/a/text()\")\n",
    "    assert len(HEADLINES) == json_data[\"count\"]\n",
    "    \n",
    "    MAIN_TICKERS = list(map(lambda x: x.replace(\"/symbol/\", \"\"),\n",
    "                            TREE.xpath(\"//div[contains(@class, 'media-left')]//a/@href\")\n",
    "                           )\n",
    "                       )\n",
    "    assert len(MAIN_TICKERS) == json_data[\"count\"]\n",
    "    \n",
    "    FINAL_HEADLINES = [\"\".join(f.xpath('.//text()')\n",
    "                              ) for f in TREE.xpath(\"//div[contains(@class, 'media-body')]/ul/li[i]\")\n",
    "                      ]\n",
    "    if len(FINAL_HEADLINES) == 0:\n",
    "        FINAL_HEADLINES = [\"\".join(f.xpath('.//text()')\n",
    "                                  ) for f in TREE.xpath(\"//div[contains(@class, 'media-body')]\"\n",
    "                                                       )\n",
    "                          ]\n",
    "        FINAL_HEADLINES = [f.replace(h, '').split('\\xa0')[0].strip() for f, h in zip(FINAL_HEADLINES, HEADLINES)\n",
    "                          ]\n",
    "    return MAIN_TICKERS, FINAL_HEADLINES"
   ]
  },
  {
   "cell_type": "code",
   "execution_count": 27,
   "metadata": {},
   "outputs": [
    {
     "data": {
      "text/plain": [
       "'Cisco Systems (NASDAQ:CSCO) falls further into the red on FQ4 guidance of $0.37-0.39 vs. $0.42 Street consensus. Sales seen flat to +2% vs. 8% Street view. CSCO recently -2.1%.'"
      ]
     },
     "execution_count": 27,
     "metadata": {},
     "output_type": "execute_result"
    }
   ],
   "source": [
    "ParseJSON(json.loads(DataFile))[1][1]"
   ]
  },
  {
   "cell_type": "code",
   "execution_count": 58,
   "metadata": {},
   "outputs": [],
   "source": [
    "Data = None\n",
    "\n",
    "Data_News = []\n",
    "\n",
    "Ret = []\n",
    "\n",
    "Ret_F = []\n",
    "\n",
    "with zipfile.ZipFile(\"headlines.zip\", \"r\") as z:\n",
    "    for filename in z.namelist():\n",
    "        \n",
    "        try:\n",
    "            with z.open(filename) as f:\n",
    "                Data = f.read()\n",
    "                json_data = json.loads(Data)\n",
    "                \n",
    "            if json_data.get(\"count\", 0) > 10:\n",
    "                \n",
    "                MAIN_TICKERS, FINAL_HEADLINES = ParseJSON(json_data)\n",
    "                if len(FINAL_HEADLINES) != json_data[\"count\"]:\n",
    "                    continue\n",
    "            \n",
    "                FILE_DATE = filename.split(\"/\")[-1].replace(\".json\", \"\")\n",
    "                FILE_DATE = date(int(FILE_DATE[:4]), int(FILE_DATE[5:7]), int(FILE_DATE[8:])\n",
    "                                 )\n",
    "                \n",
    "                DF_Dict = {\"ticker\": MAIN_TICKERS,\n",
    "                           \"headlines\": FINAL_HEADLINES,\n",
    "                           \"date\": [FILE_DATE] * len(MAIN_TICKERS)\n",
    "                          }\n",
    "                \n",
    "                DF_F = pd.DataFrame(DF_Dict)\n",
    "                Data_News.append(DF_F)\n",
    "        \n",
    "        except:\n",
    "            pass"
   ]
  },
  {
   "cell_type": "code",
   "execution_count": 59,
   "metadata": {},
   "outputs": [
    {
     "data": {
      "text/html": [
       "<div>\n",
       "<style scoped>\n",
       "    .dataframe tbody tr th:only-of-type {\n",
       "        vertical-align: middle;\n",
       "    }\n",
       "\n",
       "    .dataframe tbody tr th {\n",
       "        vertical-align: top;\n",
       "    }\n",
       "\n",
       "    .dataframe thead th {\n",
       "        text-align: right;\n",
       "    }\n",
       "</style>\n",
       "<table border=\"1\" class=\"dataframe\">\n",
       "  <thead>\n",
       "    <tr style=\"text-align: right;\">\n",
       "      <th></th>\n",
       "      <th>ticker</th>\n",
       "      <th>headlines</th>\n",
       "      <th>date</th>\n",
       "    </tr>\n",
       "  </thead>\n",
       "  <tbody>\n",
       "    <tr>\n",
       "      <th>0</th>\n",
       "      <td>DVA</td>\n",
       "      <td>Davita (NYSE:DVA): EPS of $0.96 beats by $0.01...</td>\n",
       "      <td>2011-05-02</td>\n",
       "    </tr>\n",
       "    <tr>\n",
       "      <th>1</th>\n",
       "      <td>CGNX</td>\n",
       "      <td>Cognex (NASDAQ:CGNX): EPS of $0.32 beats by $0...</td>\n",
       "      <td>2011-05-02</td>\n",
       "    </tr>\n",
       "    <tr>\n",
       "      <th>2</th>\n",
       "      <td>AEIS</td>\n",
       "      <td>Advanced Energy Industries (NASDAQ:AEIS):</td>\n",
       "      <td>2011-05-02</td>\n",
       "    </tr>\n",
       "    <tr>\n",
       "      <th>3</th>\n",
       "      <td>LOCM</td>\n",
       "      <td>Local.com (NASDAQ:LOCM):</td>\n",
       "      <td>2011-05-02</td>\n",
       "    </tr>\n",
       "    <tr>\n",
       "      <th>4</th>\n",
       "      <td>CYDEQ</td>\n",
       "      <td>CyberDefender (CYDE):</td>\n",
       "      <td>2011-05-02</td>\n",
       "    </tr>\n",
       "    <tr>\n",
       "      <th>...</th>\n",
       "      <td>...</td>\n",
       "      <td>...</td>\n",
       "      <td>...</td>\n",
       "    </tr>\n",
       "    <tr>\n",
       "      <th>50</th>\n",
       "      <td>WAAS</td>\n",
       "      <td>Culligan will acquire AquaVenture (NYSE:WAAS) ...</td>\n",
       "      <td>2019-12-23</td>\n",
       "    </tr>\n",
       "    <tr>\n",
       "      <th>51</th>\n",
       "      <td>SRPT</td>\n",
       "      <td>Sarepta Therapeutics (NASDAQ:SRPT) is up</td>\n",
       "      <td>2019-12-23</td>\n",
       "    </tr>\n",
       "    <tr>\n",
       "      <th>52</th>\n",
       "      <td></td>\n",
       "      <td>Wall Street futures are starting a holiday-sho...</td>\n",
       "      <td>2019-12-23</td>\n",
       "    </tr>\n",
       "    <tr>\n",
       "      <th>53</th>\n",
       "      <td>BAYRY</td>\n",
       "      <td>Bayer (OTCPK:BAYRY) started the week up 3.5% t...</td>\n",
       "      <td>2019-12-23</td>\n",
       "    </tr>\n",
       "    <tr>\n",
       "      <th>54</th>\n",
       "      <td>FXI</td>\n",
       "      <td>China said it will reduce tariffs from Jan. 1 ...</td>\n",
       "      <td>2019-12-23</td>\n",
       "    </tr>\n",
       "  </tbody>\n",
       "</table>\n",
       "<p>87444 rows × 3 columns</p>\n",
       "</div>"
      ],
      "text/plain": [
       "   ticker                                          headlines        date\n",
       "0     DVA  Davita (NYSE:DVA): EPS of $0.96 beats by $0.01...  2011-05-02\n",
       "1    CGNX  Cognex (NASDAQ:CGNX): EPS of $0.32 beats by $0...  2011-05-02\n",
       "2    AEIS          Advanced Energy Industries (NASDAQ:AEIS):  2011-05-02\n",
       "3    LOCM                           Local.com (NASDAQ:LOCM):  2011-05-02\n",
       "4   CYDEQ                              CyberDefender (CYDE):  2011-05-02\n",
       "..    ...                                                ...         ...\n",
       "50   WAAS  Culligan will acquire AquaVenture (NYSE:WAAS) ...  2019-12-23\n",
       "51   SRPT           Sarepta Therapeutics (NASDAQ:SRPT) is up  2019-12-23\n",
       "52         Wall Street futures are starting a holiday-sho...  2019-12-23\n",
       "53  BAYRY  Bayer (OTCPK:BAYRY) started the week up 3.5% t...  2019-12-23\n",
       "54    FXI  China said it will reduce tariffs from Jan. 1 ...  2019-12-23\n",
       "\n",
       "[87444 rows x 3 columns]"
      ]
     },
     "execution_count": 59,
     "metadata": {},
     "output_type": "execute_result"
    }
   ],
   "source": [
    "Data_News = pd.concat(Data_News)\n",
    "Data_News"
   ]
  },
  {
   "cell_type": "markdown",
   "metadata": {},
   "source": [
    "> We can use the JSON parser to extract the news headlines from the complex HTML format. This format is good enough to be used for further analysis.\n",
    "\n",
    "> Next, we extract the ticker and the headlines from all the JSON files and put that data in a data frame.\n",
    "\n",
    "> As we can see, the data includes the ticker, headlines, and the date that will be used in the next step for combining with the return."
   ]
  },
  {
   "cell_type": "markdown",
   "metadata": {},
   "source": [
    "#### Building combined dataset"
   ]
  },
  {
   "cell_type": "markdown",
   "metadata": {},
   "source": [
    "> In this step, we extract the event return, which is the return that corresponds to the event. We do this because, at times, the news is reported late, and at other times, it is reported after market close. Having a slightly wider window ensures that we will be able to capture the essence of the event. Event return is defined as follows:\n",
    "\n",
    "$$ R_{t-1} + R_t + R_{t+1} $$\n",
    "\n",
    "where, $ R_{t-1} $, $ R_{t+1} $ are the return before and after the news data and $ R_{t} $ is the return on\n",
    "the day of the news (namely, time ***t***)"
   ]
  },
  {
   "cell_type": "code",
   "execution_count": 84,
   "metadata": {},
   "outputs": [],
   "source": [
    "DF_stock_return[\"Return\"] = DF_stock_return[\"Close\"].pct_change()"
   ]
  },
  {
   "cell_type": "markdown",
   "metadata": {},
   "source": [
    "#### Event Return"
   ]
  },
  {
   "cell_type": "code",
   "execution_count": 85,
   "metadata": {},
   "outputs": [],
   "source": [
    "DF_stock_return[\"Event_Return\"] = DF_stock_return[\"Return\"] + DF_stock_return[\"Return\"].shift(-1) + DF_stock_return[\"Return\"].shift(1)"
   ]
  },
  {
   "cell_type": "code",
   "execution_count": 86,
   "metadata": {},
   "outputs": [
    {
     "data": {
      "text/html": [
       "<div>\n",
       "<style scoped>\n",
       "    .dataframe tbody tr th:only-of-type {\n",
       "        vertical-align: middle;\n",
       "    }\n",
       "\n",
       "    .dataframe tbody tr th {\n",
       "        vertical-align: top;\n",
       "    }\n",
       "\n",
       "    .dataframe thead th {\n",
       "        text-align: right;\n",
       "    }\n",
       "</style>\n",
       "<table border=\"1\" class=\"dataframe\">\n",
       "  <thead>\n",
       "    <tr style=\"text-align: right;\">\n",
       "      <th></th>\n",
       "      <th>Date</th>\n",
       "      <th>Open</th>\n",
       "      <th>High</th>\n",
       "      <th>Low</th>\n",
       "      <th>Close</th>\n",
       "      <th>Volume</th>\n",
       "      <th>Dividends</th>\n",
       "      <th>Stock Splits</th>\n",
       "      <th>ticker</th>\n",
       "      <th>Return</th>\n",
       "      <th>Event_Return</th>\n",
       "      <th>date</th>\n",
       "    </tr>\n",
       "  </thead>\n",
       "  <tbody>\n",
       "    <tr>\n",
       "      <th>0</th>\n",
       "      <td>2010-01-04 00:00:00-05:00</td>\n",
       "      <td>6.461</td>\n",
       "      <td>6.494</td>\n",
       "      <td>6.430</td>\n",
       "      <td>6.479</td>\n",
       "      <td>493729600</td>\n",
       "      <td>0.000</td>\n",
       "      <td>0.000</td>\n",
       "      <td>AAPL</td>\n",
       "      <td>NaN</td>\n",
       "      <td>NaN</td>\n",
       "      <td>2010-01-04</td>\n",
       "    </tr>\n",
       "    <tr>\n",
       "      <th>1</th>\n",
       "      <td>2010-01-05 00:00:00-05:00</td>\n",
       "      <td>6.497</td>\n",
       "      <td>6.527</td>\n",
       "      <td>6.456</td>\n",
       "      <td>6.490</td>\n",
       "      <td>601904800</td>\n",
       "      <td>0.000</td>\n",
       "      <td>0.000</td>\n",
       "      <td>AAPL</td>\n",
       "      <td>0.002</td>\n",
       "      <td>NaN</td>\n",
       "      <td>2010-01-05</td>\n",
       "    </tr>\n",
       "    <tr>\n",
       "      <th>2</th>\n",
       "      <td>2010-01-06 00:00:00-05:00</td>\n",
       "      <td>6.490</td>\n",
       "      <td>6.516</td>\n",
       "      <td>6.380</td>\n",
       "      <td>6.387</td>\n",
       "      <td>552160000</td>\n",
       "      <td>0.000</td>\n",
       "      <td>0.000</td>\n",
       "      <td>AAPL</td>\n",
       "      <td>-0.016</td>\n",
       "      <td>-0.016</td>\n",
       "      <td>2010-01-06</td>\n",
       "    </tr>\n",
       "    <tr>\n",
       "      <th>3</th>\n",
       "      <td>2010-01-07 00:00:00-05:00</td>\n",
       "      <td>6.411</td>\n",
       "      <td>6.418</td>\n",
       "      <td>6.329</td>\n",
       "      <td>6.375</td>\n",
       "      <td>477131200</td>\n",
       "      <td>0.000</td>\n",
       "      <td>0.000</td>\n",
       "      <td>AAPL</td>\n",
       "      <td>-0.002</td>\n",
       "      <td>-0.011</td>\n",
       "      <td>2010-01-07</td>\n",
       "    </tr>\n",
       "    <tr>\n",
       "      <th>4</th>\n",
       "      <td>2010-01-08 00:00:00-05:00</td>\n",
       "      <td>6.367</td>\n",
       "      <td>6.418</td>\n",
       "      <td>6.329</td>\n",
       "      <td>6.418</td>\n",
       "      <td>447610800</td>\n",
       "      <td>0.000</td>\n",
       "      <td>0.000</td>\n",
       "      <td>AAPL</td>\n",
       "      <td>0.007</td>\n",
       "      <td>-0.004</td>\n",
       "      <td>2010-01-08</td>\n",
       "    </tr>\n",
       "    <tr>\n",
       "      <th>...</th>\n",
       "      <td>...</td>\n",
       "      <td>...</td>\n",
       "      <td>...</td>\n",
       "      <td>...</td>\n",
       "      <td>...</td>\n",
       "      <td>...</td>\n",
       "      <td>...</td>\n",
       "      <td>...</td>\n",
       "      <td>...</td>\n",
       "      <td>...</td>\n",
       "      <td>...</td>\n",
       "      <td>...</td>\n",
       "    </tr>\n",
       "    <tr>\n",
       "      <th>21904</th>\n",
       "      <td>2018-12-21 00:00:00-05:00</td>\n",
       "      <td>219.550</td>\n",
       "      <td>222.260</td>\n",
       "      <td>207.370</td>\n",
       "      <td>208.800</td>\n",
       "      <td>8828100</td>\n",
       "      <td>0.000</td>\n",
       "      <td>0.000</td>\n",
       "      <td>ADBE</td>\n",
       "      <td>-0.045</td>\n",
       "      <td>-0.089</td>\n",
       "      <td>2018-12-21</td>\n",
       "    </tr>\n",
       "    <tr>\n",
       "      <th>21905</th>\n",
       "      <td>2018-12-24 00:00:00-05:00</td>\n",
       "      <td>206.900</td>\n",
       "      <td>212.580</td>\n",
       "      <td>204.950</td>\n",
       "      <td>205.160</td>\n",
       "      <td>2940500</td>\n",
       "      <td>0.000</td>\n",
       "      <td>0.000</td>\n",
       "      <td>ADBE</td>\n",
       "      <td>-0.017</td>\n",
       "      <td>0.024</td>\n",
       "      <td>2018-12-24</td>\n",
       "    </tr>\n",
       "    <tr>\n",
       "      <th>21906</th>\n",
       "      <td>2018-12-26 00:00:00-05:00</td>\n",
       "      <td>206.530</td>\n",
       "      <td>222.960</td>\n",
       "      <td>206.250</td>\n",
       "      <td>222.950</td>\n",
       "      <td>5897900</td>\n",
       "      <td>0.000</td>\n",
       "      <td>0.000</td>\n",
       "      <td>ADBE</td>\n",
       "      <td>0.087</td>\n",
       "      <td>0.079</td>\n",
       "      <td>2018-12-26</td>\n",
       "    </tr>\n",
       "    <tr>\n",
       "      <th>21907</th>\n",
       "      <td>2018-12-27 00:00:00-05:00</td>\n",
       "      <td>219.990</td>\n",
       "      <td>225.170</td>\n",
       "      <td>214.160</td>\n",
       "      <td>225.140</td>\n",
       "      <td>3931100</td>\n",
       "      <td>0.000</td>\n",
       "      <td>0.000</td>\n",
       "      <td>ADBE</td>\n",
       "      <td>0.010</td>\n",
       "      <td>0.088</td>\n",
       "      <td>2018-12-27</td>\n",
       "    </tr>\n",
       "    <tr>\n",
       "      <th>21908</th>\n",
       "      <td>2018-12-28 00:00:00-05:00</td>\n",
       "      <td>227.580</td>\n",
       "      <td>228.110</td>\n",
       "      <td>220.870</td>\n",
       "      <td>223.130</td>\n",
       "      <td>3160200</td>\n",
       "      <td>0.000</td>\n",
       "      <td>0.000</td>\n",
       "      <td>ADBE</td>\n",
       "      <td>-0.009</td>\n",
       "      <td>NaN</td>\n",
       "      <td>2018-12-28</td>\n",
       "    </tr>\n",
       "  </tbody>\n",
       "</table>\n",
       "<p>21909 rows × 12 columns</p>\n",
       "</div>"
      ],
      "text/plain": [
       "                           Date    Open    High     Low   Close     Volume  \\\n",
       "0     2010-01-04 00:00:00-05:00   6.461   6.494   6.430   6.479  493729600   \n",
       "1     2010-01-05 00:00:00-05:00   6.497   6.527   6.456   6.490  601904800   \n",
       "2     2010-01-06 00:00:00-05:00   6.490   6.516   6.380   6.387  552160000   \n",
       "3     2010-01-07 00:00:00-05:00   6.411   6.418   6.329   6.375  477131200   \n",
       "4     2010-01-08 00:00:00-05:00   6.367   6.418   6.329   6.418  447610800   \n",
       "...                         ...     ...     ...     ...     ...        ...   \n",
       "21904 2018-12-21 00:00:00-05:00 219.550 222.260 207.370 208.800    8828100   \n",
       "21905 2018-12-24 00:00:00-05:00 206.900 212.580 204.950 205.160    2940500   \n",
       "21906 2018-12-26 00:00:00-05:00 206.530 222.960 206.250 222.950    5897900   \n",
       "21907 2018-12-27 00:00:00-05:00 219.990 225.170 214.160 225.140    3931100   \n",
       "21908 2018-12-28 00:00:00-05:00 227.580 228.110 220.870 223.130    3160200   \n",
       "\n",
       "       Dividends  Stock Splits ticker  Return  Event_Return        date  \n",
       "0          0.000         0.000   AAPL     NaN           NaN  2010-01-04  \n",
       "1          0.000         0.000   AAPL   0.002           NaN  2010-01-05  \n",
       "2          0.000         0.000   AAPL  -0.016        -0.016  2010-01-06  \n",
       "3          0.000         0.000   AAPL  -0.002        -0.011  2010-01-07  \n",
       "4          0.000         0.000   AAPL   0.007        -0.004  2010-01-08  \n",
       "...          ...           ...    ...     ...           ...         ...  \n",
       "21904      0.000         0.000   ADBE  -0.045        -0.089  2018-12-21  \n",
       "21905      0.000         0.000   ADBE  -0.017         0.024  2018-12-24  \n",
       "21906      0.000         0.000   ADBE   0.087         0.079  2018-12-26  \n",
       "21907      0.000         0.000   ADBE   0.010         0.088  2018-12-27  \n",
       "21908      0.000         0.000   ADBE  -0.009           NaN  2018-12-28  \n",
       "\n",
       "[21909 rows x 12 columns]"
      ]
     },
     "execution_count": 86,
     "metadata": {},
     "output_type": "execute_result"
    }
   ],
   "source": [
    "DF_stock_return.reset_index(level = 0,\n",
    "                            inplace = True)\n",
    "\n",
    "DF_stock_return[\"date\"] = pd.to_datetime(DF_stock_return[\"Date\"]\n",
    "                                        ).apply(lambda x: x.date()\n",
    "                                               )\n",
    "\n",
    "DF_stock_return"
   ]
  },
  {
   "cell_type": "markdown",
   "metadata": {},
   "source": [
    "> Now that we have all the data in place, we will prepare a combined data frame that will have the news headlines mapped to the date, event return, and stock ticker. \n",
    "\n",
    "> This data frame will be used for further analysis for the sentiment analysis model and to build the trading strategy."
   ]
  },
  {
   "cell_type": "code",
   "execution_count": 87,
   "metadata": {},
   "outputs": [
    {
     "data": {
      "text/html": [
       "<div>\n",
       "<style scoped>\n",
       "    .dataframe tbody tr th:only-of-type {\n",
       "        vertical-align: middle;\n",
       "    }\n",
       "\n",
       "    .dataframe tbody tr th {\n",
       "        vertical-align: top;\n",
       "    }\n",
       "\n",
       "    .dataframe thead th {\n",
       "        text-align: right;\n",
       "    }\n",
       "</style>\n",
       "<table border=\"1\" class=\"dataframe\">\n",
       "  <thead>\n",
       "    <tr style=\"text-align: right;\">\n",
       "      <th></th>\n",
       "      <th>ticker</th>\n",
       "      <th>headlines</th>\n",
       "      <th>date</th>\n",
       "    </tr>\n",
       "  </thead>\n",
       "  <tbody>\n",
       "    <tr>\n",
       "      <th>0</th>\n",
       "      <td>DVA</td>\n",
       "      <td>Davita (NYSE:DVA): EPS of $0.96 beats by $0.01...</td>\n",
       "      <td>2011-05-02</td>\n",
       "    </tr>\n",
       "    <tr>\n",
       "      <th>1</th>\n",
       "      <td>CGNX</td>\n",
       "      <td>Cognex (NASDAQ:CGNX): EPS of $0.32 beats by $0...</td>\n",
       "      <td>2011-05-02</td>\n",
       "    </tr>\n",
       "    <tr>\n",
       "      <th>2</th>\n",
       "      <td>AEIS</td>\n",
       "      <td>Advanced Energy Industries (NASDAQ:AEIS):</td>\n",
       "      <td>2011-05-02</td>\n",
       "    </tr>\n",
       "    <tr>\n",
       "      <th>3</th>\n",
       "      <td>LOCM</td>\n",
       "      <td>Local.com (NASDAQ:LOCM):</td>\n",
       "      <td>2011-05-02</td>\n",
       "    </tr>\n",
       "    <tr>\n",
       "      <th>4</th>\n",
       "      <td>CYDEQ</td>\n",
       "      <td>CyberDefender (CYDE):</td>\n",
       "      <td>2011-05-02</td>\n",
       "    </tr>\n",
       "    <tr>\n",
       "      <th>...</th>\n",
       "      <td>...</td>\n",
       "      <td>...</td>\n",
       "      <td>...</td>\n",
       "    </tr>\n",
       "    <tr>\n",
       "      <th>50</th>\n",
       "      <td>WAAS</td>\n",
       "      <td>Culligan will acquire AquaVenture (NYSE:WAAS) ...</td>\n",
       "      <td>2019-12-23</td>\n",
       "    </tr>\n",
       "    <tr>\n",
       "      <th>51</th>\n",
       "      <td>SRPT</td>\n",
       "      <td>Sarepta Therapeutics (NASDAQ:SRPT) is up</td>\n",
       "      <td>2019-12-23</td>\n",
       "    </tr>\n",
       "    <tr>\n",
       "      <th>52</th>\n",
       "      <td></td>\n",
       "      <td>Wall Street futures are starting a holiday-sho...</td>\n",
       "      <td>2019-12-23</td>\n",
       "    </tr>\n",
       "    <tr>\n",
       "      <th>53</th>\n",
       "      <td>BAYRY</td>\n",
       "      <td>Bayer (OTCPK:BAYRY) started the week up 3.5% t...</td>\n",
       "      <td>2019-12-23</td>\n",
       "    </tr>\n",
       "    <tr>\n",
       "      <th>54</th>\n",
       "      <td>FXI</td>\n",
       "      <td>China said it will reduce tariffs from Jan. 1 ...</td>\n",
       "      <td>2019-12-23</td>\n",
       "    </tr>\n",
       "  </tbody>\n",
       "</table>\n",
       "<p>87444 rows × 3 columns</p>\n",
       "</div>"
      ],
      "text/plain": [
       "   ticker                                          headlines        date\n",
       "0     DVA  Davita (NYSE:DVA): EPS of $0.96 beats by $0.01...  2011-05-02\n",
       "1    CGNX  Cognex (NASDAQ:CGNX): EPS of $0.32 beats by $0...  2011-05-02\n",
       "2    AEIS          Advanced Energy Industries (NASDAQ:AEIS):  2011-05-02\n",
       "3    LOCM                           Local.com (NASDAQ:LOCM):  2011-05-02\n",
       "4   CYDEQ                              CyberDefender (CYDE):  2011-05-02\n",
       "..    ...                                                ...         ...\n",
       "50   WAAS  Culligan will acquire AquaVenture (NYSE:WAAS) ...  2019-12-23\n",
       "51   SRPT           Sarepta Therapeutics (NASDAQ:SRPT) is up  2019-12-23\n",
       "52         Wall Street futures are starting a holiday-sho...  2019-12-23\n",
       "53  BAYRY  Bayer (OTCPK:BAYRY) started the week up 3.5% t...  2019-12-23\n",
       "54    FXI  China said it will reduce tariffs from Jan. 1 ...  2019-12-23\n",
       "\n",
       "[87444 rows x 3 columns]"
      ]
     },
     "execution_count": 87,
     "metadata": {},
     "output_type": "execute_result"
    }
   ],
   "source": [
    "Data_News"
   ]
  },
  {
   "cell_type": "code",
   "execution_count": 88,
   "metadata": {},
   "outputs": [
    {
     "data": {
      "text/html": [
       "<div>\n",
       "<style scoped>\n",
       "    .dataframe tbody tr th:only-of-type {\n",
       "        vertical-align: middle;\n",
       "    }\n",
       "\n",
       "    .dataframe tbody tr th {\n",
       "        vertical-align: top;\n",
       "    }\n",
       "\n",
       "    .dataframe thead th {\n",
       "        text-align: right;\n",
       "    }\n",
       "</style>\n",
       "<table border=\"1\" class=\"dataframe\">\n",
       "  <thead>\n",
       "    <tr style=\"text-align: right;\">\n",
       "      <th></th>\n",
       "      <th>ticker</th>\n",
       "      <th>headlines</th>\n",
       "      <th>date</th>\n",
       "      <th>Date</th>\n",
       "      <th>Open</th>\n",
       "      <th>High</th>\n",
       "      <th>Low</th>\n",
       "      <th>Close</th>\n",
       "      <th>Volume</th>\n",
       "      <th>Dividends</th>\n",
       "      <th>Stock Splits</th>\n",
       "      <th>Return</th>\n",
       "      <th>Event_Return</th>\n",
       "    </tr>\n",
       "  </thead>\n",
       "  <tbody>\n",
       "    <tr>\n",
       "      <th>0</th>\n",
       "      <td>DVA</td>\n",
       "      <td>Davita (NYSE:DVA): EPS of $0.96 beats by $0.01...</td>\n",
       "      <td>2011-05-02</td>\n",
       "      <td>NaT</td>\n",
       "      <td>NaN</td>\n",
       "      <td>NaN</td>\n",
       "      <td>NaN</td>\n",
       "      <td>NaN</td>\n",
       "      <td>NaN</td>\n",
       "      <td>NaN</td>\n",
       "      <td>NaN</td>\n",
       "      <td>NaN</td>\n",
       "      <td>NaN</td>\n",
       "    </tr>\n",
       "    <tr>\n",
       "      <th>1</th>\n",
       "      <td>CGNX</td>\n",
       "      <td>Cognex (NASDAQ:CGNX): EPS of $0.32 beats by $0...</td>\n",
       "      <td>2011-05-02</td>\n",
       "      <td>NaT</td>\n",
       "      <td>NaN</td>\n",
       "      <td>NaN</td>\n",
       "      <td>NaN</td>\n",
       "      <td>NaN</td>\n",
       "      <td>NaN</td>\n",
       "      <td>NaN</td>\n",
       "      <td>NaN</td>\n",
       "      <td>NaN</td>\n",
       "      <td>NaN</td>\n",
       "    </tr>\n",
       "    <tr>\n",
       "      <th>2</th>\n",
       "      <td>AEIS</td>\n",
       "      <td>Advanced Energy Industries (NASDAQ:AEIS):</td>\n",
       "      <td>2011-05-02</td>\n",
       "      <td>NaT</td>\n",
       "      <td>NaN</td>\n",
       "      <td>NaN</td>\n",
       "      <td>NaN</td>\n",
       "      <td>NaN</td>\n",
       "      <td>NaN</td>\n",
       "      <td>NaN</td>\n",
       "      <td>NaN</td>\n",
       "      <td>NaN</td>\n",
       "      <td>NaN</td>\n",
       "    </tr>\n",
       "    <tr>\n",
       "      <th>3</th>\n",
       "      <td>LOCM</td>\n",
       "      <td>Local.com (NASDAQ:LOCM):</td>\n",
       "      <td>2011-05-02</td>\n",
       "      <td>NaT</td>\n",
       "      <td>NaN</td>\n",
       "      <td>NaN</td>\n",
       "      <td>NaN</td>\n",
       "      <td>NaN</td>\n",
       "      <td>NaN</td>\n",
       "      <td>NaN</td>\n",
       "      <td>NaN</td>\n",
       "      <td>NaN</td>\n",
       "      <td>NaN</td>\n",
       "    </tr>\n",
       "    <tr>\n",
       "      <th>4</th>\n",
       "      <td>CYDEQ</td>\n",
       "      <td>CyberDefender (CYDE):</td>\n",
       "      <td>2011-05-02</td>\n",
       "      <td>NaT</td>\n",
       "      <td>NaN</td>\n",
       "      <td>NaN</td>\n",
       "      <td>NaN</td>\n",
       "      <td>NaN</td>\n",
       "      <td>NaN</td>\n",
       "      <td>NaN</td>\n",
       "      <td>NaN</td>\n",
       "      <td>NaN</td>\n",
       "      <td>NaN</td>\n",
       "    </tr>\n",
       "    <tr>\n",
       "      <th>...</th>\n",
       "      <td>...</td>\n",
       "      <td>...</td>\n",
       "      <td>...</td>\n",
       "      <td>...</td>\n",
       "      <td>...</td>\n",
       "      <td>...</td>\n",
       "      <td>...</td>\n",
       "      <td>...</td>\n",
       "      <td>...</td>\n",
       "      <td>...</td>\n",
       "      <td>...</td>\n",
       "      <td>...</td>\n",
       "      <td>...</td>\n",
       "    </tr>\n",
       "    <tr>\n",
       "      <th>87439</th>\n",
       "      <td>WAAS</td>\n",
       "      <td>Culligan will acquire AquaVenture (NYSE:WAAS) ...</td>\n",
       "      <td>2019-12-23</td>\n",
       "      <td>NaT</td>\n",
       "      <td>NaN</td>\n",
       "      <td>NaN</td>\n",
       "      <td>NaN</td>\n",
       "      <td>NaN</td>\n",
       "      <td>NaN</td>\n",
       "      <td>NaN</td>\n",
       "      <td>NaN</td>\n",
       "      <td>NaN</td>\n",
       "      <td>NaN</td>\n",
       "    </tr>\n",
       "    <tr>\n",
       "      <th>87440</th>\n",
       "      <td>SRPT</td>\n",
       "      <td>Sarepta Therapeutics (NASDAQ:SRPT) is up</td>\n",
       "      <td>2019-12-23</td>\n",
       "      <td>NaT</td>\n",
       "      <td>NaN</td>\n",
       "      <td>NaN</td>\n",
       "      <td>NaN</td>\n",
       "      <td>NaN</td>\n",
       "      <td>NaN</td>\n",
       "      <td>NaN</td>\n",
       "      <td>NaN</td>\n",
       "      <td>NaN</td>\n",
       "      <td>NaN</td>\n",
       "    </tr>\n",
       "    <tr>\n",
       "      <th>87441</th>\n",
       "      <td></td>\n",
       "      <td>Wall Street futures are starting a holiday-sho...</td>\n",
       "      <td>2019-12-23</td>\n",
       "      <td>NaT</td>\n",
       "      <td>NaN</td>\n",
       "      <td>NaN</td>\n",
       "      <td>NaN</td>\n",
       "      <td>NaN</td>\n",
       "      <td>NaN</td>\n",
       "      <td>NaN</td>\n",
       "      <td>NaN</td>\n",
       "      <td>NaN</td>\n",
       "      <td>NaN</td>\n",
       "    </tr>\n",
       "    <tr>\n",
       "      <th>87442</th>\n",
       "      <td>BAYRY</td>\n",
       "      <td>Bayer (OTCPK:BAYRY) started the week up 3.5% t...</td>\n",
       "      <td>2019-12-23</td>\n",
       "      <td>NaT</td>\n",
       "      <td>NaN</td>\n",
       "      <td>NaN</td>\n",
       "      <td>NaN</td>\n",
       "      <td>NaN</td>\n",
       "      <td>NaN</td>\n",
       "      <td>NaN</td>\n",
       "      <td>NaN</td>\n",
       "      <td>NaN</td>\n",
       "      <td>NaN</td>\n",
       "    </tr>\n",
       "    <tr>\n",
       "      <th>87443</th>\n",
       "      <td>FXI</td>\n",
       "      <td>China said it will reduce tariffs from Jan. 1 ...</td>\n",
       "      <td>2019-12-23</td>\n",
       "      <td>NaT</td>\n",
       "      <td>NaN</td>\n",
       "      <td>NaN</td>\n",
       "      <td>NaN</td>\n",
       "      <td>NaN</td>\n",
       "      <td>NaN</td>\n",
       "      <td>NaN</td>\n",
       "      <td>NaN</td>\n",
       "      <td>NaN</td>\n",
       "      <td>NaN</td>\n",
       "    </tr>\n",
       "  </tbody>\n",
       "</table>\n",
       "<p>87444 rows × 13 columns</p>\n",
       "</div>"
      ],
      "text/plain": [
       "      ticker                                          headlines        date  \\\n",
       "0        DVA  Davita (NYSE:DVA): EPS of $0.96 beats by $0.01...  2011-05-02   \n",
       "1       CGNX  Cognex (NASDAQ:CGNX): EPS of $0.32 beats by $0...  2011-05-02   \n",
       "2       AEIS          Advanced Energy Industries (NASDAQ:AEIS):  2011-05-02   \n",
       "3       LOCM                           Local.com (NASDAQ:LOCM):  2011-05-02   \n",
       "4      CYDEQ                              CyberDefender (CYDE):  2011-05-02   \n",
       "...      ...                                                ...         ...   \n",
       "87439   WAAS  Culligan will acquire AquaVenture (NYSE:WAAS) ...  2019-12-23   \n",
       "87440   SRPT           Sarepta Therapeutics (NASDAQ:SRPT) is up  2019-12-23   \n",
       "87441         Wall Street futures are starting a holiday-sho...  2019-12-23   \n",
       "87442  BAYRY  Bayer (OTCPK:BAYRY) started the week up 3.5% t...  2019-12-23   \n",
       "87443    FXI  China said it will reduce tariffs from Jan. 1 ...  2019-12-23   \n",
       "\n",
       "      Date  Open  High  Low  Close  Volume  Dividends  Stock Splits  Return  \\\n",
       "0      NaT   NaN   NaN  NaN    NaN     NaN        NaN           NaN     NaN   \n",
       "1      NaT   NaN   NaN  NaN    NaN     NaN        NaN           NaN     NaN   \n",
       "2      NaT   NaN   NaN  NaN    NaN     NaN        NaN           NaN     NaN   \n",
       "3      NaT   NaN   NaN  NaN    NaN     NaN        NaN           NaN     NaN   \n",
       "4      NaT   NaN   NaN  NaN    NaN     NaN        NaN           NaN     NaN   \n",
       "...    ...   ...   ...  ...    ...     ...        ...           ...     ...   \n",
       "87439  NaT   NaN   NaN  NaN    NaN     NaN        NaN           NaN     NaN   \n",
       "87440  NaT   NaN   NaN  NaN    NaN     NaN        NaN           NaN     NaN   \n",
       "87441  NaT   NaN   NaN  NaN    NaN     NaN        NaN           NaN     NaN   \n",
       "87442  NaT   NaN   NaN  NaN    NaN     NaN        NaN           NaN     NaN   \n",
       "87443  NaT   NaN   NaN  NaN    NaN     NaN        NaN           NaN     NaN   \n",
       "\n",
       "       Event_Return  \n",
       "0               NaN  \n",
       "1               NaN  \n",
       "2               NaN  \n",
       "3               NaN  \n",
       "4               NaN  \n",
       "...             ...  \n",
       "87439           NaN  \n",
       "87440           NaN  \n",
       "87441           NaN  \n",
       "87442           NaN  \n",
       "87443           NaN  \n",
       "\n",
       "[87444 rows x 13 columns]"
      ]
     },
     "execution_count": 88,
     "metadata": {},
     "output_type": "execute_result"
    }
   ],
   "source": [
    "Combined_DF = pd.merge(Data_News, DF_stock_return,\n",
    "                       how = \"left\",\n",
    "                       left_on = [\"date\", \"ticker\"],\n",
    "                       right_on = [\"date\", \"ticker\"]\n",
    "                       )\n",
    "\n",
    "Combined_DF"
   ]
  },
  {
   "cell_type": "code",
   "execution_count": 89,
   "metadata": {},
   "outputs": [
    {
     "data": {
      "text/html": [
       "<div>\n",
       "<style scoped>\n",
       "    .dataframe tbody tr th:only-of-type {\n",
       "        vertical-align: middle;\n",
       "    }\n",
       "\n",
       "    .dataframe tbody tr th {\n",
       "        vertical-align: top;\n",
       "    }\n",
       "\n",
       "    .dataframe thead th {\n",
       "        text-align: right;\n",
       "    }\n",
       "</style>\n",
       "<table border=\"1\" class=\"dataframe\">\n",
       "  <thead>\n",
       "    <tr style=\"text-align: right;\">\n",
       "      <th></th>\n",
       "      <th>ticker</th>\n",
       "      <th>headlines</th>\n",
       "      <th>date</th>\n",
       "      <th>Date</th>\n",
       "      <th>Open</th>\n",
       "      <th>High</th>\n",
       "      <th>Low</th>\n",
       "      <th>Close</th>\n",
       "      <th>Volume</th>\n",
       "      <th>Dividends</th>\n",
       "      <th>Stock Splits</th>\n",
       "      <th>Return</th>\n",
       "      <th>Event_Return</th>\n",
       "    </tr>\n",
       "  </thead>\n",
       "  <tbody>\n",
       "    <tr>\n",
       "      <th>5</th>\n",
       "      <td>AMZN</td>\n",
       "      <td>Whole Foods (WFMI) -5.2% following a downgrade...</td>\n",
       "      <td>2011-05-02</td>\n",
       "      <td>2011-05-02 00:00:00-04:00</td>\n",
       "      <td>9.828</td>\n",
       "      <td>10.171</td>\n",
       "      <td>9.809</td>\n",
       "      <td>10.059</td>\n",
       "      <td>187962000.000</td>\n",
       "      <td>0.000</td>\n",
       "      <td>0.000</td>\n",
       "      <td>0.027</td>\n",
       "      <td>0.018</td>\n",
       "    </tr>\n",
       "    <tr>\n",
       "      <th>11</th>\n",
       "      <td>NFLX</td>\n",
       "      <td>Netflix (NFLX +1.1%) shares post early gains a...</td>\n",
       "      <td>2011-05-02</td>\n",
       "      <td>2011-05-02 00:00:00-04:00</td>\n",
       "      <td>34.031</td>\n",
       "      <td>34.267</td>\n",
       "      <td>33.486</td>\n",
       "      <td>33.884</td>\n",
       "      <td>35550200.000</td>\n",
       "      <td>0.000</td>\n",
       "      <td>0.000</td>\n",
       "      <td>0.019</td>\n",
       "      <td>-0.013</td>\n",
       "    </tr>\n",
       "    <tr>\n",
       "      <th>74</th>\n",
       "      <td>MSFT</td>\n",
       "      <td>The likely winners in Microsoft's (MSFT -1.4%)...</td>\n",
       "      <td>2011-05-10</td>\n",
       "      <td>2011-05-10 00:00:00-04:00</td>\n",
       "      <td>19.807</td>\n",
       "      <td>20.174</td>\n",
       "      <td>19.706</td>\n",
       "      <td>20.034</td>\n",
       "      <td>120798700.000</td>\n",
       "      <td>0.000</td>\n",
       "      <td>0.000</td>\n",
       "      <td>-0.006</td>\n",
       "      <td>-0.020</td>\n",
       "    </tr>\n",
       "    <tr>\n",
       "      <th>77</th>\n",
       "      <td>MSFT</td>\n",
       "      <td>Microsoft (MSFT -1.2%) and Skype signed their ...</td>\n",
       "      <td>2011-05-10</td>\n",
       "      <td>2011-05-10 00:00:00-04:00</td>\n",
       "      <td>19.807</td>\n",
       "      <td>20.174</td>\n",
       "      <td>19.706</td>\n",
       "      <td>20.034</td>\n",
       "      <td>120798700.000</td>\n",
       "      <td>0.000</td>\n",
       "      <td>0.000</td>\n",
       "      <td>-0.006</td>\n",
       "      <td>-0.020</td>\n",
       "    </tr>\n",
       "    <tr>\n",
       "      <th>86</th>\n",
       "      <td>MSFT</td>\n",
       "      <td></td>\n",
       "      <td>2011-05-10</td>\n",
       "      <td>2011-05-10 00:00:00-04:00</td>\n",
       "      <td>19.807</td>\n",
       "      <td>20.174</td>\n",
       "      <td>19.706</td>\n",
       "      <td>20.034</td>\n",
       "      <td>120798700.000</td>\n",
       "      <td>0.000</td>\n",
       "      <td>0.000</td>\n",
       "      <td>-0.006</td>\n",
       "      <td>-0.020</td>\n",
       "    </tr>\n",
       "    <tr>\n",
       "      <th>...</th>\n",
       "      <td>...</td>\n",
       "      <td>...</td>\n",
       "      <td>...</td>\n",
       "      <td>...</td>\n",
       "      <td>...</td>\n",
       "      <td>...</td>\n",
       "      <td>...</td>\n",
       "      <td>...</td>\n",
       "      <td>...</td>\n",
       "      <td>...</td>\n",
       "      <td>...</td>\n",
       "      <td>...</td>\n",
       "      <td>...</td>\n",
       "    </tr>\n",
       "    <tr>\n",
       "      <th>87033</th>\n",
       "      <td>ADBE</td>\n",
       "      <td>Jefferies rates Adobe (NASDAQ:ADBE) at Buy and...</td>\n",
       "      <td>2019-12-13</td>\n",
       "      <td>NaT</td>\n",
       "      <td>NaN</td>\n",
       "      <td>NaN</td>\n",
       "      <td>NaN</td>\n",
       "      <td>NaN</td>\n",
       "      <td>NaN</td>\n",
       "      <td>NaN</td>\n",
       "      <td>NaN</td>\n",
       "      <td>NaN</td>\n",
       "      <td>NaN</td>\n",
       "    </tr>\n",
       "    <tr>\n",
       "      <th>87087</th>\n",
       "      <td>TSLA</td>\n",
       "      <td>Tesla (TSLA +6.4%) is riding higher after Cred...</td>\n",
       "      <td>2019-12-16</td>\n",
       "      <td>NaT</td>\n",
       "      <td>NaN</td>\n",
       "      <td>NaN</td>\n",
       "      <td>NaN</td>\n",
       "      <td>NaN</td>\n",
       "      <td>NaN</td>\n",
       "      <td>NaN</td>\n",
       "      <td>NaN</td>\n",
       "      <td>NaN</td>\n",
       "      <td>NaN</td>\n",
       "    </tr>\n",
       "    <tr>\n",
       "      <th>87090</th>\n",
       "      <td>AAPL</td>\n",
       "      <td>Cleveland Research says its checks show strong...</td>\n",
       "      <td>2019-12-16</td>\n",
       "      <td>NaT</td>\n",
       "      <td>NaN</td>\n",
       "      <td>NaN</td>\n",
       "      <td>NaN</td>\n",
       "      <td>NaN</td>\n",
       "      <td>NaN</td>\n",
       "      <td>NaN</td>\n",
       "      <td>NaN</td>\n",
       "      <td>NaN</td>\n",
       "      <td>NaN</td>\n",
       "    </tr>\n",
       "    <tr>\n",
       "      <th>87216</th>\n",
       "      <td>TSLA</td>\n",
       "      <td>Tesla (TSLA +3.1%) carved out a new intraday h...</td>\n",
       "      <td>2019-12-18</td>\n",
       "      <td>NaT</td>\n",
       "      <td>NaN</td>\n",
       "      <td>NaN</td>\n",
       "      <td>NaN</td>\n",
       "      <td>NaN</td>\n",
       "      <td>NaN</td>\n",
       "      <td>NaN</td>\n",
       "      <td>NaN</td>\n",
       "      <td>NaN</td>\n",
       "      <td>NaN</td>\n",
       "    </tr>\n",
       "    <tr>\n",
       "      <th>87413</th>\n",
       "      <td>TSLA</td>\n",
       "      <td>\"Whoa ... the stock is so high lol,\" tweeted E...</td>\n",
       "      <td>2019-12-23</td>\n",
       "      <td>NaT</td>\n",
       "      <td>NaN</td>\n",
       "      <td>NaN</td>\n",
       "      <td>NaN</td>\n",
       "      <td>NaN</td>\n",
       "      <td>NaN</td>\n",
       "      <td>NaN</td>\n",
       "      <td>NaN</td>\n",
       "      <td>NaN</td>\n",
       "      <td>NaN</td>\n",
       "    </tr>\n",
       "  </tbody>\n",
       "</table>\n",
       "<p>1857 rows × 13 columns</p>\n",
       "</div>"
      ],
      "text/plain": [
       "      ticker                                          headlines        date  \\\n",
       "5       AMZN  Whole Foods (WFMI) -5.2% following a downgrade...  2011-05-02   \n",
       "11      NFLX  Netflix (NFLX +1.1%) shares post early gains a...  2011-05-02   \n",
       "74      MSFT  The likely winners in Microsoft's (MSFT -1.4%)...  2011-05-10   \n",
       "77      MSFT  Microsoft (MSFT -1.2%) and Skype signed their ...  2011-05-10   \n",
       "86      MSFT                                                     2011-05-10   \n",
       "...      ...                                                ...         ...   \n",
       "87033   ADBE  Jefferies rates Adobe (NASDAQ:ADBE) at Buy and...  2019-12-13   \n",
       "87087   TSLA  Tesla (TSLA +6.4%) is riding higher after Cred...  2019-12-16   \n",
       "87090   AAPL  Cleveland Research says its checks show strong...  2019-12-16   \n",
       "87216   TSLA  Tesla (TSLA +3.1%) carved out a new intraday h...  2019-12-18   \n",
       "87413   TSLA  \"Whoa ... the stock is so high lol,\" tweeted E...  2019-12-23   \n",
       "\n",
       "                           Date   Open   High    Low  Close        Volume  \\\n",
       "5     2011-05-02 00:00:00-04:00  9.828 10.171  9.809 10.059 187962000.000   \n",
       "11    2011-05-02 00:00:00-04:00 34.031 34.267 33.486 33.884  35550200.000   \n",
       "74    2011-05-10 00:00:00-04:00 19.807 20.174 19.706 20.034 120798700.000   \n",
       "77    2011-05-10 00:00:00-04:00 19.807 20.174 19.706 20.034 120798700.000   \n",
       "86    2011-05-10 00:00:00-04:00 19.807 20.174 19.706 20.034 120798700.000   \n",
       "...                         ...    ...    ...    ...    ...           ...   \n",
       "87033                       NaT    NaN    NaN    NaN    NaN           NaN   \n",
       "87087                       NaT    NaN    NaN    NaN    NaN           NaN   \n",
       "87090                       NaT    NaN    NaN    NaN    NaN           NaN   \n",
       "87216                       NaT    NaN    NaN    NaN    NaN           NaN   \n",
       "87413                       NaT    NaN    NaN    NaN    NaN           NaN   \n",
       "\n",
       "       Dividends  Stock Splits  Return  Event_Return  \n",
       "5          0.000         0.000   0.027         0.018  \n",
       "11         0.000         0.000   0.019        -0.013  \n",
       "74         0.000         0.000  -0.006        -0.020  \n",
       "77         0.000         0.000  -0.006        -0.020  \n",
       "86         0.000         0.000  -0.006        -0.020  \n",
       "...          ...           ...     ...           ...  \n",
       "87033        NaN           NaN     NaN           NaN  \n",
       "87087        NaN           NaN     NaN           NaN  \n",
       "87090        NaN           NaN     NaN           NaN  \n",
       "87216        NaN           NaN     NaN           NaN  \n",
       "87413        NaN           NaN     NaN           NaN  \n",
       "\n",
       "[1857 rows x 13 columns]"
      ]
     },
     "execution_count": 89,
     "metadata": {},
     "output_type": "execute_result"
    }
   ],
   "source": [
    "Combined_DF = Combined_DF[Combined_DF[\"ticker\"].isin(tickers)\n",
    "                         ]\n",
    "\n",
    "Combined_DF"
   ]
  },
  {
   "cell_type": "code",
   "execution_count": 90,
   "metadata": {},
   "outputs": [
    {
     "data": {
      "text/html": [
       "<div>\n",
       "<style scoped>\n",
       "    .dataframe tbody tr th:only-of-type {\n",
       "        vertical-align: middle;\n",
       "    }\n",
       "\n",
       "    .dataframe tbody tr th {\n",
       "        vertical-align: top;\n",
       "    }\n",
       "\n",
       "    .dataframe thead th {\n",
       "        text-align: right;\n",
       "    }\n",
       "</style>\n",
       "<table border=\"1\" class=\"dataframe\">\n",
       "  <thead>\n",
       "    <tr style=\"text-align: right;\">\n",
       "      <th></th>\n",
       "      <th>ticker</th>\n",
       "      <th>headlines</th>\n",
       "      <th>date</th>\n",
       "      <th>Event_Return</th>\n",
       "      <th>Close</th>\n",
       "    </tr>\n",
       "  </thead>\n",
       "  <tbody>\n",
       "    <tr>\n",
       "      <th>5</th>\n",
       "      <td>AMZN</td>\n",
       "      <td>Whole Foods (WFMI) -5.2% following a downgrade...</td>\n",
       "      <td>2011-05-02</td>\n",
       "      <td>0.018</td>\n",
       "      <td>10.059</td>\n",
       "    </tr>\n",
       "    <tr>\n",
       "      <th>11</th>\n",
       "      <td>NFLX</td>\n",
       "      <td>Netflix (NFLX +1.1%) shares post early gains a...</td>\n",
       "      <td>2011-05-02</td>\n",
       "      <td>-0.013</td>\n",
       "      <td>33.884</td>\n",
       "    </tr>\n",
       "    <tr>\n",
       "      <th>74</th>\n",
       "      <td>MSFT</td>\n",
       "      <td>The likely winners in Microsoft's (MSFT -1.4%)...</td>\n",
       "      <td>2011-05-10</td>\n",
       "      <td>-0.020</td>\n",
       "      <td>20.034</td>\n",
       "    </tr>\n",
       "    <tr>\n",
       "      <th>77</th>\n",
       "      <td>MSFT</td>\n",
       "      <td>Microsoft (MSFT -1.2%) and Skype signed their ...</td>\n",
       "      <td>2011-05-10</td>\n",
       "      <td>-0.020</td>\n",
       "      <td>20.034</td>\n",
       "    </tr>\n",
       "    <tr>\n",
       "      <th>86</th>\n",
       "      <td>MSFT</td>\n",
       "      <td></td>\n",
       "      <td>2011-05-10</td>\n",
       "      <td>-0.020</td>\n",
       "      <td>20.034</td>\n",
       "    </tr>\n",
       "    <tr>\n",
       "      <th>...</th>\n",
       "      <td>...</td>\n",
       "      <td>...</td>\n",
       "      <td>...</td>\n",
       "      <td>...</td>\n",
       "      <td>...</td>\n",
       "    </tr>\n",
       "    <tr>\n",
       "      <th>77929</th>\n",
       "      <td>AMZN</td>\n",
       "      <td>Amazon (NASDAQ:AMZN) is among the companies th...</td>\n",
       "      <td>2018-12-24</td>\n",
       "      <td>0.013</td>\n",
       "      <td>67.198</td>\n",
       "    </tr>\n",
       "    <tr>\n",
       "      <th>77930</th>\n",
       "      <td>AAPL</td>\n",
       "      <td>Chinese companies urge employees to boycott (N...</td>\n",
       "      <td>2018-12-24</td>\n",
       "      <td>0.006</td>\n",
       "      <td>35.232</td>\n",
       "    </tr>\n",
       "    <tr>\n",
       "      <th>77941</th>\n",
       "      <td>TSLA</td>\n",
       "      <td>Elon Musk tweets that Tesla's (NASDAQ:TSLA) Su...</td>\n",
       "      <td>2018-12-26</td>\n",
       "      <td>-0.003</td>\n",
       "      <td>21.739</td>\n",
       "    </tr>\n",
       "    <tr>\n",
       "      <th>78036</th>\n",
       "      <td>TSLA</td>\n",
       "      <td>Tesla's (TSLA +1.2%) move to add Oracle co-fou...</td>\n",
       "      <td>2018-12-28</td>\n",
       "      <td>-0.631</td>\n",
       "      <td>22.258</td>\n",
       "    </tr>\n",
       "    <tr>\n",
       "      <th>78040</th>\n",
       "      <td>TSLA</td>\n",
       "      <td>Tesla (NASDAQ:TSLA)</td>\n",
       "      <td>2018-12-28</td>\n",
       "      <td>-0.631</td>\n",
       "      <td>22.258</td>\n",
       "    </tr>\n",
       "  </tbody>\n",
       "</table>\n",
       "<p>1733 rows × 5 columns</p>\n",
       "</div>"
      ],
      "text/plain": [
       "      ticker                                          headlines        date  \\\n",
       "5       AMZN  Whole Foods (WFMI) -5.2% following a downgrade...  2011-05-02   \n",
       "11      NFLX  Netflix (NFLX +1.1%) shares post early gains a...  2011-05-02   \n",
       "74      MSFT  The likely winners in Microsoft's (MSFT -1.4%)...  2011-05-10   \n",
       "77      MSFT  Microsoft (MSFT -1.2%) and Skype signed their ...  2011-05-10   \n",
       "86      MSFT                                                     2011-05-10   \n",
       "...      ...                                                ...         ...   \n",
       "77929   AMZN  Amazon (NASDAQ:AMZN) is among the companies th...  2018-12-24   \n",
       "77930   AAPL  Chinese companies urge employees to boycott (N...  2018-12-24   \n",
       "77941   TSLA  Elon Musk tweets that Tesla's (NASDAQ:TSLA) Su...  2018-12-26   \n",
       "78036   TSLA  Tesla's (TSLA +1.2%) move to add Oracle co-fou...  2018-12-28   \n",
       "78040   TSLA                                Tesla (NASDAQ:TSLA)  2018-12-28   \n",
       "\n",
       "       Event_Return  Close  \n",
       "5             0.018 10.059  \n",
       "11           -0.013 33.884  \n",
       "74           -0.020 20.034  \n",
       "77           -0.020 20.034  \n",
       "86           -0.020 20.034  \n",
       "...             ...    ...  \n",
       "77929         0.013 67.198  \n",
       "77930         0.006 35.232  \n",
       "77941        -0.003 21.739  \n",
       "78036        -0.631 22.258  \n",
       "78040        -0.631 22.258  \n",
       "\n",
       "[1733 rows x 5 columns]"
      ]
     },
     "execution_count": 90,
     "metadata": {},
     "output_type": "execute_result"
    }
   ],
   "source": [
    "Data_DF = Combined_DF[[\"ticker\", \"headlines\", \"date\", \"Event_Return\", \"Close\"]]\n",
    "\n",
    "Data_DF = Data_DF.dropna()\n",
    "\n",
    "Data_DF"
   ]
  },
  {
   "cell_type": "code",
   "execution_count": 98,
   "metadata": {},
   "outputs": [],
   "source": [
    "Data_DF.dropna().to_csv(r\"NEWS_RETURN.csv\", sep = \"|\", index = False)"
   ]
  },
  {
   "cell_type": "code",
   "execution_count": 99,
   "metadata": {},
   "outputs": [],
   "source": [
    "Data_DF = pd.read_csv(r\"NEWS_RETURN.csv\", sep = \"|\")\n",
    "Data_DF = Data_DF.dropna()"
   ]
  },
  {
   "cell_type": "markdown",
   "metadata": {},
   "source": [
    "> Let us save the data in a CSV file to be used later, so that the data processing step can be skipped when we are looking into analysis."
   ]
  },
  {
   "cell_type": "markdown",
   "metadata": {},
   "source": [
    "> In this step, we have prepared a clean data frame that has the ticker, headline, event return, return for a given day, and future return for 10 unique stock tickers with a total of 2759 rows of data."
   ]
  },
  {
   "cell_type": "markdown",
   "metadata": {},
   "source": [
    "<a id=\"nlp\"></a>\n",
    "\n",
    "### Natural Language Processing, Sentiment Analysis, and Machine Learning"
   ]
  },
  {
   "cell_type": "markdown",
   "metadata": {},
   "source": [
    "> Now we will go through the process of following three different approaches to getting the sentiments for the news, which we will use to build the trading strategy.\n",
    "\n",
    "* Predefined model-TextBlob package\n",
    "<br>\n",
    "\n",
    "* Tuned model-classification algorithms and LSTM\n",
    "<br>\n",
    "\n",
    "* Model based on the financial lexicon\n",
    "\n",
    "> We will also explore the differences between various ways to perform the sentiment analysis. Let us go through the steps."
   ]
  },
  {
   "cell_type": "markdown",
   "metadata": {},
   "source": [
    "### `TextBlob` package"
   ]
  },
  {
   "cell_type": "markdown",
   "metadata": {},
   "source": [
    "> The texblob sentiment function is a pre-trained model based on the `Naïve-Bayes classification` algorithm. Its purpose is to convert a sentence to a numerical value of sentiment between `-1` to `+1` and map adjectives frequently found in movie reviews to sentiment polarity scores, ranging from `-1` to `+1` (`negative`-`positive`), and a similar subjectivity score (`objective`-`subjective`). \n",
    "\n",
    "> We will apply this algorithm to all headline articles. Let us compute the sentiment for all the headlines in the data."
   ]
  },
  {
   "cell_type": "code",
   "execution_count": 101,
   "metadata": {},
   "outputs": [],
   "source": [
    "text_sample_1 = \"Bayer (OTCPK:BAYRY) started the week up 3.5% to €74/share in Frankfurt, touching their \\\n",
    "highest level in 14 months, after the U.S. government said a $25M glyphosate decision against the \\\n",
    "company should be reversed.\""
   ]
  },
  {
   "cell_type": "code",
   "execution_count": 102,
   "metadata": {},
   "outputs": [
    {
     "data": {
      "text/plain": [
       "0.5"
      ]
     },
     "execution_count": 102,
     "metadata": {},
     "output_type": "execute_result"
    }
   ],
   "source": [
    "TextBlob(text_sample_1).sentiment.polarity"
   ]
  },
  {
   "cell_type": "markdown",
   "metadata": {},
   "source": [
    "> The sentiment polarity is a number between -1 (Very Negative) and +1 (Very Positive). We apply this on all headlines we have in the data that were processed in the previous step. Let us compute the sentiment for all the headlines in the data."
   ]
  },
  {
   "cell_type": "code",
   "execution_count": 103,
   "metadata": {},
   "outputs": [],
   "source": [
    "Data_DF[\"sent_textblob\"] = [TextBlob(s).sentiment.polarity for s in Data_DF[\"headlines\"]\n",
    "                            ]"
   ]
  },
  {
   "cell_type": "markdown",
   "metadata": {},
   "source": [
    "> Let us analyze the scatterplot of the sentiments and the return."
   ]
  },
  {
   "cell_type": "code",
   "execution_count": 105,
   "metadata": {},
   "outputs": [
    {
     "data": {
      "image/png": "[encoded data removed]",
      "text/plain": [
       "<Figure size 640x480 with 1 Axes>"
      ]
     },
     "metadata": {},
     "output_type": "display_data"
    }
   ],
   "source": [
    "plt.scatter(Data_DF[\"sent_textblob\"], \n",
    "            Data_DF[\"Event_Return\"],\n",
    "            alpha = 0.25)\n",
    "\n",
    "plt.title(\"Relationships between Event Return and Sentiments (for All Data)\")\n",
    "\n",
    "plt.xlabel(\"Sentiment\")\n",
    "plt.ylabel(\"Event_Return\")\n",
    "\n",
    "plt.show()"
   ]
  },
  {
   "cell_type": "code",
   "execution_count": 106,
   "metadata": {},
   "outputs": [
    {
     "data": {
      "text/plain": [
       "0.07186280631720167"
      ]
     },
     "execution_count": 106,
     "metadata": {},
     "output_type": "execute_result"
    }
   ],
   "source": [
    "corr = Data_DF[\"Event_Return\"].corr(Data_DF[\"sent_textblob\"]\n",
    "                                   )\n",
    "corr"
   ]
  },
  {
   "cell_type": "code",
   "execution_count": 107,
   "metadata": {},
   "outputs": [
    {
     "data": {
      "image/png": "[encoded data removed]",
      "text/plain": [
       "<Figure size 640x480 with 1 Axes>"
      ]
     },
     "metadata": {},
     "output_type": "display_data"
    }
   ],
   "source": [
    "Data_DF_MSFT = Data_DF[Data_DF[\"ticker\"] == \"MSFT\"]\n",
    "\n",
    "plt.scatter(Data_DF_MSFT[\"sent_textblob\"], Data_DF_MSFT[\"Event_Return\"], alpha = 0.75)\n",
    "\n",
    "plt.title(\"Relationships between Event Return and Sentiments (for MSFT)\")\n",
    "\n",
    "plt.xlabel(\"Sentiment\")\n",
    "plt.ylabel(\"Event_Return\")\n",
    "\n",
    "plt.show()"
   ]
  },
  {
   "cell_type": "markdown",
   "metadata": {},
   "source": [
    "> Overall, from the results we can see that there isn't a strong correlation between the news and the sentiments. Also, there are a lot of sentiments centered around zero.\n",
    "\n",
    "> We see that the statement has a positive sentiment of 0.5, but looking at the words that give rise to the sentiment score, we find that it is the word \"touching\" and not \"high\" that causes positive sentiment.\n",
    "\n",
    "> In this step, we develop a customized model for sentiment analysis, based on available labeled data. The labeled data for this is obtained from the kaggle website. Let’s look at the data.\n",
    "\n",
    "> The data has headlines for the news across 30 different stocks, with a total of 9470 rows, and has sentiments labeled 0 and 1. The headlines are already almost cleaned. We perform the classification steps that we learned in the previous weeks."
   ]
  },
  {
   "cell_type": "code",
   "execution_count": 108,
   "metadata": {},
   "outputs": [],
   "source": [
    "text_sample_2 = \"Bayer (OTCPK:BAYRY) started the week up 3.5% to €74/share in Frankfurt, touching their highest level in 14 months, after the U.S. government said a $25M glyphosate decision against the company should be reversed.\""
   ]
  },
  {
   "cell_type": "code",
   "execution_count": 109,
   "metadata": {},
   "outputs": [
    {
     "data": {
      "text/plain": [
       "Sentiment(polarity=0.5, subjectivity=0.5, assessments=[(['touching'], 0.5, 0.5, None)])"
      ]
     },
     "execution_count": 109,
     "metadata": {},
     "output_type": "execute_result"
    }
   ],
   "source": [
    "TextBlob(text_sample_2).sentiment_assessments"
   ]
  },
  {
   "cell_type": "markdown",
   "metadata": {},
   "source": [
    "We see that the statement has a positive sentiment of .5 but looking at the words that give rise to the sentiments, the word \"touching\" and not \"high\" causes positive sentiment. "
   ]
  },
  {
   "cell_type": "markdown",
   "metadata": {},
   "source": [
    "### Supervised Machine Learning"
   ]
  },
  {
   "cell_type": "markdown",
   "metadata": {},
   "source": [
    "> In order to run a supervised learning model, we first need to convert the news headlines into feature representation."
   ]
  },
  {
   "cell_type": "code",
   "execution_count": 110,
   "metadata": {},
   "outputs": [
    {
     "data": {
      "text/html": [
       "<div>\n",
       "<style scoped>\n",
       "    .dataframe tbody tr th:only-of-type {\n",
       "        vertical-align: middle;\n",
       "    }\n",
       "\n",
       "    .dataframe tbody tr th {\n",
       "        vertical-align: top;\n",
       "    }\n",
       "\n",
       "    .dataframe thead th {\n",
       "        text-align: right;\n",
       "    }\n",
       "</style>\n",
       "<table border=\"1\" class=\"dataframe\">\n",
       "  <thead>\n",
       "    <tr style=\"text-align: right;\">\n",
       "      <th></th>\n",
       "      <th>datetime</th>\n",
       "      <th>headline</th>\n",
       "      <th>ticker</th>\n",
       "      <th>sentiment</th>\n",
       "    </tr>\n",
       "  </thead>\n",
       "  <tbody>\n",
       "    <tr>\n",
       "      <th>0</th>\n",
       "      <td>1/16/2020 5:25</td>\n",
       "      <td>$MMM fell on hard times but could be set to re...</td>\n",
       "      <td>MMM</td>\n",
       "      <td>0</td>\n",
       "    </tr>\n",
       "    <tr>\n",
       "      <th>1</th>\n",
       "      <td>1/11/2020 6:43</td>\n",
       "      <td>Wolfe Research Upgrades 3M $MMM to ¡§Peer Perf...</td>\n",
       "      <td>MMM</td>\n",
       "      <td>1</td>\n",
       "    </tr>\n",
       "    <tr>\n",
       "      <th>2</th>\n",
       "      <td>1/9/2020 9:37</td>\n",
       "      <td>3M $MMM Upgraded to ¡§Peer Perform¡¨ by Wolfe ...</td>\n",
       "      <td>MMM</td>\n",
       "      <td>1</td>\n",
       "    </tr>\n",
       "    <tr>\n",
       "      <th>3</th>\n",
       "      <td>1/8/2020 17:01</td>\n",
       "      <td>$MMM #insideday follow up as it also opened up...</td>\n",
       "      <td>MMM</td>\n",
       "      <td>1</td>\n",
       "    </tr>\n",
       "    <tr>\n",
       "      <th>4</th>\n",
       "      <td>1/8/2020 7:44</td>\n",
       "      <td>$MMM is best #dividend #stock out there and do...</td>\n",
       "      <td>MMM</td>\n",
       "      <td>0</td>\n",
       "    </tr>\n",
       "    <tr>\n",
       "      <th>...</th>\n",
       "      <td>...</td>\n",
       "      <td>...</td>\n",
       "      <td>...</td>\n",
       "      <td>...</td>\n",
       "    </tr>\n",
       "    <tr>\n",
       "      <th>9465</th>\n",
       "      <td>4/11/2019 1:24</td>\n",
       "      <td>$WMT - Walmart shifts to remodeling vs. new st...</td>\n",
       "      <td>WMT</td>\n",
       "      <td>1</td>\n",
       "    </tr>\n",
       "    <tr>\n",
       "      <th>9466</th>\n",
       "      <td>4/10/2019 6:05</td>\n",
       "      <td>Walmart INC $WMT Holder Texas Permanent School...</td>\n",
       "      <td>WMT</td>\n",
       "      <td>0</td>\n",
       "    </tr>\n",
       "    <tr>\n",
       "      <th>9467</th>\n",
       "      <td>4/9/2019 4:38</td>\n",
       "      <td>$WMT $GILD:3 Dividend Stocks Perfect for Retir...</td>\n",
       "      <td>WMT</td>\n",
       "      <td>1</td>\n",
       "    </tr>\n",
       "    <tr>\n",
       "      <th>9468</th>\n",
       "      <td>4/9/2019 4:30</td>\n",
       "      <td>Walmart expanding use of #robots to scan shelv...</td>\n",
       "      <td>WMT</td>\n",
       "      <td>1</td>\n",
       "    </tr>\n",
       "    <tr>\n",
       "      <th>9469</th>\n",
       "      <td>4/9/2019 4:11</td>\n",
       "      <td>$WMT Walmart plans to add thousands of robot h...</td>\n",
       "      <td>WMT</td>\n",
       "      <td>1</td>\n",
       "    </tr>\n",
       "  </tbody>\n",
       "</table>\n",
       "<p>9470 rows × 4 columns</p>\n",
       "</div>"
      ],
      "text/plain": [
       "            datetime                                           headline  \\\n",
       "0     1/16/2020 5:25  $MMM fell on hard times but could be set to re...   \n",
       "1     1/11/2020 6:43  Wolfe Research Upgrades 3M $MMM to ¡§Peer Perf...   \n",
       "2      1/9/2020 9:37  3M $MMM Upgraded to ¡§Peer Perform¡¨ by Wolfe ...   \n",
       "3     1/8/2020 17:01  $MMM #insideday follow up as it also opened up...   \n",
       "4      1/8/2020 7:44  $MMM is best #dividend #stock out there and do...   \n",
       "...              ...                                                ...   \n",
       "9465  4/11/2019 1:24  $WMT - Walmart shifts to remodeling vs. new st...   \n",
       "9466  4/10/2019 6:05  Walmart INC $WMT Holder Texas Permanent School...   \n",
       "9467   4/9/2019 4:38  $WMT $GILD:3 Dividend Stocks Perfect for Retir...   \n",
       "9468   4/9/2019 4:30  Walmart expanding use of #robots to scan shelv...   \n",
       "9469   4/9/2019 4:11  $WMT Walmart plans to add thousands of robot h...   \n",
       "\n",
       "     ticker  sentiment  \n",
       "0       MMM          0  \n",
       "1       MMM          1  \n",
       "2       MMM          1  \n",
       "3       MMM          1  \n",
       "4       MMM          0  \n",
       "...     ...        ...  \n",
       "9465    WMT          1  \n",
       "9466    WMT          0  \n",
       "9467    WMT          1  \n",
       "9468    WMT          1  \n",
       "9469    WMT          1  \n",
       "\n",
       "[9470 rows x 4 columns]"
      ]
     },
     "execution_count": 110,
     "metadata": {},
     "output_type": "execute_result"
    }
   ],
   "source": [
    "Sentiments_Data = pd.read_csv(\"labelled_news.csv\",\n",
    "                              encoding = \"ISO-8859-1\")\n",
    "\n",
    "Sentiments_Data"
   ]
  },
  {
   "cell_type": "markdown",
   "metadata": {},
   "source": [
    "> Now that we have prepared the independent variable, we will train the classification model in a similar manner to the technique learned in the previous lessons. \n",
    "\n",
    "> We will first divide the data into a training set and a test set and then run the key classification models.\n",
    "\n",
    "> Let's run all the classification models."
   ]
  },
  {
   "cell_type": "markdown",
   "metadata": {},
   "source": [
    "#### Word-embedding"
   ]
  },
  {
   "cell_type": "code",
   "execution_count": 111,
   "metadata": {},
   "outputs": [],
   "source": [
    "all_vectors = np.array([np.array([token.vector for token in nlp(s)]\n",
    "                                      ).mean(axis = 0) * np.ones((96)\n",
    "                                                                   ) for s in Sentiments_Data[\"headline\"]\n",
    "                          ]\n",
    "                         )"
   ]
  },
  {
   "cell_type": "code",
   "execution_count": 112,
   "metadata": {},
   "outputs": [],
   "source": [
    "Y = Sentiments_Data[\"sentiment\"]\n",
    "X = all_vectors"
   ]
  },
  {
   "cell_type": "code",
   "execution_count": 113,
   "metadata": {},
   "outputs": [],
   "source": [
    "from sklearn.model_selection import train_test_split, cross_val_score, KFold, GridSearchCV"
   ]
  },
  {
   "cell_type": "code",
   "execution_count": 114,
   "metadata": {},
   "outputs": [],
   "source": [
    "val_size = 0.25\n",
    "\n",
    "seed = 7\n",
    "\n",
    "num_folds = 10\n",
    "\n",
    "scoring = \"accuracy\"\n",
    "\n",
    "X_Train, X_Test, Y_Train, Y_Test = train_test_split(X, Y,\n",
    "                                                    test_size = val_size,\n",
    "                                                    random_state = seed)"
   ]
  },
  {
   "cell_type": "code",
   "execution_count": 115,
   "metadata": {},
   "outputs": [],
   "source": [
    "MODELS = []"
   ]
  },
  {
   "cell_type": "code",
   "execution_count": 116,
   "metadata": {},
   "outputs": [],
   "source": [
    "MODELS.append((\"LR\", LogisticRegression()\n",
    "              )\n",
    "             )\n",
    "\n",
    "MODELS.append((\"KNN\", KNeighborsClassifier()\n",
    "              )\n",
    "             )\n",
    "\n",
    "MODELS.append((\"SVM\", SVC()\n",
    "              )\n",
    "             )\n",
    "\n",
    "MODELS.append((\"CART\", DecisionTreeClassifier()\n",
    "              )\n",
    "             )\n",
    "\n",
    "MODELS.append((\"NN\", MLPClassifier()\n",
    "              )\n",
    "             )\n",
    "\n",
    "MODELS.append((\"RF\", RandomForestClassifier()\n",
    "              )\n",
    "             )"
   ]
  },
  {
   "cell_type": "code",
   "execution_count": 117,
   "metadata": {},
   "outputs": [
    {
     "name": "stdout",
     "output_type": "stream",
     "text": [
      "LR: 0.737817 (0.014072) 0.749789 0.720017\n",
      "[[ 617  248]\n",
      " [ 415 1088]]\n"
     ]
    },
    {
     "name": "stderr",
     "output_type": "stream",
     "text": [
      "  File \"E:\\software\\anaconda3\\Lib\\site-packages\\joblib\\externals\\loky\\backend\\context.py\", line 199, in _count_physical_cores\n",
      "    cpu_info = subprocess.run(\n",
      "               ^^^^^^^^^^^^^^^\n",
      "  File \"E:\\software\\anaconda3\\Lib\\subprocess.py\", line 548, in run\n",
      "    with Popen(*popenargs, **kwargs) as process:\n",
      "         ^^^^^^^^^^^^^^^^^^^^^^^^^^^\n",
      "  File \"E:\\software\\anaconda3\\Lib\\subprocess.py\", line 1024, in __init__\n",
      "    self._execute_child(args, executable, preexec_fn, close_fds,\n",
      "  File \"E:\\software\\anaconda3\\Lib\\subprocess.py\", line 1509, in _execute_child\n",
      "    hp, ht, pid, tid = _winapi.CreateProcess(executable, args,\n",
      "                       ^^^^^^^^^^^^^^^^^^^^^^^^^^^^^^^^^^^^^^^\n"
     ]
    },
    {
     "name": "stdout",
     "output_type": "stream",
     "text": [
      "KNN: 0.743586 (0.019953) 0.842439 0.758024\n",
      "[[ 722  263]\n",
      " [ 310 1073]]\n",
      "SVM: 0.783296 (0.018442) 0.823993 0.767314\n",
      "[[ 653  172]\n",
      " [ 379 1164]]\n",
      "CART: 0.645872 (0.020067) 0.999859 0.637669\n",
      "[[603 429]\n",
      " [429 907]]\n",
      "NN: 0.801743 (0.013269) 0.980991 0.812078\n",
      "[[ 779  192]\n",
      " [ 253 1144]]\n",
      "RF: 0.757391 (0.015296) 0.999859 0.734375\n",
      "[[ 569  166]\n",
      " [ 463 1170]]\n"
     ]
    }
   ],
   "source": [
    "results = []\n",
    "\n",
    "algorithms = []\n",
    "\n",
    "kfold_results = []\n",
    "\n",
    "train_results = []\n",
    "\n",
    "test_results = []\n",
    "\n",
    "for algo, MODEL in MODELS:\n",
    "    \n",
    "    kfold = KFold(n_splits = num_folds,\n",
    "                  shuffle = True,\n",
    "                  random_state = seed)\n",
    "    \n",
    "    cv_results = cross_val_score(MODEL,\n",
    "                                 X_Train,\n",
    "                                 Y_Train,\n",
    "                                 cv = kfold,\n",
    "                                 scoring = scoring)\n",
    "    \n",
    "    results.append(cv_results)\n",
    "    \n",
    "    algorithms.append(algo)\n",
    "    \n",
    "    res = MODEL.fit(X_Train, Y_Train)\n",
    "    \n",
    "    train_result = accuracy_score(res.predict(X_Train), Y_Train)\n",
    "    \n",
    "    train_results.append(train_result)\n",
    "    \n",
    "    test_result = accuracy_score(res.predict(X_Test), Y_Test)\n",
    "    \n",
    "    test_results.append(test_result)\n",
    "\n",
    "    Message = \"%s: %f (%f) %f %f\" % (algo, cv_results.mean(), cv_results.std(), train_result, test_result)\n",
    "    \n",
    "    print(Message)\n",
    "    \n",
    "    print(confusion_matrix(res.predict(X_Test), Y_Test)\n",
    "         )"
   ]
  },
  {
   "cell_type": "markdown",
   "metadata": {},
   "source": [
    "### Let's compare the Performance of Algorithms"
   ]
  },
  {
   "cell_type": "code",
   "execution_count": 118,
   "metadata": {},
   "outputs": [
    {
     "data": {
      "image/png": "[encoded data removed]",
      "text/plain": [
       "<Figure size 640x480 with 1 Axes>"
      ]
     },
     "metadata": {},
     "output_type": "display_data"
    }
   ],
   "source": [
    "fig = plt.figure()\n",
    "\n",
    "ind = np.arange(len(algorithms)\n",
    "               )\n",
    "\n",
    "width = 0.30\n",
    "\n",
    "fig.suptitle(\"Comparing Algorithms (Accuracy)\")\n",
    "\n",
    "ax = fig.add_subplot(111)\n",
    "\n",
    "plt.bar(ind - width/2, train_results, \n",
    "        width = width,\n",
    "        label = \"Accuracy in TRAIN Set\")\n",
    "\n",
    "plt.bar(ind + width/2, test_results, \n",
    "        width = width,\n",
    "        label = \"Accuracy in TEST Set\")\n",
    "\n",
    "plt.legend()\n",
    "\n",
    "ax.set_xticks(ind)\n",
    "ax.set_xticklabels(algorithms)\n",
    "\n",
    "plt.show()"
   ]
  },
  {
   "cell_type": "markdown",
   "metadata": {},
   "source": [
    "### LSTM based model"
   ]
  },
  {
   "cell_type": "markdown",
   "metadata": {},
   "source": [
    "***If I could see you in one more class, we will go for this :)***"
   ]
  },
  {
   "cell_type": "markdown",
   "metadata": {},
   "source": [
    "### Unsupervised Machine Learning with Fiancial Lexicon"
   ]
  },
  {
   "cell_type": "markdown",
   "metadata": {},
   "source": [
    "> Lexicons are special dictionaries or vocabularies that have been created for analyzing sentiments.\n",
    "VADER (Valence Aware Dictionary for Entiment Reasoning) is a pre-built sentiment analysis model included in the NLTK package. "
   ]
  },
  {
   "cell_type": "code",
   "execution_count": 119,
   "metadata": {},
   "outputs": [],
   "source": [
    "SIA = SentimentIntensityAnalyzer()"
   ]
  },
  {
   "cell_type": "code",
   "execution_count": 120,
   "metadata": {},
   "outputs": [
    {
     "data": {
      "text/html": [
       "<div>\n",
       "<style scoped>\n",
       "    .dataframe tbody tr th:only-of-type {\n",
       "        vertical-align: middle;\n",
       "    }\n",
       "\n",
       "    .dataframe tbody tr th {\n",
       "        vertical-align: top;\n",
       "    }\n",
       "\n",
       "    .dataframe thead th {\n",
       "        text-align: right;\n",
       "    }\n",
       "</style>\n",
       "<table border=\"1\" class=\"dataframe\">\n",
       "  <thead>\n",
       "    <tr style=\"text-align: right;\">\n",
       "      <th></th>\n",
       "      <th>Item</th>\n",
       "      <th>POS</th>\n",
       "      <th>Aff_Score</th>\n",
       "      <th>Neg_Score</th>\n",
       "    </tr>\n",
       "  </thead>\n",
       "  <tbody>\n",
       "    <tr>\n",
       "      <th>0</th>\n",
       "      <td>'em</td>\n",
       "      <td>PR</td>\n",
       "      <td>0.380</td>\n",
       "      <td>0.533</td>\n",
       "    </tr>\n",
       "    <tr>\n",
       "      <th>1</th>\n",
       "      <td>'n</td>\n",
       "      <td>CC</td>\n",
       "      <td>1.413</td>\n",
       "      <td>1.200</td>\n",
       "    </tr>\n",
       "    <tr>\n",
       "      <th>2</th>\n",
       "      <td>'n handle</td>\n",
       "      <td>NaN</td>\n",
       "      <td>2.839</td>\n",
       "      <td>2.941</td>\n",
       "    </tr>\n",
       "    <tr>\n",
       "      <th>3</th>\n",
       "      <td>'s a</td>\n",
       "      <td>NaN</td>\n",
       "      <td>-0.023</td>\n",
       "      <td>-0.014</td>\n",
       "    </tr>\n",
       "    <tr>\n",
       "      <th>4</th>\n",
       "      <td>'s abc</td>\n",
       "      <td>NaN</td>\n",
       "      <td>2.262</td>\n",
       "      <td>2.300</td>\n",
       "    </tr>\n",
       "    <tr>\n",
       "      <th>...</th>\n",
       "      <td>...</td>\n",
       "      <td>...</td>\n",
       "      <td>...</td>\n",
       "      <td>...</td>\n",
       "    </tr>\n",
       "    <tr>\n",
       "      <th>20545</th>\n",
       "      <td>zoom</td>\n",
       "      <td>VB</td>\n",
       "      <td>-0.652</td>\n",
       "      <td>-0.649</td>\n",
       "    </tr>\n",
       "    <tr>\n",
       "      <th>20546</th>\n",
       "      <td>zortrades.com</td>\n",
       "      <td>NN</td>\n",
       "      <td>2.141</td>\n",
       "      <td>2.163</td>\n",
       "    </tr>\n",
       "    <tr>\n",
       "      <th>20547</th>\n",
       "      <td>zte</td>\n",
       "      <td>NN</td>\n",
       "      <td>4.934</td>\n",
       "      <td>5.084</td>\n",
       "    </tr>\n",
       "    <tr>\n",
       "      <th>20548</th>\n",
       "      <td>zuck</td>\n",
       "      <td>NN</td>\n",
       "      <td>-0.238</td>\n",
       "      <td>-0.185</td>\n",
       "    </tr>\n",
       "    <tr>\n",
       "      <th>20549</th>\n",
       "      <td>zuckerberg</td>\n",
       "      <td>NN</td>\n",
       "      <td>-0.310</td>\n",
       "      <td>-0.237</td>\n",
       "    </tr>\n",
       "  </tbody>\n",
       "</table>\n",
       "<p>20550 rows × 4 columns</p>\n",
       "</div>"
      ],
      "text/plain": [
       "                Item  POS  Aff_Score  Neg_Score\n",
       "0                'em   PR      0.380      0.533\n",
       "1                 'n   CC      1.413      1.200\n",
       "2          'n handle  NaN      2.839      2.941\n",
       "3               's a  NaN     -0.023     -0.014\n",
       "4             's abc  NaN      2.262      2.300\n",
       "...              ...  ...        ...        ...\n",
       "20545           zoom   VB     -0.652     -0.649\n",
       "20546  zortrades.com   NN      2.141      2.163\n",
       "20547            zte   NN      4.934      5.084\n",
       "20548           zuck   NN     -0.238     -0.185\n",
       "20549     zuckerberg   NN     -0.310     -0.237\n",
       "\n",
       "[20550 rows x 4 columns]"
      ]
     },
     "execution_count": 120,
     "metadata": {},
     "output_type": "execute_result"
    }
   ],
   "source": [
    "stock_lexicon = pd.read_csv(\"lexicon.csv\")\n",
    "\n",
    "stock_lexicon"
   ]
  },
  {
   "cell_type": "code",
   "execution_count": 121,
   "metadata": {},
   "outputs": [],
   "source": [
    "stock_lexicon[\"sentiment\"] = (stock_lexicon[\"Aff_Score\"] + stock_lexicon[\"Neg_Score\"]\n",
    "                             )/2"
   ]
  },
  {
   "cell_type": "code",
   "execution_count": 125,
   "metadata": {},
   "outputs": [],
   "source": [
    "stock_lexicon = dict(zip(stock_lexicon.Item, \n",
    "                         stock_lexicon.sentiment)\n",
    "                    )\n",
    "\n",
    "stock_lexicon = {k:v for k, v in stock_lexicon.items() if len(k.split(\" \"))==1}\n",
    "\n",
    "stock_lexicon_scaled = {}\n",
    "\n",
    "for k, v in stock_lexicon.items():\n",
    "    if v > 0:\n",
    "        stock_lexicon_scaled[k] = v / max(stock_lexicon.values()\n",
    "                                         ) * 4\n",
    "        \n",
    "    else:\n",
    "        stock_lexicon_scaled[k] = v / min(stock_lexicon.values()\n",
    "                                         ) * -4\n",
    "        \n",
    "final_lexicon = {}\n",
    "final_lexicon.update(stock_lexicon_scaled)\n",
    "final_lexicon.update(SIA.lexicon)\n",
    "SIA.lexicon = final_lexicon"
   ]
  },
  {
   "cell_type": "code",
   "execution_count": 157,
   "metadata": {},
   "outputs": [],
   "source": [
    "text_sample_3 = \"AAPL has little competition from any of the tech companies\""
   ]
  },
  {
   "cell_type": "code",
   "execution_count": 154,
   "metadata": {},
   "outputs": [],
   "source": [
    "text_sample_3 = \"AAPL is trading higher after reporting its October sales rose 11.2% M/M. It has seen a 25% jump in orders\""
   ]
  },
  {
   "cell_type": "code",
   "execution_count": 158,
   "metadata": {},
   "outputs": [
    {
     "data": {
      "text/plain": [
       "0.0297"
      ]
     },
     "execution_count": 158,
     "metadata": {},
     "output_type": "execute_result"
    }
   ],
   "source": [
    "SIA.polarity_scores(text_sample_3)[\"compound\"]"
   ]
  },
  {
   "cell_type": "code",
   "execution_count": 159,
   "metadata": {},
   "outputs": [
    {
     "data": {
      "text/plain": [
       "Sentiment(polarity=-0.1875, subjectivity=0.5, assessments=[(['little'], -0.1875, 0.5, None)])"
      ]
     },
     "execution_count": 159,
     "metadata": {},
     "output_type": "execute_result"
    }
   ],
   "source": [
    "TextBlob(text_sample_3).sentiment_assessments"
   ]
  },
  {
   "cell_type": "code",
   "execution_count": 162,
   "metadata": {},
   "outputs": [
    {
     "data": {
      "text/plain": [
       "(1724,)"
      ]
     },
     "execution_count": 162,
     "metadata": {},
     "output_type": "execute_result"
    }
   ],
   "source": [
    "vader_sentiments = np.array([SIA.polarity_scores(s)[\"compound\"] for s in Data_DF[\"headlines\"]\n",
    "                               ]\n",
    "                              )\n",
    "vader_sentiments.shape"
   ]
  },
  {
   "cell_type": "code",
   "execution_count": 161,
   "metadata": {},
   "outputs": [
    {
     "data": {
      "text/html": [
       "<div>\n",
       "<style scoped>\n",
       "    .dataframe tbody tr th:only-of-type {\n",
       "        vertical-align: middle;\n",
       "    }\n",
       "\n",
       "    .dataframe tbody tr th {\n",
       "        vertical-align: top;\n",
       "    }\n",
       "\n",
       "    .dataframe thead th {\n",
       "        text-align: right;\n",
       "    }\n",
       "</style>\n",
       "<table border=\"1\" class=\"dataframe\">\n",
       "  <thead>\n",
       "    <tr style=\"text-align: right;\">\n",
       "      <th></th>\n",
       "      <th>ticker</th>\n",
       "      <th>headlines</th>\n",
       "      <th>date</th>\n",
       "      <th>Event_Return</th>\n",
       "      <th>Close</th>\n",
       "      <th>sent_textblob</th>\n",
       "    </tr>\n",
       "  </thead>\n",
       "  <tbody>\n",
       "    <tr>\n",
       "      <th>0</th>\n",
       "      <td>AMZN</td>\n",
       "      <td>Whole Foods (WFMI) -5.2% following a downgrade...</td>\n",
       "      <td>2011-05-02</td>\n",
       "      <td>0.018</td>\n",
       "      <td>10.059</td>\n",
       "      <td>0.262</td>\n",
       "    </tr>\n",
       "    <tr>\n",
       "      <th>1</th>\n",
       "      <td>NFLX</td>\n",
       "      <td>Netflix (NFLX +1.1%) shares post early gains a...</td>\n",
       "      <td>2011-05-02</td>\n",
       "      <td>-0.013</td>\n",
       "      <td>33.884</td>\n",
       "      <td>-0.044</td>\n",
       "    </tr>\n",
       "    <tr>\n",
       "      <th>2</th>\n",
       "      <td>MSFT</td>\n",
       "      <td>The likely winners in Microsoft's (MSFT -1.4%)...</td>\n",
       "      <td>2011-05-10</td>\n",
       "      <td>-0.020</td>\n",
       "      <td>20.034</td>\n",
       "      <td>0.167</td>\n",
       "    </tr>\n",
       "    <tr>\n",
       "      <th>3</th>\n",
       "      <td>MSFT</td>\n",
       "      <td>Microsoft (MSFT -1.2%) and Skype signed their ...</td>\n",
       "      <td>2011-05-10</td>\n",
       "      <td>-0.020</td>\n",
       "      <td>20.034</td>\n",
       "      <td>-0.031</td>\n",
       "    </tr>\n",
       "    <tr>\n",
       "      <th>5</th>\n",
       "      <td>AMZN</td>\n",
       "      <td>Amazon.com (AMZN -1.7%) shares slip as comment...</td>\n",
       "      <td>2011-05-12</td>\n",
       "      <td>-0.007</td>\n",
       "      <td>10.304</td>\n",
       "      <td>0.000</td>\n",
       "    </tr>\n",
       "    <tr>\n",
       "      <th>...</th>\n",
       "      <td>...</td>\n",
       "      <td>...</td>\n",
       "      <td>...</td>\n",
       "      <td>...</td>\n",
       "      <td>...</td>\n",
       "      <td>...</td>\n",
       "    </tr>\n",
       "    <tr>\n",
       "      <th>1728</th>\n",
       "      <td>AMZN</td>\n",
       "      <td>Amazon (NASDAQ:AMZN) is among the companies th...</td>\n",
       "      <td>2018-12-24</td>\n",
       "      <td>0.013</td>\n",
       "      <td>67.198</td>\n",
       "      <td>0.093</td>\n",
       "    </tr>\n",
       "    <tr>\n",
       "      <th>1729</th>\n",
       "      <td>AAPL</td>\n",
       "      <td>Chinese companies urge employees to boycott (N...</td>\n",
       "      <td>2018-12-24</td>\n",
       "      <td>0.006</td>\n",
       "      <td>35.232</td>\n",
       "      <td>-0.010</td>\n",
       "    </tr>\n",
       "    <tr>\n",
       "      <th>1730</th>\n",
       "      <td>TSLA</td>\n",
       "      <td>Elon Musk tweets that Tesla's (NASDAQ:TSLA) Su...</td>\n",
       "      <td>2018-12-26</td>\n",
       "      <td>-0.003</td>\n",
       "      <td>21.739</td>\n",
       "      <td>0.200</td>\n",
       "    </tr>\n",
       "    <tr>\n",
       "      <th>1731</th>\n",
       "      <td>TSLA</td>\n",
       "      <td>Tesla's (TSLA +1.2%) move to add Oracle co-fou...</td>\n",
       "      <td>2018-12-28</td>\n",
       "      <td>-0.631</td>\n",
       "      <td>22.258</td>\n",
       "      <td>0.188</td>\n",
       "    </tr>\n",
       "    <tr>\n",
       "      <th>1732</th>\n",
       "      <td>TSLA</td>\n",
       "      <td>Tesla (NASDAQ:TSLA)</td>\n",
       "      <td>2018-12-28</td>\n",
       "      <td>-0.631</td>\n",
       "      <td>22.258</td>\n",
       "      <td>0.000</td>\n",
       "    </tr>\n",
       "  </tbody>\n",
       "</table>\n",
       "<p>1724 rows × 6 columns</p>\n",
       "</div>"
      ],
      "text/plain": [
       "     ticker                                          headlines        date  \\\n",
       "0      AMZN  Whole Foods (WFMI) -5.2% following a downgrade...  2011-05-02   \n",
       "1      NFLX  Netflix (NFLX +1.1%) shares post early gains a...  2011-05-02   \n",
       "2      MSFT  The likely winners in Microsoft's (MSFT -1.4%)...  2011-05-10   \n",
       "3      MSFT  Microsoft (MSFT -1.2%) and Skype signed their ...  2011-05-10   \n",
       "5      AMZN  Amazon.com (AMZN -1.7%) shares slip as comment...  2011-05-12   \n",
       "...     ...                                                ...         ...   \n",
       "1728   AMZN  Amazon (NASDAQ:AMZN) is among the companies th...  2018-12-24   \n",
       "1729   AAPL  Chinese companies urge employees to boycott (N...  2018-12-24   \n",
       "1730   TSLA  Elon Musk tweets that Tesla's (NASDAQ:TSLA) Su...  2018-12-26   \n",
       "1731   TSLA  Tesla's (TSLA +1.2%) move to add Oracle co-fou...  2018-12-28   \n",
       "1732   TSLA                                Tesla (NASDAQ:TSLA)  2018-12-28   \n",
       "\n",
       "      Event_Return  Close  sent_textblob  \n",
       "0            0.018 10.059          0.262  \n",
       "1           -0.013 33.884         -0.044  \n",
       "2           -0.020 20.034          0.167  \n",
       "3           -0.020 20.034         -0.031  \n",
       "5           -0.007 10.304          0.000  \n",
       "...            ...    ...            ...  \n",
       "1728         0.013 67.198          0.093  \n",
       "1729         0.006 35.232         -0.010  \n",
       "1730        -0.003 21.739          0.200  \n",
       "1731        -0.631 22.258          0.188  \n",
       "1732        -0.631 22.258          0.000  \n",
       "\n",
       "[1724 rows x 6 columns]"
      ]
     },
     "execution_count": 161,
     "metadata": {},
     "output_type": "execute_result"
    }
   ],
   "source": [
    "Data_DF"
   ]
  },
  {
   "cell_type": "code",
   "execution_count": 164,
   "metadata": {},
   "outputs": [],
   "source": [
    "Data_DF[\"sent_lex\"] = vader_sentiments"
   ]
  },
  {
   "cell_type": "code",
   "execution_count": 165,
   "metadata": {},
   "outputs": [
    {
     "data": {
      "text/plain": [
       "0.15991074810224218"
      ]
     },
     "execution_count": 165,
     "metadata": {},
     "output_type": "execute_result"
    }
   ],
   "source": [
    "corr = Data_DF[\"Event_Return\"].corr(Data_DF[\"sent_lex\"]\n",
    "                                   )\n",
    "corr"
   ]
  },
  {
   "cell_type": "code",
   "execution_count": 166,
   "metadata": {},
   "outputs": [
    {
     "data": {
      "text/plain": [
       "Text(0.5, 0, 'Sentiments')"
      ]
     },
     "execution_count": 166,
     "metadata": {},
     "output_type": "execute_result"
    },
    {
     "data": {
      "image/png": "[encoded data removed]",
      "text/plain": [
       "<Figure size 640x480 with 1 Axes>"
      ]
     },
     "metadata": {},
     "output_type": "display_data"
    }
   ],
   "source": [
    "plt.scatter(Data_DF[\"sent_lex\"], Data_DF[\"Event_Return\"],\n",
    "           alpha = 0.25)\n",
    "\n",
    "plt.ylabel(\"Event Return\")\n",
    "plt.xlabel(\"Sentiments\")"
   ]
  },
  {
   "cell_type": "code",
   "execution_count": 167,
   "metadata": {},
   "outputs": [
    {
     "data": {
      "text/plain": [
       "Text(0.5, 0, 'Sentiments')"
      ]
     },
     "execution_count": 167,
     "metadata": {},
     "output_type": "execute_result"
    },
    {
     "data": {
      "image/png": "[encoded data removed]",
      "text/plain": [
       "<Figure size 640x480 with 1 Axes>"
      ]
     },
     "metadata": {},
     "output_type": "display_data"
    }
   ],
   "source": [
    "Data_DF_Amazon = Data_DF[Data_DF[\"ticker\"] == \"AMZN\"]\n",
    "plt.scatter(Data_DF_Amazon[\"sent_lex\"], Data_DF_Amazon[\"Event_Return\"],\n",
    "           alpha = 0.25)\n",
    "\n",
    "plt.ylabel(\"Event Return\")\n",
    "plt.xlabel(\"Sentiments\")"
   ]
  },
  {
   "cell_type": "markdown",
   "metadata": {},
   "source": [
    "### EDA and Comparisons"
   ]
  },
  {
   "cell_type": "markdown",
   "metadata": {},
   "source": [
    "> Let us look at the sample headlines and the sentiments from three different methodologies, followed by an analysis that makes use of visualization."
   ]
  },
  {
   "cell_type": "code",
   "execution_count": 168,
   "metadata": {},
   "outputs": [
    {
     "data": {
      "text/html": [
       "<div>\n",
       "<style scoped>\n",
       "    .dataframe tbody tr th:only-of-type {\n",
       "        vertical-align: middle;\n",
       "    }\n",
       "\n",
       "    .dataframe tbody tr th {\n",
       "        vertical-align: top;\n",
       "    }\n",
       "\n",
       "    .dataframe thead th {\n",
       "        text-align: right;\n",
       "    }\n",
       "</style>\n",
       "<table border=\"1\" class=\"dataframe\">\n",
       "  <thead>\n",
       "    <tr style=\"text-align: right;\">\n",
       "      <th></th>\n",
       "      <th>ticker</th>\n",
       "      <th>headlines</th>\n",
       "      <th>sent_textblob</th>\n",
       "      <th>sent_lex</th>\n",
       "    </tr>\n",
       "  </thead>\n",
       "  <tbody>\n",
       "    <tr>\n",
       "      <th>1</th>\n",
       "      <td>NFLX</td>\n",
       "      <td>Netflix (NFLX +1.1%) shares post early gains after Citigroup ups its rating to Buy and lifts its price target to $300 from $245. U.S. revenue growth is sustainable, Citi says, \"with a path to 50M subscribers by 2013,\" adding that NFLX has little competition in price, selection and  convenience; mass market adoption of tablets will help, and the mass-market adoption phase is still to come.</td>\n",
       "      <td>-0.044</td>\n",
       "      <td>0.858</td>\n",
       "    </tr>\n",
       "    <tr>\n",
       "      <th>17</th>\n",
       "      <td>NFLX</td>\n",
       "      <td>Today's strength in Netflix (NFLX +4.8%) is attributed to comments from Mark Zuckerberg that Facebook has  been in discussions with NFLX related to potential integration of social networking tools. Music, TV shows and books will be among the next products to go social through the website, Zuckerberg says.</td>\n",
       "      <td>0.013</td>\n",
       "      <td>0.653</td>\n",
       "    </tr>\n",
       "    <tr>\n",
       "      <th>34</th>\n",
       "      <td>NFLX</td>\n",
       "      <td>Netflix (NFLX +3.4%) CEO Reed Hastings jumps on Facebook's board - interesting in light of the idea the companies may be getting more likely to cooperate than compete (previously: I, II, III).</td>\n",
       "      <td>0.247</td>\n",
       "      <td>0.739</td>\n",
       "    </tr>\n",
       "    <tr>\n",
       "      <th>39</th>\n",
       "      <td>NFLX</td>\n",
       "      <td>A few reasons why Netflix (NFLX +7.9%) could profit from Latin America: over 600M people, growing economies, increasing broadband usage, and a strategy that involves combining Hollywood studio libraries with local content. However, addressing the \"local nuances attached to reaching customers in each individual market\" won't be easy.</td>\n",
       "      <td>0.047</td>\n",
       "      <td>0.813</td>\n",
       "    </tr>\n",
       "    <tr>\n",
       "      <th>41</th>\n",
       "      <td>NFLX</td>\n",
       "      <td>Dawson James boldly initiates coverage of Netflix (NASDAQ:NFLX) at Sell with a $181 downside target, citing an 8.7% Y/Y drop in per-subscriber revenue, increased competition (Hulu, AMZN, Facebook, GOOG), rising content costs, and consolidation among CDNs. For now, NFLX is +5% to $281.44. (earlier)</td>\n",
       "      <td>0.167</td>\n",
       "      <td>0.883</td>\n",
       "    </tr>\n",
       "    <tr>\n",
       "      <th>...</th>\n",
       "      <td>...</td>\n",
       "      <td>...</td>\n",
       "      <td>...</td>\n",
       "      <td>...</td>\n",
       "    </tr>\n",
       "    <tr>\n",
       "      <th>1655</th>\n",
       "      <td>NFLX</td>\n",
       "      <td>Netflix (NASDAQ:NFLX) is down 3.9% amid a down day in the tech sector. The streamer is underperforming following an update from Morgan Stanley on Apple's potential content launch. \"We forecast that an Apple Video streaming service with high quality but limited breadth could be priced at the low end vs. competitors, or $7.99/month, and reach over 50M paid subscribers by 2025, compared to 124M a...</td>\n",
       "      <td>-0.062</td>\n",
       "      <td>0.857</td>\n",
       "    </tr>\n",
       "    <tr>\n",
       "      <th>1665</th>\n",
       "      <td>NFLX</td>\n",
       "      <td>Netflix (NASDAQ:NFLX) is set to land on Sky's (OTCPK:SKYAY)</td>\n",
       "      <td>0.000</td>\n",
       "      <td>0.110</td>\n",
       "    </tr>\n",
       "    <tr>\n",
       "      <th>1676</th>\n",
       "      <td>NFLX</td>\n",
       "      <td>Credit Suisse previews how the 2019 content slate is looking for Netflix (NASDAQ:NFLX). The firm says 2019 content is shaping up to be \"meaningfully stronger\" than 2018 in a development that bodes well for subscriber growth, both domestic and globally. CS notes that promising movies include Martin Scorsese's The Irishman and Michael Bay's Six Underground. New series include The Witcher and the...</td>\n",
       "      <td>0.135</td>\n",
       "      <td>0.980</td>\n",
       "    </tr>\n",
       "    <tr>\n",
       "      <th>1721</th>\n",
       "      <td>NFLX</td>\n",
       "      <td>Bernstein analyst</td>\n",
       "      <td>0.000</td>\n",
       "      <td>0.260</td>\n",
       "    </tr>\n",
       "    <tr>\n",
       "      <th>1725</th>\n",
       "      <td>NFLX</td>\n",
       "      <td>Buckingham Research cuts its Netflix (NASDAQ:NFLX) target from $406 to $382 citing the S&amp;P 500 sell-off.Analyst Matthew Harrigan sticks with a Buy rating as he still sees Netflix as the \"top global streaming category winner\" and is constructive on the company's pricing power beyond global member growth.Source: Bloomberg First Word.Netflix shares are down 2.4%</td>\n",
       "      <td>0.119</td>\n",
       "      <td>0.945</td>\n",
       "    </tr>\n",
       "  </tbody>\n",
       "</table>\n",
       "<p>269 rows × 4 columns</p>\n",
       "</div>"
      ],
      "text/plain": [
       "     ticker  \\\n",
       "1      NFLX   \n",
       "17     NFLX   \n",
       "34     NFLX   \n",
       "39     NFLX   \n",
       "41     NFLX   \n",
       "...     ...   \n",
       "1655   NFLX   \n",
       "1665   NFLX   \n",
       "1676   NFLX   \n",
       "1721   NFLX   \n",
       "1725   NFLX   \n",
       "\n",
       "                                                                                                                                                                                                                                                                                                                                                                                                            headlines  \\\n",
       "1             Netflix (NFLX +1.1%) shares post early gains after Citigroup ups its rating to Buy and lifts its price target to $300 from $245. U.S. revenue growth is sustainable, Citi says, \"with a path to 50M subscribers by 2013,\" adding that NFLX has little competition in price, selection and  convenience; mass market adoption of tablets will help, and the mass-market adoption phase is still to come.   \n",
       "17                                                                                                 Today's strength in Netflix (NFLX +4.8%) is attributed to comments from Mark Zuckerberg that Facebook has  been in discussions with NFLX related to potential integration of social networking tools. Music, TV shows and books will be among the next products to go social through the website, Zuckerberg says.   \n",
       "34                                                                                                                                                                                                                   Netflix (NFLX +3.4%) CEO Reed Hastings jumps on Facebook's board - interesting in light of the idea the companies may be getting more likely to cooperate than compete (previously: I, II, III).   \n",
       "39                                                                     A few reasons why Netflix (NFLX +7.9%) could profit from Latin America: over 600M people, growing economies, increasing broadband usage, and a strategy that involves combining Hollywood studio libraries with local content. However, addressing the \"local nuances attached to reaching customers in each individual market\" won't be easy.   \n",
       "41                                                                                                         Dawson James boldly initiates coverage of Netflix (NASDAQ:NFLX) at Sell with a $181 downside target, citing an 8.7% Y/Y drop in per-subscriber revenue, increased competition (Hulu, AMZN, Facebook, GOOG), rising content costs, and consolidation among CDNs. For now, NFLX is +5% to $281.44. (earlier)   \n",
       "...                                                                                                                                                                                                                                                                                                                                                                                                               ...   \n",
       "1655  Netflix (NASDAQ:NFLX) is down 3.9% amid a down day in the tech sector. The streamer is underperforming following an update from Morgan Stanley on Apple's potential content launch. \"We forecast that an Apple Video streaming service with high quality but limited breadth could be priced at the low end vs. competitors, or $7.99/month, and reach over 50M paid subscribers by 2025, compared to 124M a...   \n",
       "1665                                                                                                                                                                                                                                                                                                                                                      Netflix (NASDAQ:NFLX) is set to land on Sky's (OTCPK:SKYAY)   \n",
       "1676  Credit Suisse previews how the 2019 content slate is looking for Netflix (NASDAQ:NFLX). The firm says 2019 content is shaping up to be \"meaningfully stronger\" than 2018 in a development that bodes well for subscriber growth, both domestic and globally. CS notes that promising movies include Martin Scorsese's The Irishman and Michael Bay's Six Underground. New series include The Witcher and the...   \n",
       "1721                                                                                                                                                                                                                                                                                                                                                                                                Bernstein analyst   \n",
       "1725                                        Buckingham Research cuts its Netflix (NASDAQ:NFLX) target from $406 to $382 citing the S&P 500 sell-off.Analyst Matthew Harrigan sticks with a Buy rating as he still sees Netflix as the \"top global streaming category winner\" and is constructive on the company's pricing power beyond global member growth.Source: Bloomberg First Word.Netflix shares are down 2.4%   \n",
       "\n",
       "      sent_textblob  sent_lex  \n",
       "1            -0.044     0.858  \n",
       "17            0.013     0.653  \n",
       "34            0.247     0.739  \n",
       "39            0.047     0.813  \n",
       "41            0.167     0.883  \n",
       "...             ...       ...  \n",
       "1655         -0.062     0.857  \n",
       "1665          0.000     0.110  \n",
       "1676          0.135     0.980  \n",
       "1721          0.000     0.260  \n",
       "1725          0.119     0.945  \n",
       "\n",
       "[269 rows x 4 columns]"
      ]
     },
     "metadata": {},
     "output_type": "display_data"
    }
   ],
   "source": [
    "New_Data_DF = Data_DF[Data_DF[\"ticker\"] == \"NFLX\"][[\"ticker\", \"headlines\", \"sent_textblob\", \"sent_lex\"]]\n",
    "\n",
    "from pandas import option_context\n",
    "\n",
    "with option_context(\"display.max_colwidth\", 400):\n",
    "    display(New_Data_DF)"
   ]
  },
  {
   "cell_type": "code",
   "execution_count": 169,
   "metadata": {},
   "outputs": [],
   "source": [
    "text = 'LinkedIn (LNKD) could have an exceptional drop in its price over the coming months'"
   ]
  },
  {
   "cell_type": "code",
   "execution_count": 170,
   "metadata": {},
   "outputs": [
    {
     "data": {
      "text/html": [
       "<div>\n",
       "<style scoped>\n",
       "    .dataframe tbody tr th:only-of-type {\n",
       "        vertical-align: middle;\n",
       "    }\n",
       "\n",
       "    .dataframe tbody tr th {\n",
       "        vertical-align: top;\n",
       "    }\n",
       "\n",
       "    .dataframe thead th {\n",
       "        text-align: right;\n",
       "    }\n",
       "</style>\n",
       "<table border=\"1\" class=\"dataframe\">\n",
       "  <thead>\n",
       "    <tr style=\"text-align: right;\">\n",
       "      <th></th>\n",
       "      <th>ticker</th>\n",
       "      <th>News</th>\n",
       "      <th>sentiment_financial</th>\n",
       "      <th>sentiment_mov</th>\n",
       "    </tr>\n",
       "  </thead>\n",
       "  <tbody>\n",
       "    <tr>\n",
       "      <th>0</th>\n",
       "      <td>LNKD</td>\n",
       "      <td>LinkedIn (LNKD) could have an exceptional drop in its price over the coming months</td>\n",
       "      <td>-0.195</td>\n",
       "      <td>0.660</td>\n",
       "    </tr>\n",
       "  </tbody>\n",
       "</table>\n",
       "</div>"
      ],
      "text/plain": [
       "  ticker  \\\n",
       "0   LNKD   \n",
       "\n",
       "                                                                                 News  \\\n",
       "0  LinkedIn (LNKD) could have an exceptional drop in its price over the coming months   \n",
       "\n",
       "   sentiment_financial  sentiment_mov  \n",
       "0               -0.195          0.660  "
      ]
     },
     "metadata": {},
     "output_type": "display_data"
    }
   ],
   "source": [
    "data = [[\"LNKD\", \"LinkedIn (LNKD) could have an exceptional drop in its price over the coming months\", -.1945, 0.66]]\n",
    "\n",
    "DF = pd.DataFrame(data, columns = [\"ticker\", \"News\", \"sentiment_financial\", \"sentiment_mov\"])\n",
    "\n",
    "with option_context(\"display.max_colwidth\", 200):\n",
    "    display(DF)"
   ]
  },
  {
   "cell_type": "code",
   "execution_count": 171,
   "metadata": {},
   "outputs": [
    {
     "data": {
      "text/plain": [
       "-0.1945"
      ]
     },
     "execution_count": 171,
     "metadata": {},
     "output_type": "execute_result"
    }
   ],
   "source": [
    "SIA.polarity_scores(text)[\"compound\"]"
   ]
  },
  {
   "cell_type": "code",
   "execution_count": 172,
   "metadata": {},
   "outputs": [
    {
     "data": {
      "text/plain": [
       "0.6666666666666666"
      ]
     },
     "execution_count": 172,
     "metadata": {},
     "output_type": "execute_result"
    }
   ],
   "source": [
    "TextBlob(text).sentiment.polarity"
   ]
  },
  {
   "cell_type": "code",
   "execution_count": 173,
   "metadata": {},
   "outputs": [
    {
     "data": {
      "text/plain": [
       "[(['exceptional'], 0.6666666666666666, 1.0, None)]"
      ]
     },
     "execution_count": 173,
     "metadata": {},
     "output_type": "execute_result"
    }
   ],
   "source": [
    "TextBlob(text).sentiment_assessments.assessments"
   ]
  },
  {
   "cell_type": "code",
   "execution_count": 174,
   "metadata": {},
   "outputs": [
    {
     "data": {
      "text/plain": [
       "<Axes: title={'center': 'Correlation Matrix'}>"
      ]
     },
     "execution_count": 174,
     "metadata": {},
     "output_type": "execute_result"
    },
    {
     "data": {
      "image/png": "[encoded data removed]",
      "text/plain": [
       "<Figure size 800x800 with 2 Axes>"
      ]
     },
     "metadata": {},
     "output_type": "display_data"
    }
   ],
   "source": [
    "corr = Data_DF[[\"sent_textblob\", \"sent_lex\", \"Event_Return\"]].dropna(axis =0).corr()\n",
    "\n",
    "plt.figure(figsize = (8, 8)\n",
    "          )\n",
    "plt.title(\"Correlation Matrix\")\n",
    "sns.heatmap(corr[[\"Event_Return\"]],\n",
    "            annot = True)"
   ]
  },
  {
   "cell_type": "code",
   "execution_count": 175,
   "metadata": {},
   "outputs": [],
   "source": [
    "corr_data = []\n",
    "\n",
    "for ticker in Data_DF[\"ticker\"].unique():\n",
    "\n",
    "    New_Data_DF = Data_DF[Data_DF[\"ticker\"] == ticker]\n",
    "    \n",
    "    if New_Data_DF.shape[0] > 40 :\n",
    "        corr_textblob = New_Data_DF[\"Event_Return\"].corr(New_Data_DF[\"sent_textblob\"])\n",
    "        corr_lex = New_Data_DF[\"Event_Return\"].corr(New_Data_DF[\"sent_lex\"])\n",
    "        corr_data.append([ticker, corr_textblob, corr_lex])\n",
    "    else:\n",
    "        continue"
   ]
  },
  {
   "cell_type": "code",
   "execution_count": 176,
   "metadata": {},
   "outputs": [
    {
     "data": {
      "text/html": [
       "<div>\n",
       "<style scoped>\n",
       "    .dataframe tbody tr th:only-of-type {\n",
       "        vertical-align: middle;\n",
       "    }\n",
       "\n",
       "    .dataframe tbody tr th {\n",
       "        vertical-align: top;\n",
       "    }\n",
       "\n",
       "    .dataframe thead th {\n",
       "        text-align: right;\n",
       "    }\n",
       "</style>\n",
       "<table border=\"1\" class=\"dataframe\">\n",
       "  <thead>\n",
       "    <tr style=\"text-align: right;\">\n",
       "      <th></th>\n",
       "      <th>corr_textblob</th>\n",
       "      <th>corr_lex</th>\n",
       "    </tr>\n",
       "    <tr>\n",
       "      <th>ticker</th>\n",
       "      <th></th>\n",
       "      <th></th>\n",
       "    </tr>\n",
       "  </thead>\n",
       "  <tbody>\n",
       "    <tr>\n",
       "      <th>AMZN</th>\n",
       "      <td>0.039</td>\n",
       "      <td>0.172</td>\n",
       "    </tr>\n",
       "    <tr>\n",
       "      <th>NFLX</th>\n",
       "      <td>0.106</td>\n",
       "      <td>0.241</td>\n",
       "    </tr>\n",
       "    <tr>\n",
       "      <th>MSFT</th>\n",
       "      <td>0.010</td>\n",
       "      <td>0.132</td>\n",
       "    </tr>\n",
       "    <tr>\n",
       "      <th>GOOG</th>\n",
       "      <td>0.046</td>\n",
       "      <td>0.150</td>\n",
       "    </tr>\n",
       "    <tr>\n",
       "      <th>JPM</th>\n",
       "      <td>0.041</td>\n",
       "      <td>-0.024</td>\n",
       "    </tr>\n",
       "    <tr>\n",
       "      <th>TSLA</th>\n",
       "      <td>0.079</td>\n",
       "      <td>0.143</td>\n",
       "    </tr>\n",
       "    <tr>\n",
       "      <th>AAPL</th>\n",
       "      <td>0.154</td>\n",
       "      <td>0.168</td>\n",
       "    </tr>\n",
       "    <tr>\n",
       "      <th>WMT</th>\n",
       "      <td>0.264</td>\n",
       "      <td>0.140</td>\n",
       "    </tr>\n",
       "    <tr>\n",
       "      <th>ADBE</th>\n",
       "      <td>0.119</td>\n",
       "      <td>0.224</td>\n",
       "    </tr>\n",
       "  </tbody>\n",
       "</table>\n",
       "</div>"
      ],
      "text/plain": [
       "        corr_textblob  corr_lex\n",
       "ticker                         \n",
       "AMZN            0.039     0.172\n",
       "NFLX            0.106     0.241\n",
       "MSFT            0.010     0.132\n",
       "GOOG            0.046     0.150\n",
       "JPM             0.041    -0.024\n",
       "TSLA            0.079     0.143\n",
       "AAPL            0.154     0.168\n",
       "WMT             0.264     0.140\n",
       "ADBE            0.119     0.224"
      ]
     },
     "execution_count": 176,
     "metadata": {},
     "output_type": "execute_result"
    }
   ],
   "source": [
    "corr_DF = pd.DataFrame(corr_data,\n",
    "                       columns = [\"ticker\", \"corr_textblob\", \"corr_lex\"]\n",
    "                       )\n",
    "corr_DF = corr_DF.set_index(\"ticker\")\n",
    "corr_DF"
   ]
  },
  {
   "cell_type": "markdown",
   "metadata": {},
   "source": [
    "<a id=\"test\"></a>\n",
    "\n",
    "### [Predictive Model Assessment, Strategy Building, and Backtesting](#test)"
   ]
  },
  {
   "cell_type": "markdown",
   "metadata": {},
   "source": [
    "> Sentiment data can be used in different ways for the trading strategy. Sentiment scores can be used as a directional signal and ideally create a long-short portfolio, by buying the stocks with a positive score and selling the stocks with a negative score. \n",
    "\n",
    "> The sentiments can also be used as additional features over and above other features (such as correlated stocks and technical indicators) in a supervised learning model to predict the price or come up with a trading strategy.\n",
    "\n",
    "> In the trading strategy in the current problem solving task, we buy and sell stock as per the current stock sentiments: \n",
    "\n",
    "* Buy a stock when the change in sentiment score (current sentiment score - previous sentiment score) is greater than 0.5 and sell a stock when the change in sentiment score is less than -0.5.\n",
    "<br>\n",
    "\n",
    "* In addition, we check the 15-day moving average when buying or selling in a unit of 100.\n",
    "\n",
    "> Surely, there can be many ways to create a trading strategy based on sentiments, by varying the threshold or changing the number of units based on the initial cash available.\n",
    "\n",
    "> We will use lexicon-based sentiments for the trading strategy."
   ]
  },
  {
   "cell_type": "markdown",
   "metadata": {},
   "source": [
    "### Our Strategy"
   ]
  },
  {
   "cell_type": "code",
   "execution_count": 177,
   "metadata": {},
   "outputs": [],
   "source": [
    "import backtrader as bt\n",
    "import backtrader.indicators as btind\n",
    "import backtrader.analyzers as btanalyzers"
   ]
  },
  {
   "cell_type": "markdown",
   "metadata": {},
   "source": [
    "> Here we will use Backtrader, a Python-based API for writing and backtesting trading strategy.  \n",
    "\n",
    "> Backtrader allows you to focus on writing reusable trading strategies, indicators, and analyzers instead of having to spend time building infrastructure. We have a convenient framework to backtest and write our trading strategy. \n",
    "\n",
    "> We will implement a simple strategy to buy if the previous day’s sentiment score increases by 0.5 from the last day and sell if it decreases by 0.5.\n",
    "\n",
    "The following function contains two classes:\n",
    "\n",
    "* Sentiment\n",
    "\n",
    "* SentimentStrat: The \"next\" function of this class implements the actual trading strategy.\n"
   ]
  },
  {
   "cell_type": "code",
   "execution_count": 197,
   "metadata": {},
   "outputs": [],
   "source": [
    "class Sentiment(bt.Indicator):\n",
    "    lines = (\"sentiment\",)\n",
    "    plotinfo = dict(\n",
    "        plotymargin=0.5,\n",
    "        plothlines=[0],\n",
    "        plotyticks=[1.0, 0, -1.0])\n",
    "    \n",
    "    def next(self):\n",
    "        self.sentiment = 0.0\n",
    "        self.date = self.data.datetime\n",
    "        date = bt.num2date(self.date[0]\n",
    "                          ).date()\n",
    "        prev_sentiment = self.sentiment        \n",
    "        if date in date_sentiment:\n",
    "            self.sentiment = date_sentiment[date]\n",
    "        self.lines.sentiment[0] = self.sentiment\n",
    "\n",
    "class SentimentStrat(bt.Strategy):\n",
    "    params = (\n",
    "        (\"period\", 15),\n",
    "        (\"printlog\", True),\n",
    "    )\n",
    "\n",
    "    def log(self, txt, dt=None, doprint=False):\n",
    "        \"\"\" \n",
    "        Logging function for this strategy\n",
    "        \"\"\"\n",
    "        \n",
    "        if self.params.printlog or doprint:\n",
    "            dt = dt or self.datas[0].datetime.date(0)\n",
    "            print(\"%s, %s\" % (dt.isoformat(), txt)\n",
    "                 )\n",
    "\n",
    "    def __init__(self):\n",
    "        \n",
    "        # Keep a reference to the \"close\" line in the data[0] dataseries\n",
    "        \n",
    "        self.dataclose = self.datas[0].close\n",
    "        \n",
    "        # Keep track of pending orders\n",
    "        \n",
    "        self.order = None\n",
    "        self.buyprice = None\n",
    "        self.buycomm = None\n",
    "        self.sma = bt.indicators.SimpleMovingAverage(self.datas[0], period=self.params.period)\n",
    "        self.date = self.data.datetime\n",
    "        self.sentiment = None\n",
    "        Sentiment(self.data)\n",
    "        self.plotinfo.plot = False\n",
    "        \n",
    "        \n",
    "    def notify_order(self, order):\n",
    "        if order.status in [order.Submitted, order.Accepted]:\n",
    "            \n",
    "            # Buy/Sell order submitted/accepted to/by broker - Nothing to do\n",
    "            \n",
    "            return\n",
    "        \n",
    "        # Check if an order has been completed\n",
    "        \n",
    "        ###### ATTENTION: broker could reject order if not enough cash #######\n",
    "        \n",
    "        if order.status in [order.Completed]:\n",
    "            if order.isbuy():\n",
    "                self.log(\n",
    "                    \"BUY DONE, Price: %.2f, Cost: %.2f, Comm %.2f\" %\n",
    "                    (order.executed.price,\n",
    "                     order.executed.value,\n",
    "                     order.executed.comm))\n",
    "                self.buyprice = order.executed.price\n",
    "                self.buycomm = order.executed.comm\n",
    "            else:  # Sell\n",
    "                self.log(\"SELL DONE, Price: %.2f, Cost: %.2f, Comm %.2f\" %\n",
    "                         (order.executed.price,\n",
    "                          order.executed.value,\n",
    "                          order.executed.comm))\n",
    "                \n",
    "            self.bar_executed = len(self)     \n",
    "            \n",
    "        elif order.status in [order.Canceled, order.Margin, order.Rejected]:\n",
    "            self.log(\"Order Canceled/Margin/Rejected\")\n",
    "            \n",
    "        # Write down: no pending order\n",
    "        \n",
    "        self.order = None\n",
    "        \n",
    "    def notify_trade(self, trade):\n",
    "        if not trade.isclosed:\n",
    "            return\n",
    "\n",
    "        self.log(\"Profit of the operation, GROSS %.2f, NET %.2f\" %\n",
    "                 (trade.pnl, trade.pnlcomm))\n",
    "    \n",
    "    #### Main Strategy ####\n",
    "    \n",
    "    def next(self):        \n",
    "        date = bt.num2date(self.date[0]).date()\n",
    "        prev_sentiment = self.sentiment\n",
    "        if date in date_sentiment:\n",
    "            self.sentiment = date_sentiment[date]\n",
    "        \n",
    "        # Check if an order is pending. if yes, we cannot send a 2nd one\n",
    "        \n",
    "        if self.order:\n",
    "            return       \n",
    "        \n",
    "        # If not in the market and previous sentiment not none\n",
    "        \n",
    "        if not self.position and prev_sentiment:\n",
    "            \n",
    "            # buy if current close more than sma AND sentiment increased by >= 0.5\n",
    "            \n",
    "            if self.dataclose[0] > self.sma[0] and self.sentiment - prev_sentiment >= 0.5:\n",
    "                \n",
    "                self.log(\"Previous Sentiment %.2f, New Sentiment %.2f BUY CREATE, %.2f\" % (prev_sentiment, self.sentiment, self.dataclose[0]\n",
    "                                                                                          )\n",
    "                        )    \n",
    "                \n",
    "                self.order = self.buy()\n",
    "                \n",
    "        # Already in the market and previous sentiment not none\n",
    "        \n",
    "        elif prev_sentiment:\n",
    "        \n",
    "            # sell if current close less than sma AND sentiment decreased by >= 0.5\n",
    "            if self.dataclose[0] < self.sma[0] and self.sentiment - prev_sentiment <= -0.5:\n",
    "                self.log(\"Previous Sentiment %.2f, New Sentiment %.2f SELL CREATE, %.2f\" % (prev_sentiment, self.sentiment, self.dataclose[0]\n",
    "                                                                                           )\n",
    "                        )            \n",
    "                \n",
    "                self.order = self.sell()\n",
    "\n",
    "    def stop(self):\n",
    "        self.log(\"(MA Period %2d) Ending Value %.2f\" %\n",
    "                 (self.params.period, self.broker.getvalue()), doprint=True)\n",
    "        \n",
    "        "
   ]
  },
  {
   "cell_type": "markdown",
   "metadata": {},
   "source": [
    "### Function for running the trading strategy"
   ]
  },
  {
   "cell_type": "markdown",
   "metadata": {},
   "source": [
    "> Now, let’s build a generic to run the strategy for any stock. \n",
    "\n",
    "> We will specify the “ticker” stock feeds to be pulled from Yahoo Finance, and set an initial amount of $100,000, with a fixed size of 100 lots per trade."
   ]
  },
  {
   "cell_type": "code",
   "execution_count": 198,
   "metadata": {},
   "outputs": [],
   "source": [
    "def run_our_strategy(ticker, start, end):\n",
    "    print(ticker)\n",
    "    \n",
    "    ticker = yf.Ticker(ticker)\n",
    "    \n",
    "    df_ticker = ticker.history(start = start,\n",
    "                               end = end)\n",
    "    \n",
    "    BRAIN = bt.Cerebro()\n",
    "    \n",
    "    BRAIN.addstrategy(SentimentStrat)\n",
    "    \n",
    "    data = bt.feeds.PandasData(dataname = df_ticker)\n",
    "    \n",
    "    BRAIN.adddata(data)\n",
    "    \n",
    "    start = 100000.0\n",
    "    \n",
    "    BRAIN.broker.setcash(start)\n",
    "    \n",
    "    BRAIN.addsizer(bt.sizers.FixedSize, stake = 100)\n",
    "    \n",
    "    print(\"Starting Value of Our Portfolio: %.2f\" % start)\n",
    "    \n",
    "    plt.rcParams[\"font.size\"] = \"14\"\n",
    "    \n",
    "    plt.rcParams[\"figure.figsize\"] = [14, 10]\n",
    "    \n",
    "    BRAIN.run()\n",
    "    \n",
    "    BRAIN.plot(volume = False,\n",
    "               iplot = True,\n",
    "               plotname = ticker)\n",
    "    \n",
    "    end = BRAIN.broker.getvalue()\n",
    "    \n",
    "    print(\"Starting Value of Our Portfolio: %.2f\\nFinal Value of Our Portfolio: %.2f\\nProfit: %.2f\\n\" % (start, end, end - start)\n",
    "         )\n",
    "    \n",
    "    return float(df_ticker[\"Close\"][0]), (end - start)"
   ]
  },
  {
   "cell_type": "markdown",
   "metadata": {},
   "source": [
    "### Individual Stocks"
   ]
  },
  {
   "cell_type": "code",
   "execution_count": 199,
   "metadata": {},
   "outputs": [],
   "source": [
    "ticker = \"GOOG\"\n",
    "\n",
    "date_sentiment = Data_DF[Data_DF[\"ticker\"].isin([ticker]\n",
    "                                               )\n",
    "                        ]\n",
    "\n",
    "date_sentiment = date_sentiment[[\"date\", \"sent_lex\"]]\n",
    "\n",
    "date_sentiment[\"date\"] = pd.to_datetime(date_sentiment[\"date\"], \n",
    "                                        format = \"%Y-%m-%d\").dt.date\n",
    "\n",
    "date_sentiment = date_sentiment.set_index(\"date\")[\"sent_lex\"]\n",
    "\n",
    "date_sentiment = date_sentiment.to_dict()\n",
    "\n",
    "run_our_strategy(ticker, \n",
    "                 start = \"2012-01-01\",\n",
    "                 end = \"2018-12-12\")"
   ]
  },
  {
   "cell_type": "code",
   "execution_count": 200,
   "metadata": {},
   "outputs": [],
   "source": [
    "Data_DF_GOOG = Data_DF[Data_DF[\"ticker\"].isin([ticker])]\n",
    "\n",
    "previous_news = list(Data_DF_GOOG[Data_DF_GOOG[\"date\"] == \"2017-04-27\"][\"headlines\"])\n",
    " \n",
    "present_news = list(Data_DF_GOOG[Data_DF_GOOG[\"date\"] == \"2017-04-28\"][\"headlines\"])\n",
    "\n",
    "print(\"Previous News:\", previous_news,\"\\n\\n\\n\", \"Present News:\", present_news)"
   ]
  },
  {
   "cell_type": "markdown",
   "metadata": {},
   "source": [
    "> First running the strategy for Google.\n",
    "\n",
    "> The chart will divided into three panels.\n",
    "\n",
    "* Top Panel: The top panel is the Cash Value Observer, which, as the name implies, keeps track of the cash and total portfolio value during the life of the backtesting run. As we can see in this panel, we started with $100,000.00 and the final value at the end is __________ .\n",
    "<br>\n",
    "\n",
    "* Second Panel: This panel is Trade Observer, which shows, at the end of a trade, the actual profit and loss. A trade is defined as opening a position and taking the position back to zero (directly or crossing over from long to short or short to long).\n",
    "<br>\n",
    "\n",
    "* Third Panel: This panel is Buy Sell Observer, which plots (in addition to the prices) where buy and sell operations have taken place. \n",
    "<br>\n",
    "\n",
    "* Bottom Panel : This panel shows the sentiment score."
   ]
  },
  {
   "cell_type": "code",
   "execution_count": 194,
   "metadata": {},
   "outputs": [],
   "source": [
    "ticker = \"AMZN\"\n",
    "\n",
    "date_sentiment = Data_DF[Data_DF[\"ticker\"].isin([ticker]\n",
    "                                               )\n",
    "                        ]\n",
    "\n",
    "date_sentiment = date_sentiment[[\"date\", \"sent_lex\"]]\n",
    "\n",
    "date_sentiment[\"date\"] = pd.to_datetime(date_sentiment[\"date\"], \n",
    "                                        format = \"%Y-%m-%d\").dt.date\n",
    "\n",
    "date_sentiment = date_sentiment.set_index(\"date\")[\"sent_lex\"]\n",
    "\n",
    "date_sentiment = date_sentiment.to_dict()\n",
    "\n",
    "run_our_strategy(ticker, \n",
    "                 start = \"2012-01-01\",\n",
    "                 end = \"2018-12-12\")"
   ]
  },
  {
   "cell_type": "markdown",
   "metadata": {},
   "source": [
    "### Multiple Stocks"
   ]
  },
  {
   "cell_type": "code",
   "execution_count": 195,
   "metadata": {},
   "outputs": [],
   "source": [
    "results_tickers = {}\n",
    "\n",
    "for ticker in tickers:\n",
    "\n",
    "    date_sentiment = Data_DF[Data_DF[\"ticker\"].isin([ticker]\n",
    "                                               )\n",
    "                        ]\n",
    "\n",
    "    date_sentiment = date_sentiment[[\"date\", \"sent_lex\"]]\n",
    "\n",
    "\n",
    "    date_sentiment[\"date\"] = pd.to_datetime(date_sentiment[\"date\"], \n",
    "                                        format = \"%Y-%m-%d\").dt.date\n",
    "\n",
    "\n",
    "    date_sentiment = date_sentiment.set_index(\"date\")[\"sent_lex\"]\n",
    "\n",
    "\n",
    "    date_sentiment = date_sentiment.to_dict()\n",
    "\n",
    "    results_tickers[ticker] = run_our_strategy(ticker, \n",
    "                                               start = \"2012-01-01\",\n",
    "                                               end = \"2018-12-12\")"
   ]
  },
  {
   "cell_type": "code",
   "execution_count": 196,
   "metadata": {},
   "outputs": [],
   "source": [
    "pd.DataFrame.from_dict(results_tickers).set_index([pd.Index([\"Per Unit Start Price\",\n",
    "                                                             \"Strategy Profit\"]\n",
    "                                                           )\n",
    "                                                  ]\n",
    "                                                 )"
   ]
  },
  {
   "cell_type": "markdown",
   "metadata": {},
   "source": [
    "### Varying the strategy time period"
   ]
  },
  {
   "cell_type": "code",
   "execution_count": 202,
   "metadata": {},
   "outputs": [],
   "source": [
    "results_tickers = {}\n",
    "\n",
    "for ticker in tickers:\n",
    "\n",
    "    date_sentiment = Data_DF[Data_DF[\"ticker\"].isin([ticker]\n",
    "                                               )\n",
    "                        ]\n",
    "\n",
    "    date_sentiment = date_sentiment[[\"date\", \"sent_lex\"]]\n",
    "\n",
    "\n",
    "    date_sentiment[\"date\"] = pd.to_datetime(date_sentiment[\"date\"], \n",
    "                                        format = \"%Y-%m-%d\").dt.date\n",
    "\n",
    "\n",
    "    date_sentiment = date_sentiment.set_index(\"date\")[\"sent_lex\"]\n",
    "\n",
    "\n",
    "    date_sentiment = date_sentiment.to_dict()\n",
    "\n",
    "    results_tickers[ticker] = run_our_strategy(ticker, \n",
    "                                               start = \"2012-01-01\",\n",
    "                                               end = \"2015-05-04\")"
   ]
  },
  {
   "cell_type": "code",
   "execution_count": 201,
   "metadata": {},
   "outputs": [],
   "source": [
    "pd.DataFrame.from_dict(results_tickers).set_index([pd.Index([\"Per Unit Start Price\",\n",
    "                                                             \"Strategy Profit\"]\n",
    "                                                           )\n",
    "                                                  ]\n",
    "                                                 )"
   ]
  },
  {
   "cell_type": "markdown",
   "metadata": {},
   "source": [
    "### What We've Learned and What's Next "
   ]
  },
  {
   "cell_type": "markdown",
   "metadata": {},
   "source": [
    "> We found a good performance of the sentiment-based strategy across all the stocks except _______. \n",
    "\n",
    "> Our sentiment-based strategy performs quite well in different time periods. The strategy can be further tweaked to modify the threshold and order size. \n",
    "\n",
    "> Additional metrics such as the Sharpe ratio and maximum drawdown can also be used to understand the performance of the strategy. This will be examined in Exercise Problem Set #5. Sentiments can also be used along with other features, such as correlated variables and technical indicators, for prediction.\n",
    "\n",
    "> We performed a comparison of the models and concluded that one of the most important steps in training the model for sentiment analysis is training it using domain-specific vocabulary.\n",
    "\n",
    "> We further used the sentiments as signals to develop different trading strategies. This initial result suggests that a model trained on financial lexicon-based sentiments could prove viable as a trading strategy.\n",
    "\n",
    "> Additional improvements to the entire processes of NLP-based strategy building can be made by using more complex pre-trained sentiment analysis models, such as Bert by Google or different pre-trained NLP models available on open-source platforms. Existing NLP libraries fill in some of the pre-processing and encoding steps to allow us to focus on the inference step."
   ]
  },
  {
   "cell_type": "markdown",
   "metadata": {},
   "source": [
    "<!-- ![gift](https://images.squarespace-cdn.com/content/v1/53f3eb3ce4b077de0318f4ea/628aea48-e976-49e7-a779-f8355fb7e171/For_QF627.gif?format=2500w \"gift\") -->"
   ]
  },
  {
   "cell_type": "markdown",
   "metadata": {},
   "source": [
    "> `Thank you for working with the script, Team 👍`"
   ]
  }
 ],
 "metadata": {
  "_change_revision": 206,
  "_is_fork": false,
  "kernelspec": {
   "display_name": "Python 3 (ipykernel)",
   "language": "python",
   "name": "python3"
  },
  "language_info": {
   "codemirror_mode": {
    "name": "ipython",
    "version": 3
   },
   "file_extension": ".py",
   "mimetype": "text/x-python",
   "name": "python",
   "nbconvert_exporter": "python",
   "pygments_lexer": "ipython3",
   "version": "3.11.3"
  }
 },
 "nbformat": 4,
 "nbformat_minor": 4
}
