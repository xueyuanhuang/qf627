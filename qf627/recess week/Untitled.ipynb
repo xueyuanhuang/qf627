{
 "cells": [
  {
   "cell_type": "markdown",
   "id": "5508d197",
   "metadata": {},
   "source": [
    "### Bias-Variance Trade-Off"
   ]
  },
  {
   "cell_type": "code",
   "execution_count": 2,
   "id": "62e3c822",
   "metadata": {},
   "outputs": [
    {
     "name": "stdout",
     "output_type": "stream",
     "text": [
      "(0, 1)\n",
      "(1, 3)\n",
      "(2, 5)\n",
      "(3, 7)\n"
     ]
    }
   ],
   "source": [
    "for i in enumerate(range(1,9,2)):\n",
    "    print(i)"
   ]
  },
  {
   "cell_type": "code",
   "execution_count": null,
   "id": "3575e439",
   "metadata": {},
   "outputs": [],
   "source": []
  }
 ],
 "metadata": {
  "kernelspec": {
   "display_name": "Python 3 (ipykernel)",
   "language": "python",
   "name": "python3"
  },
  "language_info": {
   "codemirror_mode": {
    "name": "ipython",
    "version": 3
   },
   "file_extension": ".py",
   "mimetype": "text/x-python",
   "name": "python",
   "nbconvert_exporter": "python",
   "pygments_lexer": "ipython3",
   "version": "3.11.3"
  }
 },
 "nbformat": 4,
 "nbformat_minor": 5
}
