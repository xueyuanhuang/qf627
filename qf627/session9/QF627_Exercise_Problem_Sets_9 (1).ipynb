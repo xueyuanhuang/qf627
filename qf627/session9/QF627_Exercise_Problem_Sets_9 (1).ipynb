{
 "cells": [
  {
   "cell_type": "markdown",
   "metadata": {},
   "source": [
    "# QF 627 Programming and Computational Finance\n",
    "## Problem-Sets for Exercise `9` | `Questions`"
   ]
  },
  {
   "cell_type": "markdown",
   "metadata": {},
   "source": [
    "> Hi Team, 👋\n",
    "\n",
    "> The initial problem sets were designed for practicing supervised learning in classification problems and hierarchical risk parity algorithms, as well as applying unsupervised learning to portfolio management.\n",
    "\n",
    "> Given that we haven't covered some these topics in depth yet and will be discussing them further in Lessons 9 and 10, the problem sets have been revised.\n",
    "\n",
    "> Having reviewed your submissions so far, some of the questions have been crafted specifically to enhance your grasp of the course material.\n",
    "\n",
    "> I trust that the exercises below will support your review and understanding of the course content. 🤞\n",
    "\n",
    "#### <font color = \"green\"> Please submit your answers via the eLearn submission folder. Again, you may submit incomplete answers. (Answer as fully as you can. This will help me to see where you stand.)"
   ]
  },
  {
   "cell_type": "markdown",
   "metadata": {},
   "source": [
    "### For standardization of your answers…\n",
    "\n",
    "> Please execute the lines of code below before you start work on your answers."
   ]
  },
  {
   "cell_type": "code",
   "execution_count": null,
   "metadata": {},
   "outputs": [],
   "source": [
    "import numpy as np\n",
    "import pandas as pd\n",
    "\n",
    "import matplotlib.pyplot as plt\n",
    "import matplotlib as mpl\n",
    "\n",
    "from pandas_datareader import data as pdr\n",
    "\n",
    "import datetime as dt\n",
    "import yfinance as yf"
   ]
  },
  {
   "cell_type": "markdown",
   "metadata": {},
   "source": [
    "> Let's set some print option."
   ]
  },
  {
   "cell_type": "code",
   "execution_count": null,
   "metadata": {},
   "outputs": [],
   "source": [
    "np.set_printoptions(precision = 3)\n",
    "\n",
    "plt.style.use(\"ggplot\")\n",
    "\n",
    "mpl.rcParams[\"axes.grid\"] = True\n",
    "mpl.rcParams[\"grid.color\"] = \"grey\"\n",
    "mpl.rcParams[\"grid.alpha\"] = 0.25\n",
    "\n",
    "mpl.rcParams[\"axes.facecolor\"] = \"white\"\n",
    "\n",
    "mpl.rcParams[\"legend.fontsize\"] = 14\n",
    "\n",
    "%matplotlib inline"
   ]
  },
  {
   "cell_type": "markdown",
   "metadata": {},
   "source": [
    "## 👇 <font color = \"purple\"> Bigger Question 1. \n",
    "    \n",
    "### The first question is to look for clusters of correlations using the agglomerate hierarchical clustering technique (AGNES).\n",
    "    \n",
    "### <font color = green> Using the 102 tickers below, and what you have learned in class, run the analysis and develop a dendrogram. Make sure to employ the inclusion criterion of less than 30% of missing values.\n",
    "    \n",
    "    According to the dendrogram, which of the stocks are most correlated? \n",
    "    \n",
    "    Also based on the dendrogram, please identify two stocks that are not well correlated."
   ]
  },
  {
   "cell_type": "code",
   "execution_count": null,
   "metadata": {},
   "outputs": [],
   "source": [
    "nasdaq100_components = pd.read_html(\"https://en.wikipedia.org/wiki/Nasdaq-100\")[4]\n",
    "\n",
    "nasdaq100_components"
   ]
  },
  {
   "cell_type": "markdown",
   "metadata": {},
   "source": [
    "### Below are the lines of code that lead to an answer:"
   ]
  },
  {
   "cell_type": "code",
   "execution_count": null,
   "metadata": {},
   "outputs": [],
   "source": []
  },
  {
   "cell_type": "markdown",
   "metadata": {},
   "source": [
    "### <font color = red> Answer 1 is presented in the cell below: </font>"
   ]
  },
  {
   "cell_type": "code",
   "execution_count": null,
   "metadata": {},
   "outputs": [],
   "source": []
  },
  {
   "cell_type": "markdown",
   "metadata": {},
   "source": [
    "## 👇 <font color = \"purple\"> Bigger Question 2. ### \n",
    "\n",
    "### The second question asks you to run a principal components analysis (PCA) for portfolio management. Begin your analysis with all the above stocks. Make sure to employ the inclusion criterion of less than 30% of missing values.\n",
    "    \n",
    "    Your objective is to find the portfolio using PCA.\n",
    "    \n",
    "    Select and normalize the four largest components and use them as weights for \n",
    "    portfolios that you can compare to an equal-weighted portfolio comprising all stocks.\n",
    "    \n",
    "    Identify the profile of the portfolio based on the portfolio weights.\n",
    "    \n",
    "    When comparing the performance of each portfolio over the sample period \n",
    "    to \"the market\", assess the performance of other portfolios that capture different \n",
    "    return patterns.\n",
    "    \n",
    "> Please use 75% of your data for PCA and 25% for backtesting.    \n",
    "    \n",
    "### <font color = \"green\"> NOTE: The investment horizon will be 10 years between 2010 and 2019."
   ]
  },
  {
   "cell_type": "markdown",
   "metadata": {},
   "source": [
    "### Below are the lines of code that lead to an answer:"
   ]
  },
  {
   "cell_type": "code",
   "execution_count": null,
   "metadata": {},
   "outputs": [],
   "source": []
  },
  {
   "cell_type": "markdown",
   "metadata": {},
   "source": [
    "### <font color = red> Answer 2 is presented in the cell below: </font>"
   ]
  },
  {
   "cell_type": "code",
   "execution_count": null,
   "metadata": {},
   "outputs": [],
   "source": []
  },
  {
   "cell_type": "markdown",
   "metadata": {},
   "source": [
    "### <font color = blue> 👉 Questions 3. Using `pandas.datareader`, extract the stock prices of the following ticker symbols, between July 2015 and June 2019.\n",
    "\n",
    "- General Motors `GM`\n",
    "- Marriott `MAR`\n",
    "- Pfizer `PFE`\n",
    "- ExxonMobil `XOM`\n",
    "- The Walt Disney Company `DIS`\n",
    "- Bank of America `BAC`\n",
    "- Proctor & Gamble `PG`\n",
    "- Hilton `HLT`\n",
    "- Walmart `WMT`\n",
    "- Twitter `TWTR`\n",
    "\n",
    "### Then, calculate simple daily percentage changes in the stock prices, and store them into an object, printing the results into an output cell."
   ]
  },
  {
   "cell_type": "markdown",
   "metadata": {},
   "source": [
    "### Below are the lines of code that lead to an answer:"
   ]
  },
  {
   "cell_type": "code",
   "execution_count": null,
   "metadata": {},
   "outputs": [],
   "source": []
  },
  {
   "cell_type": "markdown",
   "metadata": {},
   "source": [
    "### <font color = red> Answer 3 is presented in the cell below: </font>"
   ]
  },
  {
   "cell_type": "code",
   "execution_count": null,
   "metadata": {},
   "outputs": [],
   "source": []
  },
  {
   "cell_type": "markdown",
   "metadata": {},
   "source": [
    "### <font color = blue> 👉 Questions 4. Using a box-and-whisker plot, compare the performance of the stocks over the given period of time. Find the stock with the highest variability and risk, based on the visualization."
   ]
  },
  {
   "cell_type": "markdown",
   "metadata": {},
   "source": [
    "### Below are the lines of code that lead to an answer:"
   ]
  },
  {
   "cell_type": "code",
   "execution_count": null,
   "metadata": {},
   "outputs": [],
   "source": []
  },
  {
   "cell_type": "markdown",
   "metadata": {},
   "source": [
    "### <font color = red> Answer 4 is presented in the cell below: </font>"
   ]
  },
  {
   "cell_type": "code",
   "execution_count": null,
   "metadata": {},
   "outputs": [],
   "source": []
  },
  {
   "cell_type": "markdown",
   "metadata": {},
   "source": [
    "### <font color = blue> 👉 Questions 5. Create your own function to compare daily percentage changes between stocks, using a scatter plot and its distribution relative to a perfect diagonal (regression line). \n",
    "\n",
    "### Assess which of the following pairs seem to show the closest relationships.\n",
    "\n",
    "1. ExxonMobil (`XOM`) and General Motors (`GM`)\n",
    "2. Twitter (`TWTR`) and The Walt Disney Company (`DIS`)\n",
    "3. Marriott (`MAR`) and Hilton (`HLT`)\n",
    "4. Pfeizer (`PFE`) and Proctor & Gamble (`PG`)\n",
    "5. Bank of America (`BAC`) and Walmart (`WMT`)\n",
    "\n",
    "### Upon completion of the above, please execute more tasks for the sake of this question. \n",
    "\n",
    "### As you have learned in class, if you wish to look for all combinations of stocks you can use the scatter matrix graph provided by the `pandas` module. Create the scatter matrix, along with a Kernel Density Estimation on the diagonal."
   ]
  },
  {
   "cell_type": "markdown",
   "metadata": {},
   "source": [
    "### Below are the lines of code that lead to an answer:"
   ]
  },
  {
   "cell_type": "code",
   "execution_count": null,
   "metadata": {},
   "outputs": [],
   "source": []
  },
  {
   "cell_type": "markdown",
   "metadata": {},
   "source": [
    "### <font color = red> Answer 5 is presented in the cell below: </font>"
   ]
  },
  {
   "cell_type": "code",
   "execution_count": null,
   "metadata": {},
   "outputs": [],
   "source": []
  },
  {
   "cell_type": "markdown",
   "metadata": {},
   "source": [
    "### <font color = blue> 👉 Question 6. It is often useful to analyze stock performance against a market index such as the S&P 500. This will give a sense of how a stock price compares to movements in the overall market.\n",
    "\n",
    "### Carry out the following analysis steps.\n",
    "\n",
    "<font color = green>\n",
    "\n",
    "> ### 1. Extract the S&P 500 (`^GSPC`) data for the same time period used for the stocks in Question 1.\n",
    "\n",
    "> ### 2. In order to perform comparisons, you must run the same calculations to derive the daily percentage changes and cumulative returns on the index. You might first want to concatenate the index calculations in the results of the calculations of the stocks with respect to daily percentage changes. The process will lead you to efficiently compare the overall set of stocks and index calculations for daily percentage changes.\n",
    "\n",
    "> ### 3. Calculate the cumulative daily returns.\n",
    "\n",
    "> ### 4. To complete this analysis, calculate the correlation of the daily percentage change values.\n",
    "\n",
    "> ### 5. Using location accessor, print only the correlational coefficients of each stock relative to the S&P 500, in descending order.\n",
    "\n",
    "</font> \n",
    "        \n",
    "### Which stock price moved in the most similar way to the S&P 500? Which moved in the least similar way?"
   ]
  },
  {
   "cell_type": "markdown",
   "metadata": {},
   "source": [
    "### Below are the lines of code that lead to an answer:"
   ]
  },
  {
   "cell_type": "code",
   "execution_count": null,
   "metadata": {},
   "outputs": [],
   "source": []
  },
  {
   "cell_type": "markdown",
   "metadata": {},
   "source": [
    "### <font color = red> Answer 6 is presented in the cell below: </font>"
   ]
  },
  {
   "cell_type": "code",
   "execution_count": null,
   "metadata": {},
   "outputs": [],
   "source": []
  },
  {
   "cell_type": "markdown",
   "metadata": {},
   "source": [
    "### <font color = blue> 👉 Question 7. One common type of data visualization in finance is a stock’s trading volume relative to its closing price.\n",
    "\n",
    "### Create a chart below after obtaining the data from Yahoo Finance!, using `pandas.datareader`. The target symbol is `AMZN`, and our period of interest is between January 2007 and December 2009. "
   ]
  },
  {
   "cell_type": "code",
   "execution_count": null,
   "metadata": {},
   "outputs": [],
   "source": []
  },
  {
   "cell_type": "markdown",
   "metadata": {},
   "source": [
    "### Below are the lines of code that lead to an answer:"
   ]
  },
  {
   "cell_type": "code",
   "execution_count": null,
   "metadata": {},
   "outputs": [],
   "source": []
  },
  {
   "cell_type": "markdown",
   "metadata": {},
   "source": [
    "### <font color = red> Answer 7 is presented in the cell below: </font>"
   ]
  },
  {
   "cell_type": "code",
   "execution_count": null,
   "metadata": {},
   "outputs": [],
   "source": []
  },
  {
   "cell_type": "markdown",
   "metadata": {},
   "source": [
    "## 👇 <font color = \"purple\"> Bigger Question 8. \n",
    "\n",
    "### Please create a predictive model for the weekly return of NFLX stock. You will use supervised learning for your predictive modelling.\n",
    "\n",
    "> As you learned in class, to do this it is essential to know what factors are related to Netflix’s stock price, and to incorporate as much information as you can into the model.\n",
    "\n",
    "> Among the three major factors (correlated assets, technical indicators, and fundamental analysis), you will use correlated assets and technical indicators as features here.\n",
    "\n",
    "    Step 1. Use 75% of your data for the training of your algorithm, and 25% for the testing set.\n",
    "\n",
    "    Step 2. For your feature engineering...\n",
    "    \n",
    "> Our operational definition of `outcome` (`Y`) is the weekly return of Netflix (NFLX). The number of trading days in a week is assumed to be five, and we compute the return using five trading days. \n",
    "<br>\n",
    "    \n",
    "* <font color = \"green\"> NOTE: The lagged five-day variables embed the time series component by using a time-delay approach, where the lagged variable is included as one of the predictor variables. This step translates the time series data into a supervised regression-based model framework.\n",
    "<br>    \n",
    "    \n",
    "> For `input features` (`predictors`; `Xs`), we use (The variables used as predictors are as follows) ...\n",
    "\n",
    "> `Correlated assets`\n",
    "\n",
    "* lagged five-day returns of stocks (META, APPLE, AMZN, GOOGL);\n",
    "* currency exchange rates (USD/JPY and GBP/USD);\n",
    "* indices (S&P 500, Dow Jones, and VIX);\n",
    "* lagged five-day, 15-day, 30-day, and 60-day returns of NFLX.\n",
    "\n",
    "> `Technical indicators`\n",
    "\n",
    "* 21-day, 63-day, and 252-day moving averages;\n",
    "* 10-day, 30-day, and 200-day exponential moving averages;\n",
    "* 10-day, 30-day, and 200-day relative strength index;\n",
    "* stochastic oscillator %K and %D (using rolling windows of 10-, 30-, 200-day);\n",
    "* rate of change (using 10-, 30-day past prices).\n",
    "    \n",
    "    \n",
    "    Step 3. For your algorithm of choices, please assess the model performance of the following algorithms: \n",
    "\n",
    "    \n",
    "* Linear Regression\n",
    "* Elastic Net\n",
    "* LASSO\n",
    "* Support Vector Machine\n",
    "* K-Nearest Neighbor\n",
    "* ARIMA\n",
    "* Decision Tree\n",
    "* Extra Trees \n",
    "* Random Forest\n",
    "* Gradient Boosting Tree\n",
    "* Adaptive Boosting\n",
    "    \n",
    "    \n",
    "    Step 4. For this exercise, hyperparameter tuning is not requested. \n",
    "    \n",
    "    Step 5. But make sure to compare the model performance of the above algorithms.\n",
    "\n",
    "> The metric for assessing model performance will be mean squared error (`MSE`).\n",
    "<br>\n",
    "\n",
    "> Show which of the algorithms perform relatively better by a comparison visualization of performance, for both the training and testing sets learned in class. \n",
    "\n",
    "    Step 6. Using the model of your choice, please visualize the actual vs. predicted (estimated) data."
   ]
  },
  {
   "cell_type": "markdown",
   "metadata": {},
   "source": [
    "### Below are the lines of code that lead to an answer:"
   ]
  },
  {
   "cell_type": "code",
   "execution_count": null,
   "metadata": {},
   "outputs": [],
   "source": []
  },
  {
   "cell_type": "markdown",
   "metadata": {},
   "source": [
    "### <font color = red> Answer 8 is presented in the cell below: </font>"
   ]
  },
  {
   "cell_type": "code",
   "execution_count": null,
   "metadata": {},
   "outputs": [],
   "source": []
  },
  {
   "cell_type": "markdown",
   "metadata": {},
   "source": [
    "> 💯 “Thank you for putting your efforts into the individual assessment questions” 😊"
   ]
  }
 ],
 "metadata": {
  "kernelspec": {
   "display_name": "Python 3 (ipykernel)",
   "language": "python",
   "name": "python3"
  },
  "language_info": {
   "codemirror_mode": {
    "name": "ipython",
    "version": 3
   },
   "file_extension": ".py",
   "mimetype": "text/x-python",
   "name": "python",
   "nbconvert_exporter": "python",
   "pygments_lexer": "ipython3",
   "version": "3.11.3"
  }
 },
 "nbformat": 4,
 "nbformat_minor": 4
}
