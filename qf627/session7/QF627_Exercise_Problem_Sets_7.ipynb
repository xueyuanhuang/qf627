{
 "cells": [
  {
   "cell_type": "markdown",
   "metadata": {},
   "source": [
    "# QF 627 Programming and Computational Finance\n",
    "## Problem-Sets for Exercise `7` | `Questions`"
   ]
  },
  {
   "cell_type": "markdown",
   "metadata": {},
   "source": [
    "> Hi, Team. 👋\n",
    "\n",
    "> The exercise questions ask you to solve three bigger questions. As with our previous exercise problem sets, while answering the questions you will be able to incorporate what you learned in class and consolidate your understanding.\n",
    "\n",
    "> Enjoy!\"🤞"
   ]
  },
  {
   "cell_type": "markdown",
   "metadata": {},
   "source": [
    "### For standardization of your answers…\n",
    "\n",
    "> Please execute the lines of code below before you start work on your answers."
   ]
  },
  {
   "cell_type": "code",
   "execution_count": 1,
   "metadata": {},
   "outputs": [],
   "source": [
    "import numpy as np\n",
    "import pandas as pd\n",
    "\n",
    "import matplotlib.pyplot as plt\n",
    "import matplotlib as mpl\n",
    "\n",
    "from pandas_datareader import data as pdr\n",
    "\n",
    "import datetime as dt\n",
    "import yfinance as yf"
   ]
  },
  {
   "cell_type": "markdown",
   "metadata": {},
   "source": [
    "> Let's set some print option."
   ]
  },
  {
   "cell_type": "code",
   "execution_count": 2,
   "metadata": {},
   "outputs": [],
   "source": [
    "np.set_printoptions(precision = 3)\n",
    "\n",
    "plt.style.use(\"ggplot\")\n",
    "\n",
    "mpl.rcParams[\"axes.grid\"] = True\n",
    "mpl.rcParams[\"grid.color\"] = \"grey\"\n",
    "mpl.rcParams[\"grid.alpha\"] = 0.25\n",
    "\n",
    "mpl.rcParams[\"axes.facecolor\"] = \"white\"\n",
    "\n",
    "mpl.rcParams[\"legend.fontsize\"] = 14"
   ]
  },
  {
   "cell_type": "markdown",
   "metadata": {},
   "source": [
    "## 👇 <font color = \"purple\"> Bigger Question 1. \n",
    "\n",
    "> Here's something that's familiar to you, with a few minor tweaks.\n",
    "\n",
    "### Please create a predictive model for the weekly return of AMZN stock. You will use supervised learning for your predictive modelling.\n",
    "\n",
    "> As you learned in class, to do this it is essential to know what factors are related to Amazon’s stock price, and to incorporate as much information as you can into the model.\n",
    "\n",
    "> Among the three major factors (correlated assets, technical indicators, and fundamental analysis), you will use correlated assets and technical indicators as features here.\n",
    "\n",
    "    Step 1. Use 75% of your data for the training of your algorithm, and 25% for the testing set.\n",
    "\n",
    "    Step 2. For your feature engineering...\n",
    "    \n",
    "> Our operational definition of `outcome` (`Y`) is the weekly return of Amazon (AMZN). The number of trading days in a week is assumed to be five, and we compute the return using five trading days. \n",
    "<br>\n",
    "    \n",
    "* <font color = \"green\"> NOTE: The lagged five-day variables embed the time series component by using a time-delay approach, where the lagged variable is included as one of the predictor variables. This step translates the time series data into a supervised regression-based model framework.\n",
    "<br>    \n",
    "    \n",
    "> For `input features` (`predictors`; `Xs`), we use (The variables used as predictors are as follows) ...\n",
    "\n",
    "> `Correlated assets`\n",
    "\n",
    "* lagged five-day returns of stocks (AAPL, MSFT, F);\n",
    "* currency exchange rates (USD/JPY and GBP/USD);\n",
    "* indices (S&P 500, Dow Jones, and VIX);\n",
    "* lagged five-day, 15-day, 30-day, and 60-day returns of AMZN.\n",
    "\n",
    "> `Technical indicators`\n",
    "\n",
    "* 21-day, 63-day, and 252-day moving averages;\n",
    "* 10-day, 30-day, and 200-day exponential moving averages.\n",
    "\n",
    "    \n",
    "    Step 3. For your algorithm of choices, please assess the model performance of the following algorithms: \n",
    "\n",
    "* Linear Regression\n",
    "* Elastic Net\n",
    "* LASSO\n",
    "* Support Vector Machine\n",
    "* K-Nearest Neighbor\n",
    "* ARIMA\n",
    "* Decision Tree\n",
    "* Extra Trees \n",
    "* Random Forest\n",
    "* Gradient Boosting Tree\n",
    "* Adaptive Boosting\n",
    "    \n",
    "    \n",
    "    Step 4. For this exercise, hyperparameter tuning won’t be requested. \n",
    "    \n",
    "    Step 5. But make sure to compare the model performance of the above algorithms.\n",
    "\n",
    "> The metric for assessing model performance will be mean squared error (`MSE`).\n",
    "<br>\n",
    "\n",
    "> Show which of the algorithms perform relatively better by a comparison visualization of performance, for both the training and testing sets learned in class. \n",
    "\n",
    "    Step 6. Using the model of your choice, please visualize the actual vs. predicted (estimated) data."
   ]
  },
  {
   "cell_type": "markdown",
   "metadata": {},
   "source": [
    "### Below are the lines of code that lead to an answer:"
   ]
  },
  {
   "cell_type": "code",
   "execution_count": 3,
   "metadata": {},
   "outputs": [],
   "source": [
    "#Before split data, we need to get data\n",
    "#From step 2, we know what data we need to get\n",
    "\n",
    "#stocks(AMZN, AAPL, MSFT, F)\n",
    "#currency exchange rates (USD/JPY and GBP/USD)\n",
    "#indices (S&P 500, Dow Jones, and VIX)"
   ]
  },
  {
   "cell_type": "code",
   "execution_count": 4,
   "metadata": {},
   "outputs": [
    {
     "name": "stdout",
     "output_type": "stream",
     "text": [
      "[*********************100%%**********************]  4 of 4 completed\n"
     ]
    }
   ],
   "source": [
    "#get stocks(AMZN, AAPL, MSFT, F)\n",
    "yf.pdr_override()\n",
    "\n",
    "stock_tickers = [\"AMZN\", \"AAPL\", \"MSFT\", \"F\"]\n",
    "data_stocks = pdr.get_data_yahoo(stock_tickers)"
   ]
  },
  {
   "cell_type": "code",
   "execution_count": 5,
   "metadata": {},
   "outputs": [],
   "source": [
    "#get currency exchange rates (USD/JPY and GBP/USD)\n",
    "#Here need to be cautious，\"USD/JPY\", then you should write \"DEXJPUS\"\n",
    "#cuz USD/JPY means 1usd=149.76jpy, DEXJPUS means 1usd=149.76jpy\n",
    "\n",
    "#This is not working for DEXUSGB we change another one\n",
    "# currency_tickers = [\"DEXJPUS\",\"DEXUSGB\"]\n",
    "# data_currencies = pdr.get_data_fred(currency_tickers)\n",
    "\n",
    "# currency_tickers = [\"USDJPY=X\",\"GBPUSD=X\"]\n",
    "# data_currencies = yf.download(currency_tickers)\n",
    "\n",
    "#then I figure out...For GBP/USD, ticker should be DEXUSUK\n",
    "currency_tickers = [\"DEXJPUS\",\"DEXUSUK\"]\n",
    "data_currencies = pdr.get_data_fred(currency_tickers)"
   ]
  },
  {
   "cell_type": "code",
   "execution_count": 6,
   "metadata": {},
   "outputs": [],
   "source": [
    "#get indices (S&P 500, Dow Jones, and VIX)\n",
    "index_tickers = [\"SP500\", \"DJIA\", \"VIXCLS\"]\n",
    "data_indices = pdr.get_data_fred(index_tickers)"
   ]
  },
  {
   "cell_type": "code",
   "execution_count": 7,
   "metadata": {},
   "outputs": [],
   "source": [
    "#now we need to wrangle data before use them\n",
    "#First get Y weekly return of Amazon (AMZN)\n",
    "#here is log weekly return of\n",
    "return_period = 5\n",
    "Y = (\n",
    "    np.log(\n",
    "        data_stocks.loc[ : , (\"Adj Close\", \"AMZN\")]\n",
    "    )\n",
    "    .diff(return_period)\n",
    ")"
   ]
  },
  {
   "cell_type": "code",
   "execution_count": 8,
   "metadata": {},
   "outputs": [
    {
     "data": {
      "text/html": [
       "<div>\n",
       "<style scoped>\n",
       "    .dataframe tbody tr th:only-of-type {\n",
       "        vertical-align: middle;\n",
       "    }\n",
       "\n",
       "    .dataframe tbody tr th {\n",
       "        vertical-align: top;\n",
       "    }\n",
       "\n",
       "    .dataframe thead th {\n",
       "        text-align: right;\n",
       "    }\n",
       "</style>\n",
       "<table border=\"1\" class=\"dataframe\">\n",
       "  <thead>\n",
       "    <tr style=\"text-align: right;\">\n",
       "      <th></th>\n",
       "      <th>AAPL</th>\n",
       "      <th>MSFT</th>\n",
       "      <th>F</th>\n",
       "    </tr>\n",
       "    <tr>\n",
       "      <th>Date</th>\n",
       "      <th></th>\n",
       "      <th></th>\n",
       "      <th></th>\n",
       "    </tr>\n",
       "  </thead>\n",
       "  <tbody>\n",
       "    <tr>\n",
       "      <th>1972-06-01</th>\n",
       "      <td>NaN</td>\n",
       "      <td>NaN</td>\n",
       "      <td>NaN</td>\n",
       "    </tr>\n",
       "  </tbody>\n",
       "</table>\n",
       "</div>"
      ],
      "text/plain": [
       "            AAPL  MSFT   F\n",
       "Date                      \n",
       "1972-06-01   NaN   NaN NaN"
      ]
     },
     "execution_count": 8,
     "metadata": {},
     "output_type": "execute_result"
    }
   ],
   "source": [
    "#Then for Xs\n",
    "#X1 = lagged five-day returns of stocks (AAPL, MSFT, F) \n",
    "#From my interpretation is lag five days of five-day returns which is same for the rest\n",
    "X1 = (\n",
    "    np.log(\n",
    "        data_stocks.loc[ : , (\"Adj Close\", (\"AAPL\", \"MSFT\", \"F\"))]\n",
    "    )\n",
    "    .diff(return_period)\n",
    "    .shift(return_period))\n",
    "\n",
    "X1.columns = X1.columns.droplevel()\n",
    "X1.head(1)"
   ]
  },
  {
   "cell_type": "code",
   "execution_count": 9,
   "metadata": {},
   "outputs": [],
   "source": [
    "#currency exchange rates (USD/JPY and GBP/USD)\n",
    "#I think it's lagged currency exchange rates (USD/JPY and GBP/USD) from Lesson06 what prof roh wrote\n",
    "X2 = (\n",
    "    np.log(data_currencies)\n",
    "    .diff(return_period)\n",
    "    .shift(return_period)\n",
    ")"
   ]
  },
  {
   "cell_type": "code",
   "execution_count": 10,
   "metadata": {},
   "outputs": [],
   "source": [
    "#indices (S&P 500, Dow Jones, and VIX);\n",
    "#same as before\n",
    "X3 = (\n",
    "    np.log(data_indices)\n",
    "    .diff(return_period)\n",
    "    .shift(return_period)\n",
    ")"
   ]
  },
  {
   "cell_type": "code",
   "execution_count": 11,
   "metadata": {},
   "outputs": [],
   "source": [
    "#lagged five-day, 15-day, 30-day, and 60-day returns of AMZN.\n",
    "X4 = (\n",
    "    pd.concat(\n",
    "        [\n",
    "            np.log(\n",
    "                data_stocks.loc[ : ,(\"Adj Close\", \"AMZN\")]\n",
    "            )\n",
    "            .diff(i) for i in [return_period, \n",
    "                               return_period*3, \n",
    "                               return_period*6, \n",
    "                               return_period*12\n",
    "                              ]\n",
    "        ], \n",
    "        axis=1\n",
    "    )\n",
    "    .shift(return_period)\n",
    "    .dropna()\n",
    ")\n",
    "\n",
    "#AMZN_RP15 means amzn 5-day log return lagged 15 days, RP is return period\n",
    "X4.columns = [\"AMZN_RP5\",\"AMZN_RP15\",\"AMZN_RP30\",\"AMZN_RP60\"]"
   ]
  },
  {
   "cell_type": "code",
   "execution_count": 12,
   "metadata": {},
   "outputs": [],
   "source": [
    "#21-day, 63-day, and 252-day moving averages;\n",
    "#here we assmue the target should choose Y as target\n",
    "X5 = (\n",
    "    pd.concat(\n",
    "        [\n",
    "            Y\n",
    "            .rolling(i)\n",
    "            .mean() \n",
    "            for i in [21\n",
    "                      ,63\n",
    "                      ,252\n",
    "                     ]\n",
    "        ],\n",
    "        axis=1\n",
    "    )\n",
    ")\n",
    "\n",
    "X5.columns = [\"AMZN_SMA21\",\"AMZN_SMA63\",\"AMZN_SMA252\"]"
   ]
  },
  {
   "cell_type": "code",
   "execution_count": 13,
   "metadata": {},
   "outputs": [],
   "source": [
    "#10-day, 30-day, and 200-day exponential moving averages.\n",
    "X6 = (\n",
    "    pd.concat(\n",
    "        [\n",
    "            Y\n",
    "            .ewm(i).mean() \n",
    "            for i in [10,\n",
    "                      30,\n",
    "                      200]\n",
    "        ],\n",
    "        axis=1\n",
    "    )\n",
    ")\n",
    "\n",
    "X6.columns = [\"AMZN_EMA10\",\"AMZN_EMA30\",\"AMZN_EMA200\"]"
   ]
  },
  {
   "cell_type": "code",
   "execution_count": 14,
   "metadata": {},
   "outputs": [],
   "source": [
    "#concat Y and Xs together, drop all missing values, use weekly data\n",
    "X = (\n",
    "    pd.concat(\n",
    "        [X1,X2,X3,X4,X5,X6],\n",
    "        axis=1\n",
    "    )\n",
    ")\n",
    "\n",
    "data = (\n",
    "    pd.concat(\n",
    "        [Y,X1,X2,X3,X4,X5,X6],\n",
    "        axis=1\n",
    "    )\n",
    "    .dropna()\n",
    "    .iloc[ : : return_period, : ]\n",
    ")"
   ]
  },
  {
   "cell_type": "code",
   "execution_count": 15,
   "metadata": {},
   "outputs": [],
   "source": [
    "#need to make Y and X the same\n",
    "Y = data.loc[ : , [Y.name]]\n",
    "X = data.loc[:,X.columns]"
   ]
  },
  {
   "cell_type": "code",
   "execution_count": 16,
   "metadata": {},
   "outputs": [],
   "source": [
    "#Then we do data split\n",
    "validation_size = 0.25\n",
    "\n",
    "train_size = int(len(X)*(1-validation_size))\n",
    "\n",
    "X_train, X_test = (\n",
    "    X[:train_size],\n",
    "    X[train_size:]\n",
    ")\n",
    "\n",
    "Y_train, Y_test = (\n",
    "    Y[:train_size],\n",
    "    Y[train_size:]\n",
    ")"
   ]
  },
  {
   "cell_type": "code",
   "execution_count": 17,
   "metadata": {},
   "outputs": [],
   "source": [
    "#next we fill in the model mentioned in step 3\n",
    "# Loading Algorithm\n",
    "\n",
    "from sklearn.linear_model import LinearRegression\n",
    "\n",
    "# Regularization\n",
    "from sklearn.linear_model import Lasso\n",
    "from sklearn.linear_model import ElasticNet\n",
    "\n",
    "# Decision Tree\n",
    "from sklearn.tree import DecisionTreeRegressor\n",
    "\n",
    "# ENSEMBLE\n",
    "\n",
    "## Bagging\n",
    "from sklearn.ensemble import RandomForestRegressor\n",
    "from sklearn.ensemble import ExtraTreesRegressor\n",
    "\n",
    "## Boosting\n",
    "from sklearn.ensemble import AdaBoostRegressor\n",
    "from sklearn.ensemble import GradientBoostingRegressor\n",
    "\n",
    "# Support Vector Machine\n",
    "from sklearn.svm import SVR\n",
    "\n",
    "# K-Nearest Neighbor\n",
    "from sklearn.neighbors import KNeighborsRegressor\n",
    "\n",
    "# Multi-layer Perceptron (Neural Networks)\n",
    "from sklearn.neural_network import MLPRegressor"
   ]
  },
  {
   "cell_type": "code",
   "execution_count": 18,
   "metadata": {},
   "outputs": [],
   "source": [
    "# for assessment\n",
    "from sklearn.metrics import mean_squared_error\n",
    "\n",
    "#for ingore warnings\n",
    "import warnings\n",
    "warnings.filterwarnings(\"ignore\")"
   ]
  },
  {
   "cell_type": "code",
   "execution_count": 19,
   "metadata": {},
   "outputs": [],
   "source": [
    "models = []\n",
    "#Linear Regression\n",
    "models.append((\"LR\", LinearRegression()\n",
    "             )\n",
    "            )\n",
    "\n",
    "#Elastic Net\n",
    "models.append((\"EN\", ElasticNet()\n",
    "             )\n",
    "            )\n",
    "\n",
    "#LASSO\n",
    "models.append((\"LASSO\", Lasso()\n",
    "             )\n",
    "            )\n",
    "\n",
    "#Support Vector Machine\n",
    "models.append((\"SVR\", SVR()\n",
    "             )\n",
    "            )\n",
    "\n",
    "#K-Nearest Neighbor\n",
    "models.append((\"KNN\", KNeighborsRegressor()\n",
    "             )\n",
    "            )\n",
    "\n",
    "#ARIMA\n",
    "\n",
    "#Decision Tree\n",
    "models.append((\"CART\", DecisionTreeRegressor()\n",
    "             )\n",
    "            )\n",
    "\n",
    "#Extra Trees\n",
    "models.append((\"ETR\", ExtraTreesRegressor()\n",
    "              )\n",
    "             )\n",
    "\n",
    "#Random Forest\n",
    "models.append((\"RFR\", RandomForestRegressor()\n",
    "              )\n",
    "             )\n",
    "\n",
    "#Gradient Boosting Tree\n",
    "models.append((\"GBR\", GradientBoostingRegressor()\n",
    "              )\n",
    "             )\n",
    "\n",
    "#Adaptive Boosting\n",
    "models.append((\"ABR\", AdaBoostRegressor()\n",
    "              )\n",
    "             )"
   ]
  },
  {
   "cell_type": "code",
   "execution_count": 20,
   "metadata": {},
   "outputs": [
    {
     "name": "stderr",
     "output_type": "stream",
     "text": [
      "  File \"E:\\software\\anaconda3\\Lib\\site-packages\\joblib\\externals\\loky\\backend\\context.py\", line 199, in _count_physical_cores\n",
      "    cpu_info = subprocess.run(\n",
      "               ^^^^^^^^^^^^^^^\n",
      "  File \"E:\\software\\anaconda3\\Lib\\subprocess.py\", line 548, in run\n",
      "    with Popen(*popenargs, **kwargs) as process:\n",
      "         ^^^^^^^^^^^^^^^^^^^^^^^^^^^\n",
      "  File \"E:\\software\\anaconda3\\Lib\\subprocess.py\", line 1024, in __init__\n",
      "    self._execute_child(args, executable, preexec_fn, close_fds,\n",
      "  File \"E:\\software\\anaconda3\\Lib\\subprocess.py\", line 1509, in _execute_child\n",
      "    hp, ht, pid, tid = _winapi.CreateProcess(executable, args,\n",
      "                       ^^^^^^^^^^^^^^^^^^^^^^^^^^^^^^^^^^^^^^^\n"
     ]
    }
   ],
   "source": [
    "train_results = []\n",
    "test_results = []\n",
    "\n",
    "names = []\n",
    "\n",
    "for name, model in models:\n",
    "    \n",
    "    names.append(name)\n",
    "    \n",
    "    res = model.fit(X_train, Y_train)\n",
    "    train_result = mean_squared_error(res.predict(X_train), Y_train)\n",
    "    train_results.append(train_result)\n",
    "    \n",
    "    test_result = mean_squared_error(res.predict(X_test), Y_test)\n",
    "    test_results.append(test_result)\n",
    "    "
   ]
  },
  {
   "cell_type": "code",
   "execution_count": 21,
   "metadata": {},
   "outputs": [
    {
     "name": "stderr",
     "output_type": "stream",
     "text": [
      "E:\\software\\anaconda3\\Lib\\site-packages\\statsmodels\\tsa\\base\\tsa_model.py:471: ValueWarning: A date index has been provided, but it has no associated frequency information and so will be ignored when e.g. forecasting.\n",
      "  self._init_dates(dates, freq)\n",
      "E:\\software\\anaconda3\\Lib\\site-packages\\statsmodels\\tsa\\base\\tsa_model.py:471: ValueWarning: A date index has been provided, but it has no associated frequency information and so will be ignored when e.g. forecasting.\n",
      "  self._init_dates(dates, freq)\n",
      "E:\\software\\anaconda3\\Lib\\site-packages\\statsmodels\\tsa\\base\\tsa_model.py:471: ValueWarning: A date index has been provided, but it has no associated frequency information and so will be ignored when e.g. forecasting.\n",
      "  self._init_dates(dates, freq)\n",
      "E:\\software\\anaconda3\\Lib\\site-packages\\statsmodels\\base\\model.py:604: ConvergenceWarning: Maximum Likelihood optimization failed to converge. Check mle_retvals\n",
      "  warnings.warn(\"Maximum Likelihood optimization failed to \"\n"
     ]
    }
   ],
   "source": [
    "#we're not done yet still have ARIMA left\n",
    "import statsmodels.tsa.arima.model as stats\n",
    "import statsmodels.api as sm\n",
    "\n",
    "modelARIMA =\\\n",
    "(    stats\n",
    "     .ARIMA(endog = Y_train,\n",
    "                exog = X_train,\n",
    "                order = [1, 0, 0]\n",
    "            )\n",
    ")\n",
    "\n",
    "model_fit = modelARIMA.fit()"
   ]
  },
  {
   "cell_type": "code",
   "execution_count": 22,
   "metadata": {},
   "outputs": [],
   "source": [
    "train_mse = mean_squared_error(Y_train,model_fit.fittedvalues)"
   ]
  },
  {
   "cell_type": "code",
   "execution_count": 23,
   "metadata": {},
   "outputs": [
    {
     "name": "stderr",
     "output_type": "stream",
     "text": [
      "E:\\software\\anaconda3\\Lib\\site-packages\\statsmodels\\tsa\\base\\tsa_model.py:834: ValueWarning: No supported index is available. Prediction results will be given with an integer index beginning at `start`.\n",
      "  return get_prediction_index(\n"
     ]
    }
   ],
   "source": [
    "predicted =\\\n",
    "(\n",
    "    model_fit\n",
    "    .predict(start = train_size - 1,\n",
    "             end = len(X) - 1,\n",
    "             exog = X_test)[1: ]\n",
    ")"
   ]
  },
  {
   "cell_type": "code",
   "execution_count": 24,
   "metadata": {},
   "outputs": [],
   "source": [
    "test_mse = mean_squared_error(Y_test,predicted)"
   ]
  },
  {
   "cell_type": "code",
   "execution_count": 25,
   "metadata": {},
   "outputs": [],
   "source": [
    "names.append(\"ARIMA\")\n",
    "train_results.append(train_mse)\n",
    "test_results.append(test_mse)"
   ]
  },
  {
   "cell_type": "code",
   "execution_count": 26,
   "metadata": {},
   "outputs": [
    {
     "data": {
      "image/png": "[encoded data removed]",
      "text/plain": [
       "<Figure size 1600x800 with 1 Axes>"
      ]
     },
     "metadata": {},
     "output_type": "display_data"
    }
   ],
   "source": [
    "#finally we visualize it\n",
    "fig = plt.figure(figsize = [16, 8])\n",
    "\n",
    "ind = np.arange(len(names)\n",
    "               )\n",
    "\n",
    "width = 0.30\n",
    "\n",
    "fig.suptitle(\"Comparing the Perfomance of Various Algorithms on the Training vs. Testing Data\")\n",
    "\n",
    "ax = fig.add_subplot(111)\n",
    "\n",
    "(plt\n",
    " .bar(ind - width/2,\n",
    "      train_results,\n",
    "      width = width,\n",
    "      label = \"Errors in Training Set\")\n",
    ")\n",
    "\n",
    "(plt\n",
    " .bar(ind + width/2,\n",
    "      test_results,\n",
    "      width = width,\n",
    "      label = \"Errors in Testing Set\")\n",
    ")\n",
    "\n",
    "plt.legend()\n",
    "\n",
    "ax.set_xticks(ind)\n",
    "ax.set_xticklabels(names)\n",
    "\n",
    "plt.ylabel(\"Mean Squared Error (MSE)\")\n",
    "\n",
    "plt.show()"
   ]
  },
  {
   "cell_type": "markdown",
   "metadata": {},
   "source": [
    "### <font color = red> Answer 1 is presented in the cell below: </font>"
   ]
  },
  {
   "cell_type": "code",
   "execution_count": 27,
   "metadata": {},
   "outputs": [],
   "source": [
    "predicted = pd.DataFrame(predicted)\n",
    "predicted.index = Y_test.index"
   ]
  },
  {
   "cell_type": "code",
   "execution_count": 28,
   "metadata": {},
   "outputs": [
    {
     "data": {
      "image/png": "[encoded data removed]",
      "text/plain": [
       "<Figure size 1600x800 with 1 Axes>"
      ]
     },
     "metadata": {},
     "output_type": "display_data"
    }
   ],
   "source": [
    "plt.figure(figsize=[16, 8])\n",
    "plt.plot(predicted, label=\"predicted_data\")\n",
    "plt.plot(Y_test, label=\"actual data\")\n",
    "\n",
    "plt.legend()\n",
    "\n",
    "plt.show()"
   ]
  },
  {
   "cell_type": "markdown",
   "metadata": {},
   "source": [
    "## <font color = blue> 👉 Questions 2 to 5 ask you to build, execute, and backtest a mean-reversion strategy, using `Relative Strength Index` (`RSI`). </font>\n",
    "\n",
    "#### The Relative Strength Index (RSI) is an indicator that uses the closing prices of an asset to identify oversold and overbought conditions. \n",
    "\n",
    "> Most commonly, RSI is calculated using a 14-day period, and measured on a scale from zero to 100. (It is an oscillator.)\n",
    "\n",
    "> Traders usually buy an asset when it is oversold (when its RSI is below 30) and sell when it is overbought (when its RSI is above 70). \n",
    "\n",
    "> More extreme overbought and oversold levels, such as 80 and 20, are used less frequently, and imply stronger momentum.\n",
    "\n",
    "#### You are asked to build a trading strategy with the following set of rules.\n",
    "\n",
    "### <font color = green> NOTE: Apple (`AAPL`) as our security of interest. The `investment horizon` will be three years between 2015 and 2017; your `capital` is USD 100,000; and there is a USD 5 flat `commission fee` per trade.\n",
    "\n",
    "- You can go long and short.\n",
    "<br>\n",
    "\n",
    "- To calculate RSI, use 14 periods (trading days).\n",
    "<br>\n",
    "\n",
    "- Enter a long position if RSI crosses the lower threshold (standard value of 30), moving upwards. Exit the position when RSI becomes higher than the middle level (value of 50).\n",
    "<br>\n",
    "\n",
    "- Enter a short position if RSI crosses the upper threshold (standard value of 70), moving downwards. Exit the position when RSI becomes less than 50.\n",
    "<br>\n",
    "\n",
    "- Only one position can be open at a time.\n",
    "\n",
    "### <font color = green> NOTE: The RSI is defined as follows:\n",
    "    \n",
    "### Calculating the RSI first requires the RS which requires an average value of n-many previous trading days. \n",
    "<br>\n",
    "    \n",
    "- As discussed, a value of 14 days is common for the RSI calculation. \n",
    "<br>\n",
    "    \n",
    "- The first RS value requires the price from all 14 of the first trading days. Often, this is a source of confusion with the RSI given successive values only require the most recent. \n",
    "   \n",
    "    \n",
    "    Step 1. For 14 periods, calculate the difference in price from the current period and the previous period\n",
    "    \n",
    "    Step 2. For each period, record each positive change in price as a gain and each negative change as a loss\n",
    "    \n",
    "    Step 3. On the 14th period, calculate the arithmetic mean of the gains and losses for the entire 14 day period (e.g. gains / 14 & losses / 14)\n",
    "    \n",
    "    Step 4. Use these values to calculate the RS\n",
    "    \n",
    "### <center> $ RS = \\frac{AverageGain}{AverageLoss} $\n",
    "    \n",
    "    Step 5. Use the RS value to calculate the RSI\n",
    "    \n",
    "    Step 6. For each proceeding period, use only the previous RSI value to calculate the next average value \n",
    "    by multiplying by our lookback period – 1 (e.g., 13 for a lookback of 14).\n",
    "    \n",
    "    Step 7. Add the value obtained in Step 6 to the current day’s value (run this for both the gains and losses)\n",
    "    \n",
    "### <center> $ RSI = 100 - \\frac{100}{1 + RS} $\n",
    "\n",
    "### Visualize your buy and sell positions."
   ]
  },
  {
   "cell_type": "markdown",
   "metadata": {},
   "source": [
    "### Below are the lines of code that lead to an answer:"
   ]
  },
  {
   "cell_type": "code",
   "execution_count": 62,
   "metadata": {},
   "outputs": [
    {
     "name": "stdout",
     "output_type": "stream",
     "text": [
      "[*********************100%%**********************]  1 of 1 completed\n"
     ]
    }
   ],
   "source": [
    "#first we get the original data\n",
    "#From 2015 to 2017, the reason get 2014 is to get RSI without missing value in 2015\n",
    "AAPL = pdr.get_data_yahoo(\"AAPL\", start=dt.datetime(2014,1,1), end=dt.datetime(2018,1,1))[[\"Adj Close\"]]"
   ]
  },
  {
   "cell_type": "code",
   "execution_count": 63,
   "metadata": {},
   "outputs": [],
   "source": [
    "#calculate RSI\n",
    "period = 14\n",
    "\n",
    "AAPL1 = AAPL.copy()\n",
    "AAPL1[\"change\"] = AAPL1[\"Adj Close\"].diff()\n",
    "\n",
    "AAPL1[\"gain\"] = AAPL1[\"change\"].apply(lambda x: x if x > 0 else 0)\n",
    "AAPL1[\"loss\"] = AAPL1[\"change\"].apply(lambda x: -x if x < 0 else 0)\n",
    "\n",
    "AAPL1[\"avg_gain\"] = AAPL1[\"gain\"].rolling(period).mean()\n",
    "AAPL1[\"avg_loss\"] = AAPL1[\"loss\"].rolling(period).mean()\n",
    "\n",
    "for i in range(14,len(AAPL3)):\n",
    "#     AAPL3.iloc[i,AAPL3.columns.get_loc(\"avg_gain\")] = (AAPL3.iloc[i-1][\"avg_gain\"]*13+AAPL3.iloc[i][\"gain\"])/14\n",
    "#     AAPL3.iloc[i,AAPL3.columns.get_loc(\"avg_loss\")] = (AAPL3.iloc[i-1][\"avg_loss\"]*13+AAPL3.iloc[i][\"loss\"])/14\n",
    "    AAPL1.iloc[i,4] = (AAPL1.iloc[i-1][\"avg_gain\"]*13+AAPL1.iloc[i][\"gain\"])/14\n",
    "    AAPL1.iloc[i,5] = (AAPL1.iloc[i-1][\"avg_loss\"]*13+AAPL1.iloc[i][\"loss\"])/14\n",
    "\n",
    "AAPL1[\"RS\"] = AAPL1[\"avg_gain\"]/AAPL1[\"avg_loss\"]\n",
    "AAPL1[\"RSI\"] = 100 - 100/(1+AAPL1[\"RS\"])"
   ]
  },
  {
   "cell_type": "code",
   "execution_count": 65,
   "metadata": {},
   "outputs": [],
   "source": [
    "#we need to shift RSI 1 cuz it can only be used in next day\n",
    "AAPL4 = AAPL1.copy()\n",
    "AAPL4[\"RSI\"] = AAPL4[\"RSI\"].shift(1)\n",
    "#delete missing value\n",
    "AAPL4 = AAPL4[[\"Adj Close\", \"RSI\"]]\n",
    "#get 2015 to 2017 data\n",
    "AAPL4 = AAPL4[\"2015-01-01\":]"
   ]
  },
  {
   "cell_type": "code",
   "execution_count": 66,
   "metadata": {},
   "outputs": [],
   "source": [
    "#set position\n",
    "AAPL5 = AAPL4.copy()\n",
    "\n",
    "AAPL5[\"position\"] = np.where(((AAPL5[\"RSI\"]-70)*(AAPL5[\"RSI\"].shift(1)-70)<0)&(AAPL5[\"RSI\"]<70), -1, np.nan)\n",
    "\n",
    "#alorithm impovement\n",
    "# AAPL5[\"position\"] = np.where(((AAPL5[\"RSI\"]-70)*(AAPL5[\"RSI\"].shift(1)-70)<0)&(AAPL5[\"RSI\"]>70), 0, AAPL5[\"position\"])\n",
    "# AAPL5[\"position\"] = np.where(((AAPL5[\"RSI\"]-30)*(AAPL5[\"RSI\"].shift(1)-30)<0)&(AAPL5[\"RSI\"]<30), 0, AAPL5[\"position\"])\n",
    "\n",
    "AAPL5[\"position\"] = np.where(((AAPL5[\"RSI\"]-30)*(AAPL5[\"RSI\"].shift(1)-30)<0)&(AAPL5[\"RSI\"]>30), 1, AAPL5[\"position\"])\n",
    "AAPL5[\"position\"] = np.where(((AAPL5[\"RSI\"]-50)*(AAPL5[\"RSI\"].shift(1)-50)<0), 0, AAPL5[\"position\"])\n",
    "AAPL5[\"position\"] = AAPL5[\"position\"].ffill()\n",
    "AAPL5[\"position\"] = AAPL5[\"position\"].fillna(0)\n",
    "\n",
    "#we need to shift our position downward cuz we open position in close price\n",
    "AAPL5[\"position\"] = AAPL5[\"position\"].shift(1)\n",
    "AAPL5[\"position\"] = AAPL5[\"position\"].fillna(0)"
   ]
  },
  {
   "cell_type": "markdown",
   "metadata": {},
   "source": [
    "### <font color = red> Answer 2 is presented in the cell below: </font>"
   ]
  },
  {
   "cell_type": "code",
   "execution_count": null,
   "metadata": {},
   "outputs": [],
   "source": [
    "#now we want to visualize our position\n",
    "#in order to check we use RSI and position to visualize\n",
    "AAPL6 = AAPL5.copy()\n",
    "AAPL6[\"threshold_1\"] = 30\n",
    "AAPL6[\"threshold_2\"] = 50\n",
    "AAPL6[\"threshold_3\"] = 70\n",
    "(\n",
    "    AAPL6[[\"RSI\", \"position\", \"threshold_1\",\"threshold_2\",\"threshold_3\"]]\n",
    "    .plot(\n",
    "        secondary_y = \"position\",\n",
    "        figsize = [18,9],\n",
    "        color=[\"g\",\"b\",\"r\",\"r\",\"r\"]\n",
    "    )\n",
    ")\n",
    "plt.show()"
   ]
  },
  {
   "cell_type": "code",
   "execution_count": null,
   "metadata": {},
   "outputs": [],
   "source": [
    "#set buy_or_sell signal\n",
    "AAPL7 = AAPL5.copy()\n",
    "AAPL7[\"buy_or_sell\"] = AAPL7[\"position\"].diff(1)\n",
    "#we need to shift upward same reason as above\n",
    "AAPL7[\"buy_or_sell\"] = AAPL7[\"buy_or_sell\"].shift(-1)\n",
    "AAPL7.fillna(0)"
   ]
  },
  {
   "cell_type": "code",
   "execution_count": null,
   "metadata": {},
   "outputs": [],
   "source": [
    "AAPL7.rename(columns={\"Adj Close\":\"Adj_Close\"},inplace=True)"
   ]
  },
  {
   "cell_type": "code",
   "execution_count": null,
   "metadata": {},
   "outputs": [],
   "source": [
    "plt.figure(figsize=[19,8])\n",
    "plt.plot(AAPL7[\"Adj_Close\"], \"b\")\n",
    "plt.plot(AAPL7.Adj_Close[AAPL7.buy_or_sell == 1].index, AAPL7.Adj_Close[AAPL7.buy_or_sell == 1], \"g^\", markersize = 12)\n",
    "plt.plot(AAPL7.Adj_Close[AAPL7.buy_or_sell == -1].index, AAPL7.Adj_Close[AAPL7.buy_or_sell == -1], \"rv\", markersize = 12)\n",
    "plt.show()"
   ]
  },
  {
   "cell_type": "markdown",
   "metadata": {},
   "source": [
    "### <font color = blue> 👉 Question 3</font>. How much in cumulative returns could you have had as a result of the RSI strategy?"
   ]
  },
  {
   "cell_type": "markdown",
   "metadata": {},
   "source": [
    "### Below are the lines of code that lead to an answer:"
   ]
  },
  {
   "cell_type": "code",
   "execution_count": null,
   "metadata": {},
   "outputs": [],
   "source": [
    "#first count commision fee\n",
    "AAPL7[\"fee\"] = 0\n",
    "AAPL7.fee[AAPL7.buy_or_sell != 0] = 5\n",
    "\n",
    "#then we get str_return\n",
    "AAPL7[\"str_return\"] = np.log(AAPL7[\"Adj_Close\"]/AAPL7[\"Adj_Close\"].shift(1))*AAPL7[\"position\"]\n",
    "AAPL7[\"str_return\"].fillna(0, inplace=True)\n",
    "\n",
    "#next we put into money\n",
    "#originate first\n",
    "AAPL7[\"money_left\"] = 1e5\n",
    "#calculate\n",
    "for i in range(len(AAPL7)):\n",
    "    AAPL7[\"money_left\"][i] = (\n",
    "        (AAPL7[\"money_left\"][i-1] \n",
    "         - \n",
    "         AAPL7[\"fee\"][i]\n",
    "        )\n",
    "        *\n",
    "        np.exp(AAPL7[\"str_return\"][i]))\n",
    "    \n",
    "AAPL7"
   ]
  },
  {
   "cell_type": "code",
   "execution_count": null,
   "metadata": {},
   "outputs": [],
   "source": [
    "AAPL7[\"money_left\"][-1]/AAPL7[\"money_left\"][0] - 1"
   ]
  },
  {
   "cell_type": "markdown",
   "metadata": {},
   "source": [
    "### <font color = red> Answer 3 </font>\n",
    "\n",
    "    The answer is ____-33.38________ % ."
   ]
  },
  {
   "cell_type": "markdown",
   "metadata": {},
   "source": [
    "### <font color = blue> 👉 Question 4</font>. Now please find the `five` worst drawdown periods over the investment horizon and provide their net drawdown in % and duration, respectively.\n",
    "\n",
    "### <font color = green> The question asks you to find the five worst drawdown periods, beyond identifying max drawdown (MDD)."
   ]
  },
  {
   "cell_type": "markdown",
   "metadata": {},
   "source": [
    "### Below are the lines of code that lead to an answer:"
   ]
  },
  {
   "cell_type": "code",
   "execution_count": null,
   "metadata": {},
   "outputs": [],
   "source": [
    "AAPL8 = AAPL7.copy()\n",
    "AAPL8[\"str_log_return\"] = np.log(AAPL8[\"money_left\"]/AAPL8[\"money_left\"].shift(1))\n",
    "AAPL8[\"cumulative_return\"] = np.exp(AAPL8[\"str_log_return\"].cumsum())\n",
    "AAPL8[\"max_performance_return\"] = AAPL8[\"cumulative_return\"].cummax()\n",
    "AAPL8.tail()"
   ]
  },
  {
   "cell_type": "code",
   "execution_count": null,
   "metadata": {},
   "outputs": [],
   "source": [
    "#calculate drawdown\n",
    "AAPL8[\"drawdown\"] = (\n",
    "    -(\n",
    "        AAPL8[\"cumulative_return\"]\n",
    "        -\n",
    "        AAPL8[\"max_performance_return\"]\n",
    "    )\n",
    "    /\n",
    "    AAPL8[\"max_performance_return\"])"
   ]
  },
  {
   "cell_type": "code",
   "execution_count": null,
   "metadata": {},
   "outputs": [],
   "source": [
    "AAPL_drawdown = (\n",
    "    pd.concat(\n",
    "        [\n",
    "            AAPL8[AAPL8.drawdown==0],# we need to get drawdown == 0\n",
    "            AAPL8[-1:] #plus last one\n",
    "        ],\n",
    "        axis=0\n",
    "    )\n",
    ")\n",
    "\n",
    "lst_day = []\n",
    "lst_drawdown = []\n",
    "\n",
    "for i in range(len(AAPL_drawdown) - 1):\n",
    "    days = (AAPL_drawdown.index[i+1] - AAPL_drawdown.index[i]).days\n",
    "    max_drawdown = AAPL8[AAPL_drawdown.index[i]:AAPL_drawdown.index[i+1]][\"drawdown\"].max()\n",
    "    lst_day.append(days)\n",
    "    lst_drawdown.append(max_drawdown)\n",
    "\n",
    "drawdown = pd.DataFrame([lst_day,lst_drawdown]).T\n",
    "drawdown.columns = [\"days\", \"drawdown\"]\n",
    "drawdown.loc[drawdown[\"drawdown\"].nlargest(5).index]"
   ]
  },
  {
   "cell_type": "markdown",
   "metadata": {},
   "source": [
    "### <font color = red> Answer 4 </font>\n",
    "\n",
    "    The Worst drawdown period     : Net drawdown ____39.42________ % | Duration ____865________ Days\n",
    "    \n",
    "    The 2nd worst drawdown period : Net drawdown _____6.61_______ % | Duration _____121_______ Days\n",
    "     \n",
    "    The 3rd worst drawdown period : Net drawdown _____0.16_______ % | Duration ____13________ Days\n",
    "         \n",
    "    The 4th worst drawdown period : Net drawdown ____________ % | Duration ____________ Days\n",
    "    \n",
    "    The 5th worst drawdown period : Net drawdown ____________ % | Duration ____________ Days"
   ]
  },
  {
   "cell_type": "markdown",
   "metadata": {},
   "source": [
    "### <font color = blue> 👉 Question 5</font>. Within the investment horizon, please calculate annual returns for each of the three years and then find the year that performs better than average vs. less than average annual returns."
   ]
  },
  {
   "cell_type": "markdown",
   "metadata": {},
   "source": [
    "### Below are the lines of code that lead to an answer:"
   ]
  },
  {
   "cell_type": "code",
   "execution_count": null,
   "metadata": {},
   "outputs": [],
   "source": [
    "lst = []"
   ]
  },
  {
   "cell_type": "code",
   "execution_count": null,
   "metadata": {},
   "outputs": [],
   "source": [
    "year_2015 = AAPL8.loc[dt.datetime(2015,1,1):dt.datetime(2016,1,1)].copy()\n",
    "\n",
    "lst.append(\n",
    "    (\n",
    "        year_2015[\"money_left\"].iloc[-1] \n",
    "        -\n",
    "        year_2015[\"money_left\"].iloc[0]\n",
    "    )\n",
    "    /\n",
    "    year_2015[\"money_left\"].iloc[0])"
   ]
  },
  {
   "cell_type": "code",
   "execution_count": null,
   "metadata": {},
   "outputs": [],
   "source": [
    "year_2016 = AAPL8.loc[dt.datetime(2016,1,1):dt.datetime(2017,1,1)].copy()\n",
    "lst.append(\n",
    "    (\n",
    "        year_2016[\"money_left\"].iloc[-1] \n",
    "        -\n",
    "        year_2016[\"money_left\"].iloc[0]\n",
    "    )\n",
    "    /\n",
    "    year_2016[\"money_left\"].iloc[0])"
   ]
  },
  {
   "cell_type": "code",
   "execution_count": null,
   "metadata": {},
   "outputs": [],
   "source": [
    "year_2017 = AAPL8.loc[dt.datetime(2017,1,1):dt.datetime(2018,1,1)].copy()\n",
    "lst.append(\n",
    "    (\n",
    "        year_2017[\"money_left\"].iloc[-1] \n",
    "        -\n",
    "        year_2017[\"money_left\"].iloc[0]\n",
    "    )\n",
    "    /\n",
    "    year_2017[\"money_left\"].iloc[0])"
   ]
  },
  {
   "cell_type": "code",
   "execution_count": null,
   "metadata": {},
   "outputs": [],
   "source": [
    "lst"
   ]
  },
  {
   "cell_type": "code",
   "execution_count": null,
   "metadata": {},
   "outputs": [],
   "source": [
    "np.mean(lst)"
   ]
  },
  {
   "cell_type": "markdown",
   "metadata": {},
   "source": [
    "### <font color = red> Answer 5 </font>\n",
    "\n",
    "    Below average year(s) : ___2017_________ \n",
    "    \n",
    "    Above average year(s) : ___2015,2016_________ \n",
    "     "
   ]
  },
  {
   "cell_type": "markdown",
   "metadata": {},
   "source": [
    "###  <font color = blue> 👉 Question 6. </font> What's the annualized Sharpe ratio of the current investment strategy?"
   ]
  },
  {
   "cell_type": "markdown",
   "metadata": {},
   "source": [
    "### Below are the lines of code that lead to an answer:"
   ]
  },
  {
   "cell_type": "code",
   "execution_count": null,
   "metadata": {},
   "outputs": [],
   "source": [
    "AAPL8[\"str_log_return\"].fillna(0, inplace=True)\n",
    "\n",
    "(\n",
    "    253**0.5\n",
    "    *\n",
    "    np.mean(AAPL8[\"str_log_return\"].apply(np.exp)-1)\n",
    "    /\n",
    "    np.std(AAPL8[\"str_log_return\"].apply(np.exp)-1)\n",
    ")"
   ]
  },
  {
   "cell_type": "markdown",
   "metadata": {},
   "source": [
    "### <font color = red> Answer 6 </font>\n",
    "    \n",
    "    Sharpe ratio: ___-0.75_______\n",
    "    "
   ]
  },
  {
   "cell_type": "markdown",
   "metadata": {},
   "source": [
    "## 👇 <font color = \"purple\"> Bigger Question 7. ### \n",
    "\n",
    "### This bigger question is where you will execute a principal component analysis (PCA) based portfolio for asset allocation. \n",
    "<br>\n",
    "    \n",
    "### Go to [the list of SP 500 companies on Wikipedia](https://en.wikipedia.org/wiki/List_of_S%26P_500_companies).\n",
    "    \n",
    "    Step 1: Among the securities added to the S&P 500 component before January 2000, select the first 30 stocks. \n",
    "    \n",
    "    Step 2: Your objective is to find the portfolio using PCA. Using what you learned in class, \n",
    "    identify the profile of each portfolio. \n",
    "    \n",
    "    Step 3: Then backtest the performance of your portfolio, relative to the equal weight portfolio. \n",
    "    Here, as you learned in class, use 80% of your data for PCA and 20% for backtesting.\n",
    "    \n",
    "### <font color = \"green\"> NOTE: The investment horizon will be 20 years between 2000 and 2019    "
   ]
  },
  {
   "cell_type": "markdown",
   "metadata": {},
   "source": [
    "### Below are the lines of code that lead to an answer:"
   ]
  },
  {
   "cell_type": "code",
   "execution_count": null,
   "metadata": {},
   "outputs": [],
   "source": [
    "from sklearn.preprocessing import StandardScaler\n",
    "from sklearn.decomposition import PCA\n",
    "from sklearn.decomposition import KernelPCA"
   ]
  },
  {
   "cell_type": "code",
   "execution_count": null,
   "metadata": {},
   "outputs": [],
   "source": [
    "import requests\n",
    "from bs4 import BeautifulSoup\n",
    "\n",
    "lst_coms = []\n",
    "url = \"https://en.wikipedia.org/wiki/List_of_S%26P_500_companies\"\n",
    "\n",
    "response = requests.get(url)\n",
    "\n",
    "if response.status_code == 200:\n",
    "    soup = BeautifulSoup(response.content, \"html.parser\")\n",
    "\n",
    "    table = soup.find(\"table\", {\"id\": \"constituents\"})\n",
    "\n",
    "    rows = table.find_all(\"tr\")[1:] \n",
    "    companies_before_2000 = []\n",
    "\n",
    "    for row in rows:\n",
    "        columns = row.find_all(\"td\")\n",
    "        if len(columns) >= 4:  \n",
    "            company_name = columns[0].text.strip()\n",
    "            join_date = columns[5].text.strip()\n",
    "            \n",
    "            if join_date.split(\"-\")[0].isdigit():\n",
    "                if (int(join_date.split(\"-\")[0])) < 2000:  \n",
    "                    companies_before_2000.append(company_name)\n",
    "else:\n",
    "    print(\"Failed to retrieve the page. Status code:\", response.status_code)"
   ]
  },
  {
   "cell_type": "code",
   "execution_count": null,
   "metadata": {},
   "outputs": [],
   "source": [
    "sp500 = pdr.get_data_yahoo(companies_before_2000[:30], start=dt.datetime(2000,1,1), end=dt.datetime(2020,1,1))"
   ]
  },
  {
   "cell_type": "code",
   "execution_count": null,
   "metadata": {},
   "outputs": [],
   "source": [
    "sp500 = sp500.loc[ : , (\"Adj Close\")]"
   ]
  },
  {
   "cell_type": "code",
   "execution_count": null,
   "metadata": {},
   "outputs": [],
   "source": [
    "Daily_Linear_Return = sp500.pct_change(1)"
   ]
  },
  {
   "cell_type": "code",
   "execution_count": null,
   "metadata": {},
   "outputs": [],
   "source": [
    "Daily_Linear_Return.head()"
   ]
  },
  {
   "cell_type": "code",
   "execution_count": null,
   "metadata": {},
   "outputs": [],
   "source": [
    "Daily_Linear_Return = (\n",
    "    Daily_Linear_Return[\n",
    "        Daily_Linear_Return\n",
    "        .apply(\n",
    "            lambda x:(x - x.mean()).abs() < (3 * x.std())\n",
    "        )\n",
    "        .all(1)\n",
    "    ]\n",
    ")"
   ]
  },
  {
   "cell_type": "code",
   "execution_count": null,
   "metadata": {},
   "outputs": [],
   "source": [
    "scaler = StandardScaler().fit(Daily_Linear_Return)\n",
    "scaler"
   ]
  },
  {
   "cell_type": "code",
   "execution_count": null,
   "metadata": {},
   "outputs": [],
   "source": [
    "scaled_sp500 =\\\n",
    "(\n",
    "    pd\n",
    "    .DataFrame(scaler.fit_transform(Daily_Linear_Return),\n",
    "               columns = Daily_Linear_Return.columns,\n",
    "               index = Daily_Linear_Return.index)\n",
    ")\n",
    "scaled_sp500.describe()"
   ]
  },
  {
   "cell_type": "code",
   "execution_count": null,
   "metadata": {},
   "outputs": [],
   "source": [
    "prop = int(len(scaled_sp500) * 0.80)\n",
    "\n",
    "X_Train = scaled_sp500[    : prop] # First 80% of the data\n",
    "X_Test  = scaled_sp500[prop:     ] # Remaining 20% of the data\n",
    "\n",
    "X_Train_Raw = Daily_Linear_Return[    :prop]\n",
    "X_Test_Raw  = Daily_Linear_Return[prop:    ]"
   ]
  },
  {
   "cell_type": "code",
   "execution_count": null,
   "metadata": {},
   "outputs": [],
   "source": [
    "stock_tickers = scaled_sp500.columns.values\n",
    "\n",
    "stock_tickers"
   ]
  },
  {
   "cell_type": "code",
   "execution_count": null,
   "metadata": {},
   "outputs": [],
   "source": [
    "pca = PCA()\n",
    "PrincipalComponent = pca.fit(X_Train)"
   ]
  },
  {
   "cell_type": "code",
   "execution_count": null,
   "metadata": {},
   "outputs": [],
   "source": [
    "def PCWeights():\n",
    "\n",
    "    weights = pd.DataFrame()\n",
    "\n",
    "    for i in range(len(pca.components_)\n",
    "                  ):\n",
    "        weights[\"weights_{}\".format(i)] = pca.components_[i] / sum(pca.components_[i]\n",
    "                                                                  )\n",
    "\n",
    "    weights = weights.values.T\n",
    "    return weights "
   ]
  },
  {
   "cell_type": "code",
   "execution_count": null,
   "metadata": {},
   "outputs": [],
   "source": [
    "weights = PCWeights()"
   ]
  },
  {
   "cell_type": "code",
   "execution_count": null,
   "metadata": {},
   "outputs": [],
   "source": [
    "def calculate_sharpe_ratio(ts_returns, periods_per_year = 252):\n",
    "\n",
    "    n_years = ts_returns.shape[0] / periods_per_year\n",
    "\n",
    "    annualized_return = np.power(np.prod(1 + ts_returns), (1 / n_years)\n",
    "                                ) - 1\n",
    "\n",
    "    annualized_vol = ts_returns.std() * np.sqrt(periods_per_year)\n",
    "\n",
    "    annualized_sharpe = annualized_return / annualized_vol\n",
    "\n",
    "    return annualized_return, annualized_vol, annualized_sharpe"
   ]
  },
  {
   "cell_type": "code",
   "execution_count": null,
   "metadata": {},
   "outputs": [],
   "source": [
    "def FindPortfolioVisual():\n",
    "    \n",
    "    n_portfolios = len(pca.components_)\n",
    "    \n",
    "    annualized_ret = np.array([0.] * n_portfolios)\n",
    "    \n",
    "    sharpe_metric = np.array([0.] * n_portfolios)\n",
    "    \n",
    "    annualized_vol = np.array([0.] * n_portfolios)\n",
    "    \n",
    "    highest_sharpe = 0\n",
    "    \n",
    "    stock_tickers = scaled_sp500.columns.values\n",
    "    \n",
    "    n_tickers = len(stock_tickers)\n",
    "    \n",
    "    PCs = pca.components_\n",
    "    \n",
    "    for i in range(n_portfolios):\n",
    "        \n",
    "        pc_w = PCs[i] / sum(PCs[i]\n",
    "                           )\n",
    "        \n",
    "        eigen_prtfi = pd.DataFrame(data = {\"weights\": pc_w.squeeze()*100}, \n",
    "                                   index = stock_tickers)\n",
    "        \n",
    "        eigen_prtfi.sort_values(by = [\"weights\"],\n",
    "                                ascending = False,\n",
    "                                inplace = True)\n",
    "        \n",
    "        eigen_prti_returns = np.dot(X_Train_Raw.loc[:, eigen_prtfi.index], \n",
    "                                    pc_w)\n",
    "        \n",
    "        eigen_prti_returns = pd.Series(eigen_prti_returns.squeeze(),\n",
    "                                       index = X_Train_Raw.index)\n",
    "        \n",
    "        er, vol, sharpe = calculate_sharpe_ratio(eigen_prti_returns)\n",
    "        \n",
    "        annualized_ret[i] = er\n",
    "        \n",
    "        annualized_vol[i] = vol\n",
    "        \n",
    "        sharpe_metric[i] = sharpe\n",
    "        \n",
    "        sharpe_metric = np.nan_to_num(sharpe_metric)\n",
    "        \n",
    "    # HOW TO FIND A PORTFOLIO with the HIGHEST Sharpe Ratio\n",
    "    \n",
    "    highest_sharpe = np.argmax(sharpe_metric)\n",
    "    \n",
    "    print(\"Our Eigen Portfolio #%d with the highest Sharpe. Return %.2f%%, vol = %.2f%%, Sharpe = %.2f\" %\n",
    "          (highest_sharpe,\n",
    "           annualized_ret[highest_sharpe]*100,\n",
    "           annualized_vol[highest_sharpe]*100,\n",
    "           sharpe_metric[highest_sharpe]\n",
    "          )\n",
    "         )\n",
    "        \n",
    "    #####\n",
    "    \n",
    "    fig, ax = plt.subplots()\n",
    "    \n",
    "    fig.set_size_inches(16, 6)\n",
    "    \n",
    "    ax.plot(sharpe_metric, \n",
    "            linewidth = 2)\n",
    "    \n",
    "    ax.set_title(\"Sharpe Ratio of Eigen-Portfolios\")\n",
    "    \n",
    "    ax.set_ylabel(\"Sharpe Ratio\")\n",
    "    \n",
    "    ax.set_xlabel(\"Portfolios\")\n",
    "    \n",
    "    #####\n",
    "        \n",
    "    results = pd.DataFrame(data = {\"Return\": annualized_ret, \"Vol\": annualized_vol, \"Sharpe\": sharpe_metric}\n",
    "                           )\n",
    "    \n",
    "    results.dropna(inplace = True)\n",
    "    \n",
    "    results.sort_values(by = [\"Sharpe\"],\n",
    "                        ascending = False,\n",
    "                        inplace = True)\n",
    "    \n",
    "    print(results.head(15)\n",
    "         )\n",
    "    \n",
    "    plt.show()"
   ]
  },
  {
   "cell_type": "code",
   "execution_count": null,
   "metadata": {},
   "outputs": [],
   "source": [
    "FindPortfolioVisual()"
   ]
  },
  {
   "cell_type": "code",
   "execution_count": null,
   "metadata": {},
   "outputs": [],
   "source": [
    "# Yet another gift\n",
    "\n",
    "def backtest_PCA_porfolios(eigen):\n",
    "\n",
    "    eigen_prtfi =\\\n",
    "        (\n",
    "            pd\n",
    "            .DataFrame(data = {\"weights\": eigen.squeeze()\n",
    "                              },\n",
    "                       index = stock_tickers)\n",
    "        )\n",
    "\n",
    "    eigen_prtfi.sort_values(by = [\"weights\"],\n",
    "                            ascending = False,\n",
    "                            inplace = True)\n",
    "\n",
    "    eigen_prtfi_returns =\\\n",
    "    (\n",
    "        np\n",
    "        .dot(X_Test_Raw\n",
    "             .loc[ : , eigen_prtfi.index],\n",
    "             eigen)\n",
    "    )\n",
    "\n",
    "    eigen_portfolio_returns =\\\n",
    "    (\n",
    "        pd\n",
    "        .Series(eigen_prtfi_returns.squeeze(),\n",
    "                index = X_Test_Raw.index)\n",
    "    )\n",
    "\n",
    "    returns, vol, sharpe = calculate_sharpe_ratio(eigen_portfolio_returns)\n",
    "\n",
    "    print(\"Our PCA-based Portfolio:\\nReturn = %.2f%%\\nVolatility = %.2f%%\\nSharpe = %.2f\"  %\n",
    "          (returns * 100, vol * 100, sharpe)\n",
    "         )\n",
    "\n",
    "    # Compared with what? Equal-weightage Portfolio\n",
    "\n",
    "    equal_weight_return =\\\n",
    "    (\n",
    "        X_Test_Raw * (1 / len(pca.components_)\n",
    "                     )\n",
    "    ).sum(axis = 1)\n",
    "\n",
    "    df_plot =\\\n",
    "        (\n",
    "            pd\n",
    "            .DataFrame({\"ML Portfolio Return\": eigen_portfolio_returns,\n",
    "                        \"Equal Weight Index\": equal_weight_return},\n",
    "                      index = X_Test.index\n",
    "                      )\n",
    "        )\n",
    "\n",
    "    (\n",
    "        np\n",
    "        .cumprod(df_plot + 1)\n",
    "        .plot(title = \"Returns of the equal weighted index vs. Eigen-Portfolio\",\n",
    "              figsize = [16, 8]\n",
    "             )\n",
    "    )\n",
    "\n",
    "    plt.show()"
   ]
  },
  {
   "cell_type": "markdown",
   "metadata": {},
   "source": [
    "### <font color = red> Answer 7 is presented in the cell below: </font>"
   ]
  },
  {
   "cell_type": "code",
   "execution_count": null,
   "metadata": {},
   "outputs": [],
   "source": [
    "backtest_PCA_porfolios(eigen = weights[28])"
   ]
  },
  {
   "cell_type": "markdown",
   "metadata": {},
   "source": [
    "> 💯 “Thank you for putting your efforts into the individual assessment questions” 😊"
   ]
  }
 ],
 "metadata": {
  "kernelspec": {
   "display_name": "Python 3 (ipykernel)",
   "language": "python",
   "name": "python3"
  },
  "language_info": {
   "codemirror_mode": {
    "name": "ipython",
    "version": 3
   },
   "file_extension": ".py",
   "mimetype": "text/x-python",
   "name": "python",
   "nbconvert_exporter": "python",
   "pygments_lexer": "ipython3",
   "version": "3.11.3"
  }
 },
 "nbformat": 4,
 "nbformat_minor": 4
}
