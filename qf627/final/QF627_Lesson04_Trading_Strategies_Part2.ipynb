{
 "cells": [
  {
   "cell_type": "markdown",
   "metadata": {},
   "source": [
    "# QF 627 Programming and Computational Finance\n",
    "## Lesson 04 | Trading Strategies `Part 2`"
   ]
  },
  {
   "cell_type": "markdown",
   "metadata": {},
   "source": [
    "> Hi, Team 👋 Thank you for opening the script 🙂"
   ]
  },
  {
   "cell_type": "markdown",
   "metadata": {},
   "source": [
    "## DEPENDENCIES"
   ]
  },
  {
   "cell_type": "code",
   "execution_count": 1,
   "metadata": {},
   "outputs": [],
   "source": [
    "# Load libraries.\n",
    "\n",
    "import numpy as np\n",
    "import pandas as pd\n",
    "\n",
    "import matplotlib.pyplot as plt\n",
    "import matplotlib as mpl\n",
    "\n",
    "import seaborn as sns\n",
    "\n",
    "import time\n",
    "\n",
    "import datetime # as dt\n",
    "\n",
    "import datetime as dt\n",
    "\n",
    "import warnings\n",
    "warnings.filterwarnings(\"ignore\")\n",
    "\n",
    "# Set print options.\n",
    "\n",
    "np.set_printoptions(precision = 3)\n",
    "\n",
    "plt.style.use(\"ggplot\") # Grammar of Graphics Theme\n",
    "\n",
    "mpl.rcParams[\"axes.grid\"] = True\n",
    "mpl.rcParams[\"grid.color\"] = \"grey\"\n",
    "mpl.rcParams[\"grid.alpha\"] = 0.25\n",
    "\n",
    "mpl.rcParams[\"axes.facecolor\"] = \"white\"\n",
    "\n",
    "mpl.rcParams[\"legend.fontsize\"] = 14\n",
    "\n",
    "%matplotlib inline"
   ]
  },
  {
   "cell_type": "code",
   "execution_count": 2,
   "metadata": {},
   "outputs": [],
   "source": [
    "import pandas_datareader.data as web # this will potentially lead to an error.\n",
    "\n",
    "from pandas_datareader import data as pdr\n",
    "\n",
    "import yfinance as yf\n",
    "\n",
    "(\n",
    "    yf\n",
    "    .pdr_override()\n",
    ")\n",
    "\n",
    "# pdr\n",
    "# .get_data_yahoo()"
   ]
  },
  {
   "cell_type": "markdown",
   "metadata": {},
   "source": [
    "## 👉 <a id = \"top\">Learning Pointers</a> 👈 "
   ]
  },
  {
   "cell_type": "markdown",
   "metadata": {},
   "source": [
    "## [1. Forex Trading with Simple Moving Averages](#p1)\n",
    "\n",
    "> ### <font color = red> USE vectorization </font>\n",
    "\n",
    "## [2. Time-Series Momentum Strategy](#p2)\n",
    "\n",
    "> ### <font color = red> AND intraday stock trading </font>\n",
    "\n",
    "## [3. Mean Reversion Strategy](#p3)\n",
    "\n",
    "> ### <font color = red> Regression towards the Mean </font>\n",
    "\n",
    "## [4. Some Revision Pointers](#p4)\n",
    "\n",
    "> ### <font color = red> For Your Learning </font>\n",
    "\n",
    "## [5. What We Learned](#p5)\n",
    "\n",
    "> ### <font color = red> Thus far... </font>"
   ]
  },
  {
   "cell_type": "code",
   "execution_count": 3,
   "metadata": {},
   "outputs": [
    {
     "name": "stdout",
     "output_type": "stream",
     "text": [
      "Variable   Type      Data/Info\n",
      "------------------------------\n",
      "datetime   module    <module 'datetime' from '<...>onda3\\\\Lib\\\\datetime.py'>\n",
      "dt         module    <module 'datetime' from '<...>onda3\\\\Lib\\\\datetime.py'>\n",
      "mpl        module    <module 'matplotlib' from<...>matplotlib\\\\__init__.py'>\n",
      "np         module    <module 'numpy' from 'E:\\<...>ges\\\\numpy\\\\__init__.py'>\n",
      "pd         module    <module 'pandas' from 'E:<...>es\\\\pandas\\\\__init__.py'>\n",
      "pdr        module    <module 'pandas_datareade<...>das_datareader\\\\data.py'>\n",
      "plt        module    <module 'matplotlib.pyplo<...>\\\\matplotlib\\\\pyplot.py'>\n",
      "sns        module    <module 'seaborn' from 'E<...>s\\\\seaborn\\\\__init__.py'>\n",
      "time       module    <module 'time' (built-in)>\n",
      "warnings   module    <module 'warnings' from '<...>onda3\\\\Lib\\\\warnings.py'>\n",
      "web        module    <module 'pandas_datareade<...>das_datareader\\\\data.py'>\n",
      "yf         module    <module 'yfinance' from '<...>\\\\yfinance\\\\__init__.py'>\n"
     ]
    }
   ],
   "source": [
    "%whos"
   ]
  },
  {
   "cell_type": "markdown",
   "metadata": {},
   "source": [
    "## <a id = \"p1\">1. </a> <font color = \"green\"> Rolling Statistics Revisited </font>  [back to table of contents](#top)"
   ]
  },
  {
   "cell_type": "markdown",
   "metadata": {},
   "source": [
    "### Analytics Contexts\n"
   ]
  },
  {
   "cell_type": "markdown",
   "metadata": {},
   "source": [
    "> As a continuation of Thursday's lesson on algorithmic trading strategies, we will have a quick `refresher` on simple moving averages (`SMA`) strategy. Then, we will learn about `time-series momentum strategy`, which focuses on a stock’s recent performance. Then, we will look at `mean-reversion strategies` (which uses the opposite reasoning of momentum strategies)."
   ]
  },
  {
   "cell_type": "markdown",
   "metadata": {},
   "source": [
    "<a id=\"sma\"></a>\n",
    "### Let’s obtain a historical exchange rate between USD and EUROs\n",
    "\n",
    "> A list of all the exchange rates that FRED (Federal Reserve Bank of St. Louis) has daily data for can be found [HERE](http://research.stlouisfed.org/fred2/categories/94)."
   ]
  },
  {
   "cell_type": "code",
   "execution_count": 4,
   "metadata": {},
   "outputs": [],
   "source": [
    "fx =\\\n",
    "(    pdr\n",
    "    .get_data_fred(\"DEXUSEU\",\n",
    "                   start = dt.datetime(2012, 9, 9),\n",
    "                   end = dt.datetime(2023, 9, 8)\n",
    "                  )\n",
    "    .dropna()\n",
    ")"
   ]
  },
  {
   "cell_type": "code",
   "execution_count": 5,
   "metadata": {},
   "outputs": [
    {
     "data": {
      "text/html": [
       "<div>\n",
       "<style scoped>\n",
       "    .dataframe tbody tr th:only-of-type {\n",
       "        vertical-align: middle;\n",
       "    }\n",
       "\n",
       "    .dataframe tbody tr th {\n",
       "        vertical-align: top;\n",
       "    }\n",
       "\n",
       "    .dataframe thead th {\n",
       "        text-align: right;\n",
       "    }\n",
       "</style>\n",
       "<table border=\"1\" class=\"dataframe\">\n",
       "  <thead>\n",
       "    <tr style=\"text-align: right;\">\n",
       "      <th></th>\n",
       "      <th>DEXUSEU</th>\n",
       "    </tr>\n",
       "    <tr>\n",
       "      <th>DATE</th>\n",
       "      <th></th>\n",
       "    </tr>\n",
       "  </thead>\n",
       "  <tbody>\n",
       "    <tr>\n",
       "      <th>2012-09-10</th>\n",
       "      <td>1.2795</td>\n",
       "    </tr>\n",
       "    <tr>\n",
       "      <th>2012-09-11</th>\n",
       "      <td>1.2858</td>\n",
       "    </tr>\n",
       "    <tr>\n",
       "      <th>2012-09-12</th>\n",
       "      <td>1.2894</td>\n",
       "    </tr>\n",
       "    <tr>\n",
       "      <th>2012-09-13</th>\n",
       "      <td>1.2912</td>\n",
       "    </tr>\n",
       "    <tr>\n",
       "      <th>2012-09-14</th>\n",
       "      <td>1.3142</td>\n",
       "    </tr>\n",
       "    <tr>\n",
       "      <th>...</th>\n",
       "      <td>...</td>\n",
       "    </tr>\n",
       "    <tr>\n",
       "      <th>2023-09-01</th>\n",
       "      <td>1.0787</td>\n",
       "    </tr>\n",
       "    <tr>\n",
       "      <th>2023-09-05</th>\n",
       "      <td>1.0727</td>\n",
       "    </tr>\n",
       "    <tr>\n",
       "      <th>2023-09-06</th>\n",
       "      <td>1.0714</td>\n",
       "    </tr>\n",
       "    <tr>\n",
       "      <th>2023-09-07</th>\n",
       "      <td>1.0704</td>\n",
       "    </tr>\n",
       "    <tr>\n",
       "      <th>2023-09-08</th>\n",
       "      <td>1.0709</td>\n",
       "    </tr>\n",
       "  </tbody>\n",
       "</table>\n",
       "<p>2749 rows × 1 columns</p>\n",
       "</div>"
      ],
      "text/plain": [
       "            DEXUSEU\n",
       "DATE               \n",
       "2012-09-10   1.2795\n",
       "2012-09-11   1.2858\n",
       "2012-09-12   1.2894\n",
       "2012-09-13   1.2912\n",
       "2012-09-14   1.3142\n",
       "...             ...\n",
       "2023-09-01   1.0787\n",
       "2023-09-05   1.0727\n",
       "2023-09-06   1.0714\n",
       "2023-09-07   1.0704\n",
       "2023-09-08   1.0709\n",
       "\n",
       "[2749 rows x 1 columns]"
      ]
     },
     "execution_count": 5,
     "metadata": {},
     "output_type": "execute_result"
    }
   ],
   "source": [
    "fx"
   ]
  },
  {
   "cell_type": "code",
   "execution_count": 6,
   "metadata": {},
   "outputs": [
    {
     "data": {
      "text/html": [
       "<div>\n",
       "<style scoped>\n",
       "    .dataframe tbody tr th:only-of-type {\n",
       "        vertical-align: middle;\n",
       "    }\n",
       "\n",
       "    .dataframe tbody tr th {\n",
       "        vertical-align: top;\n",
       "    }\n",
       "\n",
       "    .dataframe thead th {\n",
       "        text-align: right;\n",
       "    }\n",
       "</style>\n",
       "<table border=\"1\" class=\"dataframe\">\n",
       "  <thead>\n",
       "    <tr style=\"text-align: right;\">\n",
       "      <th></th>\n",
       "      <th>Price</th>\n",
       "    </tr>\n",
       "    <tr>\n",
       "      <th>DATE</th>\n",
       "      <th></th>\n",
       "    </tr>\n",
       "  </thead>\n",
       "  <tbody>\n",
       "    <tr>\n",
       "      <th>2012-09-10</th>\n",
       "      <td>1.2795</td>\n",
       "    </tr>\n",
       "    <tr>\n",
       "      <th>2012-09-11</th>\n",
       "      <td>1.2858</td>\n",
       "    </tr>\n",
       "  </tbody>\n",
       "</table>\n",
       "</div>"
      ],
      "text/plain": [
       "             Price\n",
       "DATE              \n",
       "2012-09-10  1.2795\n",
       "2012-09-11  1.2858"
      ]
     },
     "execution_count": 6,
     "metadata": {},
     "output_type": "execute_result"
    }
   ],
   "source": [
    "fx =\\\n",
    "(\n",
    "    fx\n",
    "    .rename(columns = {\"DEXUSEU\": \"Price\"}\n",
    "           )\n",
    ")\n",
    "\n",
    "fx.head(2)"
   ]
  },
  {
   "cell_type": "code",
   "execution_count": 7,
   "metadata": {},
   "outputs": [],
   "source": [
    "# short-term simple moving averages = 40 days\n",
    "# long-term simple moving averages = 250 days\n",
    "\n",
    "# SSMA\n",
    "\n",
    "fx[\"SMA_40\"] =\\\n",
    "(\n",
    "    fx\n",
    "    [\"Price\"]\n",
    "    .rolling(window = 40)\n",
    "    .mean()\n",
    ")\n",
    "\n",
    "# LSMA\n",
    "\n",
    "fx[\"SMA_250\"] =\\\n",
    "(\n",
    "    fx\n",
    "    [\"Price\"]\n",
    "    .rolling(250)\n",
    "    .mean()\n",
    ")"
   ]
  },
  {
   "cell_type": "code",
   "execution_count": 8,
   "metadata": {},
   "outputs": [
    {
     "data": {
      "text/html": [
       "<div>\n",
       "<style scoped>\n",
       "    .dataframe tbody tr th:only-of-type {\n",
       "        vertical-align: middle;\n",
       "    }\n",
       "\n",
       "    .dataframe tbody tr th {\n",
       "        vertical-align: top;\n",
       "    }\n",
       "\n",
       "    .dataframe thead th {\n",
       "        text-align: right;\n",
       "    }\n",
       "</style>\n",
       "<table border=\"1\" class=\"dataframe\">\n",
       "  <thead>\n",
       "    <tr style=\"text-align: right;\">\n",
       "      <th></th>\n",
       "      <th>Price</th>\n",
       "      <th>SMA_40</th>\n",
       "      <th>SMA_250</th>\n",
       "    </tr>\n",
       "    <tr>\n",
       "      <th>DATE</th>\n",
       "      <th></th>\n",
       "      <th></th>\n",
       "      <th></th>\n",
       "    </tr>\n",
       "  </thead>\n",
       "  <tbody>\n",
       "    <tr>\n",
       "      <th>2012-09-10</th>\n",
       "      <td>1.2795</td>\n",
       "      <td>NaN</td>\n",
       "      <td>NaN</td>\n",
       "    </tr>\n",
       "    <tr>\n",
       "      <th>2012-09-11</th>\n",
       "      <td>1.2858</td>\n",
       "      <td>NaN</td>\n",
       "      <td>NaN</td>\n",
       "    </tr>\n",
       "    <tr>\n",
       "      <th>2012-09-12</th>\n",
       "      <td>1.2894</td>\n",
       "      <td>NaN</td>\n",
       "      <td>NaN</td>\n",
       "    </tr>\n",
       "    <tr>\n",
       "      <th>2012-09-13</th>\n",
       "      <td>1.2912</td>\n",
       "      <td>NaN</td>\n",
       "      <td>NaN</td>\n",
       "    </tr>\n",
       "    <tr>\n",
       "      <th>2012-09-14</th>\n",
       "      <td>1.3142</td>\n",
       "      <td>NaN</td>\n",
       "      <td>NaN</td>\n",
       "    </tr>\n",
       "    <tr>\n",
       "      <th>2012-09-17</th>\n",
       "      <td>1.3125</td>\n",
       "      <td>NaN</td>\n",
       "      <td>NaN</td>\n",
       "    </tr>\n",
       "    <tr>\n",
       "      <th>2012-09-18</th>\n",
       "      <td>1.3051</td>\n",
       "      <td>NaN</td>\n",
       "      <td>NaN</td>\n",
       "    </tr>\n",
       "    <tr>\n",
       "      <th>2012-09-19</th>\n",
       "      <td>1.3065</td>\n",
       "      <td>NaN</td>\n",
       "      <td>NaN</td>\n",
       "    </tr>\n",
       "    <tr>\n",
       "      <th>2012-09-20</th>\n",
       "      <td>1.2948</td>\n",
       "      <td>NaN</td>\n",
       "      <td>NaN</td>\n",
       "    </tr>\n",
       "    <tr>\n",
       "      <th>2012-09-21</th>\n",
       "      <td>1.2990</td>\n",
       "      <td>NaN</td>\n",
       "      <td>NaN</td>\n",
       "    </tr>\n",
       "    <tr>\n",
       "      <th>2012-09-24</th>\n",
       "      <td>1.2909</td>\n",
       "      <td>NaN</td>\n",
       "      <td>NaN</td>\n",
       "    </tr>\n",
       "    <tr>\n",
       "      <th>2012-09-25</th>\n",
       "      <td>1.2945</td>\n",
       "      <td>NaN</td>\n",
       "      <td>NaN</td>\n",
       "    </tr>\n",
       "    <tr>\n",
       "      <th>2012-09-26</th>\n",
       "      <td>1.2852</td>\n",
       "      <td>NaN</td>\n",
       "      <td>NaN</td>\n",
       "    </tr>\n",
       "    <tr>\n",
       "      <th>2012-09-27</th>\n",
       "      <td>1.2874</td>\n",
       "      <td>NaN</td>\n",
       "      <td>NaN</td>\n",
       "    </tr>\n",
       "    <tr>\n",
       "      <th>2012-09-28</th>\n",
       "      <td>1.2856</td>\n",
       "      <td>NaN</td>\n",
       "      <td>NaN</td>\n",
       "    </tr>\n",
       "    <tr>\n",
       "      <th>2012-10-01</th>\n",
       "      <td>1.2900</td>\n",
       "      <td>NaN</td>\n",
       "      <td>NaN</td>\n",
       "    </tr>\n",
       "    <tr>\n",
       "      <th>2012-10-02</th>\n",
       "      <td>1.2951</td>\n",
       "      <td>NaN</td>\n",
       "      <td>NaN</td>\n",
       "    </tr>\n",
       "    <tr>\n",
       "      <th>2012-10-03</th>\n",
       "      <td>1.2909</td>\n",
       "      <td>NaN</td>\n",
       "      <td>NaN</td>\n",
       "    </tr>\n",
       "    <tr>\n",
       "      <th>2012-10-04</th>\n",
       "      <td>1.3001</td>\n",
       "      <td>NaN</td>\n",
       "      <td>NaN</td>\n",
       "    </tr>\n",
       "    <tr>\n",
       "      <th>2012-10-05</th>\n",
       "      <td>1.3059</td>\n",
       "      <td>NaN</td>\n",
       "      <td>NaN</td>\n",
       "    </tr>\n",
       "    <tr>\n",
       "      <th>2012-10-09</th>\n",
       "      <td>1.2876</td>\n",
       "      <td>NaN</td>\n",
       "      <td>NaN</td>\n",
       "    </tr>\n",
       "    <tr>\n",
       "      <th>2012-10-10</th>\n",
       "      <td>1.2888</td>\n",
       "      <td>NaN</td>\n",
       "      <td>NaN</td>\n",
       "    </tr>\n",
       "    <tr>\n",
       "      <th>2012-10-11</th>\n",
       "      <td>1.2928</td>\n",
       "      <td>NaN</td>\n",
       "      <td>NaN</td>\n",
       "    </tr>\n",
       "    <tr>\n",
       "      <th>2012-10-12</th>\n",
       "      <td>1.2946</td>\n",
       "      <td>NaN</td>\n",
       "      <td>NaN</td>\n",
       "    </tr>\n",
       "    <tr>\n",
       "      <th>2012-10-15</th>\n",
       "      <td>1.2950</td>\n",
       "      <td>NaN</td>\n",
       "      <td>NaN</td>\n",
       "    </tr>\n",
       "    <tr>\n",
       "      <th>2012-10-16</th>\n",
       "      <td>1.3036</td>\n",
       "      <td>NaN</td>\n",
       "      <td>NaN</td>\n",
       "    </tr>\n",
       "    <tr>\n",
       "      <th>2012-10-17</th>\n",
       "      <td>1.3133</td>\n",
       "      <td>NaN</td>\n",
       "      <td>NaN</td>\n",
       "    </tr>\n",
       "    <tr>\n",
       "      <th>2012-10-18</th>\n",
       "      <td>1.3106</td>\n",
       "      <td>NaN</td>\n",
       "      <td>NaN</td>\n",
       "    </tr>\n",
       "    <tr>\n",
       "      <th>2012-10-19</th>\n",
       "      <td>1.3022</td>\n",
       "      <td>NaN</td>\n",
       "      <td>NaN</td>\n",
       "    </tr>\n",
       "    <tr>\n",
       "      <th>2012-10-22</th>\n",
       "      <td>1.3063</td>\n",
       "      <td>NaN</td>\n",
       "      <td>NaN</td>\n",
       "    </tr>\n",
       "    <tr>\n",
       "      <th>2012-10-23</th>\n",
       "      <td>1.2971</td>\n",
       "      <td>NaN</td>\n",
       "      <td>NaN</td>\n",
       "    </tr>\n",
       "    <tr>\n",
       "      <th>2012-10-24</th>\n",
       "      <td>1.2946</td>\n",
       "      <td>NaN</td>\n",
       "      <td>NaN</td>\n",
       "    </tr>\n",
       "    <tr>\n",
       "      <th>2012-10-25</th>\n",
       "      <td>1.2958</td>\n",
       "      <td>NaN</td>\n",
       "      <td>NaN</td>\n",
       "    </tr>\n",
       "    <tr>\n",
       "      <th>2012-10-26</th>\n",
       "      <td>1.2938</td>\n",
       "      <td>NaN</td>\n",
       "      <td>NaN</td>\n",
       "    </tr>\n",
       "    <tr>\n",
       "      <th>2012-10-29</th>\n",
       "      <td>1.2906</td>\n",
       "      <td>NaN</td>\n",
       "      <td>NaN</td>\n",
       "    </tr>\n",
       "    <tr>\n",
       "      <th>2012-10-30</th>\n",
       "      <td>1.2979</td>\n",
       "      <td>NaN</td>\n",
       "      <td>NaN</td>\n",
       "    </tr>\n",
       "    <tr>\n",
       "      <th>2012-10-31</th>\n",
       "      <td>1.2958</td>\n",
       "      <td>NaN</td>\n",
       "      <td>NaN</td>\n",
       "    </tr>\n",
       "    <tr>\n",
       "      <th>2012-11-01</th>\n",
       "      <td>1.2937</td>\n",
       "      <td>NaN</td>\n",
       "      <td>NaN</td>\n",
       "    </tr>\n",
       "    <tr>\n",
       "      <th>2012-11-02</th>\n",
       "      <td>1.2848</td>\n",
       "      <td>NaN</td>\n",
       "      <td>NaN</td>\n",
       "    </tr>\n",
       "    <tr>\n",
       "      <th>2012-11-05</th>\n",
       "      <td>1.2790</td>\n",
       "      <td>1.295538</td>\n",
       "      <td>NaN</td>\n",
       "    </tr>\n",
       "  </tbody>\n",
       "</table>\n",
       "</div>"
      ],
      "text/plain": [
       "             Price    SMA_40  SMA_250\n",
       "DATE                                 \n",
       "2012-09-10  1.2795       NaN      NaN\n",
       "2012-09-11  1.2858       NaN      NaN\n",
       "2012-09-12  1.2894       NaN      NaN\n",
       "2012-09-13  1.2912       NaN      NaN\n",
       "2012-09-14  1.3142       NaN      NaN\n",
       "2012-09-17  1.3125       NaN      NaN\n",
       "2012-09-18  1.3051       NaN      NaN\n",
       "2012-09-19  1.3065       NaN      NaN\n",
       "2012-09-20  1.2948       NaN      NaN\n",
       "2012-09-21  1.2990       NaN      NaN\n",
       "2012-09-24  1.2909       NaN      NaN\n",
       "2012-09-25  1.2945       NaN      NaN\n",
       "2012-09-26  1.2852       NaN      NaN\n",
       "2012-09-27  1.2874       NaN      NaN\n",
       "2012-09-28  1.2856       NaN      NaN\n",
       "2012-10-01  1.2900       NaN      NaN\n",
       "2012-10-02  1.2951       NaN      NaN\n",
       "2012-10-03  1.2909       NaN      NaN\n",
       "2012-10-04  1.3001       NaN      NaN\n",
       "2012-10-05  1.3059       NaN      NaN\n",
       "2012-10-09  1.2876       NaN      NaN\n",
       "2012-10-10  1.2888       NaN      NaN\n",
       "2012-10-11  1.2928       NaN      NaN\n",
       "2012-10-12  1.2946       NaN      NaN\n",
       "2012-10-15  1.2950       NaN      NaN\n",
       "2012-10-16  1.3036       NaN      NaN\n",
       "2012-10-17  1.3133       NaN      NaN\n",
       "2012-10-18  1.3106       NaN      NaN\n",
       "2012-10-19  1.3022       NaN      NaN\n",
       "2012-10-22  1.3063       NaN      NaN\n",
       "2012-10-23  1.2971       NaN      NaN\n",
       "2012-10-24  1.2946       NaN      NaN\n",
       "2012-10-25  1.2958       NaN      NaN\n",
       "2012-10-26  1.2938       NaN      NaN\n",
       "2012-10-29  1.2906       NaN      NaN\n",
       "2012-10-30  1.2979       NaN      NaN\n",
       "2012-10-31  1.2958       NaN      NaN\n",
       "2012-11-01  1.2937       NaN      NaN\n",
       "2012-11-02  1.2848       NaN      NaN\n",
       "2012-11-05  1.2790  1.295538      NaN"
      ]
     },
     "execution_count": 8,
     "metadata": {},
     "output_type": "execute_result"
    }
   ],
   "source": [
    "fx.iloc[:40]"
   ]
  },
  {
   "cell_type": "code",
   "execution_count": 9,
   "metadata": {},
   "outputs": [
    {
     "data": {
      "text/plain": [
       "<Axes: title={'center': 'USD/EUR SMAs (40 vs. 250 days)'}, xlabel='DATE'>"
      ]
     },
     "execution_count": 9,
     "metadata": {},
     "output_type": "execute_result"
    },
    {
     "data": {
      "image/png": "[encoded data removed]",
      "text/plain": [
       "<Figure size 1800x600 with 1 Axes>"
      ]
     },
     "metadata": {},
     "output_type": "display_data"
    }
   ],
   "source": [
    "(\n",
    "    fx\n",
    "    .plot(title = \"USD/EUR SMAs (40 vs. 250 days)\",\n",
    "          figsize = [18, 6]\n",
    "         )\n",
    ")"
   ]
  },
  {
   "cell_type": "code",
   "execution_count": 10,
   "metadata": {},
   "outputs": [
    {
     "data": {
      "text/html": [
       "<div>\n",
       "<style scoped>\n",
       "    .dataframe tbody tr th:only-of-type {\n",
       "        vertical-align: middle;\n",
       "    }\n",
       "\n",
       "    .dataframe tbody tr th {\n",
       "        vertical-align: top;\n",
       "    }\n",
       "\n",
       "    .dataframe thead th {\n",
       "        text-align: right;\n",
       "    }\n",
       "</style>\n",
       "<table border=\"1\" class=\"dataframe\">\n",
       "  <thead>\n",
       "    <tr style=\"text-align: right;\">\n",
       "      <th></th>\n",
       "      <th>Price</th>\n",
       "      <th>SMA_40</th>\n",
       "      <th>SMA_250</th>\n",
       "      <th>positions</th>\n",
       "    </tr>\n",
       "    <tr>\n",
       "      <th>DATE</th>\n",
       "      <th></th>\n",
       "      <th></th>\n",
       "      <th></th>\n",
       "      <th></th>\n",
       "    </tr>\n",
       "  </thead>\n",
       "  <tbody>\n",
       "    <tr>\n",
       "      <th>2012-09-10</th>\n",
       "      <td>1.2795</td>\n",
       "      <td>NaN</td>\n",
       "      <td>NaN</td>\n",
       "      <td>-1</td>\n",
       "    </tr>\n",
       "    <tr>\n",
       "      <th>2012-09-11</th>\n",
       "      <td>1.2858</td>\n",
       "      <td>NaN</td>\n",
       "      <td>NaN</td>\n",
       "      <td>-1</td>\n",
       "    </tr>\n",
       "    <tr>\n",
       "      <th>2012-09-12</th>\n",
       "      <td>1.2894</td>\n",
       "      <td>NaN</td>\n",
       "      <td>NaN</td>\n",
       "      <td>-1</td>\n",
       "    </tr>\n",
       "    <tr>\n",
       "      <th>2012-09-13</th>\n",
       "      <td>1.2912</td>\n",
       "      <td>NaN</td>\n",
       "      <td>NaN</td>\n",
       "      <td>-1</td>\n",
       "    </tr>\n",
       "    <tr>\n",
       "      <th>2012-09-14</th>\n",
       "      <td>1.3142</td>\n",
       "      <td>NaN</td>\n",
       "      <td>NaN</td>\n",
       "      <td>-1</td>\n",
       "    </tr>\n",
       "    <tr>\n",
       "      <th>...</th>\n",
       "      <td>...</td>\n",
       "      <td>...</td>\n",
       "      <td>...</td>\n",
       "      <td>...</td>\n",
       "    </tr>\n",
       "    <tr>\n",
       "      <th>2023-09-01</th>\n",
       "      <td>1.0787</td>\n",
       "      <td>1.098577</td>\n",
       "      <td>1.062194</td>\n",
       "      <td>1</td>\n",
       "    </tr>\n",
       "    <tr>\n",
       "      <th>2023-09-05</th>\n",
       "      <td>1.0727</td>\n",
       "      <td>1.097917</td>\n",
       "      <td>1.062473</td>\n",
       "      <td>1</td>\n",
       "    </tr>\n",
       "    <tr>\n",
       "      <th>2023-09-06</th>\n",
       "      <td>1.0714</td>\n",
       "      <td>1.097222</td>\n",
       "      <td>1.062793</td>\n",
       "      <td>1</td>\n",
       "    </tr>\n",
       "    <tr>\n",
       "      <th>2023-09-07</th>\n",
       "      <td>1.0704</td>\n",
       "      <td>1.096175</td>\n",
       "      <td>1.063098</td>\n",
       "      <td>1</td>\n",
       "    </tr>\n",
       "    <tr>\n",
       "      <th>2023-09-08</th>\n",
       "      <td>1.0709</td>\n",
       "      <td>1.094962</td>\n",
       "      <td>1.063399</td>\n",
       "      <td>1</td>\n",
       "    </tr>\n",
       "  </tbody>\n",
       "</table>\n",
       "<p>2749 rows × 4 columns</p>\n",
       "</div>"
      ],
      "text/plain": [
       "             Price    SMA_40   SMA_250  positions\n",
       "DATE                                             \n",
       "2012-09-10  1.2795       NaN       NaN         -1\n",
       "2012-09-11  1.2858       NaN       NaN         -1\n",
       "2012-09-12  1.2894       NaN       NaN         -1\n",
       "2012-09-13  1.2912       NaN       NaN         -1\n",
       "2012-09-14  1.3142       NaN       NaN         -1\n",
       "...            ...       ...       ...        ...\n",
       "2023-09-01  1.0787  1.098577  1.062194          1\n",
       "2023-09-05  1.0727  1.097917  1.062473          1\n",
       "2023-09-06  1.0714  1.097222  1.062793          1\n",
       "2023-09-07  1.0704  1.096175  1.063098          1\n",
       "2023-09-08  1.0709  1.094962  1.063399          1\n",
       "\n",
       "[2749 rows x 4 columns]"
      ]
     },
     "execution_count": 10,
     "metadata": {},
     "output_type": "execute_result"
    }
   ],
   "source": [
    "fx[\"positions\"] =\\\n",
    "(\n",
    "    np\n",
    "    .where(fx[\"SMA_40\"] > fx[\"SMA_250\"],\n",
    "           1, -1)\n",
    "    # golden, dead\n",
    ")\n",
    "\n",
    "fx"
   ]
  },
  {
   "cell_type": "code",
   "execution_count": 11,
   "metadata": {},
   "outputs": [
    {
     "data": {
      "text/html": [
       "<div>\n",
       "<style scoped>\n",
       "    .dataframe tbody tr th:only-of-type {\n",
       "        vertical-align: middle;\n",
       "    }\n",
       "\n",
       "    .dataframe tbody tr th {\n",
       "        vertical-align: top;\n",
       "    }\n",
       "\n",
       "    .dataframe thead th {\n",
       "        text-align: right;\n",
       "    }\n",
       "</style>\n",
       "<table border=\"1\" class=\"dataframe\">\n",
       "  <thead>\n",
       "    <tr style=\"text-align: right;\">\n",
       "      <th></th>\n",
       "      <th>Price</th>\n",
       "      <th>SMA_40</th>\n",
       "      <th>SMA_250</th>\n",
       "      <th>positions</th>\n",
       "    </tr>\n",
       "    <tr>\n",
       "      <th>DATE</th>\n",
       "      <th></th>\n",
       "      <th></th>\n",
       "      <th></th>\n",
       "      <th></th>\n",
       "    </tr>\n",
       "  </thead>\n",
       "  <tbody>\n",
       "    <tr>\n",
       "      <th>2013-09-06</th>\n",
       "      <td>1.3166</td>\n",
       "      <td>1.325128</td>\n",
       "      <td>1.309353</td>\n",
       "      <td>1</td>\n",
       "    </tr>\n",
       "    <tr>\n",
       "      <th>2013-09-09</th>\n",
       "      <td>1.3260</td>\n",
       "      <td>1.325657</td>\n",
       "      <td>1.309539</td>\n",
       "      <td>1</td>\n",
       "    </tr>\n",
       "    <tr>\n",
       "      <th>2013-09-10</th>\n",
       "      <td>1.3260</td>\n",
       "      <td>1.326210</td>\n",
       "      <td>1.309700</td>\n",
       "      <td>1</td>\n",
       "    </tr>\n",
       "    <tr>\n",
       "      <th>2013-09-11</th>\n",
       "      <td>1.3301</td>\n",
       "      <td>1.326603</td>\n",
       "      <td>1.309862</td>\n",
       "      <td>1</td>\n",
       "    </tr>\n",
       "    <tr>\n",
       "      <th>2013-09-12</th>\n",
       "      <td>1.3315</td>\n",
       "      <td>1.327155</td>\n",
       "      <td>1.310024</td>\n",
       "      <td>1</td>\n",
       "    </tr>\n",
       "    <tr>\n",
       "      <th>...</th>\n",
       "      <td>...</td>\n",
       "      <td>...</td>\n",
       "      <td>...</td>\n",
       "      <td>...</td>\n",
       "    </tr>\n",
       "    <tr>\n",
       "      <th>2023-09-01</th>\n",
       "      <td>1.0787</td>\n",
       "      <td>1.098577</td>\n",
       "      <td>1.062194</td>\n",
       "      <td>1</td>\n",
       "    </tr>\n",
       "    <tr>\n",
       "      <th>2023-09-05</th>\n",
       "      <td>1.0727</td>\n",
       "      <td>1.097917</td>\n",
       "      <td>1.062473</td>\n",
       "      <td>1</td>\n",
       "    </tr>\n",
       "    <tr>\n",
       "      <th>2023-09-06</th>\n",
       "      <td>1.0714</td>\n",
       "      <td>1.097222</td>\n",
       "      <td>1.062793</td>\n",
       "      <td>1</td>\n",
       "    </tr>\n",
       "    <tr>\n",
       "      <th>2023-09-07</th>\n",
       "      <td>1.0704</td>\n",
       "      <td>1.096175</td>\n",
       "      <td>1.063098</td>\n",
       "      <td>1</td>\n",
       "    </tr>\n",
       "    <tr>\n",
       "      <th>2023-09-08</th>\n",
       "      <td>1.0709</td>\n",
       "      <td>1.094962</td>\n",
       "      <td>1.063399</td>\n",
       "      <td>1</td>\n",
       "    </tr>\n",
       "  </tbody>\n",
       "</table>\n",
       "<p>2500 rows × 4 columns</p>\n",
       "</div>"
      ],
      "text/plain": [
       "             Price    SMA_40   SMA_250  positions\n",
       "DATE                                             \n",
       "2013-09-06  1.3166  1.325128  1.309353          1\n",
       "2013-09-09  1.3260  1.325657  1.309539          1\n",
       "2013-09-10  1.3260  1.326210  1.309700          1\n",
       "2013-09-11  1.3301  1.326603  1.309862          1\n",
       "2013-09-12  1.3315  1.327155  1.310024          1\n",
       "...            ...       ...       ...        ...\n",
       "2023-09-01  1.0787  1.098577  1.062194          1\n",
       "2023-09-05  1.0727  1.097917  1.062473          1\n",
       "2023-09-06  1.0714  1.097222  1.062793          1\n",
       "2023-09-07  1.0704  1.096175  1.063098          1\n",
       "2023-09-08  1.0709  1.094962  1.063399          1\n",
       "\n",
       "[2500 rows x 4 columns]"
      ]
     },
     "execution_count": 11,
     "metadata": {},
     "output_type": "execute_result"
    }
   ],
   "source": [
    "fx =\\\n",
    "(\n",
    "    fx\n",
    "    .dropna()\n",
    ")\n",
    "\n",
    "fx"
   ]
  },
  {
   "cell_type": "code",
   "execution_count": 12,
   "metadata": {},
   "outputs": [
    {
     "data": {
      "text/plain": [
       "<matplotlib.legend.Legend at 0x174bb355510>"
      ]
     },
     "execution_count": 12,
     "metadata": {},
     "output_type": "execute_result"
    },
    {
     "data": {
      "image/png": "[encoded data removed]",
      "text/plain": [
       "<Figure size 1800x600 with 2 Axes>"
      ]
     },
     "metadata": {},
     "output_type": "display_data"
    }
   ],
   "source": [
    "ax =\\\n",
    "(\n",
    "    fx\n",
    "    [[\"Price\", \n",
    "      \"SMA_40\", \n",
    "      \"SMA_250\", \n",
    "      \"positions\"]]\n",
    "    .plot(secondary_y = \"positions\",\n",
    "          style = [\"grey\", \n",
    "                   \"green\",\n",
    "                   \"red\",\n",
    "                   \"blue\"],\n",
    "          figsize = [18, 6]\n",
    "         )\n",
    ")\n",
    "\n",
    "(\n",
    "    ax\n",
    "    .legend(loc = \"upper center\",\n",
    "            shadow = True,\n",
    "            ncol = 4,\n",
    "            bbox_to_anchor = (0.55, 1.10),\n",
    "            fancybox = True)\n",
    ")"
   ]
  },
  {
   "cell_type": "markdown",
   "metadata": {},
   "source": [
    "> To calculate the performance of the strategy, calculate the log returns based on the original financial time series. The code for this can be minimal, thanks to vectorization.\n",
    "\n",
    "> Let’s calculate the log returns in vectorized fashion over the price column.\n",
    "\n",
    "> To derive the strategy returns, multiply the position column—shifted by one trading day—with the returns column. Because log returns are additive, calculating the sum over the columns returns and strategy provides a first comparison of the performance of the strategy relative to the base investment itself."
   ]
  },
  {
   "cell_type": "code",
   "execution_count": 13,
   "metadata": {},
   "outputs": [
    {
     "data": {
      "text/html": [
       "<div>\n",
       "<style scoped>\n",
       "    .dataframe tbody tr th:only-of-type {\n",
       "        vertical-align: middle;\n",
       "    }\n",
       "\n",
       "    .dataframe tbody tr th {\n",
       "        vertical-align: top;\n",
       "    }\n",
       "\n",
       "    .dataframe thead th {\n",
       "        text-align: right;\n",
       "    }\n",
       "</style>\n",
       "<table border=\"1\" class=\"dataframe\">\n",
       "  <thead>\n",
       "    <tr style=\"text-align: right;\">\n",
       "      <th></th>\n",
       "      <th>Price</th>\n",
       "      <th>SMA_40</th>\n",
       "      <th>SMA_250</th>\n",
       "      <th>positions</th>\n",
       "      <th>log_returns</th>\n",
       "    </tr>\n",
       "    <tr>\n",
       "      <th>DATE</th>\n",
       "      <th></th>\n",
       "      <th></th>\n",
       "      <th></th>\n",
       "      <th></th>\n",
       "      <th></th>\n",
       "    </tr>\n",
       "  </thead>\n",
       "  <tbody>\n",
       "    <tr>\n",
       "      <th>2013-09-06</th>\n",
       "      <td>1.3166</td>\n",
       "      <td>1.325128</td>\n",
       "      <td>1.309353</td>\n",
       "      <td>1</td>\n",
       "      <td>NaN</td>\n",
       "    </tr>\n",
       "    <tr>\n",
       "      <th>2013-09-09</th>\n",
       "      <td>1.3260</td>\n",
       "      <td>1.325657</td>\n",
       "      <td>1.309539</td>\n",
       "      <td>1</td>\n",
       "      <td>0.007114</td>\n",
       "    </tr>\n",
       "    <tr>\n",
       "      <th>2013-09-10</th>\n",
       "      <td>1.3260</td>\n",
       "      <td>1.326210</td>\n",
       "      <td>1.309700</td>\n",
       "      <td>1</td>\n",
       "      <td>0.000000</td>\n",
       "    </tr>\n",
       "    <tr>\n",
       "      <th>2013-09-11</th>\n",
       "      <td>1.3301</td>\n",
       "      <td>1.326603</td>\n",
       "      <td>1.309862</td>\n",
       "      <td>1</td>\n",
       "      <td>0.003087</td>\n",
       "    </tr>\n",
       "    <tr>\n",
       "      <th>2013-09-12</th>\n",
       "      <td>1.3315</td>\n",
       "      <td>1.327155</td>\n",
       "      <td>1.310024</td>\n",
       "      <td>1</td>\n",
       "      <td>0.001052</td>\n",
       "    </tr>\n",
       "    <tr>\n",
       "      <th>...</th>\n",
       "      <td>...</td>\n",
       "      <td>...</td>\n",
       "      <td>...</td>\n",
       "      <td>...</td>\n",
       "      <td>...</td>\n",
       "    </tr>\n",
       "    <tr>\n",
       "      <th>2023-09-01</th>\n",
       "      <td>1.0787</td>\n",
       "      <td>1.098577</td>\n",
       "      <td>1.062194</td>\n",
       "      <td>1</td>\n",
       "      <td>-0.004809</td>\n",
       "    </tr>\n",
       "    <tr>\n",
       "      <th>2023-09-05</th>\n",
       "      <td>1.0727</td>\n",
       "      <td>1.097917</td>\n",
       "      <td>1.062473</td>\n",
       "      <td>1</td>\n",
       "      <td>-0.005578</td>\n",
       "    </tr>\n",
       "    <tr>\n",
       "      <th>2023-09-06</th>\n",
       "      <td>1.0714</td>\n",
       "      <td>1.097222</td>\n",
       "      <td>1.062793</td>\n",
       "      <td>1</td>\n",
       "      <td>-0.001213</td>\n",
       "    </tr>\n",
       "    <tr>\n",
       "      <th>2023-09-07</th>\n",
       "      <td>1.0704</td>\n",
       "      <td>1.096175</td>\n",
       "      <td>1.063098</td>\n",
       "      <td>1</td>\n",
       "      <td>-0.000934</td>\n",
       "    </tr>\n",
       "    <tr>\n",
       "      <th>2023-09-08</th>\n",
       "      <td>1.0709</td>\n",
       "      <td>1.094962</td>\n",
       "      <td>1.063399</td>\n",
       "      <td>1</td>\n",
       "      <td>0.000467</td>\n",
       "    </tr>\n",
       "  </tbody>\n",
       "</table>\n",
       "<p>2500 rows × 5 columns</p>\n",
       "</div>"
      ],
      "text/plain": [
       "             Price    SMA_40   SMA_250  positions  log_returns\n",
       "DATE                                                          \n",
       "2013-09-06  1.3166  1.325128  1.309353          1          NaN\n",
       "2013-09-09  1.3260  1.325657  1.309539          1     0.007114\n",
       "2013-09-10  1.3260  1.326210  1.309700          1     0.000000\n",
       "2013-09-11  1.3301  1.326603  1.309862          1     0.003087\n",
       "2013-09-12  1.3315  1.327155  1.310024          1     0.001052\n",
       "...            ...       ...       ...        ...          ...\n",
       "2023-09-01  1.0787  1.098577  1.062194          1    -0.004809\n",
       "2023-09-05  1.0727  1.097917  1.062473          1    -0.005578\n",
       "2023-09-06  1.0714  1.097222  1.062793          1    -0.001213\n",
       "2023-09-07  1.0704  1.096175  1.063098          1    -0.000934\n",
       "2023-09-08  1.0709  1.094962  1.063399          1     0.000467\n",
       "\n",
       "[2500 rows x 5 columns]"
      ]
     },
     "execution_count": 13,
     "metadata": {},
     "output_type": "execute_result"
    }
   ],
   "source": [
    "fx[\"log_returns\"] =\\\n",
    "(\n",
    "    np\n",
    "    .log(fx[\"Price\"] / fx[\"Price\"].shift(1)\n",
    "        )\n",
    ")\n",
    "\n",
    "fx"
   ]
  },
  {
   "cell_type": "markdown",
   "metadata": {},
   "source": [
    "> `Log returns` (a. k. a. continuously compounded returns) are commonly used in quant. finance for several reasons:\n",
    "\n",
    "* `Statistical Properties`: Log returns are approximately normally distributed for many assets, especially when considered over short intervals. This normality simplifies various statistical analyses and hypothesis testing.\n",
    "<br>\n",
    "\n",
    "* `Time Additivity`: Log returns are additive across time. For instance, if you have daily log returns, you can easily compute weekly, monthly, or yearly log returns by simply summing the daily log returns over those periods. This is not the case with simple (arithmetic) returns, which need to be compounded.\n",
    "<br>\n",
    "\n",
    "* `Small Values for Small Changes`: For assets that don't exhibit large price changes over short time horizons, log returns will remain small, making them easier to work with analytically.\n",
    "<br>\n",
    "\n",
    "* `Numerical Stability`: Log returns can provide more numerical stability in certain mathematical and computational operations. For instance, when prices of an asset are multiplied by factors (like in stock splits or dividend payments), log returns remain unaffected, whereas simple returns would change.\n",
    "<br>\n",
    "\n",
    "* `Economic Interpretations`: In certain economic and financial theories, continuously compounded returns (log returns) have more straightforward interpretations. For example, the Black-Scholes model for option pricing assumes that stock prices follow a geometric Brownian motion, which inherently deals with log returns.\n",
    "<br>\n",
    "\n",
    "* `Symmetry`: Log returns are symmetric. This means that a 10% increase in price followed by a 10% decrease in price will result in a net zero log return, but not a net zero arithmetic return."
   ]
  },
  {
   "cell_type": "code",
   "execution_count": 14,
   "metadata": {},
   "outputs": [
    {
     "data": {
      "text/plain": [
       "<Axes: >"
      ]
     },
     "execution_count": 14,
     "metadata": {},
     "output_type": "execute_result"
    },
    {
     "data": {
      "image/png": "[encoded data removed]",
      "text/plain": [
       "<Figure size 640x480 with 1 Axes>"
      ]
     },
     "metadata": {},
     "output_type": "display_data"
    }
   ],
   "source": [
    "(fx[\"log_returns\"]\n",
    "    .hist(bins = 50)\n",
    ")"
   ]
  },
  {
   "cell_type": "code",
   "execution_count": 15,
   "metadata": {},
   "outputs": [
    {
     "data": {
      "text/html": [
       "<div>\n",
       "<style scoped>\n",
       "    .dataframe tbody tr th:only-of-type {\n",
       "        vertical-align: middle;\n",
       "    }\n",
       "\n",
       "    .dataframe tbody tr th {\n",
       "        vertical-align: top;\n",
       "    }\n",
       "\n",
       "    .dataframe thead th {\n",
       "        text-align: right;\n",
       "    }\n",
       "</style>\n",
       "<table border=\"1\" class=\"dataframe\">\n",
       "  <thead>\n",
       "    <tr style=\"text-align: right;\">\n",
       "      <th></th>\n",
       "      <th>Price</th>\n",
       "      <th>SMA_40</th>\n",
       "      <th>SMA_250</th>\n",
       "      <th>positions</th>\n",
       "      <th>log_returns</th>\n",
       "    </tr>\n",
       "    <tr>\n",
       "      <th>DATE</th>\n",
       "      <th></th>\n",
       "      <th></th>\n",
       "      <th></th>\n",
       "      <th></th>\n",
       "      <th></th>\n",
       "    </tr>\n",
       "  </thead>\n",
       "  <tbody>\n",
       "    <tr>\n",
       "      <th>2013-09-06</th>\n",
       "      <td>1.3166</td>\n",
       "      <td>1.325128</td>\n",
       "      <td>1.309353</td>\n",
       "      <td>1</td>\n",
       "      <td>NaN</td>\n",
       "    </tr>\n",
       "    <tr>\n",
       "      <th>2013-09-09</th>\n",
       "      <td>1.3260</td>\n",
       "      <td>1.325657</td>\n",
       "      <td>1.309539</td>\n",
       "      <td>1</td>\n",
       "      <td>0.007114</td>\n",
       "    </tr>\n",
       "    <tr>\n",
       "      <th>2013-09-10</th>\n",
       "      <td>1.3260</td>\n",
       "      <td>1.326210</td>\n",
       "      <td>1.309700</td>\n",
       "      <td>1</td>\n",
       "      <td>0.000000</td>\n",
       "    </tr>\n",
       "    <tr>\n",
       "      <th>2013-09-11</th>\n",
       "      <td>1.3301</td>\n",
       "      <td>1.326603</td>\n",
       "      <td>1.309862</td>\n",
       "      <td>1</td>\n",
       "      <td>0.003087</td>\n",
       "    </tr>\n",
       "    <tr>\n",
       "      <th>2013-09-12</th>\n",
       "      <td>1.3315</td>\n",
       "      <td>1.327155</td>\n",
       "      <td>1.310024</td>\n",
       "      <td>1</td>\n",
       "      <td>0.001052</td>\n",
       "    </tr>\n",
       "    <tr>\n",
       "      <th>...</th>\n",
       "      <td>...</td>\n",
       "      <td>...</td>\n",
       "      <td>...</td>\n",
       "      <td>...</td>\n",
       "      <td>...</td>\n",
       "    </tr>\n",
       "    <tr>\n",
       "      <th>2023-09-01</th>\n",
       "      <td>1.0787</td>\n",
       "      <td>1.098577</td>\n",
       "      <td>1.062194</td>\n",
       "      <td>1</td>\n",
       "      <td>-0.004809</td>\n",
       "    </tr>\n",
       "    <tr>\n",
       "      <th>2023-09-05</th>\n",
       "      <td>1.0727</td>\n",
       "      <td>1.097917</td>\n",
       "      <td>1.062473</td>\n",
       "      <td>1</td>\n",
       "      <td>-0.005578</td>\n",
       "    </tr>\n",
       "    <tr>\n",
       "      <th>2023-09-06</th>\n",
       "      <td>1.0714</td>\n",
       "      <td>1.097222</td>\n",
       "      <td>1.062793</td>\n",
       "      <td>1</td>\n",
       "      <td>-0.001213</td>\n",
       "    </tr>\n",
       "    <tr>\n",
       "      <th>2023-09-07</th>\n",
       "      <td>1.0704</td>\n",
       "      <td>1.096175</td>\n",
       "      <td>1.063098</td>\n",
       "      <td>1</td>\n",
       "      <td>-0.000934</td>\n",
       "    </tr>\n",
       "    <tr>\n",
       "      <th>2023-09-08</th>\n",
       "      <td>1.0709</td>\n",
       "      <td>1.094962</td>\n",
       "      <td>1.063399</td>\n",
       "      <td>1</td>\n",
       "      <td>0.000467</td>\n",
       "    </tr>\n",
       "  </tbody>\n",
       "</table>\n",
       "<p>2500 rows × 5 columns</p>\n",
       "</div>"
      ],
      "text/plain": [
       "             Price    SMA_40   SMA_250  positions  log_returns\n",
       "DATE                                                          \n",
       "2013-09-06  1.3166  1.325128  1.309353          1          NaN\n",
       "2013-09-09  1.3260  1.325657  1.309539          1     0.007114\n",
       "2013-09-10  1.3260  1.326210  1.309700          1     0.000000\n",
       "2013-09-11  1.3301  1.326603  1.309862          1     0.003087\n",
       "2013-09-12  1.3315  1.327155  1.310024          1     0.001052\n",
       "...            ...       ...       ...        ...          ...\n",
       "2023-09-01  1.0787  1.098577  1.062194          1    -0.004809\n",
       "2023-09-05  1.0727  1.097917  1.062473          1    -0.005578\n",
       "2023-09-06  1.0714  1.097222  1.062793          1    -0.001213\n",
       "2023-09-07  1.0704  1.096175  1.063098          1    -0.000934\n",
       "2023-09-08  1.0709  1.094962  1.063399          1     0.000467\n",
       "\n",
       "[2500 rows x 5 columns]"
      ]
     },
     "execution_count": 15,
     "metadata": {},
     "output_type": "execute_result"
    }
   ],
   "source": [
    "fx"
   ]
  },
  {
   "cell_type": "markdown",
   "metadata": {},
   "source": [
    "#### Derives the log returns of the strategy given the positionings and market returns."
   ]
  },
  {
   "cell_type": "code",
   "execution_count": 16,
   "metadata": {},
   "outputs": [
    {
     "data": {
      "text/plain": [
       "DATE\n",
       "2013-09-06         NaN\n",
       "2013-09-09    0.007114\n",
       "2013-09-10    0.000000\n",
       "2013-09-11    0.003087\n",
       "2013-09-12    0.001052\n",
       "                ...   \n",
       "2023-09-01   -0.004809\n",
       "2023-09-05   -0.005578\n",
       "2023-09-06   -0.001213\n",
       "2023-09-07   -0.000934\n",
       "2023-09-08    0.000467\n",
       "Name: strategy_returns, Length: 2500, dtype: float64"
      ]
     },
     "execution_count": 16,
     "metadata": {},
     "output_type": "execute_result"
    }
   ],
   "source": [
    "fx[\"strategy_returns\"] =\\\n",
    "(\n",
    "    fx[\"positions\"]\n",
    "    .shift(1) \n",
    "    * \n",
    "    fx[\"log_returns\"]\n",
    ")\n",
    "\n",
    "fx[\"strategy_returns\"]"
   ]
  },
  {
   "cell_type": "code",
   "execution_count": 17,
   "metadata": {},
   "outputs": [
    {
     "data": {
      "text/html": [
       "<div>\n",
       "<style scoped>\n",
       "    .dataframe tbody tr th:only-of-type {\n",
       "        vertical-align: middle;\n",
       "    }\n",
       "\n",
       "    .dataframe tbody tr th {\n",
       "        vertical-align: top;\n",
       "    }\n",
       "\n",
       "    .dataframe thead th {\n",
       "        text-align: right;\n",
       "    }\n",
       "</style>\n",
       "<table border=\"1\" class=\"dataframe\">\n",
       "  <thead>\n",
       "    <tr style=\"text-align: right;\">\n",
       "      <th></th>\n",
       "      <th>log_returns</th>\n",
       "      <th>strategy_returns</th>\n",
       "    </tr>\n",
       "    <tr>\n",
       "      <th>DATE</th>\n",
       "      <th></th>\n",
       "      <th></th>\n",
       "    </tr>\n",
       "  </thead>\n",
       "  <tbody>\n",
       "    <tr>\n",
       "      <th>2013-09-06</th>\n",
       "      <td>NaN</td>\n",
       "      <td>NaN</td>\n",
       "    </tr>\n",
       "    <tr>\n",
       "      <th>2013-09-09</th>\n",
       "      <td>0.007114</td>\n",
       "      <td>0.007114</td>\n",
       "    </tr>\n",
       "    <tr>\n",
       "      <th>2013-09-10</th>\n",
       "      <td>0.000000</td>\n",
       "      <td>0.000000</td>\n",
       "    </tr>\n",
       "    <tr>\n",
       "      <th>2013-09-11</th>\n",
       "      <td>0.003087</td>\n",
       "      <td>0.003087</td>\n",
       "    </tr>\n",
       "    <tr>\n",
       "      <th>2013-09-12</th>\n",
       "      <td>0.001052</td>\n",
       "      <td>0.001052</td>\n",
       "    </tr>\n",
       "    <tr>\n",
       "      <th>...</th>\n",
       "      <td>...</td>\n",
       "      <td>...</td>\n",
       "    </tr>\n",
       "    <tr>\n",
       "      <th>2023-09-01</th>\n",
       "      <td>-0.004809</td>\n",
       "      <td>-0.004809</td>\n",
       "    </tr>\n",
       "    <tr>\n",
       "      <th>2023-09-05</th>\n",
       "      <td>-0.005578</td>\n",
       "      <td>-0.005578</td>\n",
       "    </tr>\n",
       "    <tr>\n",
       "      <th>2023-09-06</th>\n",
       "      <td>-0.001213</td>\n",
       "      <td>-0.001213</td>\n",
       "    </tr>\n",
       "    <tr>\n",
       "      <th>2023-09-07</th>\n",
       "      <td>-0.000934</td>\n",
       "      <td>-0.000934</td>\n",
       "    </tr>\n",
       "    <tr>\n",
       "      <th>2023-09-08</th>\n",
       "      <td>0.000467</td>\n",
       "      <td>0.000467</td>\n",
       "    </tr>\n",
       "  </tbody>\n",
       "</table>\n",
       "<p>2500 rows × 2 columns</p>\n",
       "</div>"
      ],
      "text/plain": [
       "            log_returns  strategy_returns\n",
       "DATE                                     \n",
       "2013-09-06          NaN               NaN\n",
       "2013-09-09     0.007114          0.007114\n",
       "2013-09-10     0.000000          0.000000\n",
       "2013-09-11     0.003087          0.003087\n",
       "2013-09-12     0.001052          0.001052\n",
       "...                 ...               ...\n",
       "2023-09-01    -0.004809         -0.004809\n",
       "2023-09-05    -0.005578         -0.005578\n",
       "2023-09-06    -0.001213         -0.001213\n",
       "2023-09-07    -0.000934         -0.000934\n",
       "2023-09-08     0.000467          0.000467\n",
       "\n",
       "[2500 rows x 2 columns]"
      ]
     },
     "execution_count": 17,
     "metadata": {},
     "output_type": "execute_result"
    }
   ],
   "source": [
    "fx[[\"log_returns\", \"strategy_returns\"]]"
   ]
  },
  {
   "cell_type": "markdown",
   "metadata": {},
   "source": [
    "#### Sums up the single log return values for both the stock and the strategy (for learning purposes)."
   ]
  },
  {
   "cell_type": "code",
   "execution_count": 18,
   "metadata": {},
   "outputs": [
    {
     "data": {
      "text/plain": [
       "log_returns        -0.206553\n",
       "strategy_returns    0.372737\n",
       "dtype: float64"
      ]
     },
     "execution_count": 18,
     "metadata": {},
     "output_type": "execute_result"
    }
   ],
   "source": [
    "(\n",
    "    fx\n",
    "    [[\"log_returns\", \"strategy_returns\"]]\n",
    "    .sum()\n",
    ")"
   ]
  },
  {
   "cell_type": "code",
   "execution_count": 19,
   "metadata": {},
   "outputs": [],
   "source": [
    "# for reporting to lay-person and/or to your stakeholders"
   ]
  },
  {
   "cell_type": "code",
   "execution_count": 20,
   "metadata": {},
   "outputs": [
    {
     "data": {
      "text/plain": [
       "log_returns         0.813383\n",
       "strategy_returns    1.451703\n",
       "dtype: float64"
      ]
     },
     "execution_count": 20,
     "metadata": {},
     "output_type": "execute_result"
    }
   ],
   "source": [
    "(\n",
    "    fx\n",
    "    [[\"log_returns\", \"strategy_returns\"]]\n",
    "    .sum()\n",
    ").apply(np.exp)"
   ]
  },
  {
   "cell_type": "code",
   "execution_count": 21,
   "metadata": {},
   "outputs": [
    {
     "data": {
      "text/plain": [
       "<Axes: xlabel='DATE'>"
      ]
     },
     "execution_count": 21,
     "metadata": {},
     "output_type": "execute_result"
    },
    {
     "data": {
      "image/png": "[encoded data removed]",
      "text/plain": [
       "<Figure size 1800x800 with 1 Axes>"
      ]
     },
     "metadata": {},
     "output_type": "display_data"
    }
   ],
   "source": [
    "(\n",
    "    fx\n",
    "    [[\"log_returns\", \"strategy_returns\"]]\n",
    "    .cumsum()\n",
    "    .apply(np.exp)\n",
    ").plot(figsize = [18, 8]\n",
    "      )"
   ]
  },
  {
   "cell_type": "code",
   "execution_count": 22,
   "metadata": {},
   "outputs": [
    {
     "data": {
      "text/plain": [
       "log_returns        -0.020829\n",
       "strategy_returns    0.037587\n",
       "dtype: float64"
      ]
     },
     "execution_count": 22,
     "metadata": {},
     "output_type": "execute_result"
    }
   ],
   "source": [
    "# Let's calculate performance metrics\n",
    "\n",
    "(\n",
    "    fx[[\"log_returns\", \"strategy_returns\"]]\n",
    "    .mean()\n",
    "    *\n",
    "    252\n",
    ")"
   ]
  },
  {
   "cell_type": "code",
   "execution_count": 23,
   "metadata": {},
   "outputs": [
    {
     "data": {
      "text/plain": [
       "log_returns        -0.020613\n",
       "strategy_returns    0.038302\n",
       "dtype: float64"
      ]
     },
     "execution_count": 23,
     "metadata": {},
     "output_type": "execute_result"
    }
   ],
   "source": [
    "# Bring it back to original scale\n",
    "\n",
    "np.exp(\n",
    "    fx[[\"log_returns\", \"strategy_returns\"]]\n",
    "    .mean()\n",
    "    *\n",
    "    252\n",
    ") - 1"
   ]
  },
  {
   "cell_type": "code",
   "execution_count": 24,
   "metadata": {},
   "outputs": [
    {
     "data": {
      "text/plain": [
       "log_returns         0.078705\n",
       "strategy_returns    0.078680\n",
       "dtype: float64"
      ]
     },
     "execution_count": 24,
     "metadata": {},
     "output_type": "execute_result"
    }
   ],
   "source": [
    "(\n",
    "    fx\n",
    "    [[\"log_returns\", \"strategy_returns\"]]\n",
    "    .std()\n",
    "    * 252\n",
    "    ** 0.5\n",
    ")"
   ]
  },
  {
   "cell_type": "code",
   "execution_count": 25,
   "metadata": {},
   "outputs": [
    {
     "data": {
      "text/plain": [
       "log_returns         0.078705\n",
       "strategy_returns    0.078669\n",
       "dtype: float64"
      ]
     },
     "execution_count": 25,
     "metadata": {},
     "output_type": "execute_result"
    }
   ],
   "source": [
    "(\n",
    "    (fx[[\"log_returns\", \"strategy_returns\"]].apply(np.exp) - 1)\n",
    "    .std()\n",
    "    * 252\n",
    "    ** 0.5\n",
    ")"
   ]
  },
  {
   "cell_type": "code",
   "execution_count": 26,
   "metadata": {},
   "outputs": [
    {
     "data": {
      "text/html": [
       "<div>\n",
       "<style scoped>\n",
       "    .dataframe tbody tr th:only-of-type {\n",
       "        vertical-align: middle;\n",
       "    }\n",
       "\n",
       "    .dataframe tbody tr th {\n",
       "        vertical-align: top;\n",
       "    }\n",
       "\n",
       "    .dataframe thead th {\n",
       "        text-align: right;\n",
       "    }\n",
       "</style>\n",
       "<table border=\"1\" class=\"dataframe\">\n",
       "  <thead>\n",
       "    <tr style=\"text-align: right;\">\n",
       "      <th></th>\n",
       "      <th>Price</th>\n",
       "      <th>SMA_40</th>\n",
       "      <th>SMA_250</th>\n",
       "      <th>positions</th>\n",
       "      <th>log_returns</th>\n",
       "      <th>strategy_returns</th>\n",
       "      <th>cumulative_returns</th>\n",
       "    </tr>\n",
       "    <tr>\n",
       "      <th>DATE</th>\n",
       "      <th></th>\n",
       "      <th></th>\n",
       "      <th></th>\n",
       "      <th></th>\n",
       "      <th></th>\n",
       "      <th></th>\n",
       "      <th></th>\n",
       "    </tr>\n",
       "  </thead>\n",
       "  <tbody>\n",
       "    <tr>\n",
       "      <th>2013-09-06</th>\n",
       "      <td>1.3166</td>\n",
       "      <td>1.325128</td>\n",
       "      <td>1.309353</td>\n",
       "      <td>1</td>\n",
       "      <td>NaN</td>\n",
       "      <td>NaN</td>\n",
       "      <td>NaN</td>\n",
       "    </tr>\n",
       "    <tr>\n",
       "      <th>2013-09-09</th>\n",
       "      <td>1.3260</td>\n",
       "      <td>1.325657</td>\n",
       "      <td>1.309539</td>\n",
       "      <td>1</td>\n",
       "      <td>0.007114</td>\n",
       "      <td>0.007114</td>\n",
       "      <td>1.007140</td>\n",
       "    </tr>\n",
       "    <tr>\n",
       "      <th>2013-09-10</th>\n",
       "      <td>1.3260</td>\n",
       "      <td>1.326210</td>\n",
       "      <td>1.309700</td>\n",
       "      <td>1</td>\n",
       "      <td>0.000000</td>\n",
       "      <td>0.000000</td>\n",
       "      <td>1.007140</td>\n",
       "    </tr>\n",
       "    <tr>\n",
       "      <th>2013-09-11</th>\n",
       "      <td>1.3301</td>\n",
       "      <td>1.326603</td>\n",
       "      <td>1.309862</td>\n",
       "      <td>1</td>\n",
       "      <td>0.003087</td>\n",
       "      <td>0.003087</td>\n",
       "      <td>1.010254</td>\n",
       "    </tr>\n",
       "    <tr>\n",
       "      <th>2013-09-12</th>\n",
       "      <td>1.3315</td>\n",
       "      <td>1.327155</td>\n",
       "      <td>1.310024</td>\n",
       "      <td>1</td>\n",
       "      <td>0.001052</td>\n",
       "      <td>0.001052</td>\n",
       "      <td>1.011317</td>\n",
       "    </tr>\n",
       "    <tr>\n",
       "      <th>...</th>\n",
       "      <td>...</td>\n",
       "      <td>...</td>\n",
       "      <td>...</td>\n",
       "      <td>...</td>\n",
       "      <td>...</td>\n",
       "      <td>...</td>\n",
       "      <td>...</td>\n",
       "    </tr>\n",
       "    <tr>\n",
       "      <th>2023-09-01</th>\n",
       "      <td>1.0787</td>\n",
       "      <td>1.098577</td>\n",
       "      <td>1.062194</td>\n",
       "      <td>1</td>\n",
       "      <td>-0.004809</td>\n",
       "      <td>-0.004809</td>\n",
       "      <td>1.462276</td>\n",
       "    </tr>\n",
       "    <tr>\n",
       "      <th>2023-09-05</th>\n",
       "      <td>1.0727</td>\n",
       "      <td>1.097917</td>\n",
       "      <td>1.062473</td>\n",
       "      <td>1</td>\n",
       "      <td>-0.005578</td>\n",
       "      <td>-0.005578</td>\n",
       "      <td>1.454143</td>\n",
       "    </tr>\n",
       "    <tr>\n",
       "      <th>2023-09-06</th>\n",
       "      <td>1.0714</td>\n",
       "      <td>1.097222</td>\n",
       "      <td>1.062793</td>\n",
       "      <td>1</td>\n",
       "      <td>-0.001213</td>\n",
       "      <td>-0.001213</td>\n",
       "      <td>1.452380</td>\n",
       "    </tr>\n",
       "    <tr>\n",
       "      <th>2023-09-07</th>\n",
       "      <td>1.0704</td>\n",
       "      <td>1.096175</td>\n",
       "      <td>1.063098</td>\n",
       "      <td>1</td>\n",
       "      <td>-0.000934</td>\n",
       "      <td>-0.000934</td>\n",
       "      <td>1.451025</td>\n",
       "    </tr>\n",
       "    <tr>\n",
       "      <th>2023-09-08</th>\n",
       "      <td>1.0709</td>\n",
       "      <td>1.094962</td>\n",
       "      <td>1.063399</td>\n",
       "      <td>1</td>\n",
       "      <td>0.000467</td>\n",
       "      <td>0.000467</td>\n",
       "      <td>1.451703</td>\n",
       "    </tr>\n",
       "  </tbody>\n",
       "</table>\n",
       "<p>2500 rows × 7 columns</p>\n",
       "</div>"
      ],
      "text/plain": [
       "             Price    SMA_40   SMA_250  positions  log_returns  \\\n",
       "DATE                                                             \n",
       "2013-09-06  1.3166  1.325128  1.309353          1          NaN   \n",
       "2013-09-09  1.3260  1.325657  1.309539          1     0.007114   \n",
       "2013-09-10  1.3260  1.326210  1.309700          1     0.000000   \n",
       "2013-09-11  1.3301  1.326603  1.309862          1     0.003087   \n",
       "2013-09-12  1.3315  1.327155  1.310024          1     0.001052   \n",
       "...            ...       ...       ...        ...          ...   \n",
       "2023-09-01  1.0787  1.098577  1.062194          1    -0.004809   \n",
       "2023-09-05  1.0727  1.097917  1.062473          1    -0.005578   \n",
       "2023-09-06  1.0714  1.097222  1.062793          1    -0.001213   \n",
       "2023-09-07  1.0704  1.096175  1.063098          1    -0.000934   \n",
       "2023-09-08  1.0709  1.094962  1.063399          1     0.000467   \n",
       "\n",
       "            strategy_returns  cumulative_returns  \n",
       "DATE                                              \n",
       "2013-09-06               NaN                 NaN  \n",
       "2013-09-09          0.007114            1.007140  \n",
       "2013-09-10          0.000000            1.007140  \n",
       "2013-09-11          0.003087            1.010254  \n",
       "2013-09-12          0.001052            1.011317  \n",
       "...                      ...                 ...  \n",
       "2023-09-01         -0.004809            1.462276  \n",
       "2023-09-05         -0.005578            1.454143  \n",
       "2023-09-06         -0.001213            1.452380  \n",
       "2023-09-07         -0.000934            1.451025  \n",
       "2023-09-08          0.000467            1.451703  \n",
       "\n",
       "[2500 rows x 7 columns]"
      ]
     },
     "execution_count": 26,
     "metadata": {},
     "output_type": "execute_result"
    }
   ],
   "source": [
    "fx[\"cumulative_returns\"] =\\\n",
    "(\n",
    "    fx[\"strategy_returns\"]\n",
    "    .cumsum()\n",
    "    .apply(np.exp)\n",
    ")\n",
    "\n",
    "fx"
   ]
  },
  {
   "cell_type": "code",
   "execution_count": 27,
   "metadata": {},
   "outputs": [],
   "source": [
    "fx[\"max_gross_performance\"] =\\\n",
    "(\n",
    "    fx\n",
    "    [\"cumulative_returns\"]\n",
    "    .cummax()\n",
    ")"
   ]
  },
  {
   "cell_type": "code",
   "execution_count": 28,
   "metadata": {},
   "outputs": [
    {
     "data": {
      "text/html": [
       "<div>\n",
       "<style scoped>\n",
       "    .dataframe tbody tr th:only-of-type {\n",
       "        vertical-align: middle;\n",
       "    }\n",
       "\n",
       "    .dataframe tbody tr th {\n",
       "        vertical-align: top;\n",
       "    }\n",
       "\n",
       "    .dataframe thead th {\n",
       "        text-align: right;\n",
       "    }\n",
       "</style>\n",
       "<table border=\"1\" class=\"dataframe\">\n",
       "  <thead>\n",
       "    <tr style=\"text-align: right;\">\n",
       "      <th></th>\n",
       "      <th>Price</th>\n",
       "      <th>SMA_40</th>\n",
       "      <th>SMA_250</th>\n",
       "      <th>positions</th>\n",
       "      <th>log_returns</th>\n",
       "      <th>strategy_returns</th>\n",
       "      <th>cumulative_returns</th>\n",
       "      <th>max_gross_performance</th>\n",
       "    </tr>\n",
       "    <tr>\n",
       "      <th>DATE</th>\n",
       "      <th></th>\n",
       "      <th></th>\n",
       "      <th></th>\n",
       "      <th></th>\n",
       "      <th></th>\n",
       "      <th></th>\n",
       "      <th></th>\n",
       "      <th></th>\n",
       "    </tr>\n",
       "  </thead>\n",
       "  <tbody>\n",
       "    <tr>\n",
       "      <th>2013-09-06</th>\n",
       "      <td>1.3166</td>\n",
       "      <td>1.325128</td>\n",
       "      <td>1.309353</td>\n",
       "      <td>1</td>\n",
       "      <td>NaN</td>\n",
       "      <td>NaN</td>\n",
       "      <td>NaN</td>\n",
       "      <td>NaN</td>\n",
       "    </tr>\n",
       "    <tr>\n",
       "      <th>2013-09-09</th>\n",
       "      <td>1.3260</td>\n",
       "      <td>1.325657</td>\n",
       "      <td>1.309539</td>\n",
       "      <td>1</td>\n",
       "      <td>0.007114</td>\n",
       "      <td>0.007114</td>\n",
       "      <td>1.007140</td>\n",
       "      <td>1.007140</td>\n",
       "    </tr>\n",
       "    <tr>\n",
       "      <th>2013-09-10</th>\n",
       "      <td>1.3260</td>\n",
       "      <td>1.326210</td>\n",
       "      <td>1.309700</td>\n",
       "      <td>1</td>\n",
       "      <td>0.000000</td>\n",
       "      <td>0.000000</td>\n",
       "      <td>1.007140</td>\n",
       "      <td>1.007140</td>\n",
       "    </tr>\n",
       "    <tr>\n",
       "      <th>2013-09-11</th>\n",
       "      <td>1.3301</td>\n",
       "      <td>1.326603</td>\n",
       "      <td>1.309862</td>\n",
       "      <td>1</td>\n",
       "      <td>0.003087</td>\n",
       "      <td>0.003087</td>\n",
       "      <td>1.010254</td>\n",
       "      <td>1.010254</td>\n",
       "    </tr>\n",
       "    <tr>\n",
       "      <th>2013-09-12</th>\n",
       "      <td>1.3315</td>\n",
       "      <td>1.327155</td>\n",
       "      <td>1.310024</td>\n",
       "      <td>1</td>\n",
       "      <td>0.001052</td>\n",
       "      <td>0.001052</td>\n",
       "      <td>1.011317</td>\n",
       "      <td>1.011317</td>\n",
       "    </tr>\n",
       "  </tbody>\n",
       "</table>\n",
       "</div>"
      ],
      "text/plain": [
       "             Price    SMA_40   SMA_250  positions  log_returns  \\\n",
       "DATE                                                             \n",
       "2013-09-06  1.3166  1.325128  1.309353          1          NaN   \n",
       "2013-09-09  1.3260  1.325657  1.309539          1     0.007114   \n",
       "2013-09-10  1.3260  1.326210  1.309700          1     0.000000   \n",
       "2013-09-11  1.3301  1.326603  1.309862          1     0.003087   \n",
       "2013-09-12  1.3315  1.327155  1.310024          1     0.001052   \n",
       "\n",
       "            strategy_returns  cumulative_returns  max_gross_performance  \n",
       "DATE                                                                     \n",
       "2013-09-06               NaN                 NaN                    NaN  \n",
       "2013-09-09          0.007114            1.007140               1.007140  \n",
       "2013-09-10          0.000000            1.007140               1.007140  \n",
       "2013-09-11          0.003087            1.010254               1.010254  \n",
       "2013-09-12          0.001052            1.011317               1.011317  "
      ]
     },
     "execution_count": 28,
     "metadata": {},
     "output_type": "execute_result"
    }
   ],
   "source": [
    "fx.head()"
   ]
  },
  {
   "cell_type": "code",
   "execution_count": 29,
   "metadata": {},
   "outputs": [
    {
     "data": {
      "text/plain": [
       "<Axes: xlabel='DATE'>"
      ]
     },
     "execution_count": 29,
     "metadata": {},
     "output_type": "execute_result"
    },
    {
     "data": {
      "image/png": "[encoded data removed]",
      "text/plain": [
       "<Figure size 1800x800 with 1 Axes>"
      ]
     },
     "metadata": {},
     "output_type": "display_data"
    }
   ],
   "source": [
    "(\n",
    "    fx\n",
    "    [[\"cumulative_returns\", \"max_gross_performance\"]]\n",
    "    .dropna()\n",
    "    .plot(figsize = [18, 8]\n",
    "         )\n",
    ")"
   ]
  },
  {
   "cell_type": "markdown",
   "metadata": {},
   "source": [
    "> Recall the previous lesson: the maximum drawdown is then simply calculated as the maximum of the difference between the two relevant columns."
   ]
  },
  {
   "cell_type": "code",
   "execution_count": 30,
   "metadata": {},
   "outputs": [
    {
     "data": {
      "text/plain": [
       "DATE\n",
       "2013-09-06         NaN\n",
       "2013-09-09    0.000000\n",
       "2013-09-10    0.000000\n",
       "2013-09-11    0.000000\n",
       "2013-09-12    0.000000\n",
       "                ...   \n",
       "2023-09-01    0.163807\n",
       "2023-09-05    0.171941\n",
       "2023-09-06    0.173703\n",
       "2023-09-07    0.175059\n",
       "2023-09-08    0.174381\n",
       "Length: 2500, dtype: float64"
      ]
     },
     "execution_count": 30,
     "metadata": {},
     "output_type": "execute_result"
    }
   ],
   "source": [
    "drawdown = fx[\"max_gross_performance\"] - fx[\"cumulative_returns\"]\n",
    "\n",
    "drawdown"
   ]
  },
  {
   "cell_type": "code",
   "execution_count": 31,
   "metadata": {},
   "outputs": [
    {
     "data": {
      "text/plain": [
       "0.19796820405187265"
      ]
     },
     "execution_count": 31,
     "metadata": {},
     "output_type": "execute_result"
    }
   ],
   "source": [
    "drawdown.max()"
   ]
  },
  {
   "cell_type": "markdown",
   "metadata": {},
   "source": [
    "> In this case, the maximum drawdown is about __`19.8`__ percentage points."
   ]
  },
  {
   "cell_type": "markdown",
   "metadata": {},
   "source": [
    "> The longest drawdown period can be calculated using those dates at which the gross performance equals its cumulative maximum (namely, where a new maximum is set). Then the differences in days between all such dates are calculated, and the longest period comes out."
   ]
  },
  {
   "cell_type": "code",
   "execution_count": 32,
   "metadata": {},
   "outputs": [
    {
     "data": {
      "text/plain": [
       "DATE\n",
       "2013-09-09    0.0\n",
       "2013-09-10    0.0\n",
       "2013-09-11    0.0\n",
       "2013-09-12    0.0\n",
       "2013-09-16    0.0\n",
       "             ... \n",
       "2022-09-21    0.0\n",
       "2022-09-22    0.0\n",
       "2022-09-23    0.0\n",
       "2022-09-26    0.0\n",
       "2022-09-27    0.0\n",
       "Length: 112, dtype: float64"
      ]
     },
     "execution_count": 32,
     "metadata": {},
     "output_type": "execute_result"
    }
   ],
   "source": [
    "drawdown[drawdown == 0]"
   ]
  },
  {
   "cell_type": "code",
   "execution_count": 33,
   "metadata": {},
   "outputs": [
    {
     "data": {
      "text/plain": [
       "DatetimeIndex(['2013-09-10', '2013-09-11', '2013-09-12', '2013-09-16',\n",
       "               '2013-09-17', '2013-09-19', '2013-09-25', '2013-09-27',\n",
       "               '2013-10-02', '2013-10-03',\n",
       "               ...\n",
       "               '2022-07-11', '2022-07-12', '2022-07-14', '2022-08-22',\n",
       "               '2022-09-06', '2022-09-21', '2022-09-22', '2022-09-23',\n",
       "               '2022-09-26', '2022-09-27'],\n",
       "              dtype='datetime64[ns]', name='DATE', length=111, freq=None)"
      ]
     },
     "execution_count": 33,
     "metadata": {},
     "output_type": "execute_result"
    }
   ],
   "source": [
    "drawdown[drawdown == 0].index[1:]"
   ]
  },
  {
   "cell_type": "code",
   "execution_count": 34,
   "metadata": {},
   "outputs": [],
   "source": [
    "periods =\\\n",
    "(\n",
    "    drawdown[drawdown == 0].index[ 1 :   ].to_pydatetime()\n",
    "    -\n",
    "    drawdown[drawdown == 0].index[   : -1].to_pydatetime()\n",
    ")"
   ]
  },
  {
   "cell_type": "code",
   "execution_count": 35,
   "metadata": {},
   "outputs": [
    {
     "data": {
      "text/plain": [
       "datetime.timedelta(days=1804)"
      ]
     },
     "execution_count": 35,
     "metadata": {},
     "output_type": "execute_result"
    }
   ],
   "source": [
    "periods.max()"
   ]
  },
  {
   "cell_type": "markdown",
   "metadata": {},
   "source": [
    "> The longest drawdown period lasts for __`1,804`__ days."
   ]
  },
  {
   "cell_type": "markdown",
   "metadata": {},
   "source": [
    "## <a id = \"p2\">2.</a>  <font color = \"green\"> Time-Series Momentum Strategy </font>  [back to table of contents](#top)"
   ]
  },
  {
   "cell_type": "markdown",
   "metadata": {},
   "source": [
    "> Cross-sectional momentum strategies, using a larger pool of instruments, buy those instruments that have recently performed better than their peers (and/or a benchmark) and sell those instruments that have underperformed. The strategies rely on the notion that instruments would continue to outperform and underperform, respectively—at least for a certain period of time.\n",
    "\n",
    "    Time-series momentum strategies buy those instruments that have recently performed well and sell those instruments that have recently performed poorly. Here, the benchmark is the past returns of the instrument itself.\n",
    "\n",
    "> The most simple time series momentum strategy is to buy the stock if the last return was positive and to sell it if it was negative. With NumPy and pandas, this is easy to formalize; just take the sign of the last available return as the market position."
   ]
  },
  {
   "cell_type": "code",
   "execution_count": 36,
   "metadata": {},
   "outputs": [],
   "source": [
    "# DJIA, S&P 500, Nasdaq\n",
    "\n",
    "tickers = [\"DIA\", \"SPY\", \"QQQ\"]"
   ]
  },
  {
   "cell_type": "code",
   "execution_count": 37,
   "metadata": {},
   "outputs": [],
   "source": [
    "def obtain(tickers,\n",
    "           start,\n",
    "           end):\n",
    "    def data(ticker):\n",
    "        return(pdr\n",
    "               .get_data_yahoo(ticker,\n",
    "                               start = start,\n",
    "                               end = end)\n",
    "              )\n",
    "    interim_data = map(data, tickers)\n",
    "    return(pd\n",
    "          .concat(interim_data,\n",
    "                  keys = tickers,\n",
    "                  names = [\"Tickers\", \"Date\"]\n",
    "                 )\n",
    "          )"
   ]
  },
  {
   "cell_type": "code",
   "execution_count": 38,
   "metadata": {},
   "outputs": [
    {
     "name": "stdout",
     "output_type": "stream",
     "text": [
      "[*********************100%%**********************]  1 of 1 completed\n",
      "[*********************100%%**********************]  1 of 1 completed\n",
      "[*********************100%%**********************]  1 of 1 completed\n"
     ]
    }
   ],
   "source": [
    "data =\\\n",
    "(\n",
    "    obtain(tickers,\n",
    "            dt.datetime(2013, 9, 9),\n",
    "            dt.datetime(2023, 9, 8)\n",
    "           )\n",
    ")"
   ]
  },
  {
   "cell_type": "code",
   "execution_count": 39,
   "metadata": {},
   "outputs": [
    {
     "data": {
      "text/html": [
       "<div>\n",
       "<style scoped>\n",
       "    .dataframe tbody tr th:only-of-type {\n",
       "        vertical-align: middle;\n",
       "    }\n",
       "\n",
       "    .dataframe tbody tr th {\n",
       "        vertical-align: top;\n",
       "    }\n",
       "\n",
       "    .dataframe thead th {\n",
       "        text-align: right;\n",
       "    }\n",
       "</style>\n",
       "<table border=\"1\" class=\"dataframe\">\n",
       "  <thead>\n",
       "    <tr style=\"text-align: right;\">\n",
       "      <th></th>\n",
       "      <th></th>\n",
       "      <th>Open</th>\n",
       "      <th>High</th>\n",
       "      <th>Low</th>\n",
       "      <th>Close</th>\n",
       "      <th>Adj Close</th>\n",
       "      <th>Volume</th>\n",
       "    </tr>\n",
       "    <tr>\n",
       "      <th>Tickers</th>\n",
       "      <th>Date</th>\n",
       "      <th></th>\n",
       "      <th></th>\n",
       "      <th></th>\n",
       "      <th></th>\n",
       "      <th></th>\n",
       "      <th></th>\n",
       "    </tr>\n",
       "  </thead>\n",
       "  <tbody>\n",
       "    <tr>\n",
       "      <th rowspan=\"5\" valign=\"top\">DIA</th>\n",
       "      <th>2013-09-09</th>\n",
       "      <td>149.500000</td>\n",
       "      <td>150.779999</td>\n",
       "      <td>149.479996</td>\n",
       "      <td>150.470001</td>\n",
       "      <td>121.401917</td>\n",
       "      <td>4402500</td>\n",
       "    </tr>\n",
       "    <tr>\n",
       "      <th>2013-09-10</th>\n",
       "      <td>151.470001</td>\n",
       "      <td>151.820007</td>\n",
       "      <td>151.100006</td>\n",
       "      <td>151.789993</td>\n",
       "      <td>122.466919</td>\n",
       "      <td>7917100</td>\n",
       "    </tr>\n",
       "    <tr>\n",
       "      <th>2013-09-11</th>\n",
       "      <td>151.820007</td>\n",
       "      <td>153.179993</td>\n",
       "      <td>151.770004</td>\n",
       "      <td>153.149994</td>\n",
       "      <td>123.564224</td>\n",
       "      <td>7044000</td>\n",
       "    </tr>\n",
       "    <tr>\n",
       "      <th>2013-09-12</th>\n",
       "      <td>153.330002</td>\n",
       "      <td>153.410004</td>\n",
       "      <td>152.779999</td>\n",
       "      <td>153.029999</td>\n",
       "      <td>123.467438</td>\n",
       "      <td>5555700</td>\n",
       "    </tr>\n",
       "    <tr>\n",
       "      <th>2013-09-13</th>\n",
       "      <td>153.339996</td>\n",
       "      <td>153.800003</td>\n",
       "      <td>153.210007</td>\n",
       "      <td>153.690002</td>\n",
       "      <td>123.999840</td>\n",
       "      <td>4829600</td>\n",
       "    </tr>\n",
       "    <tr>\n",
       "      <th>...</th>\n",
       "      <th>...</th>\n",
       "      <td>...</td>\n",
       "      <td>...</td>\n",
       "      <td>...</td>\n",
       "      <td>...</td>\n",
       "      <td>...</td>\n",
       "      <td>...</td>\n",
       "    </tr>\n",
       "    <tr>\n",
       "      <th rowspan=\"5\" valign=\"top\">QQQ</th>\n",
       "      <th>2023-08-31</th>\n",
       "      <td>376.940002</td>\n",
       "      <td>379.720001</td>\n",
       "      <td>376.869995</td>\n",
       "      <td>377.989990</td>\n",
       "      <td>377.443604</td>\n",
       "      <td>35730700</td>\n",
       "    </tr>\n",
       "    <tr>\n",
       "      <th>2023-09-01</th>\n",
       "      <td>380.399994</td>\n",
       "      <td>380.829987</td>\n",
       "      <td>376.079987</td>\n",
       "      <td>377.589996</td>\n",
       "      <td>377.044189</td>\n",
       "      <td>39772400</td>\n",
       "    </tr>\n",
       "    <tr>\n",
       "      <th>2023-09-05</th>\n",
       "      <td>376.769989</td>\n",
       "      <td>379.309998</td>\n",
       "      <td>375.829987</td>\n",
       "      <td>378.070007</td>\n",
       "      <td>377.523529</td>\n",
       "      <td>32344200</td>\n",
       "    </tr>\n",
       "    <tr>\n",
       "      <th>2023-09-06</th>\n",
       "      <td>377.279999</td>\n",
       "      <td>377.630005</td>\n",
       "      <td>372.700012</td>\n",
       "      <td>374.739990</td>\n",
       "      <td>374.198303</td>\n",
       "      <td>42998700</td>\n",
       "    </tr>\n",
       "    <tr>\n",
       "      <th>2023-09-07</th>\n",
       "      <td>370.209991</td>\n",
       "      <td>372.850006</td>\n",
       "      <td>369.149994</td>\n",
       "      <td>372.059998</td>\n",
       "      <td>371.522186</td>\n",
       "      <td>52060700</td>\n",
       "    </tr>\n",
       "  </tbody>\n",
       "</table>\n",
       "<p>7551 rows × 6 columns</p>\n",
       "</div>"
      ],
      "text/plain": [
       "                          Open        High         Low       Close  \\\n",
       "Tickers Date                                                         \n",
       "DIA     2013-09-09  149.500000  150.779999  149.479996  150.470001   \n",
       "        2013-09-10  151.470001  151.820007  151.100006  151.789993   \n",
       "        2013-09-11  151.820007  153.179993  151.770004  153.149994   \n",
       "        2013-09-12  153.330002  153.410004  152.779999  153.029999   \n",
       "        2013-09-13  153.339996  153.800003  153.210007  153.690002   \n",
       "...                        ...         ...         ...         ...   \n",
       "QQQ     2023-08-31  376.940002  379.720001  376.869995  377.989990   \n",
       "        2023-09-01  380.399994  380.829987  376.079987  377.589996   \n",
       "        2023-09-05  376.769989  379.309998  375.829987  378.070007   \n",
       "        2023-09-06  377.279999  377.630005  372.700012  374.739990   \n",
       "        2023-09-07  370.209991  372.850006  369.149994  372.059998   \n",
       "\n",
       "                     Adj Close    Volume  \n",
       "Tickers Date                              \n",
       "DIA     2013-09-09  121.401917   4402500  \n",
       "        2013-09-10  122.466919   7917100  \n",
       "        2013-09-11  123.564224   7044000  \n",
       "        2013-09-12  123.467438   5555700  \n",
       "        2013-09-13  123.999840   4829600  \n",
       "...                        ...       ...  \n",
       "QQQ     2023-08-31  377.443604  35730700  \n",
       "        2023-09-01  377.044189  39772400  \n",
       "        2023-09-05  377.523529  32344200  \n",
       "        2023-09-06  374.198303  42998700  \n",
       "        2023-09-07  371.522186  52060700  \n",
       "\n",
       "[7551 rows x 6 columns]"
      ]
     },
     "execution_count": 39,
     "metadata": {},
     "output_type": "execute_result"
    }
   ],
   "source": [
    "data"
   ]
  },
  {
   "cell_type": "code",
   "execution_count": 40,
   "metadata": {},
   "outputs": [],
   "source": [
    "data_WIDE =\\\n",
    "(\n",
    "    data\n",
    "    [\"Close\"]\n",
    "    .reset_index()\n",
    "    .pivot(index = \"Date\",\n",
    "           columns = \"Tickers\",\n",
    "           values = \"Close\")\n",
    ")"
   ]
  },
  {
   "cell_type": "code",
   "execution_count": 41,
   "metadata": {},
   "outputs": [
    {
     "data": {
      "text/html": [
       "<div>\n",
       "<style scoped>\n",
       "    .dataframe tbody tr th:only-of-type {\n",
       "        vertical-align: middle;\n",
       "    }\n",
       "\n",
       "    .dataframe tbody tr th {\n",
       "        vertical-align: top;\n",
       "    }\n",
       "\n",
       "    .dataframe thead th {\n",
       "        text-align: right;\n",
       "    }\n",
       "</style>\n",
       "<table border=\"1\" class=\"dataframe\">\n",
       "  <thead>\n",
       "    <tr style=\"text-align: right;\">\n",
       "      <th>Tickers</th>\n",
       "      <th>DIA</th>\n",
       "      <th>QQQ</th>\n",
       "      <th>SPY</th>\n",
       "    </tr>\n",
       "    <tr>\n",
       "      <th>Date</th>\n",
       "      <th></th>\n",
       "      <th></th>\n",
       "      <th></th>\n",
       "    </tr>\n",
       "  </thead>\n",
       "  <tbody>\n",
       "    <tr>\n",
       "      <th>2013-09-09</th>\n",
       "      <td>150.470001</td>\n",
       "      <td>77.830002</td>\n",
       "      <td>167.630005</td>\n",
       "    </tr>\n",
       "    <tr>\n",
       "      <th>2013-09-10</th>\n",
       "      <td>151.789993</td>\n",
       "      <td>78.209999</td>\n",
       "      <td>168.869995</td>\n",
       "    </tr>\n",
       "    <tr>\n",
       "      <th>2013-09-11</th>\n",
       "      <td>153.149994</td>\n",
       "      <td>78.059998</td>\n",
       "      <td>169.399994</td>\n",
       "    </tr>\n",
       "    <tr>\n",
       "      <th>2013-09-12</th>\n",
       "      <td>153.029999</td>\n",
       "      <td>78.010002</td>\n",
       "      <td>168.949997</td>\n",
       "    </tr>\n",
       "    <tr>\n",
       "      <th>2013-09-13</th>\n",
       "      <td>153.690002</td>\n",
       "      <td>78.059998</td>\n",
       "      <td>169.330002</td>\n",
       "    </tr>\n",
       "    <tr>\n",
       "      <th>...</th>\n",
       "      <td>...</td>\n",
       "      <td>...</td>\n",
       "      <td>...</td>\n",
       "    </tr>\n",
       "    <tr>\n",
       "      <th>2023-08-31</th>\n",
       "      <td>347.809998</td>\n",
       "      <td>377.989990</td>\n",
       "      <td>450.350006</td>\n",
       "    </tr>\n",
       "    <tr>\n",
       "      <th>2023-09-01</th>\n",
       "      <td>348.980011</td>\n",
       "      <td>377.589996</td>\n",
       "      <td>451.190002</td>\n",
       "    </tr>\n",
       "    <tr>\n",
       "      <th>2023-09-05</th>\n",
       "      <td>346.980011</td>\n",
       "      <td>378.070007</td>\n",
       "      <td>449.239990</td>\n",
       "    </tr>\n",
       "    <tr>\n",
       "      <th>2023-09-06</th>\n",
       "      <td>345.000000</td>\n",
       "      <td>374.739990</td>\n",
       "      <td>446.220001</td>\n",
       "    </tr>\n",
       "    <tr>\n",
       "      <th>2023-09-07</th>\n",
       "      <td>345.690002</td>\n",
       "      <td>372.059998</td>\n",
       "      <td>444.850006</td>\n",
       "    </tr>\n",
       "  </tbody>\n",
       "</table>\n",
       "<p>2517 rows × 3 columns</p>\n",
       "</div>"
      ],
      "text/plain": [
       "Tickers            DIA         QQQ         SPY\n",
       "Date                                          \n",
       "2013-09-09  150.470001   77.830002  167.630005\n",
       "2013-09-10  151.789993   78.209999  168.869995\n",
       "2013-09-11  153.149994   78.059998  169.399994\n",
       "2013-09-12  153.029999   78.010002  168.949997\n",
       "2013-09-13  153.690002   78.059998  169.330002\n",
       "...                ...         ...         ...\n",
       "2023-08-31  347.809998  377.989990  450.350006\n",
       "2023-09-01  348.980011  377.589996  451.190002\n",
       "2023-09-05  346.980011  378.070007  449.239990\n",
       "2023-09-06  345.000000  374.739990  446.220001\n",
       "2023-09-07  345.690002  372.059998  444.850006\n",
       "\n",
       "[2517 rows x 3 columns]"
      ]
     },
     "execution_count": 41,
     "metadata": {},
     "output_type": "execute_result"
    }
   ],
   "source": [
    "data_WIDE"
   ]
  },
  {
   "cell_type": "code",
   "execution_count": 42,
   "metadata": {},
   "outputs": [],
   "source": [
    "qqq =\\\n",
    "(\n",
    "    pd\n",
    "    .DataFrame(data_WIDE[\"QQQ\"]\n",
    "              )\n",
    "    .rename(columns = {\"QQQ\": \"Price\"}\n",
    "           )\n",
    ")"
   ]
  },
  {
   "cell_type": "code",
   "execution_count": 43,
   "metadata": {},
   "outputs": [
    {
     "data": {
      "text/html": [
       "<div>\n",
       "<style scoped>\n",
       "    .dataframe tbody tr th:only-of-type {\n",
       "        vertical-align: middle;\n",
       "    }\n",
       "\n",
       "    .dataframe tbody tr th {\n",
       "        vertical-align: top;\n",
       "    }\n",
       "\n",
       "    .dataframe thead th {\n",
       "        text-align: right;\n",
       "    }\n",
       "</style>\n",
       "<table border=\"1\" class=\"dataframe\">\n",
       "  <thead>\n",
       "    <tr style=\"text-align: right;\">\n",
       "      <th></th>\n",
       "      <th>Price</th>\n",
       "    </tr>\n",
       "    <tr>\n",
       "      <th>Date</th>\n",
       "      <th></th>\n",
       "    </tr>\n",
       "  </thead>\n",
       "  <tbody>\n",
       "    <tr>\n",
       "      <th>2013-09-09</th>\n",
       "      <td>77.830002</td>\n",
       "    </tr>\n",
       "    <tr>\n",
       "      <th>2013-09-10</th>\n",
       "      <td>78.209999</td>\n",
       "    </tr>\n",
       "    <tr>\n",
       "      <th>2013-09-11</th>\n",
       "      <td>78.059998</td>\n",
       "    </tr>\n",
       "    <tr>\n",
       "      <th>2013-09-12</th>\n",
       "      <td>78.010002</td>\n",
       "    </tr>\n",
       "    <tr>\n",
       "      <th>2013-09-13</th>\n",
       "      <td>78.059998</td>\n",
       "    </tr>\n",
       "    <tr>\n",
       "      <th>...</th>\n",
       "      <td>...</td>\n",
       "    </tr>\n",
       "    <tr>\n",
       "      <th>2023-08-31</th>\n",
       "      <td>377.989990</td>\n",
       "    </tr>\n",
       "    <tr>\n",
       "      <th>2023-09-01</th>\n",
       "      <td>377.589996</td>\n",
       "    </tr>\n",
       "    <tr>\n",
       "      <th>2023-09-05</th>\n",
       "      <td>378.070007</td>\n",
       "    </tr>\n",
       "    <tr>\n",
       "      <th>2023-09-06</th>\n",
       "      <td>374.739990</td>\n",
       "    </tr>\n",
       "    <tr>\n",
       "      <th>2023-09-07</th>\n",
       "      <td>372.059998</td>\n",
       "    </tr>\n",
       "  </tbody>\n",
       "</table>\n",
       "<p>2517 rows × 1 columns</p>\n",
       "</div>"
      ],
      "text/plain": [
       "                 Price\n",
       "Date                  \n",
       "2013-09-09   77.830002\n",
       "2013-09-10   78.209999\n",
       "2013-09-11   78.059998\n",
       "2013-09-12   78.010002\n",
       "2013-09-13   78.059998\n",
       "...                ...\n",
       "2023-08-31  377.989990\n",
       "2023-09-01  377.589996\n",
       "2023-09-05  378.070007\n",
       "2023-09-06  374.739990\n",
       "2023-09-07  372.059998\n",
       "\n",
       "[2517 rows x 1 columns]"
      ]
     },
     "execution_count": 43,
     "metadata": {},
     "output_type": "execute_result"
    }
   ],
   "source": [
    "qqq"
   ]
  },
  {
   "cell_type": "code",
   "execution_count": 44,
   "metadata": {},
   "outputs": [],
   "source": [
    "qqq[\"returns\"] =\\\n",
    "(\n",
    "    np\n",
    "    .log(qqq[\"Price\"]\n",
    "         / \n",
    "         qqq[\"Price\"].shift(1)\n",
    "        )\n",
    ")"
   ]
  },
  {
   "cell_type": "code",
   "execution_count": 45,
   "metadata": {},
   "outputs": [
    {
     "data": {
      "text/html": [
       "<div>\n",
       "<style scoped>\n",
       "    .dataframe tbody tr th:only-of-type {\n",
       "        vertical-align: middle;\n",
       "    }\n",
       "\n",
       "    .dataframe tbody tr th {\n",
       "        vertical-align: top;\n",
       "    }\n",
       "\n",
       "    .dataframe thead th {\n",
       "        text-align: right;\n",
       "    }\n",
       "</style>\n",
       "<table border=\"1\" class=\"dataframe\">\n",
       "  <thead>\n",
       "    <tr style=\"text-align: right;\">\n",
       "      <th></th>\n",
       "      <th>Price</th>\n",
       "      <th>returns</th>\n",
       "    </tr>\n",
       "    <tr>\n",
       "      <th>Date</th>\n",
       "      <th></th>\n",
       "      <th></th>\n",
       "    </tr>\n",
       "  </thead>\n",
       "  <tbody>\n",
       "    <tr>\n",
       "      <th>2013-09-09</th>\n",
       "      <td>77.830002</td>\n",
       "      <td>NaN</td>\n",
       "    </tr>\n",
       "    <tr>\n",
       "      <th>2013-09-10</th>\n",
       "      <td>78.209999</td>\n",
       "      <td>0.004871</td>\n",
       "    </tr>\n",
       "  </tbody>\n",
       "</table>\n",
       "</div>"
      ],
      "text/plain": [
       "                Price   returns\n",
       "Date                           \n",
       "2013-09-09  77.830002       NaN\n",
       "2013-09-10  78.209999  0.004871"
      ]
     },
     "execution_count": 45,
     "metadata": {},
     "output_type": "execute_result"
    }
   ],
   "source": [
    "qqq.head(2)"
   ]
  },
  {
   "cell_type": "code",
   "execution_count": 46,
   "metadata": {},
   "outputs": [],
   "source": [
    "sample_array = np.array([1, -4, 3, -6, 2, -7, 8])"
   ]
  },
  {
   "cell_type": "code",
   "execution_count": 47,
   "metadata": {},
   "outputs": [
    {
     "data": {
      "text/plain": [
       "array([ 1, -4,  3, -6,  2, -7,  8])"
      ]
     },
     "execution_count": 47,
     "metadata": {},
     "output_type": "execute_result"
    }
   ],
   "source": [
    "sample_array"
   ]
  },
  {
   "cell_type": "code",
   "execution_count": 48,
   "metadata": {},
   "outputs": [
    {
     "data": {
      "text/plain": [
       "array([ 1, -1,  1, -1,  1, -1,  1])"
      ]
     },
     "execution_count": 48,
     "metadata": {},
     "output_type": "execute_result"
    }
   ],
   "source": [
    "np.sign(sample_array)"
   ]
  },
  {
   "cell_type": "code",
   "execution_count": 49,
   "metadata": {},
   "outputs": [
    {
     "data": {
      "text/html": [
       "<div>\n",
       "<style scoped>\n",
       "    .dataframe tbody tr th:only-of-type {\n",
       "        vertical-align: middle;\n",
       "    }\n",
       "\n",
       "    .dataframe tbody tr th {\n",
       "        vertical-align: top;\n",
       "    }\n",
       "\n",
       "    .dataframe thead th {\n",
       "        text-align: right;\n",
       "    }\n",
       "</style>\n",
       "<table border=\"1\" class=\"dataframe\">\n",
       "  <thead>\n",
       "    <tr style=\"text-align: right;\">\n",
       "      <th></th>\n",
       "      <th>Price</th>\n",
       "      <th>returns</th>\n",
       "    </tr>\n",
       "    <tr>\n",
       "      <th>Date</th>\n",
       "      <th></th>\n",
       "      <th></th>\n",
       "    </tr>\n",
       "  </thead>\n",
       "  <tbody>\n",
       "    <tr>\n",
       "      <th>2013-09-09</th>\n",
       "      <td>77.830002</td>\n",
       "      <td>NaN</td>\n",
       "    </tr>\n",
       "    <tr>\n",
       "      <th>2013-09-10</th>\n",
       "      <td>78.209999</td>\n",
       "      <td>0.004871</td>\n",
       "    </tr>\n",
       "    <tr>\n",
       "      <th>2013-09-11</th>\n",
       "      <td>78.059998</td>\n",
       "      <td>-0.001920</td>\n",
       "    </tr>\n",
       "    <tr>\n",
       "      <th>2013-09-12</th>\n",
       "      <td>78.010002</td>\n",
       "      <td>-0.000641</td>\n",
       "    </tr>\n",
       "    <tr>\n",
       "      <th>2013-09-13</th>\n",
       "      <td>78.059998</td>\n",
       "      <td>0.000641</td>\n",
       "    </tr>\n",
       "    <tr>\n",
       "      <th>...</th>\n",
       "      <td>...</td>\n",
       "      <td>...</td>\n",
       "    </tr>\n",
       "    <tr>\n",
       "      <th>2023-08-31</th>\n",
       "      <td>377.989990</td>\n",
       "      <td>0.002994</td>\n",
       "    </tr>\n",
       "    <tr>\n",
       "      <th>2023-09-01</th>\n",
       "      <td>377.589996</td>\n",
       "      <td>-0.001059</td>\n",
       "    </tr>\n",
       "    <tr>\n",
       "      <th>2023-09-05</th>\n",
       "      <td>378.070007</td>\n",
       "      <td>0.001270</td>\n",
       "    </tr>\n",
       "    <tr>\n",
       "      <th>2023-09-06</th>\n",
       "      <td>374.739990</td>\n",
       "      <td>-0.008847</td>\n",
       "    </tr>\n",
       "    <tr>\n",
       "      <th>2023-09-07</th>\n",
       "      <td>372.059998</td>\n",
       "      <td>-0.007177</td>\n",
       "    </tr>\n",
       "  </tbody>\n",
       "</table>\n",
       "<p>2517 rows × 2 columns</p>\n",
       "</div>"
      ],
      "text/plain": [
       "                 Price   returns\n",
       "Date                            \n",
       "2013-09-09   77.830002       NaN\n",
       "2013-09-10   78.209999  0.004871\n",
       "2013-09-11   78.059998 -0.001920\n",
       "2013-09-12   78.010002 -0.000641\n",
       "2013-09-13   78.059998  0.000641\n",
       "...                ...       ...\n",
       "2023-08-31  377.989990  0.002994\n",
       "2023-09-01  377.589996 -0.001059\n",
       "2023-09-05  378.070007  0.001270\n",
       "2023-09-06  374.739990 -0.008847\n",
       "2023-09-07  372.059998 -0.007177\n",
       "\n",
       "[2517 rows x 2 columns]"
      ]
     },
     "execution_count": 49,
     "metadata": {},
     "output_type": "execute_result"
    }
   ],
   "source": [
    "qqq"
   ]
  },
  {
   "cell_type": "code",
   "execution_count": 50,
   "metadata": {},
   "outputs": [
    {
     "data": {
      "text/html": [
       "<div>\n",
       "<style scoped>\n",
       "    .dataframe tbody tr th:only-of-type {\n",
       "        vertical-align: middle;\n",
       "    }\n",
       "\n",
       "    .dataframe tbody tr th {\n",
       "        vertical-align: top;\n",
       "    }\n",
       "\n",
       "    .dataframe thead th {\n",
       "        text-align: right;\n",
       "    }\n",
       "</style>\n",
       "<table border=\"1\" class=\"dataframe\">\n",
       "  <thead>\n",
       "    <tr style=\"text-align: right;\">\n",
       "      <th></th>\n",
       "      <th>positions</th>\n",
       "    </tr>\n",
       "    <tr>\n",
       "      <th>Date</th>\n",
       "      <th></th>\n",
       "    </tr>\n",
       "  </thead>\n",
       "  <tbody>\n",
       "    <tr>\n",
       "      <th>2013-09-09</th>\n",
       "      <td>NaN</td>\n",
       "    </tr>\n",
       "    <tr>\n",
       "      <th>2013-09-10</th>\n",
       "      <td>1.0</td>\n",
       "    </tr>\n",
       "    <tr>\n",
       "      <th>2013-09-11</th>\n",
       "      <td>-1.0</td>\n",
       "    </tr>\n",
       "    <tr>\n",
       "      <th>2013-09-12</th>\n",
       "      <td>-1.0</td>\n",
       "    </tr>\n",
       "    <tr>\n",
       "      <th>2013-09-13</th>\n",
       "      <td>1.0</td>\n",
       "    </tr>\n",
       "    <tr>\n",
       "      <th>...</th>\n",
       "      <td>...</td>\n",
       "    </tr>\n",
       "    <tr>\n",
       "      <th>2023-08-31</th>\n",
       "      <td>1.0</td>\n",
       "    </tr>\n",
       "    <tr>\n",
       "      <th>2023-09-01</th>\n",
       "      <td>-1.0</td>\n",
       "    </tr>\n",
       "    <tr>\n",
       "      <th>2023-09-05</th>\n",
       "      <td>1.0</td>\n",
       "    </tr>\n",
       "    <tr>\n",
       "      <th>2023-09-06</th>\n",
       "      <td>-1.0</td>\n",
       "    </tr>\n",
       "    <tr>\n",
       "      <th>2023-09-07</th>\n",
       "      <td>-1.0</td>\n",
       "    </tr>\n",
       "  </tbody>\n",
       "</table>\n",
       "<p>2517 rows × 1 columns</p>\n",
       "</div>"
      ],
      "text/plain": [
       "            positions\n",
       "Date                 \n",
       "2013-09-09        NaN\n",
       "2013-09-10        1.0\n",
       "2013-09-11       -1.0\n",
       "2013-09-12       -1.0\n",
       "2013-09-13        1.0\n",
       "...               ...\n",
       "2023-08-31        1.0\n",
       "2023-09-01       -1.0\n",
       "2023-09-05        1.0\n",
       "2023-09-06       -1.0\n",
       "2023-09-07       -1.0\n",
       "\n",
       "[2517 rows x 1 columns]"
      ]
     },
     "execution_count": 50,
     "metadata": {},
     "output_type": "execute_result"
    }
   ],
   "source": [
    "qqq[\"positions\"] =\\\n",
    "(\n",
    "    np\n",
    "    .sign(qqq[\"returns\"]\n",
    "         )\n",
    ")\n",
    "\n",
    "qqq[[\"positions\"]]"
   ]
  },
  {
   "cell_type": "code",
   "execution_count": 51,
   "metadata": {},
   "outputs": [],
   "source": [
    "qqq[\"strategy_returns\"] =\\\n",
    "(\n",
    "    qqq[\"positions\"]\n",
    "    .shift(1)\n",
    "    *\n",
    "    qqq[\"returns\"] # passive following\n",
    ")"
   ]
  },
  {
   "cell_type": "code",
   "execution_count": 52,
   "metadata": {},
   "outputs": [
    {
     "ename": "SyntaxError",
     "evalue": "invalid syntax. Perhaps you forgot a comma? (233512035.py, line 2)",
     "output_type": "error",
     "traceback": [
      "\u001b[1;36m  Cell \u001b[1;32mIn[52], line 2\u001b[1;36m\u001b[0m\n\u001b[1;33m    qqq\u001b[0m\n\u001b[1;37m    ^\u001b[0m\n\u001b[1;31mSyntaxError\u001b[0m\u001b[1;31m:\u001b[0m invalid syntax. Perhaps you forgot a comma?\n"
     ]
    }
   ],
   "source": [
    "(\n",
    "    qqq\n",
    "    [[\"returns\", \"strategy_returns\"]] # passive following vs. your strategy (here, time-series momentum)\n",
    "    .dropna()dr\n",
    "    .cumsum()\n",
    "    .apply(np.exp)\n",
    "    .plot(figsize = [16, 8]\n",
    "         )\n",
    ")"
   ]
  },
  {
   "cell_type": "markdown",
   "metadata": {},
   "source": [
    "## <a id = \"p3\">3.</a>  <font color = \"green\"> Mean Reversion Strategy </font>  [back to table of contents](#top)"
   ]
  },
  {
   "cell_type": "markdown",
   "metadata": {},
   "source": [
    "> Mean reversion means a tendency of asset prices to return to a trend path. Mean-reversion strategies are based on the opposite belief to momentum strategies—that is, if a financial instrument has performed too well relative to its trend, it is shorted, and vice versa. While time-series momentum strategies expect a positive correlation between returns, mean-reversion strategies anticipate a negative correlation.\n",
    "\n",
    "    Mean-reversion strategy utilizes a simple moving average (SMA) as a proxy for a trend path. The key is to define a threshold for the distance between the current stock price and the SMA, which serves as a signal for a long or short position."
   ]
  },
  {
   "cell_type": "code",
   "execution_count": null,
   "metadata": {},
   "outputs": [],
   "source": [
    "gold =\\\n",
    "(\n",
    "    pdr\n",
    "    .get_data_yahoo(\"GDX\",\n",
    "                    start = dt.datetime(2011, 9, 9),\n",
    "                    end = dt.datetime(2023, 9, 8)\n",
    "                   )\n",
    ")"
   ]
  },
  {
   "cell_type": "code",
   "execution_count": null,
   "metadata": {},
   "outputs": [],
   "source": [
    "gold.tail()"
   ]
  },
  {
   "cell_type": "code",
   "execution_count": null,
   "metadata": {},
   "outputs": [],
   "source": [
    "gold[\"RETURNS\"] =\\\n",
    "(np\n",
    "    .log(gold[\"Close\"] \n",
    "         /\n",
    "         gold[\"Close\"]\n",
    "         .shift(1)\n",
    "        )\n",
    ")"
   ]
  },
  {
   "cell_type": "code",
   "execution_count": null,
   "metadata": {},
   "outputs": [],
   "source": [
    "gold[\"SMA_22\"] =\\\n",
    "(\n",
    "    gold[\"Close\"]\n",
    "    .rolling(window = 22)\n",
    "    .mean()\n",
    ")"
   ]
  },
  {
   "cell_type": "code",
   "execution_count": null,
   "metadata": {},
   "outputs": [],
   "source": [
    "gold.tail()"
   ]
  },
  {
   "cell_type": "markdown",
   "metadata": {},
   "source": [
    "> Here, let's set a threshold value of 3 for the absolute deviation of the current price to deviate from the SMA to signal a positioning."
   ]
  },
  {
   "cell_type": "code",
   "execution_count": null,
   "metadata": {},
   "outputs": [],
   "source": [
    "threshold = 3"
   ]
  },
  {
   "cell_type": "code",
   "execution_count": null,
   "metadata": {},
   "outputs": [],
   "source": [
    "gold[\"distance\"] = gold[\"Close\"] - gold[\"SMA_22\"]"
   ]
  },
  {
   "cell_type": "code",
   "execution_count": null,
   "metadata": {},
   "outputs": [],
   "source": [
    "gold"
   ]
  },
  {
   "cell_type": "code",
   "execution_count": null,
   "metadata": {},
   "outputs": [],
   "source": [
    "(gold[\"distance\"]\n",
    " .dropna()\n",
    " .plot(figsize = [16, 6]\n",
    "      )\n",
    ")\n",
    "\n",
    "plt.axhline(threshold, color = \"blue\", ls = \"--\")\n",
    "\n",
    "plt.axhline(0, color = \"green\", ls = \"--\")\n",
    "\n",
    "plt.axhline(-threshold, color = \"blue\", ls = \"--\")\n"
   ]
  },
  {
   "cell_type": "code",
   "execution_count": null,
   "metadata": {},
   "outputs": [],
   "source": [
    "gold[\"trading_positions\"] =\\\n",
    "(\n",
    "    np\n",
    "    .where(gold[\"distance\"] > threshold, # overbought --> sell (short)\n",
    "           -1, np.nan)\n",
    ")\n",
    "\n",
    "gold[\"trading_positions\"] =\\\n",
    "(\n",
    "    np\n",
    "    .where(gold[\"distance\"] < -threshold, # oversold --> buy (long)\n",
    "           1, gold[\"trading_positions\"]\n",
    "          )\n",
    ")\n",
    "\n",
    "gold[\"trading_positions\"] =\\\n",
    "(\n",
    "    np\n",
    "    #           +                            - \n",
    "    #           -                            +\n",
    "    .where(gold[\"distance\"] * gold[\"distance\"].shift(1) < 0, # oversold --> buy (long)\n",
    "           0, gold[\"trading_positions\"]\n",
    "          )\n",
    ")"
   ]
  },
  {
   "cell_type": "code",
   "execution_count": null,
   "metadata": {},
   "outputs": [],
   "source": [
    "gold[\"trading_positions\"] =\\\n",
    "    (gold[\"trading_positions\"]\n",
    "     .ffill()\n",
    "    )"
   ]
  },
  {
   "cell_type": "code",
   "execution_count": null,
   "metadata": {},
   "outputs": [],
   "source": [
    "gold"
   ]
  },
  {
   "cell_type": "code",
   "execution_count": null,
   "metadata": {},
   "outputs": [],
   "source": [
    "(\n",
    "    gold[\"trading_positions\"]\n",
    "    .iloc[22: ]\n",
    "    .plot(figsize = [18, 6],\n",
    "          ylim = [-1.10, 1.10]\n",
    "         )\n",
    ")"
   ]
  },
  {
   "cell_type": "code",
   "execution_count": null,
   "metadata": {},
   "outputs": [],
   "source": [
    "gold.columns"
   ]
  },
  {
   "cell_type": "markdown",
   "metadata": {},
   "source": [
    "> Based on the differences and the fixed threshold values, positions can be created in vectorized fashion."
   ]
  },
  {
   "cell_type": "code",
   "execution_count": null,
   "metadata": {},
   "outputs": [],
   "source": [
    "gold[\"STRATEGY\"] =\\\n",
    "    (\n",
    "    gold\n",
    "    [\"trading_positions\"]\n",
    "    .shift(1)\n",
    "    *\n",
    "    gold[\"RETURNS\"]\n",
    "    )"
   ]
  },
  {
   "cell_type": "code",
   "execution_count": null,
   "metadata": {},
   "outputs": [],
   "source": [
    "(\n",
    "    gold\n",
    "    [[\"RETURNS\", \"STRATEGY\"]]\n",
    "    .dropna()\n",
    "    .cumsum()\n",
    "    .apply(np.exp)\n",
    "    .plot(figsize = [18, 7]\n",
    "         )\n",
    ")"
   ]
  },
  {
   "cell_type": "markdown",
   "metadata": {},
   "source": [
    "## <a id = \"p4\">4.</a>  <font color = \"green\"> Some Revision Pointers </font>  [back to table of contents](#top)"
   ]
  },
  {
   "cell_type": "markdown",
   "metadata": {},
   "source": [
    "> As discussed in our session yesterday, we will be revising some of the learning pointers from our course. I’ll take a  piecemeal approach, so that you can gain a crystal-clear understanding of the fundamentals.\n",
    "\n",
    "> My goal here is not to give direct answers, but to point out processes that lead to answers. There’s an old saying that has substantial implications in the field of quantitative finance: Give a man a fish, and you feed him for a day; teach a man to fish, and you feed him for a lifetime. Yes, this is a risk-hedging mechanism known as `prevention of dependency`.\n",
    "\n",
    "> Another thing that I wanted to reiterate is our class policy: `Leave no one behind.` Some of you are making good progress and are ready for more advanced knowledge. Yet, I found that many of our classmates need to reinforce their foundational knowledge before moving forward. I hope that this maximizes your learning from the course 🙂"
   ]
  },
  {
   "cell_type": "markdown",
   "metadata": {},
   "source": [
    "## 👉 <a id = \"top2\">Revision Pointers</a> 👈 "
   ]
  },
  {
   "cell_type": "markdown",
   "metadata": {},
   "source": [
    "## [Pointer 1](#p1)\n",
    "\n",
    "> ### <font color = red> Why do we shift the positions down by 1 when calculating log returns for the strategy? </font>\n",
    "\n",
    "## [Pointer 2](#p2)\n",
    "\n",
    "> ### <font color = red> Max Drawdown (MDD) </font>"
   ]
  },
  {
   "cell_type": "markdown",
   "metadata": {},
   "source": [
    "## <a id = \"p1\">Pointer 1</a> <font color = \"green\"> Why do we shift the positions down by 1 when calculating log returns for the strategy?</font>  [back to table of contents](#top2)"
   ]
  },
  {
   "cell_type": "markdown",
   "metadata": {},
   "source": [
    "#### To fully understand the rationale behind shifting positions down by 1 when calculating log returns for the strategy, it'd be helpful to answer two questions first:\n",
    "- What is the meaning of positions?\n",
    "- Why is there shifting?"
   ]
  },
  {
   "cell_type": "code",
   "execution_count": null,
   "metadata": {},
   "outputs": [],
   "source": [
    "%whos"
   ]
  },
  {
   "cell_type": "code",
   "execution_count": null,
   "metadata": {},
   "outputs": [],
   "source": [
    "G =\\\n",
    "(\n",
    "    pdr\n",
    "    .get_data_yahoo(\"GDX\",\n",
    "                    dt.datetime(2013, 3, 1),\n",
    "                    dt.datetime(2023, 2, 28)\n",
    "                   )\n",
    ")\n",
    "\n",
    "G"
   ]
  },
  {
   "cell_type": "code",
   "execution_count": null,
   "metadata": {},
   "outputs": [],
   "source": [
    "G[\"returns\"] =\\\n",
    "(\n",
    "    np\n",
    "    .log(G[\"Close\"]\n",
    "         /\n",
    "         G[\"Close\"].shift(1)\n",
    "        )\n",
    ")\n",
    "\n",
    "G[\"SMA_22\"] =\\\n",
    "(\n",
    "    G[\"Close\"]\n",
    "    .rolling(window = 22)\n",
    "    .mean()\n",
    ")\n",
    "\n",
    "G[\"distance\"] = G[\"Close\"] - G[\"SMA_22\"]\n",
    "G[\"distance\"]"
   ]
  },
  {
   "cell_type": "code",
   "execution_count": null,
   "metadata": {},
   "outputs": [],
   "source": [
    "G"
   ]
  },
  {
   "cell_type": "code",
   "execution_count": null,
   "metadata": {},
   "outputs": [],
   "source": [
    "(\n",
    "    G\n",
    "    [[\"Close\", \"SMA_22\"]]\n",
    "    .plot(figsize = [16, 12]\n",
    "         )\n",
    ")"
   ]
  },
  {
   "cell_type": "markdown",
   "metadata": {},
   "source": [
    "> For any distance less than your threshold range (that is, 3 to -3), you may believe that it is just normal price fluctuations with no meaningful movement. \n",
    " \n",
    "> Next, let’s start setting our positions.\n",
    " \n",
    "> We will first set the sell positions, keeping in mind the mean reversion strategy."
   ]
  },
  {
   "cell_type": "code",
   "execution_count": null,
   "metadata": {},
   "outputs": [],
   "source": [
    "(\n",
    "    G\n",
    "    [\"distance\"]\n",
    "    .dropna()\n",
    "    .plot(figsize = [16, 8],\n",
    "          color = \"grey\",\n",
    "          alpha = 0.75\n",
    "          )\n",
    ")\n",
    "\n",
    "# Upper-bound threshold\n",
    "\n",
    "(plt\n",
    "    .axhline(3,\n",
    "             color = \"blue\",\n",
    "             ls = \"--\")\n",
    ")\n",
    "\n",
    "# Lower-bound threshold\n",
    "\n",
    "(plt\n",
    "    .axhline(-3,\n",
    "             color = \"blue\",\n",
    "             ls = \"--\")\n",
    ")"
   ]
  },
  {
   "cell_type": "code",
   "execution_count": null,
   "metadata": {},
   "outputs": [],
   "source": [
    "(\n",
    "    G\n",
    "    [\"distance\"]\n",
    "    .dropna()\n",
    "    .plot(figsize = [16, 7],\n",
    "          color = \"grey\",\n",
    "          alpha = 0.75)\n",
    ")\n",
    "\n",
    "# Upper-bound threshold\n",
    "\n",
    "(plt\n",
    "    .axhline(3,\n",
    "             color = \"blue\",\n",
    "             ls = \"--\")\n",
    ")\n",
    "\n",
    "# Lower-bound threshold\n",
    "\n",
    "(plt\n",
    "    .axhline(-3,\n",
    "             color = \"blue\",\n",
    "             ls = \"--\")\n",
    ")\n",
    "\n",
    "# Sell Signal\n",
    "\n",
    "G[\"positions\"] =\\\n",
    "(\n",
    "    np\n",
    "    .where(G[\"distance\"] > 3,\n",
    "           -1, np.nan)\n",
    ")\n",
    "\n",
    "(\n",
    "    G\n",
    "    [\"positions\"]\n",
    "    .dropna()\n",
    "    .plot(figsize = [16, 7],\n",
    "          color = \"red\",\n",
    "          style = \"o\",\n",
    "          alpha = 0.50)\n",
    ")"
   ]
  },
  {
   "cell_type": "markdown",
   "metadata": {},
   "source": [
    "> Each of the red dots mark when we want to sell. \n",
    "\n",
    "> You will notice that the red dots correspond to the peaks of the distance, which is more than 3, just as our code is written. \n",
    "\n",
    "> We want to sell when the price is above the threshold. \n",
    "\n",
    "> Why? Because we expect the price to return to the mean; that is, that the price will go down. \n",
    "\n",
    "> Remember, distance is calculated as Close – Mean. Hence, positive distance means that Close is higher than Mean. \n",
    "\n",
    "> Going past the threshold means that the price will revert to the mean; that is, the price will go down."
   ]
  },
  {
   "cell_type": "markdown",
   "metadata": {},
   "source": [
    "> Next, we set our buy positions."
   ]
  },
  {
   "cell_type": "code",
   "execution_count": null,
   "metadata": {},
   "outputs": [],
   "source": [
    "(\n",
    "G[\"distance\"]\n",
    ".dropna()\n",
    ".plot(figsize = [16, 7],\n",
    "      color = \"grey\",\n",
    "      alpha = 0.80)\n",
    ")\n",
    "\n",
    "# Upper-bound threshold\n",
    "\n",
    "plt.axhline(3,\n",
    "            color = \"blue\",\n",
    "            ls = \"--\")\n",
    "\n",
    "# Lower-bound threshold\n",
    "\n",
    "plt.axhline(-3,\n",
    "            color = \"blue\",\n",
    "            ls = \"--\")\n",
    "\n",
    "# Sell Signal\n",
    "\n",
    "G[\"positions\"] =\\\n",
    "(\n",
    "    np\n",
    "    .where(G[\"distance\"] < -3,\n",
    "           1, np.nan)\n",
    ")\n",
    "\n",
    "(\n",
    "    G[\"positions\"]\n",
    "    .dropna()\n",
    "    .plot(figsize = [16 , 7],\n",
    "          color = \"green\",\n",
    "          style = \"o\",\n",
    "          alpha = 0.50)\n",
    ")"
   ]
  },
  {
   "cell_type": "markdown",
   "metadata": {},
   "source": [
    "> Again, you will notice the orange dots at level = 1 indicating the buy position is positioned where the troughs of the DIST are (given that it is past the threshold). \n",
    "\n",
    "> Apply the explanation given above but from the buying standpoint."
   ]
  },
  {
   "cell_type": "markdown",
   "metadata": {},
   "source": [
    "> The next thing to do is to find your market neutral positions."
   ]
  },
  {
   "cell_type": "code",
   "execution_count": null,
   "metadata": {},
   "outputs": [],
   "source": [
    "(\n",
    "G[\"distance\"]\n",
    ".dropna()\n",
    ".plot(figsize = [16, 7],\n",
    "      color = \"grey\",\n",
    "      alpha = 0.80)\n",
    ")\n",
    "\n",
    "# Upper-bound threshold\n",
    "\n",
    "plt.axhline(3,\n",
    "            color = \"blue\",\n",
    "            ls = \"--\")\n",
    "\n",
    "# Lower-bound threshold\n",
    "\n",
    "plt.axhline(-3,\n",
    "            color = \"blue\",\n",
    "            ls = \"--\")\n",
    "\n",
    "# Sell Signal\n",
    "\n",
    "G[\"positions\"] =\\\n",
    "(\n",
    "    np\n",
    "    .where(G[\"distance\"] * G[\"distance\"].shift(1) < 0,\n",
    "           0, np.nan)\n",
    ")\n",
    "\n",
    "(\n",
    "    G[\"positions\"]\n",
    "    .dropna()\n",
    "    .plot(figsize = [16 , 7],\n",
    "          color = \"purple\",\n",
    "          style = \"o\",\n",
    "          alpha = 0.50)\n",
    ")"
   ]
  },
  {
   "cell_type": "markdown",
   "metadata": {},
   "source": [
    "> You will see many dots on the level = 0. \n",
    "\n",
    "> However, I will focus on a specific segment to better explain the meaning of market-neutral positions."
   ]
  },
  {
   "cell_type": "code",
   "execution_count": null,
   "metadata": {},
   "outputs": [],
   "source": [
    "(\n",
    "G[\"distance\"]\n",
    ".dropna()\n",
    ".plot(figsize = [16, 7],\n",
    "      color = \"grey\",\n",
    "      alpha = 0.80)\n",
    ")\n",
    "\n",
    "# Upper-bound threshold\n",
    "\n",
    "plt.axhline(3,\n",
    "            color = \"blue\",\n",
    "            ls = \"--\")\n",
    "\n",
    "# Lower-bound threshold\n",
    "\n",
    "plt.axhline(-3,\n",
    "            color = \"blue\",\n",
    "            ls = \"--\")\n",
    "\n",
    "# Sell Signal\n",
    "\n",
    "G[\"positions\"] =\\\n",
    "(\n",
    "    np\n",
    "    .where(G[\"distance\"] > 3,\n",
    "           -1, np.nan)\n",
    ")\n",
    "\n",
    "# Buy Signal\n",
    "\n",
    "G[\"positions\"] =\\\n",
    "(\n",
    "    np\n",
    "    .where(G[\"distance\"] < -3,\n",
    "           1, G[\"positions\"])\n",
    ")\n",
    "\n",
    "# Market-Neutral Signal\n",
    "\n",
    "G[\"positions\"] =\\\n",
    "(\n",
    "    np\n",
    "    .where(G[\"distance\"] * G[\"distance\"].shift(1) < 0,\n",
    "           0, G[\"positions\"])\n",
    ")\n",
    "\n",
    "(\n",
    "    G[\"positions\"]\n",
    "    .dropna()\n",
    "    .plot(figsize = [16 , 7],\n",
    "          color = \"red\",\n",
    "          style = \"o\",\n",
    "          alpha = 0.30)\n",
    ")"
   ]
  },
  {
   "cell_type": "markdown",
   "metadata": {},
   "source": [
    "> As you can see from the above 3 results, we are putting in market-neutral positions for those where the distance is (positive and negative) or (negative and positive) in the current and previous periods, respectively. \n",
    "\n",
    "> This is because, technically, the market is fluctuating. \n",
    "\n",
    "> We do not know which way the movement will actually trend. Hence, we are in market-neutral stance, neither buying nor selling."
   ]
  },
  {
   "cell_type": "markdown",
   "metadata": {},
   "source": [
    "#### To sum up the Positions of the mean reversion strategy:\n",
    "\n",
    "- Position `1`: `Buy` when you believe the price will go up (mean reversion prices will always trend back towards the mean).\n",
    "\n",
    "- Position `-1`: `Sell` when you believe the price will go down (mean reversion prices will always trend back towards the mean).\n",
    "\n",
    "- Position `0`: `Market-neutral` stance price is fluctuating about the mean; we are unable to tell whether the movement is actually up or down.\n",
    "\n",
    "> Next, we deal with our second question: How does the strategy equation work? But first, let me do some set up.\n",
    " \n",
    "> We first do a forward fill so we have a continuous signal of buy, sell, and market-neutral positions."
   ]
  },
  {
   "cell_type": "code",
   "execution_count": null,
   "metadata": {},
   "outputs": [],
   "source": [
    "G[\"positions\"] =\\\n",
    "(\n",
    "    np\n",
    "    .where(G[\"distance\"] > 3,\n",
    "           -1, np.nan)\n",
    ")\n",
    "\n",
    "G[\"positions\"] =\\\n",
    "(\n",
    "    np\n",
    "    .where(G[\"distance\"] < -3,\n",
    "           1, G[\"positions\"]\n",
    "          )\n",
    ")\n",
    "\n",
    "G[\"positions\"] =\\\n",
    "(\n",
    "    np\n",
    "    .where(G[\"distance\"] * G[\"distance\"].shift(1) < 0,\n",
    "           0, G[\"positions\"]\n",
    "          )\n",
    ")"
   ]
  },
  {
   "cell_type": "code",
   "execution_count": null,
   "metadata": {},
   "outputs": [],
   "source": [
    "(\n",
    "    G\n",
    "    .loc[\"2018-11\"]\n",
    "    [[\"distance\", \"positions\"]]\n",
    ")"
   ]
  },
  {
   "cell_type": "code",
   "execution_count": null,
   "metadata": {},
   "outputs": [],
   "source": [
    "(\n",
    "    G\n",
    "    .loc[\"2018-11\"]\n",
    "    [[\"distance\", \"positions\"]]\n",
    "    .plot(figsize = [18, 7],\n",
    "          secondary_y = \"distance\",\n",
    "          style = [\"-o\", \"o\"]\n",
    "         )\n",
    ")"
   ]
  },
  {
   "cell_type": "markdown",
   "metadata": {},
   "source": [
    "> We also will do a fillna to make sure our very first value, which is still NaN, is 0."
   ]
  },
  {
   "cell_type": "code",
   "execution_count": null,
   "metadata": {},
   "outputs": [],
   "source": [
    "# G[\"positions\"] =\\\n",
    "# (\n",
    "#     G\n",
    "#     [\"positions\"]\n",
    "#     .ffill()\n",
    "# )"
   ]
  },
  {
   "cell_type": "code",
   "execution_count": null,
   "metadata": {},
   "outputs": [],
   "source": [
    "# G[\"positions\"] =\\\n",
    "# (\n",
    "#     G\n",
    "#     [\"positions\"]\n",
    "#     .fillna(0)\n",
    "# )"
   ]
  },
  {
   "cell_type": "code",
   "execution_count": null,
   "metadata": {},
   "outputs": [],
   "source": [
    "# G.head(22)"
   ]
  },
  {
   "cell_type": "markdown",
   "metadata": {},
   "source": [
    "> Now that we have settled the positions, we can create the STRATEGY. \n",
    "\n",
    "> The meaning of STRATEGY in this case is the daily returns we are getting based on our positions."
   ]
  },
  {
   "cell_type": "code",
   "execution_count": null,
   "metadata": {},
   "outputs": [],
   "source": [
    "# G[\"strategy\"] =\\\n",
    "# (\n",
    "#     G[\"positions\"].shift(1)\n",
    "#     *\n",
    "#     G[\"returns\"]\n",
    "# )"
   ]
  },
  {
   "cell_type": "code",
   "execution_count": null,
   "metadata": {},
   "outputs": [],
   "source": [
    "G.columns"
   ]
  },
  {
   "cell_type": "code",
   "execution_count": null,
   "metadata": {},
   "outputs": [],
   "source": [
    "# (\n",
    "#     G\n",
    "#     .loc[\"2016-11\"]\n",
    "#     [[\"distance\", \"positions\", \"returns\", \"strategy\"]]\n",
    "# )"
   ]
  },
  {
   "cell_type": "markdown",
   "metadata": {},
   "source": [
    "> Our distance is based on the close price of each day. \n",
    "\n",
    "> This means we can only get the confirmed buy signal at the end of the trading day. \n",
    "\n",
    "> Hence, we will buy on the next trading day. \n",
    "\n",
    "> This also allows us to get the daily returns based on our strategy which is STRATEGY."
   ]
  },
  {
   "cell_type": "markdown",
   "metadata": {},
   "source": [
    "## <a id = \"p2\">Pointer 2</a> <font color = \"green\"> Max Drawdown (MDD) </font>  [back to table of contents](#top)"
   ]
  },
  {
   "cell_type": "markdown",
   "metadata": {},
   "source": [
    "Max Draw Down (MDD) is defined as\n",
    "- largest single drop\n",
    "- from peak to bottom in the value of a portfolio\n",
    "- before a new peak is achieved\n",
    "    - if new peak is achieved, throw away previous peak and make new highest value as peak"
   ]
  },
  {
   "cell_type": "markdown",
   "metadata": {},
   "source": [
    "Now, let’s jump back to something we are familiar with: the percentage change."
   ]
  },
  {
   "cell_type": "markdown",
   "metadata": {},
   "source": [
    "### % Change of New from Old = $ \\frac{New - Old}{Old} $"
   ]
  },
  {
   "cell_type": "markdown",
   "metadata": {},
   "source": [
    "We could restate the above as follows:"
   ]
  },
  {
   "cell_type": "markdown",
   "metadata": {},
   "source": [
    "### % Change of New from Old = $ \\frac{New}{Old} - 1 $"
   ]
  },
  {
   "cell_type": "markdown",
   "metadata": {},
   "source": [
    "> Now, based on the definition of MDD, we want to understand the largest single drop; that is, we have to use the peak as the basis and compare that to the bottom values. \n",
    "\n",
    "> However, we do not yet know what the bottom value is, so we compare by the current values. What we then have is the following."
   ]
  },
  {
   "cell_type": "markdown",
   "metadata": {},
   "source": [
    "### % DROP of Current Value from Max Value = $ \\frac{Current Value}{Max Value} - 1 $"
   ]
  },
  {
   "cell_type": "markdown",
   "metadata": {},
   "source": [
    "> Let’s now put it into code and visualise it. I will be using a simple toy dataset, so that it is easier to understand."
   ]
  },
  {
   "cell_type": "code",
   "execution_count": null,
   "metadata": {},
   "outputs": [],
   "source": [
    "# # Synthetic Data\n",
    "\n",
    "# Toy_DF_for_MDD =\\\n",
    "# (\n",
    "#     pd\n",
    "#     .DataFrame({\"Value\": np.random.uniform(450, 600, 30).tolist()},\n",
    "#                index = [y for y in range(1991, 2021)\n",
    "#                        ]\n",
    "#               )\n",
    "# )\n",
    "\n",
    "# Toy_DF_for_MDD"
   ]
  },
  {
   "cell_type": "code",
   "execution_count": null,
   "metadata": {},
   "outputs": [],
   "source": [
    "# (\n",
    "#     Toy_DF_for_MDD\n",
    "#     [\"Value\"]\n",
    "#     .plot(figsize = [16, 6],\n",
    "#           style = \"-o\")\n",
    "# )\n",
    "\n",
    "# plt.legend([\"Annual Value of Our Portfolio\"],\n",
    "#            loc = \"best\")"
   ]
  },
  {
   "cell_type": "markdown",
   "metadata": {},
   "source": [
    "> Now, let’s create the rolling max. This does not calculate profit or anything. \n",
    "\n",
    "> We are just getting the max value of each rolling window, which we can see visualised below. I am using 3 windows to make it easier to compare."
   ]
  },
  {
   "cell_type": "code",
   "execution_count": null,
   "metadata": {},
   "outputs": [],
   "source": [
    "# Toy_DF_for_MDD[\"rolling_max\"] =\\\n",
    "# (\n",
    "#     Toy_DF_for_MDD\n",
    "#     [\"Value\"]\n",
    "#     .rolling(window = 3,\n",
    "#              min_periods = 1)\n",
    "#     .max()\n",
    "# )\n",
    "\n",
    "# Toy_DF_for_MDD"
   ]
  },
  {
   "cell_type": "markdown",
   "metadata": {},
   "source": [
    "> What you can see above is that the `Max Rolling Value` constantly takes in the max value for the past 2 periods in addition to the current period. \n",
    "\n",
    "> Note: This will not be the case for the years 1990 and 1991, as there are only 1 period and 2 period totals, respectively. \n",
    "\n",
    "> However, we have already stated min_periods = 1. This means that year 1990 will be itself, while year 1991 will take in the max of 1990 and 1991 value.\n"
   ]
  },
  {
   "cell_type": "code",
   "execution_count": null,
   "metadata": {},
   "outputs": [],
   "source": [
    "# (\n",
    "#     Toy_DF_for_MDD\n",
    "#     [[\"Value\", \"rolling_max\"]]\n",
    "#     .plot(figsize = [16, 6],\n",
    "#           style = [\"-o\", \"-o\"]\n",
    "#          )\n",
    "# )\n",
    "\n",
    "# plt.legend([\"Annual Value of Our Portfolio\", \"Maximum Rolling Value\"]\n",
    "#           )"
   ]
  },
  {
   "cell_type": "markdown",
   "metadata": {},
   "source": [
    "> Let’s now calculate the % drop in current value compared to max value that we just found."
   ]
  },
  {
   "cell_type": "code",
   "execution_count": null,
   "metadata": {},
   "outputs": [],
   "source": [
    "# Toy_DF_for_MDD[\"annual_drawdown\"] =\\\n",
    "# (\n",
    "#     Toy_DF_for_MDD[\"Value\"]\n",
    "#     /\n",
    "#     Toy_DF_for_MDD[\"rolling_max\"]\n",
    "#     - 1.0\n",
    "# )"
   ]
  },
  {
   "cell_type": "code",
   "execution_count": null,
   "metadata": {},
   "outputs": [],
   "source": [
    "# Toy_DF_for_MDD"
   ]
  },
  {
   "cell_type": "markdown",
   "metadata": {},
   "source": [
    "> Do you see the y axis on the bottom plot? If we refer back to the formula, "
   ]
  },
  {
   "cell_type": "code",
   "execution_count": null,
   "metadata": {},
   "outputs": [],
   "source": [
    "# fig, ax =\\\n",
    "# (\n",
    "#     plt\n",
    "#     .subplots(2,\n",
    "#               figsize = [16, 8]\n",
    "#              )\n",
    "# )\n",
    "\n",
    "# # Plot on the top\n",
    "\n",
    "# (\n",
    "# ax[0]\n",
    "#     .plot(Toy_DF_for_MDD[[\"Value\", \"rolling_max\"]],\n",
    "#           \"-o\")\n",
    "# )\n",
    "\n",
    "# (\n",
    "# ax[0]\n",
    "#     .legend([\"Annual Value of Our Portfolio\", \"Maxmimum Rolling Value\"])\n",
    "# )\n",
    "\n",
    "# # Plot on the bottom\n",
    "\n",
    "# (\n",
    "# ax[1]\n",
    "#     .plot(Toy_DF_for_MDD[[\"annual_drawdown\"]],\n",
    "#           \"g-o\")\n",
    "# )\n",
    "\n",
    "# (\n",
    "# ax[1]\n",
    "#     .legend([\"% Drop from Maximum Rolling Value\"])\n",
    "# )\n",
    "\n",
    "# (\n",
    "# ax[1]\n",
    "#     .set_yticklabels([\"{:,.2%}\".format(x) for x in ax[1].get_yticks()\n",
    "#                      ]\n",
    "#                     )\n",
    "# )"
   ]
  },
  {
   "cell_type": "markdown",
   "metadata": {},
   "source": [
    "### % DROP of Current Value from Max Value = $ \\frac{Current Value}{Max Value} - 1 $"
   ]
  },
  {
   "cell_type": "markdown",
   "metadata": {},
   "source": [
    "> We can see that if the rolling max value and current value is the same, it will always be (1 - 1). \n",
    "\n",
    "> However, if the current value is smaller than rolling max value, we will have (`a number smaller than 1` - 1). \n",
    "\n",
    "> This will always give us a negative value. \n",
    "\n",
    "> The current value can never be higher than the max value because we are finding the max of each rolling window and using that as the basis for comparison."
   ]
  },
  {
   "cell_type": "markdown",
   "metadata": {},
   "source": [
    "> Next, we can find the min rolling value (this is where the minimum comes in) based on the calculated % drop of current value as compared to the max value. \n",
    "\n",
    "> Note that when we say min rolling value, we mean the most negative value within each rolling window."
   ]
  },
  {
   "cell_type": "code",
   "execution_count": null,
   "metadata": {},
   "outputs": [],
   "source": [
    "# Toy_DF_for_MDD.columns"
   ]
  },
  {
   "cell_type": "code",
   "execution_count": null,
   "metadata": {},
   "outputs": [],
   "source": [
    "# Toy_DF_for_MDD[\"annual_max_drawdown\"] =\\\n",
    "# (\n",
    "#     Toy_DF_for_MDD\n",
    "#     [\"annual_drawdown\"]\n",
    "#     .rolling(window = 3,\n",
    "#              min_periods = 1)\n",
    "#     .min()\n",
    "# )\n",
    "\n",
    "# Toy_DF_for_MDD.head(7)"
   ]
  },
  {
   "cell_type": "markdown",
   "metadata": {},
   "source": [
    "> Voila!"
   ]
  },
  {
   "cell_type": "markdown",
   "metadata": {},
   "source": [
    "### Hope this helps 🙂"
   ]
  },
  {
   "cell_type": "markdown",
   "metadata": {},
   "source": [
    "## <a id = \"p5\">5.</a>  <font color = \"green\"> What We Learned... </font>  [back to table of contents](#top)"
   ]
  },
  {
   "cell_type": "code",
   "execution_count": null,
   "metadata": {},
   "outputs": [],
   "source": []
  },
  {
   "cell_type": "markdown",
   "metadata": {},
   "source": [
    "> `Thank you for working with the script, Team 👍`"
   ]
  }
 ],
 "metadata": {
  "kernelspec": {
   "display_name": "Python 3 (ipykernel)",
   "language": "python",
   "name": "python3"
  },
  "language_info": {
   "codemirror_mode": {
    "name": "ipython",
    "version": 3
   },
   "file_extension": ".py",
   "mimetype": "text/x-python",
   "name": "python",
   "nbconvert_exporter": "python",
   "pygments_lexer": "ipython3",
   "version": "3.11.3"
  }
 },
 "nbformat": 4,
 "nbformat_minor": 1
}
